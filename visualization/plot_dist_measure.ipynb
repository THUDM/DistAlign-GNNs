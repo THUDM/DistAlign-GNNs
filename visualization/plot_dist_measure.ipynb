{
 "cells": [
  {
   "cell_type": "code",
   "execution_count": 1,
   "id": "aee2f87c-c903-4689-b373-e1c5038ff8b0",
   "metadata": {
    "execution": {
     "iopub.execute_input": "2022-01-28T01:17:22.277675Z",
     "iopub.status.busy": "2022-01-28T01:17:22.277465Z",
     "iopub.status.idle": "2022-01-28T01:17:24.221150Z",
     "shell.execute_reply": "2022-01-28T01:17:24.220555Z",
     "shell.execute_reply.started": "2022-01-28T01:17:22.277612Z"
    },
    "tags": []
   },
   "outputs": [],
   "source": [
    "import os\n",
    "import copy\n",
    "import cogdl\n",
    "import torch\n",
    "import numpy as np\n",
    "import pandas as pd\n",
    "import seaborn as sns\n",
    "import matplotlib.pyplot as plt\n",
    "\n",
    "from cogdl import experiment\n",
    "from cogdl.utils import set_random_seed\n",
    "import gsim\n",
    "import utils\n",
    "\n",
    "sns.set_style(\"whitegrid\")\n",
    "plt.rcParams['figure.figsize'] = (10.0, 8.0)"
   ]
  },
  {
   "cell_type": "markdown",
   "id": "5b8c4deb-43b9-4a0c-ae81-83398b92d7ba",
   "metadata": {},
   "source": [
    "## Load Dataset"
   ]
  },
  {
   "cell_type": "code",
   "execution_count": 2,
   "id": "eeb1346d-bcaf-43c8-b489-e6d651e73621",
   "metadata": {
    "execution": {
     "iopub.execute_input": "2022-01-28T01:17:24.222147Z",
     "iopub.status.busy": "2022-01-28T01:17:24.222044Z",
     "iopub.status.idle": "2022-01-28T01:17:24.236314Z",
     "shell.execute_reply": "2022-01-28T01:17:24.235754Z",
     "shell.execute_reply.started": "2022-01-28T01:17:24.222133Z"
    },
    "tags": []
   },
   "outputs": [],
   "source": [
    "from cogdl.datasets import build_dataset_from_path\n",
    "\n",
    "data_path = \"/home/stanislas/dataset/\"\n",
    "dataset_name = \"chameleon\"\n",
    "dataset_mode = \"inductive\"\n",
    "dataset = build_dataset_from_path(data_path=data_path, dataset=dataset_name)\n",
    "train_nid = dataset.data.train_nid\n",
    "val_nid = dataset.data.val_nid\n",
    "test_nid = dataset.data.test_nid\n",
    "\n",
    "checkpoint_dir = \"./save_models/\"\n",
    "if not os.path.exists(checkpoint_dir):\n",
    "    os.makedirs(checkpoint_dir)\n",
    "figure_dir = \"./figures/{}\".format(\"exp_0111_{}_64_2_avg\".format(dataset_name))\n",
    "if not os.path.exists(figure_dir):\n",
    "    os.makedirs(figure_dir)"
   ]
  },
  {
   "cell_type": "markdown",
   "id": "f2180675-b7e7-4502-8191-99193705ec81",
   "metadata": {
    "tags": []
   },
   "source": [
    "## Build model"
   ]
  },
  {
   "cell_type": "code",
   "execution_count": 3,
   "id": "7e94c9ac-7ec8-430f-a76f-abb658c6ab39",
   "metadata": {
    "execution": {
     "iopub.execute_input": "2022-01-28T01:17:24.638634Z",
     "iopub.status.busy": "2022-01-28T01:17:24.638377Z",
     "iopub.status.idle": "2022-01-28T01:17:24.647802Z",
     "shell.execute_reply": "2022-01-28T01:17:24.647226Z",
     "shell.execute_reply.started": "2022-01-28T01:17:24.638602Z"
    },
    "tags": []
   },
   "outputs": [],
   "source": [
    "from custom_models.mlp import MLP\n",
    "from custom_models.gcn import GCN\n",
    "from custom_models.sgc import SGC\n",
    "from custom_models.gin import GIN\n",
    "from custom_models.appnp import APPNP"
   ]
  },
  {
   "cell_type": "code",
   "execution_count": 4,
   "id": "deef10d0-3a77-4861-b0a6-19e359590f84",
   "metadata": {
    "execution": {
     "iopub.execute_input": "2022-01-28T01:17:25.690910Z",
     "iopub.status.busy": "2022-01-28T01:17:25.690659Z",
     "iopub.status.idle": "2022-01-28T01:17:25.785891Z",
     "shell.execute_reply": "2022-01-28T01:17:25.785346Z",
     "shell.execute_reply.started": "2022-01-28T01:17:25.690885Z"
    },
    "scrolled": true,
    "tags": []
   },
   "outputs": [],
   "source": [
    "models_dict = {'mlp': {}, 'gcn': {}, 'sgc': {}, 'appnp': {}}\n",
    "hidden_size = 64\n",
    "num_layers = 2\n",
    "order = 2\n",
    "dropout = 0.5\n",
    "residual = False\n",
    "remove_self_loop = False\n",
    "for seed in range(10):\n",
    "    set_random_seed(seed)\n",
    "    \n",
    "    model_name = \"mlp/{}/model_mlp_{}_{}_{}_seed_{}\".format(dataset_name, hidden_size, num_layers, dropout, seed)\n",
    "    checkpoint_path = os.path.join(checkpoint_dir, model_name)\n",
    "\n",
    "    model = MLP(in_feats=dataset.num_features, \n",
    "                hidden_size=hidden_size,\n",
    "                out_feats=dataset.num_classes,\n",
    "                num_layers=num_layers,\n",
    "                dropout=dropout)\n",
    "    models_dict['mlp']['seed_{}'.format(seed)] = {'name': model_name,\n",
    "                          'model': model,\n",
    "                          'path': checkpoint_path}\n",
    "    \n",
    "    if residual:\n",
    "        model_name = \"model_gcn_res_{}_{}_seed_{}\".format(hidden_size, num_layers, seed)\n",
    "    else:\n",
    "        model_name = \"gcn/{}/model_gcn_{}_{}_{}_seed_{}\".format(dataset_name, hidden_size, num_layers, dropout, seed)\n",
    "    checkpoint_path = os.path.join(checkpoint_dir, \"{}\".format(model_name))\n",
    "\n",
    "    model = GCN(in_feats=dataset.num_features, \n",
    "                hidden_size=hidden_size,\n",
    "                out_feats=dataset.num_classes,\n",
    "                num_layers=num_layers,\n",
    "                residual=residual,\n",
    "                dropout=dropout,\n",
    "                remove_self_loop=remove_self_loop)\n",
    "    models_dict['gcn']['seed_{}'.format(seed)]  = {'name': model_name,\n",
    "                          'model': model,\n",
    "                          'path': checkpoint_path}\n",
    "    \n",
    "    model_name = \"sgc/{}/model_sgc_{}_{}_{}_seed_{}\".format(dataset_name, hidden_size, num_layers, dropout, seed)\n",
    "    checkpoint_path = os.path.join(checkpoint_dir, \"{}\".format(model_name))\n",
    "\n",
    "    model = SGC(in_feats=dataset.num_features, \n",
    "                  hidden_size=hidden_size,\n",
    "                  out_feats=dataset.num_classes,\n",
    "                  num_layers=num_layers,\n",
    "                  order=order,\n",
    "                  dropout=dropout,\n",
    "                  remove_self_loop=remove_self_loop)\n",
    "    models_dict['sgc']['seed_{}'.format(seed)] = {'name': model_name,\n",
    "                                                  'model': model,\n",
    "                                                  'path': checkpoint_path}\n",
    "    \n",
    "    model_name = \"appnp/{}/model_appnp_{}_{}_{}_seed_{}\".format(dataset_name, hidden_size, num_layers, dropout, seed)\n",
    "    checkpoint_path = os.path.join(checkpoint_dir, \"{}\".format(model_name))\n",
    "\n",
    "    model = APPNP(nfeat=dataset.num_features, \n",
    "                  nhid=hidden_size,\n",
    "                  nclass=dataset.num_classes,\n",
    "                  num_layers=num_layers,\n",
    "                dropout=dropout,\n",
    "                alpha=0.1, \n",
    "                 niter=2)\n",
    "    models_dict['appnp']['seed_{}'.format(seed)] = {'name': model_name,\n",
    "                                                  'model': model,\n",
    "                                                  'path': checkpoint_path}\n",
    "    \n",
    "#     model_name = \"model_gin_{}_{}_k_{}_seed_{}\".format(hidden_size, num_layers, order, seed)\n",
    "#     checkpoint_path = os.path.join(checkpoint_dir, \"{}.pt\".format(model_name))\n",
    "\n",
    "#     model = GIN(in_feats=dataset.num_features, \n",
    "#                   hidden_dim=hidden_size,\n",
    "#                   out_feats=dataset.num_classes,\n",
    "#                   num_layers=num_layers,\n",
    "#                   num_mlp_layers=2,\n",
    "#                   dropout=dropout)\n",
    "#     models_dict['gin']['seed_{}'.format(seed)] = {'name': model_name,\n",
    "#                                                   'model': model,\n",
    "#                                                   'path': checkpoint_path}\n",
    "    \n",
    "#     for k in models_dict.keys():\n",
    "#         experiment(model=models_dict[k]['seed_{}'.format(seed)]['model'], dataset=dataset, \n",
    "#                    checkpoint_path=models_dict[k]['seed_{}'.format(seed)]['path'], seed=[seed])"
   ]
  },
  {
   "cell_type": "markdown",
   "id": "82eef4df-f4e4-4faa-9613-9b7cbfa34674",
   "metadata": {},
   "source": [
    "## Evaluation"
   ]
  },
  {
   "cell_type": "code",
   "execution_count": 5,
   "id": "5edba6ba-4bbe-48ac-9db0-df4d8345e060",
   "metadata": {
    "execution": {
     "iopub.execute_input": "2022-01-28T01:17:27.822559Z",
     "iopub.status.busy": "2022-01-28T01:17:27.822299Z",
     "iopub.status.idle": "2022-01-28T01:17:27.826050Z",
     "shell.execute_reply": "2022-01-28T01:17:27.825360Z",
     "shell.execute_reply.started": "2022-01-28T01:17:27.822533Z"
    },
    "tags": []
   },
   "outputs": [],
   "source": [
    "def get_dist(pred1, pred2):\n",
    "    # sim = torch.sum(torch.abs(pred1 - pred2)).item()\n",
    "    # sim = gsim.cka(pred1, pred2, mode='rbf', threshold=0.8)\n",
    "    sim = gsim.cka(pred1, pred2, mode='linear')\n",
    "    # sim = torch.linalg.norm(pred1 - pred2, ord=1).item()\n",
    "    \n",
    "    return sim"
   ]
  },
  {
   "cell_type": "code",
   "execution_count": 6,
   "id": "3a88ef25-d651-485c-b0aa-6f0e77731e70",
   "metadata": {
    "execution": {
     "iopub.execute_input": "2022-01-28T01:17:28.670112Z",
     "iopub.status.busy": "2022-01-28T01:17:28.669905Z",
     "iopub.status.idle": "2022-01-28T01:17:28.682486Z",
     "shell.execute_reply": "2022-01-28T01:17:28.682008Z",
     "shell.execute_reply.started": "2022-01-28T01:17:28.670090Z"
    },
    "tags": []
   },
   "outputs": [],
   "source": [
    "from cogdl.wrappers.model_wrapper.node_classification import NodeClfModelWrapper\n",
    "from cogdl.utils import spmm"
   ]
  },
  {
   "cell_type": "code",
   "execution_count": 7,
   "id": "a5788904-17cd-4d6f-bf06-cf2571b0b9c5",
   "metadata": {
    "execution": {
     "iopub.execute_input": "2022-01-28T01:17:29.592423Z",
     "iopub.status.busy": "2022-01-28T01:17:29.592172Z",
     "iopub.status.idle": "2022-01-28T01:17:29.620961Z",
     "shell.execute_reply": "2022-01-28T01:17:29.620629Z",
     "shell.execute_reply.started": "2022-01-28T01:17:29.592398Z"
    },
    "tags": []
   },
   "outputs": [],
   "source": [
    "for k in models_dict.keys():\n",
    "    for seed in range(10):\n",
    "        model_wrapper = NodeClfModelWrapper(models_dict[k]['seed_{}'.format(seed)]['model'], None)\n",
    "        model_wrapper.load_state_dict(torch.load(models_dict[k]['seed_{}'.format(seed)]['path']))\n",
    "        model = model_wrapper.model\n",
    "        model.eval()\n",
    "        models_dict[k]['seed_{}'.format(seed)]['model'] = model"
   ]
  },
  {
   "cell_type": "code",
   "execution_count": 23,
   "id": "100e2323-f37e-4a6f-a3fc-680d9cda2a8f",
   "metadata": {
    "execution": {
     "iopub.execute_input": "2022-01-28T01:54:47.130717Z",
     "iopub.status.busy": "2022-01-28T01:54:47.130478Z",
     "iopub.status.idle": "2022-01-28T01:54:55.727874Z",
     "shell.execute_reply": "2022-01-28T01:54:55.727364Z",
     "shell.execute_reply.started": "2022-01-28T01:54:47.130693Z"
    },
    "tags": []
   },
   "outputs": [
    {
     "data": {
      "image/png": "[encoded data removed]",
      "text/plain": [
       "<Figure size 720x1152 with 2 Axes>"
      ]
     },
     "metadata": {},
     "output_type": "display_data"
    }
   ],
   "source": [
    "n_post = 50\n",
    "n_dist_sample = len(dataset.data.test_nid)\n",
    "for k in models_dict.keys():\n",
    "    model_name = k.upper()\n",
    "    if 'mlp' not in k.lower():\n",
    "        continue\n",
    "    post_props = np.arange(n_post)\n",
    "    train_accs_10, val_accs_10, test_accs_10 = [], [], []\n",
    "    train_conf_means_10, train_conf_stds_10 = [], []\n",
    "    val_conf_means_10, val_conf_stds_10 = [], []\n",
    "    test_conf_means_10, test_conf_stds_10 = [], []\n",
    "    dist_all_10, dist_train_10, dist_test_10, dist_train_test_10, dist_train_orig_test_10 = [], [], [], [], []\n",
    "    for seed in range(10):\n",
    "        model = models_dict[k]['seed_{}'.format(seed)]['model']\n",
    "        x_post = copy.deepcopy(dataset.data.x)\n",
    "        graph = copy.deepcopy(dataset.data)\n",
    "        if remove_self_loop:\n",
    "            graph.remove_self_loops()\n",
    "        else:\n",
    "            graph.add_remaining_self_loops()\n",
    "        graph.sym_norm()\n",
    "        train_accs, val_accs, test_accs = [], [], []\n",
    "        train_conf_means, train_conf_stds = [], []\n",
    "        val_conf_means, val_conf_stds = [], []\n",
    "        test_conf_means, test_conf_stds = [], []\n",
    "        train_entropy_means, train_entropy_stds = [], []\n",
    "        val_entropy_means, val_entropy_stds = [], []\n",
    "        test_entropy_means, test_entropy_stds = [], []\n",
    "        dist_all, dist_train, dist_test, dist_train_test, dist_train_orig_test = [], [], [], [], []\n",
    "        pred_orig = None\n",
    "        for n_post_prop in post_props:\n",
    "            if 'mlp' in k.lower():\n",
    "                pred = model.forward(x_post)\n",
    "            else:\n",
    "                graph = copy.deepcopy(dataset.data)\n",
    "                if remove_self_loop:\n",
    "                    graph.remove_self_loops()\n",
    "                else:\n",
    "                    graph.add_remaining_self_loops()\n",
    "                graph.x = x_post\n",
    "                graph.sym_norm()\n",
    "                pred = model.embed_without_prop(graph, 2)\n",
    "            if pred_orig is None:\n",
    "                pred_orig = pred\n",
    "            \n",
    "            # Get Dist\n",
    "#             dist_all.append(get_dist(pred, pred_orig))\n",
    "#             dist_train.append(get_dist(dataset.data.x[dataset.data.train_nid], x_post[dataset.data.train_nid]))\n",
    "#             dist_test.append(get_dist(pred[dataset.data.test_nid], pred_orig[dataset.data.test_nid]))\n",
    "            dist_train_orig_test.append(get_dist(pred_orig[dataset.data.train_nid][:n_dist_sample], pred[dataset.data.test_nid][:n_dist_sample]))\n",
    "            dist_train_test.append(get_dist(pred[dataset.data.train_nid][:n_dist_sample], pred[dataset.data.test_nid][:n_dist_sample]))\n",
    "            # Get accuracy\n",
    "            train_acc, val_acc, test_acc = utils.eval_acc(pred, dataset, verbose=False)\n",
    "            train_accs.append(train_acc)\n",
    "            val_accs.append(val_acc)\n",
    "            test_accs.append(test_acc)\n",
    "            # Get confidence\n",
    "            train_confidence, val_confidence, test_confidence = utils.eval_confidence(pred, dataset, verbose=False)\n",
    "            train_conf_means.append(torch.mean(train_confidence).item())\n",
    "            val_conf_means.append(torch.mean(val_confidence).item())\n",
    "            test_conf_means.append(torch.mean(test_confidence).item())\n",
    "            train_conf_stds.append(torch.std(train_confidence).item())\n",
    "            val_conf_stds.append(torch.std(val_confidence).item())\n",
    "            test_conf_stds.append(torch.std(test_confidence).item())\n",
    "            # Get entropy\n",
    "            train_entropy, val_entropy, test_entropy = utils.eval_entropy(pred, dataset, verbose=False)\n",
    "            train_entropy_means.append(torch.mean(train_entropy).item())\n",
    "            val_entropy_means.append(torch.mean(val_entropy).item())\n",
    "            test_entropy_means.append(torch.mean(test_entropy).item())\n",
    "            train_entropy_stds.append(torch.std(train_entropy).item())\n",
    "            val_entropy_stds.append(torch.std(val_entropy).item())\n",
    "            test_entropy_stds.append(torch.std(test_entropy).item())\n",
    "            x_post = spmm(graph, x_post)\n",
    "#         dist_all_10.append(dist_all)\n",
    "#         dist_train_10.append(dist_train)\n",
    "#         dist_test_10.append(dist_test)\n",
    "        dist_train_test_10.append(dist_train_test)\n",
    "        dist_train_orig_test_10.append(dist_train_orig_test)\n",
    "        train_accs_10.append(train_accs)\n",
    "        val_accs_10.append(val_accs)\n",
    "        test_accs_10.append(test_accs)\n",
    "        train_conf_means_10.append(train_conf_means)\n",
    "        train_conf_stds_10.append(train_conf_stds)\n",
    "        val_conf_means_10.append(val_conf_means)\n",
    "        val_conf_stds_10.append(val_conf_stds)\n",
    "        test_conf_means_10.append(test_conf_means)\n",
    "        test_conf_stds_10.append(test_conf_stds)\n",
    "    \n",
    "    train_acc_mean, train_acc_std = torch.tensor(train_accs_10).mean(dim=0).numpy(), torch.tensor(train_accs_10).std(dim=0).numpy()\n",
    "    val_acc_mean, val_acc_std = torch.tensor(val_accs_10).mean(dim=0).numpy(), torch.tensor(val_accs_10).std(dim=0).numpy()\n",
    "    test_acc_mean, test_acc_std = torch.tensor(test_accs_10).mean(dim=0).numpy(), torch.tensor(test_accs_10).std(dim=0).numpy()\n",
    "    \n",
    "    fig, axs = plt.subplots(2, 1, figsize=(10, 16))\n",
    "    axs[0].plot(post_props, train_acc_mean, linewidth=2.5, label=\"Train\")\n",
    "    axs[0].fill_between(post_props, train_acc_mean - train_acc_std, \n",
    "                        train_acc_mean + train_acc_std, alpha=0.2)\n",
    "    axs[0].plot(post_props, val_acc_mean, linewidth=2.5, label=\"Val\")\n",
    "    axs[0].fill_between(post_props, val_acc_mean - val_acc_std, \n",
    "                        val_acc_mean + val_acc_std, alpha=0.2)\n",
    "    axs[0].plot(post_props, test_acc_mean, linewidth=2.5, label=\"Test\")\n",
    "    axs[0].fill_between(post_props, test_acc_mean - test_acc_std, \n",
    "                        test_acc_mean + test_acc_std, alpha=0.2)\n",
    "    axs[0].set_title(\"{}-PA ({})\".format(model_name, dataset_name), fontsize=32, fontweight='bold')\n",
    "    axs[0].set_ylim(0, 1.05)\n",
    "    axs[0].set_ylabel(\"Accuracy\", fontsize=32, fontweight='bold')\n",
    "    # axs[0].set_xlabel(\"# Propagation Step\", fontsize=32, fontweight='bold')\n",
    "    axs[0].tick_params(axis=\"x\", labelsize=32)\n",
    "    axs[0].tick_params(axis=\"y\", labelsize=32)\n",
    "    axs[0].legend(fontsize=28, loc=1)\n",
    "    \n",
    "    # dist\n",
    "#     dist_all_mean, dist_all_std = torch.tensor(dist_all_10).mean(dim=0).numpy(), torch.tensor(dist_all_10).std(dim=0).numpy()\n",
    "#     dist_train_mean, dist_train_std = torch.tensor(dist_train_10).mean(dim=0).numpy(), torch.tensor(dist_train_10).std(dim=0).numpy()\n",
    "#     dist_test_mean, dist_test_std = torch.tensor(dist_test_10).mean(dim=0).numpy(), torch.tensor(dist_test_10).std(dim=0).numpy()\n",
    "    dist_train_test_mean, dist_train_test_std = torch.tensor(dist_train_test_10).mean(dim=0).numpy(), torch.tensor(dist_train_test_10).std(dim=0).numpy()\n",
    "    dist_train_orig_test_mean, dist_train_orig_test_std = torch.tensor(dist_train_orig_test_10).mean(dim=0).numpy(), torch.tensor(dist_train_orig_test_10).std(dim=0).numpy()\n",
    "    \n",
    "#     axs[1].plot(post_props, dist_train_test_mean, label=\"Train vs. Test\")\n",
    "#     axs[1].fill_between(post_props, dist_train_test_mean - dist_train_test_std, \n",
    "#                         dist_train_test_mean + dist_train_test_std, alpha=0.2)\n",
    "    axs[1].plot(post_props, dist_train_orig_test_mean, linewidth=2.5, label=r'$CKA(P_{te}(\\mathbf{z}, \\phi_P(\\mathbf{x})), P_{tr}(\\mathbf{z}, \\mathbf{x}))$')\n",
    "    axs[1].fill_between(post_props, dist_train_orig_test_mean - dist_train_orig_test_std, \n",
    "                        dist_train_orig_test_mean + dist_train_orig_test_std, alpha=0.2)\n",
    "#     axs[1].plot(post_props, dist_train_mean, label=\"Train (orig) vs. Train\")\n",
    "#     axs[1].plot(post_props, dist_test_mean, label=\"Test (orig) vs. Test\")\n",
    "    # axs[1].set_title(\"{}-PA CKA ({})\".format(model_name, dataset_name), fontsize=32, fontweight='bold')\n",
    "    axs[1].set_ylabel(\"CKA Similarity\", fontsize=32, fontweight='bold')\n",
    "    axs[1].set_xlabel(\"# Propagation Step\", fontsize=32, fontweight='bold')\n",
    "    axs[1].tick_params(axis=\"x\", labelsize=32)\n",
    "    axs[1].tick_params(axis=\"y\", labelsize=32)\n",
    "    axs[1].legend(loc=1, fontsize=26)"
   ]
  },
  {
   "cell_type": "code",
   "execution_count": 20,
   "id": "866127f6-8ee2-41a8-a464-da92d8cc518e",
   "metadata": {
    "execution": {
     "iopub.execute_input": "2022-01-27T10:16:34.173741Z",
     "iopub.status.busy": "2022-01-27T10:16:34.173645Z",
     "iopub.status.idle": "2022-01-27T10:16:34.379445Z",
     "shell.execute_reply": "2022-01-27T10:16:34.378969Z",
     "shell.execute_reply.started": "2022-01-27T10:16:34.173727Z"
    },
    "tags": []
   },
   "outputs": [
    {
     "ename": "ValueError",
     "evalue": "x and y must have same first dimension, but have shapes (10,) and (1,)",
     "output_type": "error",
     "traceback": [
      "\u001b[0;31m---------------------------------------------------------------------------\u001b[0m",
      "\u001b[0;31mValueError\u001b[0m                                Traceback (most recent call last)",
      "\u001b[0;32m<ipython-input-20-2b8ab19952e4>\u001b[0m in \u001b[0;36m<module>\u001b[0;34m\u001b[0m\n\u001b[1;32m     28\u001b[0m \u001b[0;31m#                     dist_train_test_mean + dist_train_test_std, alpha=0.2)\u001b[0m\u001b[0;34m\u001b[0m\u001b[0;34m\u001b[0m\u001b[0;34m\u001b[0m\u001b[0m\n\u001b[1;32m     29\u001b[0m \u001b[0maxs\u001b[0m\u001b[0;34m[\u001b[0m\u001b[0;36m1\u001b[0m\u001b[0;34m]\u001b[0m\u001b[0;34m.\u001b[0m\u001b[0mplot\u001b[0m\u001b[0;34m(\u001b[0m\u001b[0mpost_props\u001b[0m\u001b[0;34m,\u001b[0m \u001b[0mdist_train_orig_test_mean\u001b[0m\u001b[0;34m,\u001b[0m \u001b[0mlabel\u001b[0m\u001b[0;34m=\u001b[0m\u001b[0;34m\"Train (orig) vs. Test\"\u001b[0m\u001b[0;34m)\u001b[0m\u001b[0;34m\u001b[0m\u001b[0;34m\u001b[0m\u001b[0m\n\u001b[0;32m---> 30\u001b[0;31m \u001b[0maxs\u001b[0m\u001b[0;34m[\u001b[0m\u001b[0;36m1\u001b[0m\u001b[0;34m]\u001b[0m\u001b[0;34m.\u001b[0m\u001b[0mplot\u001b[0m\u001b[0;34m(\u001b[0m\u001b[0mpost_props\u001b[0m\u001b[0;34m,\u001b[0m \u001b[0mdist_train_mean\u001b[0m\u001b[0;34m,\u001b[0m \u001b[0mlabel\u001b[0m\u001b[0;34m=\u001b[0m\u001b[0;34m\"Train (orig) vs. Train\"\u001b[0m\u001b[0;34m)\u001b[0m\u001b[0;34m\u001b[0m\u001b[0;34m\u001b[0m\u001b[0m\n\u001b[0m\u001b[1;32m     31\u001b[0m \u001b[0maxs\u001b[0m\u001b[0;34m[\u001b[0m\u001b[0;36m1\u001b[0m\u001b[0;34m]\u001b[0m\u001b[0;34m.\u001b[0m\u001b[0mplot\u001b[0m\u001b[0;34m(\u001b[0m\u001b[0mpost_props\u001b[0m\u001b[0;34m,\u001b[0m \u001b[0mdist_test_mean\u001b[0m\u001b[0;34m,\u001b[0m \u001b[0mlabel\u001b[0m\u001b[0;34m=\u001b[0m\u001b[0;34m\"Test (orig) vs. Test\"\u001b[0m\u001b[0;34m)\u001b[0m\u001b[0;34m\u001b[0m\u001b[0;34m\u001b[0m\u001b[0m\n\u001b[1;32m     32\u001b[0m \u001b[0;34m\u001b[0m\u001b[0m\n",
      "\u001b[0;32m~/anaconda3/envs/grb/lib/python3.8/site-packages/matplotlib/axes/_axes.py\u001b[0m in \u001b[0;36mplot\u001b[0;34m(self, scalex, scaley, data, *args, **kwargs)\u001b[0m\n\u001b[1;32m   1603\u001b[0m         \"\"\"\n\u001b[1;32m   1604\u001b[0m         \u001b[0mkwargs\u001b[0m \u001b[0;34m=\u001b[0m \u001b[0mcbook\u001b[0m\u001b[0;34m.\u001b[0m\u001b[0mnormalize_kwargs\u001b[0m\u001b[0;34m(\u001b[0m\u001b[0mkwargs\u001b[0m\u001b[0;34m,\u001b[0m \u001b[0mmlines\u001b[0m\u001b[0;34m.\u001b[0m\u001b[0mLine2D\u001b[0m\u001b[0;34m)\u001b[0m\u001b[0;34m\u001b[0m\u001b[0;34m\u001b[0m\u001b[0m\n\u001b[0;32m-> 1605\u001b[0;31m         \u001b[0mlines\u001b[0m \u001b[0;34m=\u001b[0m \u001b[0;34m[\u001b[0m\u001b[0;34m*\u001b[0m\u001b[0mself\u001b[0m\u001b[0;34m.\u001b[0m\u001b[0m_get_lines\u001b[0m\u001b[0;34m(\u001b[0m\u001b[0;34m*\u001b[0m\u001b[0margs\u001b[0m\u001b[0;34m,\u001b[0m \u001b[0mdata\u001b[0m\u001b[0;34m=\u001b[0m\u001b[0mdata\u001b[0m\u001b[0;34m,\u001b[0m \u001b[0;34m**\u001b[0m\u001b[0mkwargs\u001b[0m\u001b[0;34m)\u001b[0m\u001b[0;34m]\u001b[0m\u001b[0;34m\u001b[0m\u001b[0;34m\u001b[0m\u001b[0m\n\u001b[0m\u001b[1;32m   1606\u001b[0m         \u001b[0;32mfor\u001b[0m \u001b[0mline\u001b[0m \u001b[0;32min\u001b[0m \u001b[0mlines\u001b[0m\u001b[0;34m:\u001b[0m\u001b[0;34m\u001b[0m\u001b[0;34m\u001b[0m\u001b[0m\n\u001b[1;32m   1607\u001b[0m             \u001b[0mself\u001b[0m\u001b[0;34m.\u001b[0m\u001b[0madd_line\u001b[0m\u001b[0;34m(\u001b[0m\u001b[0mline\u001b[0m\u001b[0;34m)\u001b[0m\u001b[0;34m\u001b[0m\u001b[0;34m\u001b[0m\u001b[0m\n",
      "\u001b[0;32m~/anaconda3/envs/grb/lib/python3.8/site-packages/matplotlib/axes/_base.py\u001b[0m in \u001b[0;36m__call__\u001b[0;34m(self, data, *args, **kwargs)\u001b[0m\n\u001b[1;32m    313\u001b[0m                 \u001b[0mthis\u001b[0m \u001b[0;34m+=\u001b[0m \u001b[0margs\u001b[0m\u001b[0;34m[\u001b[0m\u001b[0;36m0\u001b[0m\u001b[0;34m]\u001b[0m\u001b[0;34m,\u001b[0m\u001b[0;34m\u001b[0m\u001b[0;34m\u001b[0m\u001b[0m\n\u001b[1;32m    314\u001b[0m                 \u001b[0margs\u001b[0m \u001b[0;34m=\u001b[0m \u001b[0margs\u001b[0m\u001b[0;34m[\u001b[0m\u001b[0;36m1\u001b[0m\u001b[0;34m:\u001b[0m\u001b[0;34m]\u001b[0m\u001b[0;34m\u001b[0m\u001b[0;34m\u001b[0m\u001b[0m\n\u001b[0;32m--> 315\u001b[0;31m             \u001b[0;32myield\u001b[0m \u001b[0;32mfrom\u001b[0m \u001b[0mself\u001b[0m\u001b[0;34m.\u001b[0m\u001b[0m_plot_args\u001b[0m\u001b[0;34m(\u001b[0m\u001b[0mthis\u001b[0m\u001b[0;34m,\u001b[0m \u001b[0mkwargs\u001b[0m\u001b[0;34m)\u001b[0m\u001b[0;34m\u001b[0m\u001b[0;34m\u001b[0m\u001b[0m\n\u001b[0m\u001b[1;32m    316\u001b[0m \u001b[0;34m\u001b[0m\u001b[0m\n\u001b[1;32m    317\u001b[0m     \u001b[0;32mdef\u001b[0m \u001b[0mget_next_color\u001b[0m\u001b[0;34m(\u001b[0m\u001b[0mself\u001b[0m\u001b[0;34m)\u001b[0m\u001b[0;34m:\u001b[0m\u001b[0;34m\u001b[0m\u001b[0;34m\u001b[0m\u001b[0m\n",
      "\u001b[0;32m~/anaconda3/envs/grb/lib/python3.8/site-packages/matplotlib/axes/_base.py\u001b[0m in \u001b[0;36m_plot_args\u001b[0;34m(self, tup, kwargs, return_kwargs)\u001b[0m\n\u001b[1;32m    499\u001b[0m \u001b[0;34m\u001b[0m\u001b[0m\n\u001b[1;32m    500\u001b[0m         \u001b[0;32mif\u001b[0m \u001b[0mx\u001b[0m\u001b[0;34m.\u001b[0m\u001b[0mshape\u001b[0m\u001b[0;34m[\u001b[0m\u001b[0;36m0\u001b[0m\u001b[0;34m]\u001b[0m \u001b[0;34m!=\u001b[0m \u001b[0my\u001b[0m\u001b[0;34m.\u001b[0m\u001b[0mshape\u001b[0m\u001b[0;34m[\u001b[0m\u001b[0;36m0\u001b[0m\u001b[0;34m]\u001b[0m\u001b[0;34m:\u001b[0m\u001b[0;34m\u001b[0m\u001b[0;34m\u001b[0m\u001b[0m\n\u001b[0;32m--> 501\u001b[0;31m             raise ValueError(f\"x and y must have same first dimension, but \"\n\u001b[0m\u001b[1;32m    502\u001b[0m                              f\"have shapes {x.shape} and {y.shape}\")\n\u001b[1;32m    503\u001b[0m         \u001b[0;32mif\u001b[0m \u001b[0mx\u001b[0m\u001b[0;34m.\u001b[0m\u001b[0mndim\u001b[0m \u001b[0;34m>\u001b[0m \u001b[0;36m2\u001b[0m \u001b[0;32mor\u001b[0m \u001b[0my\u001b[0m\u001b[0;34m.\u001b[0m\u001b[0mndim\u001b[0m \u001b[0;34m>\u001b[0m \u001b[0;36m2\u001b[0m\u001b[0;34m:\u001b[0m\u001b[0;34m\u001b[0m\u001b[0;34m\u001b[0m\u001b[0m\n",
      "\u001b[0;31mValueError\u001b[0m: x and y must have same first dimension, but have shapes (10,) and (1,)"
     ]
    },
    {
     "data": {
      "image/png": "[encoded data removed]",
      "text/plain": [
       "<Figure size 1728x576 with 2 Axes>"
      ]
     },
     "metadata": {},
     "output_type": "display_data"
    }
   ],
   "source": [
    "fig, axs = plt.subplots(1, 2, figsize=(24, 8))\n",
    "axs[0].plot(post_props, train_acc_mean, label=\"Train\")\n",
    "axs[0].fill_between(post_props, train_acc_mean - train_acc_std, \n",
    "                    train_acc_mean + train_acc_std, alpha=0.2)\n",
    "axs[0].plot(post_props, val_acc_mean, label=\"Val\")\n",
    "axs[0].fill_between(post_props, val_acc_mean - val_acc_std, \n",
    "                    val_acc_mean + val_acc_std, alpha=0.2)\n",
    "axs[0].plot(post_props, test_acc_mean, label=\"Test\")\n",
    "axs[0].fill_between(post_props, test_acc_mean - test_acc_std, \n",
    "                    test_acc_mean + test_acc_std, alpha=0.2)\n",
    "axs[0].set_title(\"{}-PA ({})\".format(model_name, dataset_name), fontsize=32, fontweight='bold')\n",
    "axs[0].set_ylim(0, 1.05)\n",
    "axs[0].set_ylabel(\"Accuracy\", fontsize=32, fontweight='bold')\n",
    "axs[0].set_xlabel(\"# Propagation Step\", fontsize=32, fontweight='bold')\n",
    "axs[0].tick_params(axis=\"x\", labelsize=32)\n",
    "axs[0].tick_params(axis=\"y\", labelsize=32)\n",
    "axs[0].legend(fontsize=28, loc=3)\n",
    "\n",
    "# dist\n",
    "dist_all_mean, dist_all_std = torch.tensor(dist_all_10).mean(dim=0).numpy(), torch.tensor(dist_all_10).std(dim=0).numpy()\n",
    "dist_train_mean, dist_train_std = torch.tensor(dist_train_10).mean(dim=0).numpy(), torch.tensor(dist_train_10).std(dim=0).numpy()\n",
    "dist_test_mean, dist_test_std = torch.tensor(dist_test_10).mean(dim=0).numpy(), torch.tensor(dist_test_10).std(dim=0).numpy()\n",
    "dist_train_test_mean, dist_train_test_std = torch.tensor(dist_train_test_10).mean(dim=0).numpy(), torch.tensor(dist_train_test_10).std(dim=0).numpy()\n",
    "dist_train_orig_test_mean, dist_train_orig_test_std = torch.tensor(dist_train_orig_test_10).mean(dim=0).numpy(), torch.tensor(dist_train_orig_test_10).std(dim=0).numpy()\n",
    "\n",
    "axs[1].plot(post_props, dist_train_test_mean, label=\"Train vs. Test\")\n",
    "# axs[1].fill_between(post_props, dist_train_test_mean - dist_train_test_std, \n",
    "#                     dist_train_test_mean + dist_train_test_std, alpha=0.2)\n",
    "axs[1].plot(post_props, dist_train_orig_test_mean, label=\"Train (orig) vs. Test\")\n",
    "axs[1].plot(post_props, dist_train_mean, label=\"Train (orig) vs. Train\")\n",
    "axs[1].plot(post_props, dist_test_mean, label=\"Test (orig) vs. Test\")\n",
    "\n",
    "axs[1].set_title(\"{}-PA CKA ({})\".format(model_name, dataset_name), fontsize=32, fontweight='bold')\n",
    "axs[1].set_ylabel(\"CKA Similarity\", fontsize=32, fontweight='bold')\n",
    "axs[1].set_xlabel(\"# Propagation Step\", fontsize=32, fontweight='bold')\n",
    "axs[1].tick_params(axis=\"x\", labelsize=32)\n",
    "axs[1].tick_params(axis=\"y\", labelsize=32)\n",
    "axs[1].legend(loc=4, fontsize=32)"
   ]
  },
  {
   "cell_type": "code",
   "execution_count": null,
   "id": "9fce02b2-b4d8-4cf9-9b7d-878b306f14b1",
   "metadata": {},
   "outputs": [],
   "source": []
  },
  {
   "cell_type": "code",
   "execution_count": null,
   "id": "dcd5f881-0fb1-43a7-9f1d-0c69211a6ea1",
   "metadata": {},
   "outputs": [],
   "source": []
  },
  {
   "cell_type": "code",
   "execution_count": 34,
   "id": "a81795d2-8fd4-44f9-ad8d-a223c5dde05b",
   "metadata": {
    "execution": {
     "iopub.execute_input": "2022-01-27T19:26:57.135775Z",
     "iopub.status.busy": "2022-01-27T19:26:57.135520Z",
     "iopub.status.idle": "2022-01-27T19:30:56.764075Z",
     "shell.execute_reply": "2022-01-27T19:30:56.763608Z",
     "shell.execute_reply.started": "2022-01-27T19:26:57.135750Z"
    },
    "scrolled": true,
    "tags": []
   },
   "outputs": [
    {
     "name": "stdout",
     "output_type": "stream",
     "text": [
      "Namespace(actnn=False, checkpoint_path='./checkpoints/model.pt', cpu=False, cpu_inference=False, dataset=['Cora'], devices=[0], distributed=False, dw='node_classification_dw', epoch=500, epochs=500, eval_step=1, fp16=False, load_emb_path=None, local_rank=0, log_path='.', logger=None, lr=0.01, master_addr='localhost', master_port=13425, max_epoch=None, model=['MLP'], mw='node_classification_mw', n_trials=3, n_warmup_steps=0, no_test=False, nstage=1, patience=100, progress_bar='epoch', project='cogdl-exp', resume_training=False, rp_ratio=1, save_emb_path=None, seed=[0, 1, 2, 3, 4, 5, 6, 7, 8, 9], split=[0], unsup=False, use_best_config=False, weight_decay=0)\n",
      " \n",
      "|----------------------------------------------------------------------------------------|\n",
      "    *** Running (`Cora`, `MLP`, `node_classification_dw`, `node_classification_mw`)\n",
      "|----------------------------------------------------------------------------------------|\n",
      "Model Parameters: 92231\n"
     ]
    },
    {
     "name": "stderr",
     "output_type": "stream",
     "text": [
      "Epoch: 195, train_loss:  0.0129, val_acc:  0.5959:  39%|███▉      | 195/500 [00:00<00:00, 309.33it/s]\n"
     ]
    },
    {
     "name": "stdout",
     "output_type": "stream",
     "text": [
      "Saving 96-th model to ./checkpoints/model.pt ...\n",
      "Loading model from ./checkpoints/model.pt ...\n",
      "{'test_acc': 0.5690928270042194, 'val_acc': 0.6014760147601476}\n",
      " \n",
      "|----------------------------------------------------------------------------------------|\n",
      "    *** Running (`Cora`, `MLP`, `node_classification_dw`, `node_classification_mw`)\n",
      "|----------------------------------------------------------------------------------------|\n",
      "Model Parameters: 92231\n"
     ]
    },
    {
     "name": "stderr",
     "output_type": "stream",
     "text": [
      "Epoch: 297, train_loss:  0.0139, val_acc:  0.5923:  59%|█████▉    | 297/500 [00:00<00:00, 330.55it/s]\n"
     ]
    },
    {
     "name": "stdout",
     "output_type": "stream",
     "text": [
      "Saving 198-th model to ./checkpoints/model.pt ...\n",
      "Loading model from ./checkpoints/model.pt ...\n",
      "{'test_acc': 0.570675105485232, 'val_acc': 0.6014760147601476}\n",
      " \n",
      "|----------------------------------------------------------------------------------------|\n",
      "    *** Running (`Cora`, `MLP`, `node_classification_dw`, `node_classification_mw`)\n",
      "|----------------------------------------------------------------------------------------|\n",
      "Model Parameters: 92231\n"
     ]
    },
    {
     "name": "stderr",
     "output_type": "stream",
     "text": [
      "Epoch: 309, train_loss:  0.0125, val_acc:  0.5941:  62%|██████▏   | 309/500 [00:01<00:00, 303.61it/s]\n"
     ]
    },
    {
     "name": "stdout",
     "output_type": "stream",
     "text": [
      "Saving 210-th model to ./checkpoints/model.pt ...\n",
      "Loading model from ./checkpoints/model.pt ...\n",
      "{'test_acc': 0.5738396624472574, 'val_acc': 0.5977859778597786}\n",
      " \n",
      "|----------------------------------------------------------------------------------------|\n",
      "    *** Running (`Cora`, `MLP`, `node_classification_dw`, `node_classification_mw`)\n",
      "|----------------------------------------------------------------------------------------|\n",
      "Model Parameters: 92231\n"
     ]
    },
    {
     "name": "stderr",
     "output_type": "stream",
     "text": [
      "Epoch: 205, train_loss:  0.0186, val_acc:  0.5886:  41%|████      | 205/500 [00:00<00:00, 343.01it/s]\n"
     ]
    },
    {
     "name": "stdout",
     "output_type": "stream",
     "text": [
      "Saving 106-th model to ./checkpoints/model.pt ...\n",
      "Loading model from ./checkpoints/model.pt ...\n",
      "{'test_acc': 0.5759493670886076, 'val_acc': 0.5959409594095941}\n",
      " \n",
      "|----------------------------------------------------------------------------------------|\n",
      "    *** Running (`Cora`, `MLP`, `node_classification_dw`, `node_classification_mw`)\n",
      "|----------------------------------------------------------------------------------------|\n",
      "Model Parameters: 92231\n"
     ]
    },
    {
     "name": "stderr",
     "output_type": "stream",
     "text": [
      "Epoch: 209, train_loss:  0.0144, val_acc:  0.5849:  42%|████▏     | 209/500 [00:00<00:00, 318.80it/s]\n"
     ]
    },
    {
     "name": "stdout",
     "output_type": "stream",
     "text": [
      "Saving 110-th model to ./checkpoints/model.pt ...\n",
      "Loading model from ./checkpoints/model.pt ...\n",
      "{'test_acc': 0.570675105485232, 'val_acc': 0.5904059040590406}\n",
      " \n",
      "|----------------------------------------------------------------------------------------|\n",
      "    *** Running (`Cora`, `MLP`, `node_classification_dw`, `node_classification_mw`)\n",
      "|----------------------------------------------------------------------------------------|\n",
      "Model Parameters: 92231\n"
     ]
    },
    {
     "name": "stderr",
     "output_type": "stream",
     "text": [
      "Epoch: 156, train_loss:  0.0204, val_acc:  0.5812:  31%|███       | 156/500 [00:00<00:00, 345.12it/s]\n"
     ]
    },
    {
     "name": "stdout",
     "output_type": "stream",
     "text": [
      "Saving 57-th model to ./checkpoints/model.pt ...\n",
      "Loading model from ./checkpoints/model.pt ...\n",
      "{'test_acc': 0.5638185654008439, 'val_acc': 0.5940959409594095}\n",
      " \n",
      "|----------------------------------------------------------------------------------------|\n",
      "    *** Running (`Cora`, `MLP`, `node_classification_dw`, `node_classification_mw`)\n",
      "|----------------------------------------------------------------------------------------|\n",
      "Model Parameters: 92231\n"
     ]
    },
    {
     "name": "stderr",
     "output_type": "stream",
     "text": [
      "Epoch: 159, train_loss:  0.0403, val_acc:  0.5904:  32%|███▏      | 159/500 [00:00<00:01, 339.57it/s]\n"
     ]
    },
    {
     "name": "stdout",
     "output_type": "stream",
     "text": [
      "Saving 60-th model to ./checkpoints/model.pt ...\n",
      "Loading model from ./checkpoints/model.pt ...\n",
      "{'test_acc': 0.5675105485232067, 'val_acc': 0.6014760147601476}\n",
      " \n",
      "|----------------------------------------------------------------------------------------|\n",
      "    *** Running (`Cora`, `MLP`, `node_classification_dw`, `node_classification_mw`)\n",
      "|----------------------------------------------------------------------------------------|\n",
      "Model Parameters: 92231\n"
     ]
    },
    {
     "name": "stderr",
     "output_type": "stream",
     "text": [
      "Epoch: 195, train_loss:  0.0136, val_acc:  0.5812:  39%|███▉      | 195/500 [00:00<00:00, 314.90it/s]\n"
     ]
    },
    {
     "name": "stdout",
     "output_type": "stream",
     "text": [
      "Saving 96-th model to ./checkpoints/model.pt ...\n",
      "Loading model from ./checkpoints/model.pt ...\n",
      "{'test_acc': 0.5664556962025317, 'val_acc': 0.5940959409594095}\n",
      " \n",
      "|----------------------------------------------------------------------------------------|\n",
      "    *** Running (`Cora`, `MLP`, `node_classification_dw`, `node_classification_mw`)\n",
      "|----------------------------------------------------------------------------------------|\n",
      "Model Parameters: 92231\n"
     ]
    },
    {
     "name": "stderr",
     "output_type": "stream",
     "text": [
      "Epoch: 237, train_loss:  0.0113, val_acc:  0.5904:  47%|████▋     | 237/500 [00:00<00:00, 317.61it/s]\n"
     ]
    },
    {
     "name": "stdout",
     "output_type": "stream",
     "text": [
      "Saving 138-th model to ./checkpoints/model.pt ...\n",
      "Loading model from ./checkpoints/model.pt ...\n",
      "{'test_acc': 0.57542194092827, 'val_acc': 0.5959409594095941}\n",
      " \n",
      "|----------------------------------------------------------------------------------------|\n",
      "    *** Running (`Cora`, `MLP`, `node_classification_dw`, `node_classification_mw`)\n",
      "|----------------------------------------------------------------------------------------|\n",
      "Model Parameters: 92231\n"
     ]
    },
    {
     "name": "stderr",
     "output_type": "stream",
     "text": [
      "Epoch: 254, train_loss:  0.0079, val_acc:  0.5793:  51%|█████     | 254/500 [00:00<00:00, 331.37it/s]\n"
     ]
    },
    {
     "name": "stdout",
     "output_type": "stream",
     "text": [
      "Saving 155-th model to ./checkpoints/model.pt ...\n",
      "Loading model from ./checkpoints/model.pt ...\n",
      "{'test_acc': 0.5638185654008439, 'val_acc': 0.5959409594095941}\n",
      "| Variant       | test_acc      | val_acc       |\n",
      "|---------------|---------------|---------------|\n",
      "| (Cora, 'MLP') | 0.5697±0.0042 | 0.5969±0.0035 |\n",
      "Namespace(actnn=False, checkpoint_path='./checkpoints/model.pt', cpu=False, cpu_inference=False, dataset=['Cora'], devices=[0], distributed=False, dw='node_classification_dw', epoch=500, epochs=500, eval_step=1, fp16=False, load_emb_path=None, local_rank=0, log_path='.', logger=None, lr=0.01, master_addr='localhost', master_port=13425, max_epoch=None, model=['GCN'], mw='node_classification_mw', n_trials=3, n_warmup_steps=0, no_test=False, nstage=1, patience=100, progress_bar='epoch', project='cogdl-exp', resume_training=False, rp_ratio=1, save_emb_path=None, seed=[0, 1, 2, 3, 4, 5, 6, 7, 8, 9], split=[0], unsup=False, use_best_config=False, weight_decay=0)\n",
      " \n",
      "|----------------------------------------------------------------------------------------|\n",
      "    *** Running (`Cora`, `GCN`, `node_classification_dw`, `node_classification_mw`)\n",
      "|----------------------------------------------------------------------------------------|\n",
      "Model Parameters: 92231\n"
     ]
    },
    {
     "name": "stderr",
     "output_type": "stream",
     "text": [
      "Epoch: 279, train_loss:  0.0051, val_acc:  0.8506:  56%|█████▌    | 279/500 [00:00<00:00, 326.59it/s]\n"
     ]
    },
    {
     "name": "stdout",
     "output_type": "stream",
     "text": [
      "Saving 180-th model to ./checkpoints/model.pt ...\n",
      "Loading model from ./checkpoints/model.pt ...\n",
      "{'test_acc': 0.8217299578059072, 'val_acc': 0.8579335793357934}\n",
      " \n",
      "|----------------------------------------------------------------------------------------|\n",
      "    *** Running (`Cora`, `GCN`, `node_classification_dw`, `node_classification_mw`)\n",
      "|----------------------------------------------------------------------------------------|\n",
      "Model Parameters: 92231\n"
     ]
    },
    {
     "name": "stderr",
     "output_type": "stream",
     "text": [
      "Epoch: 378, train_loss:  0.0027, val_acc:  0.8469:  76%|███████▌  | 378/500 [00:01<00:00, 330.15it/s]\n"
     ]
    },
    {
     "name": "stdout",
     "output_type": "stream",
     "text": [
      "Saving 279-th model to ./checkpoints/model.pt ...\n",
      "Loading model from ./checkpoints/model.pt ...\n",
      "{'test_acc': 0.8233122362869199, 'val_acc': 0.8560885608856088}\n",
      " \n",
      "|----------------------------------------------------------------------------------------|\n",
      "    *** Running (`Cora`, `GCN`, `node_classification_dw`, `node_classification_mw`)\n",
      "|----------------------------------------------------------------------------------------|\n",
      "Model Parameters: 92231\n"
     ]
    },
    {
     "name": "stderr",
     "output_type": "stream",
     "text": [
      "Epoch: 330, train_loss:  0.0028, val_acc:  0.8506:  66%|██████▌   | 330/500 [00:01<00:00, 306.41it/s]\n"
     ]
    },
    {
     "name": "stdout",
     "output_type": "stream",
     "text": [
      "Saving 231-th model to ./checkpoints/model.pt ...\n",
      "Loading model from ./checkpoints/model.pt ...\n",
      "{'test_acc': 0.8233122362869199, 'val_acc': 0.8579335793357934}\n",
      " \n",
      "|----------------------------------------------------------------------------------------|\n",
      "    *** Running (`Cora`, `GCN`, `node_classification_dw`, `node_classification_mw`)\n",
      "|----------------------------------------------------------------------------------------|\n",
      "Model Parameters: 92231\n"
     ]
    },
    {
     "name": "stderr",
     "output_type": "stream",
     "text": [
      "Epoch: 226, train_loss:  0.0082, val_acc:  0.8487:  45%|████▌     | 226/500 [00:00<00:00, 281.32it/s]\n"
     ]
    },
    {
     "name": "stdout",
     "output_type": "stream",
     "text": [
      "Saving 127-th model to ./checkpoints/model.pt ...\n",
      "Loading model from ./checkpoints/model.pt ...\n",
      "{'test_acc': 0.8227848101265823, 'val_acc': 0.8542435424354243}\n",
      " \n",
      "|----------------------------------------------------------------------------------------|\n",
      "    *** Running (`Cora`, `GCN`, `node_classification_dw`, `node_classification_mw`)\n",
      "|----------------------------------------------------------------------------------------|\n",
      "Model Parameters: 92231\n"
     ]
    },
    {
     "name": "stderr",
     "output_type": "stream",
     "text": [
      "Epoch: 308, train_loss:  0.0036, val_acc:  0.8524:  62%|██████▏   | 308/500 [00:01<00:00, 283.22it/s]\n"
     ]
    },
    {
     "name": "stdout",
     "output_type": "stream",
     "text": [
      "Saving 209-th model to ./checkpoints/model.pt ...\n",
      "Loading model from ./checkpoints/model.pt ...\n",
      "{'test_acc': 0.8238396624472574, 'val_acc': 0.8579335793357934}\n",
      " \n",
      "|----------------------------------------------------------------------------------------|\n",
      "    *** Running (`Cora`, `GCN`, `node_classification_dw`, `node_classification_mw`)\n",
      "|----------------------------------------------------------------------------------------|\n",
      "Model Parameters: 92231\n"
     ]
    },
    {
     "name": "stderr",
     "output_type": "stream",
     "text": [
      "Epoch: 241, train_loss:  0.0086, val_acc:  0.8487:  48%|████▊     | 241/500 [00:00<00:00, 311.89it/s]\n"
     ]
    },
    {
     "name": "stdout",
     "output_type": "stream",
     "text": [
      "Saving 142-th model to ./checkpoints/model.pt ...\n",
      "Loading model from ./checkpoints/model.pt ...\n",
      "{'test_acc': 0.8264767932489452, 'val_acc': 0.8560885608856088}\n",
      " \n",
      "|----------------------------------------------------------------------------------------|\n",
      "    *** Running (`Cora`, `GCN`, `node_classification_dw`, `node_classification_mw`)\n",
      "|----------------------------------------------------------------------------------------|\n",
      "Model Parameters: 92231\n"
     ]
    },
    {
     "name": "stderr",
     "output_type": "stream",
     "text": [
      "Epoch: 174, train_loss:  0.0125, val_acc:  0.8524:  35%|███▍      | 174/500 [00:00<00:01, 285.35it/s]\n"
     ]
    },
    {
     "name": "stdout",
     "output_type": "stream",
     "text": [
      "Saving 75-th model to ./checkpoints/model.pt ...\n",
      "Loading model from ./checkpoints/model.pt ...\n",
      "{'test_acc': 0.8280590717299579, 'val_acc': 0.8560885608856088}\n",
      " \n",
      "|----------------------------------------------------------------------------------------|\n",
      "    *** Running (`Cora`, `GCN`, `node_classification_dw`, `node_classification_mw`)\n",
      "|----------------------------------------------------------------------------------------|\n",
      "Model Parameters: 92231\n"
     ]
    },
    {
     "name": "stderr",
     "output_type": "stream",
     "text": [
      "Epoch: 188, train_loss:  0.0098, val_acc:  0.8506:  38%|███▊      | 188/500 [00:00<00:01, 285.06it/s]\n"
     ]
    },
    {
     "name": "stdout",
     "output_type": "stream",
     "text": [
      "Saving 89-th model to ./checkpoints/model.pt ...\n",
      "Loading model from ./checkpoints/model.pt ...\n",
      "{'test_acc': 0.8275316455696202, 'val_acc': 0.8560885608856088}\n",
      " \n",
      "|----------------------------------------------------------------------------------------|\n",
      "    *** Running (`Cora`, `GCN`, `node_classification_dw`, `node_classification_mw`)\n",
      "|----------------------------------------------------------------------------------------|\n",
      "Model Parameters: 92231\n"
     ]
    },
    {
     "name": "stderr",
     "output_type": "stream",
     "text": [
      "Epoch: 342, train_loss:  0.0029, val_acc:  0.8524:  68%|██████▊   | 342/500 [00:01<00:00, 275.98it/s]\n"
     ]
    },
    {
     "name": "stdout",
     "output_type": "stream",
     "text": [
      "Saving 243-th model to ./checkpoints/model.pt ...\n",
      "Loading model from ./checkpoints/model.pt ...\n",
      "{'test_acc': 0.8243670886075949, 'val_acc': 0.8579335793357934}\n",
      " \n",
      "|----------------------------------------------------------------------------------------|\n",
      "    *** Running (`Cora`, `GCN`, `node_classification_dw`, `node_classification_mw`)\n",
      "|----------------------------------------------------------------------------------------|\n",
      "Model Parameters: 92231\n"
     ]
    },
    {
     "name": "stderr",
     "output_type": "stream",
     "text": [
      "Epoch: 235, train_loss:  0.0065, val_acc:  0.8506:  47%|████▋     | 235/500 [00:00<00:00, 272.94it/s]\n"
     ]
    },
    {
     "name": "stdout",
     "output_type": "stream",
     "text": [
      "Saving 136-th model to ./checkpoints/model.pt ...\n",
      "Loading model from ./checkpoints/model.pt ...\n",
      "{'test_acc': 0.82542194092827, 'val_acc': 0.8560885608856088}\n",
      "| Variant       | test_acc      | val_acc       |\n",
      "|---------------|---------------|---------------|\n",
      "| (Cora, 'GCN') | 0.8247±0.0020 | 0.8566±0.0012 |\n",
      "Namespace(actnn=False, checkpoint_path='./checkpoints/model.pt', cpu=False, cpu_inference=False, dataset=['Cora'], devices=[0], distributed=False, dw='node_classification_dw', epoch=500, epochs=500, eval_step=1, fp16=False, load_emb_path=None, local_rank=0, log_path='.', logger=None, lr=0.01, master_addr='localhost', master_port=13425, max_epoch=None, model=['SGC'], mw='node_classification_mw', n_trials=3, n_warmup_steps=0, no_test=False, nstage=1, patience=100, progress_bar='epoch', project='cogdl-exp', resume_training=False, rp_ratio=1, save_emb_path=None, seed=[0, 1, 2, 3, 4, 5, 6, 7, 8, 9], split=[0], unsup=False, use_best_config=False, weight_decay=0)\n",
      " \n",
      "|----------------------------------------------------------------------------------------|\n",
      "    *** Running (`Cora`, `SGC`, `node_classification_dw`, `node_classification_mw`)\n",
      "|----------------------------------------------------------------------------------------|\n",
      "Model Parameters: 92231\n"
     ]
    },
    {
     "name": "stderr",
     "output_type": "stream",
     "text": [
      "Epoch: 231, train_loss:  0.0532, val_acc:  0.8284:  46%|████▌     | 231/500 [00:00<00:00, 288.50it/s]\n"
     ]
    },
    {
     "name": "stdout",
     "output_type": "stream",
     "text": [
      "Saving 132-th model to ./checkpoints/model.pt ...\n",
      "Loading model from ./checkpoints/model.pt ...\n",
      "{'test_acc': 0.8085443037974683, 'val_acc': 0.8339483394833949}\n",
      " \n",
      "|----------------------------------------------------------------------------------------|\n",
      "    *** Running (`Cora`, `SGC`, `node_classification_dw`, `node_classification_mw`)\n",
      "|----------------------------------------------------------------------------------------|\n",
      "Model Parameters: 92231\n"
     ]
    },
    {
     "name": "stderr",
     "output_type": "stream",
     "text": [
      "Epoch: 326, train_loss:  0.0405, val_acc:  0.8266:  65%|██████▌   | 326/500 [00:01<00:00, 290.69it/s]\n"
     ]
    },
    {
     "name": "stdout",
     "output_type": "stream",
     "text": [
      "Saving 227-th model to ./checkpoints/model.pt ...\n",
      "Loading model from ./checkpoints/model.pt ...\n",
      "{'test_acc': 0.8059071729957806, 'val_acc': 0.8339483394833949}\n",
      " \n",
      "|----------------------------------------------------------------------------------------|\n",
      "    *** Running (`Cora`, `SGC`, `node_classification_dw`, `node_classification_mw`)\n",
      "|----------------------------------------------------------------------------------------|\n",
      "Model Parameters: 92231\n"
     ]
    },
    {
     "name": "stderr",
     "output_type": "stream",
     "text": [
      "Epoch: 423, train_loss:  0.0348, val_acc:  0.8266:  85%|████████▍ | 423/500 [00:01<00:00, 291.81it/s]\n"
     ]
    },
    {
     "name": "stdout",
     "output_type": "stream",
     "text": [
      "Saving 324-th model to ./checkpoints/model.pt ...\n",
      "Loading model from ./checkpoints/model.pt ...\n",
      "{'test_acc': 0.8059071729957806, 'val_acc': 0.8339483394833949}\n",
      " \n",
      "|----------------------------------------------------------------------------------------|\n",
      "    *** Running (`Cora`, `SGC`, `node_classification_dw`, `node_classification_mw`)\n",
      "|----------------------------------------------------------------------------------------|\n",
      "Model Parameters: 92231\n"
     ]
    },
    {
     "name": "stderr",
     "output_type": "stream",
     "text": [
      "Epoch: 242, train_loss:  0.0652, val_acc:  0.8247:  48%|████▊     | 242/500 [00:00<00:00, 286.15it/s]\n"
     ]
    },
    {
     "name": "stdout",
     "output_type": "stream",
     "text": [
      "Saving 143-th model to ./checkpoints/model.pt ...\n",
      "Loading model from ./checkpoints/model.pt ...\n",
      "{'test_acc': 0.8080168776371308, 'val_acc': 0.8357933579335793}\n",
      " \n",
      "|----------------------------------------------------------------------------------------|\n",
      "    *** Running (`Cora`, `SGC`, `node_classification_dw`, `node_classification_mw`)\n",
      "|----------------------------------------------------------------------------------------|\n",
      "Model Parameters: 92231\n"
     ]
    },
    {
     "name": "stderr",
     "output_type": "stream",
     "text": [
      "Epoch: 203, train_loss:  0.0690, val_acc:  0.8284:  41%|████      | 203/500 [00:00<00:01, 290.03it/s]\n"
     ]
    },
    {
     "name": "stdout",
     "output_type": "stream",
     "text": [
      "Saving 104-th model to ./checkpoints/model.pt ...\n",
      "Loading model from ./checkpoints/model.pt ...\n",
      "{'test_acc': 0.805379746835443, 'val_acc': 0.8339483394833949}\n",
      " \n",
      "|----------------------------------------------------------------------------------------|\n",
      "    *** Running (`Cora`, `SGC`, `node_classification_dw`, `node_classification_mw`)\n",
      "|----------------------------------------------------------------------------------------|\n",
      "Model Parameters: 92231\n"
     ]
    },
    {
     "name": "stderr",
     "output_type": "stream",
     "text": [
      "Epoch: 224, train_loss:  0.0629, val_acc:  0.8266:  45%|████▍     | 224/500 [00:00<00:00, 286.91it/s]\n"
     ]
    },
    {
     "name": "stdout",
     "output_type": "stream",
     "text": [
      "Saving 125-th model to ./checkpoints/model.pt ...\n",
      "Loading model from ./checkpoints/model.pt ...\n",
      "{'test_acc': 0.8106540084388185, 'val_acc': 0.8376383763837638}\n",
      " \n",
      "|----------------------------------------------------------------------------------------|\n",
      "    *** Running (`Cora`, `SGC`, `node_classification_dw`, `node_classification_mw`)\n",
      "|----------------------------------------------------------------------------------------|\n",
      "Model Parameters: 92231\n"
     ]
    },
    {
     "name": "stderr",
     "output_type": "stream",
     "text": [
      "Epoch: 500, train_loss:  0.0207, val_acc:  0.8321: 100%|██████████| 500/500 [00:01<00:00, 285.57it/s]\n"
     ]
    },
    {
     "name": "stdout",
     "output_type": "stream",
     "text": [
      "Saving 471-th model to ./checkpoints/model.pt ...\n",
      "Loading model from ./checkpoints/model.pt ...\n",
      "{'test_acc': 0.8006329113924051, 'val_acc': 0.8376383763837638}\n",
      " \n",
      "|----------------------------------------------------------------------------------------|\n",
      "    *** Running (`Cora`, `SGC`, `node_classification_dw`, `node_classification_mw`)\n",
      "|----------------------------------------------------------------------------------------|\n",
      "Model Parameters: 92231\n"
     ]
    },
    {
     "name": "stderr",
     "output_type": "stream",
     "text": [
      "Epoch: 376, train_loss:  0.0422, val_acc:  0.8303:  75%|███████▌  | 376/500 [00:01<00:00, 287.02it/s]\n"
     ]
    },
    {
     "name": "stdout",
     "output_type": "stream",
     "text": [
      "Saving 277-th model to ./checkpoints/model.pt ...\n",
      "Loading model from ./checkpoints/model.pt ...\n",
      "{'test_acc': 0.8080168776371308, 'val_acc': 0.8376383763837638}\n",
      " \n",
      "|----------------------------------------------------------------------------------------|\n",
      "    *** Running (`Cora`, `SGC`, `node_classification_dw`, `node_classification_mw`)\n",
      "|----------------------------------------------------------------------------------------|\n",
      "Model Parameters: 92231\n"
     ]
    },
    {
     "name": "stderr",
     "output_type": "stream",
     "text": [
      "Epoch: 283, train_loss:  0.0358, val_acc:  0.8229:  57%|█████▋    | 283/500 [00:01<00:00, 281.11it/s]\n"
     ]
    },
    {
     "name": "stdout",
     "output_type": "stream",
     "text": [
      "Saving 184-th model to ./checkpoints/model.pt ...\n",
      "Loading model from ./checkpoints/model.pt ...\n",
      "{'test_acc': 0.8022151898734177, 'val_acc': 0.8302583025830258}\n",
      " \n",
      "|----------------------------------------------------------------------------------------|\n",
      "    *** Running (`Cora`, `SGC`, `node_classification_dw`, `node_classification_mw`)\n",
      "|----------------------------------------------------------------------------------------|\n",
      "Model Parameters: 92231\n"
     ]
    },
    {
     "name": "stderr",
     "output_type": "stream",
     "text": [
      "Epoch: 212, train_loss:  0.0613, val_acc:  0.8247:  42%|████▏     | 212/500 [00:00<00:00, 297.42it/s]\n"
     ]
    },
    {
     "name": "stdout",
     "output_type": "stream",
     "text": [
      "Saving 113-th model to ./checkpoints/model.pt ...\n",
      "Loading model from ./checkpoints/model.pt ...\n",
      "{'test_acc': 0.8090717299578059, 'val_acc': 0.8339483394833949}\n",
      "| Variant       | test_acc      | val_acc       |\n",
      "|---------------|---------------|---------------|\n",
      "| (Cora, 'SGC') | 0.8064±0.0030 | 0.8349±0.0022 |\n",
      "Namespace(actnn=False, checkpoint_path='./checkpoints/model.pt', cpu=False, cpu_inference=False, dataset=['Cora'], devices=[0], distributed=False, dw='node_classification_dw', epoch=500, epochs=500, eval_step=1, fp16=False, load_emb_path=None, local_rank=0, log_path='.', logger=None, lr=0.01, master_addr='localhost', master_port=13425, max_epoch=None, model=['APPNP'], mw='node_classification_mw', n_trials=3, n_warmup_steps=0, no_test=False, nstage=1, patience=100, progress_bar='epoch', project='cogdl-exp', resume_training=False, rp_ratio=1, save_emb_path=None, seed=[0, 1, 2, 3, 4, 5, 6, 7, 8, 9], split=[0], unsup=False, use_best_config=False, weight_decay=0)\n",
      " \n",
      "|------------------------------------------------------------------------------------------|\n",
      "    *** Running (`Cora`, `APPNP`, `node_classification_dw`, `node_classification_mw`)\n",
      "|------------------------------------------------------------------------------------------|\n",
      "Model Parameters: 92231\n"
     ]
    },
    {
     "name": "stderr",
     "output_type": "stream",
     "text": [
      "Epoch: 316, train_loss:  0.1792, val_acc:  0.8450:  63%|██████▎   | 316/500 [00:01<00:00, 258.44it/s]\n"
     ]
    },
    {
     "name": "stdout",
     "output_type": "stream",
     "text": [
      "Saving 217-th model to ./checkpoints/model.pt ...\n",
      "Loading model from ./checkpoints/model.pt ...\n",
      "{'test_acc': 0.8322784810126582, 'val_acc': 0.8487084870848709}\n",
      " \n",
      "|------------------------------------------------------------------------------------------|\n",
      "    *** Running (`Cora`, `APPNP`, `node_classification_dw`, `node_classification_mw`)\n",
      "|------------------------------------------------------------------------------------------|\n",
      "Model Parameters: 92231\n"
     ]
    },
    {
     "name": "stderr",
     "output_type": "stream",
     "text": [
      "Epoch: 260, train_loss:  0.2470, val_acc:  0.8432:  52%|█████▏    | 260/500 [00:01<00:00, 253.28it/s]\n"
     ]
    },
    {
     "name": "stdout",
     "output_type": "stream",
     "text": [
      "Saving 161-th model to ./checkpoints/model.pt ...\n",
      "Loading model from ./checkpoints/model.pt ...\n",
      "{'test_acc': 0.8296413502109705, 'val_acc': 0.8505535055350554}\n",
      " \n",
      "|------------------------------------------------------------------------------------------|\n",
      "    *** Running (`Cora`, `APPNP`, `node_classification_dw`, `node_classification_mw`)\n",
      "|------------------------------------------------------------------------------------------|\n",
      "Model Parameters: 92231\n"
     ]
    },
    {
     "name": "stderr",
     "output_type": "stream",
     "text": [
      "Epoch: 268, train_loss:  0.1989, val_acc:  0.8450:  54%|█████▎    | 268/500 [00:01<00:00, 246.12it/s]\n"
     ]
    },
    {
     "name": "stdout",
     "output_type": "stream",
     "text": [
      "Saving 169-th model to ./checkpoints/model.pt ...\n",
      "Loading model from ./checkpoints/model.pt ...\n",
      "{'test_acc': 0.8306962025316456, 'val_acc': 0.8542435424354243}\n",
      " \n",
      "|------------------------------------------------------------------------------------------|\n",
      "    *** Running (`Cora`, `APPNP`, `node_classification_dw`, `node_classification_mw`)\n",
      "|------------------------------------------------------------------------------------------|\n",
      "Model Parameters: 92231\n"
     ]
    },
    {
     "name": "stderr",
     "output_type": "stream",
     "text": [
      "Epoch: 223, train_loss:  0.2065, val_acc:  0.8469:  45%|████▍     | 223/500 [00:00<00:01, 253.96it/s]\n"
     ]
    },
    {
     "name": "stdout",
     "output_type": "stream",
     "text": [
      "Saving 124-th model to ./checkpoints/model.pt ...\n",
      "Loading model from ./checkpoints/model.pt ...\n",
      "{'test_acc': 0.8169831223628692, 'val_acc': 0.8487084870848709}\n",
      " \n",
      "|------------------------------------------------------------------------------------------|\n",
      "    *** Running (`Cora`, `APPNP`, `node_classification_dw`, `node_classification_mw`)\n",
      "|------------------------------------------------------------------------------------------|\n",
      "Model Parameters: 92231\n"
     ]
    },
    {
     "name": "stderr",
     "output_type": "stream",
     "text": [
      "Epoch: 500, train_loss:  0.1345, val_acc:  0.8542: 100%|██████████| 500/500 [00:01<00:00, 265.26it/s]\n"
     ]
    },
    {
     "name": "stdout",
     "output_type": "stream",
     "text": [
      "Saving 496-th model to ./checkpoints/model.pt ...\n",
      "Loading model from ./checkpoints/model.pt ...\n",
      "{'test_acc': 0.8222573839662447, 'val_acc': 0.8560885608856088}\n",
      " \n",
      "|------------------------------------------------------------------------------------------|\n",
      "    *** Running (`Cora`, `APPNP`, `node_classification_dw`, `node_classification_mw`)\n",
      "|------------------------------------------------------------------------------------------|\n",
      "Model Parameters: 92231\n"
     ]
    },
    {
     "name": "stderr",
     "output_type": "stream",
     "text": [
      "Epoch: 270, train_loss:  0.2268, val_acc:  0.8413:  54%|█████▍    | 270/500 [00:01<00:00, 254.32it/s]\n"
     ]
    },
    {
     "name": "stdout",
     "output_type": "stream",
     "text": [
      "Saving 171-th model to ./checkpoints/model.pt ...\n",
      "Loading model from ./checkpoints/model.pt ...\n",
      "{'test_acc': 0.8233122362869199, 'val_acc': 0.8505535055350554}\n",
      " \n",
      "|------------------------------------------------------------------------------------------|\n",
      "    *** Running (`Cora`, `APPNP`, `node_classification_dw`, `node_classification_mw`)\n",
      "|------------------------------------------------------------------------------------------|\n",
      "Model Parameters: 92231\n"
     ]
    },
    {
     "name": "stderr",
     "output_type": "stream",
     "text": [
      "Epoch: 276, train_loss:  0.2019, val_acc:  0.8284:  55%|█████▌    | 276/500 [00:01<00:00, 258.40it/s]\n"
     ]
    },
    {
     "name": "stdout",
     "output_type": "stream",
     "text": [
      "Saving 177-th model to ./checkpoints/model.pt ...\n",
      "Loading model from ./checkpoints/model.pt ...\n",
      "{'test_acc': 0.8338607594936709, 'val_acc': 0.8523985239852399}\n",
      " \n",
      "|------------------------------------------------------------------------------------------|\n",
      "    *** Running (`Cora`, `APPNP`, `node_classification_dw`, `node_classification_mw`)\n",
      "|------------------------------------------------------------------------------------------|\n",
      "Model Parameters: 92231\n"
     ]
    },
    {
     "name": "stderr",
     "output_type": "stream",
     "text": [
      "Epoch: 479, train_loss:  0.2366, val_acc:  0.8413:  96%|█████████▌| 479/500 [00:01<00:00, 250.28it/s]\n"
     ]
    },
    {
     "name": "stdout",
     "output_type": "stream",
     "text": [
      "Saving 380-th model to ./checkpoints/model.pt ...\n",
      "Loading model from ./checkpoints/model.pt ...\n",
      "{'test_acc': 0.8317510548523207, 'val_acc': 0.8542435424354243}\n",
      " \n",
      "|------------------------------------------------------------------------------------------|\n",
      "    *** Running (`Cora`, `APPNP`, `node_classification_dw`, `node_classification_mw`)\n",
      "|------------------------------------------------------------------------------------------|\n",
      "Model Parameters: 92231\n"
     ]
    },
    {
     "name": "stderr",
     "output_type": "stream",
     "text": [
      "Epoch: 500, train_loss:  0.2717, val_acc:  0.8579: 100%|██████████| 500/500 [00:02<00:00, 249.03it/s]\n"
     ]
    },
    {
     "name": "stdout",
     "output_type": "stream",
     "text": [
      "Saving 500-th model to ./checkpoints/model.pt ...\n",
      "Loading model from ./checkpoints/model.pt ...\n",
      "{'test_acc': 0.8328059071729957, 'val_acc': 0.8579335793357934}\n",
      " \n",
      "|------------------------------------------------------------------------------------------|\n",
      "    *** Running (`Cora`, `APPNP`, `node_classification_dw`, `node_classification_mw`)\n",
      "|------------------------------------------------------------------------------------------|\n",
      "Model Parameters: 92231\n"
     ]
    },
    {
     "name": "stderr",
     "output_type": "stream",
     "text": [
      "Epoch: 400, train_loss:  0.2111, val_acc:  0.8432:  80%|████████  | 400/500 [00:01<00:00, 246.84it/s]\n"
     ]
    },
    {
     "name": "stdout",
     "output_type": "stream",
     "text": [
      "Saving 301-th model to ./checkpoints/model.pt ...\n",
      "Loading model from ./checkpoints/model.pt ...\n",
      "{'test_acc': 0.8359704641350211, 'val_acc': 0.8505535055350554}\n",
      "| Variant         | test_acc      | val_acc       |\n",
      "|-----------------|---------------|---------------|\n",
      "| (Cora, 'APPNP') | 0.8290±0.0057 | 0.8524±0.0030 |\n",
      "Namespace(actnn=False, checkpoint_path='./checkpoints/model.pt', cpu=False, cpu_inference=False, dataset=['Cora'], devices=[0], distributed=False, dw='node_classification_dw', epoch=500, epochs=500, eval_step=1, fp16=False, load_emb_path=None, local_rank=0, log_path='.', logger=None, lr=0.01, master_addr='localhost', master_port=13425, max_epoch=None, model=['MLP'], mw='node_classification_mw', n_trials=3, n_warmup_steps=0, no_test=False, nstage=1, patience=100, progress_bar='epoch', project='cogdl-exp', resume_training=False, rp_ratio=1, save_emb_path=None, seed=[0, 1, 2, 3, 4, 5, 6, 7, 8, 9], split=[0], unsup=False, use_best_config=False, weight_decay=0)\n",
      " \n",
      "|----------------------------------------------------------------------------------------|\n",
      "    *** Running (`Cora`, `MLP`, `node_classification_dw`, `node_classification_mw`)\n",
      "|----------------------------------------------------------------------------------------|\n",
      "Model Parameters: 92231\n"
     ]
    },
    {
     "name": "stderr",
     "output_type": "stream",
     "text": [
      "Epoch: 187, train_loss:  0.0296, val_acc:  0.6661:  37%|███▋      | 187/500 [00:00<00:00, 314.78it/s]\n"
     ]
    },
    {
     "name": "stdout",
     "output_type": "stream",
     "text": [
      "Saving 88-th model to ./checkpoints/model.pt ...\n",
      "Loading model from ./checkpoints/model.pt ...\n",
      "{'test_acc': 0.6670769230769231, 'val_acc': 0.6752767527675276}\n",
      " \n",
      "|----------------------------------------------------------------------------------------|\n",
      "    *** Running (`Cora`, `MLP`, `node_classification_dw`, `node_classification_mw`)\n",
      "|----------------------------------------------------------------------------------------|\n",
      "Model Parameters: 92231\n"
     ]
    },
    {
     "name": "stderr",
     "output_type": "stream",
     "text": [
      "Epoch: 217, train_loss:  0.0237, val_acc:  0.6624:  43%|████▎     | 217/500 [00:00<00:00, 319.16it/s]\n"
     ]
    },
    {
     "name": "stdout",
     "output_type": "stream",
     "text": [
      "Saving 118-th model to ./checkpoints/model.pt ...\n",
      "Loading model from ./checkpoints/model.pt ...\n",
      "{'test_acc': 0.6670769230769231, 'val_acc': 0.6715867158671587}\n",
      " \n",
      "|----------------------------------------------------------------------------------------|\n",
      "    *** Running (`Cora`, `MLP`, `node_classification_dw`, `node_classification_mw`)\n",
      "|----------------------------------------------------------------------------------------|\n",
      "Model Parameters: 92231\n"
     ]
    },
    {
     "name": "stderr",
     "output_type": "stream",
     "text": [
      "Epoch: 196, train_loss:  0.0308, val_acc:  0.6587:  39%|███▉      | 196/500 [00:00<00:00, 320.97it/s]\n"
     ]
    },
    {
     "name": "stdout",
     "output_type": "stream",
     "text": [
      "Saving 97-th model to ./checkpoints/model.pt ...\n",
      "Loading model from ./checkpoints/model.pt ...\n",
      "{'test_acc': 0.6701538461538461, 'val_acc': 0.6734317343173432}\n",
      " \n",
      "|----------------------------------------------------------------------------------------|\n",
      "    *** Running (`Cora`, `MLP`, `node_classification_dw`, `node_classification_mw`)\n",
      "|----------------------------------------------------------------------------------------|\n",
      "Model Parameters: 92231\n"
     ]
    },
    {
     "name": "stderr",
     "output_type": "stream",
     "text": [
      "Epoch: 199, train_loss:  0.0231, val_acc:  0.6624:  40%|███▉      | 199/500 [00:00<00:00, 309.96it/s]\n"
     ]
    },
    {
     "name": "stdout",
     "output_type": "stream",
     "text": [
      "Saving 100-th model to ./checkpoints/model.pt ...\n",
      "Loading model from ./checkpoints/model.pt ...\n",
      "{'test_acc': 0.6695384615384615, 'val_acc': 0.6789667896678967}\n",
      " \n",
      "|----------------------------------------------------------------------------------------|\n",
      "    *** Running (`Cora`, `MLP`, `node_classification_dw`, `node_classification_mw`)\n",
      "|----------------------------------------------------------------------------------------|\n",
      "Model Parameters: 92231\n"
     ]
    },
    {
     "name": "stderr",
     "output_type": "stream",
     "text": [
      "Epoch: 189, train_loss:  0.0258, val_acc:  0.6697:  38%|███▊      | 189/500 [00:00<00:00, 312.79it/s]\n"
     ]
    },
    {
     "name": "stdout",
     "output_type": "stream",
     "text": [
      "Saving 90-th model to ./checkpoints/model.pt ...\n",
      "Loading model from ./checkpoints/model.pt ...\n",
      "{'test_acc': 0.6707692307692308, 'val_acc': 0.6734317343173432}\n",
      " \n",
      "|----------------------------------------------------------------------------------------|\n",
      "    *** Running (`Cora`, `MLP`, `node_classification_dw`, `node_classification_mw`)\n",
      "|----------------------------------------------------------------------------------------|\n",
      "Model Parameters: 92231\n"
     ]
    },
    {
     "name": "stderr",
     "output_type": "stream",
     "text": [
      "Epoch: 191, train_loss:  0.0235, val_acc:  0.6531:  38%|███▊      | 191/500 [00:00<00:00, 335.71it/s]\n"
     ]
    },
    {
     "name": "stdout",
     "output_type": "stream",
     "text": [
      "Saving 92-th model to ./checkpoints/model.pt ...\n",
      "Loading model from ./checkpoints/model.pt ...\n",
      "{'test_acc': 0.668923076923077, 'val_acc': 0.6678966789667896}\n",
      " \n",
      "|----------------------------------------------------------------------------------------|\n",
      "    *** Running (`Cora`, `MLP`, `node_classification_dw`, `node_classification_mw`)\n",
      "|----------------------------------------------------------------------------------------|\n",
      "Model Parameters: 92231\n"
     ]
    },
    {
     "name": "stderr",
     "output_type": "stream",
     "text": [
      "Epoch: 227, train_loss:  0.0197, val_acc:  0.6679:  45%|████▌     | 227/500 [00:00<00:00, 312.62it/s]\n"
     ]
    },
    {
     "name": "stdout",
     "output_type": "stream",
     "text": [
      "Saving 128-th model to ./checkpoints/model.pt ...\n",
      "Loading model from ./checkpoints/model.pt ...\n",
      "{'test_acc': 0.668923076923077, 'val_acc': 0.6752767527675276}\n",
      " \n",
      "|----------------------------------------------------------------------------------------|\n",
      "    *** Running (`Cora`, `MLP`, `node_classification_dw`, `node_classification_mw`)\n",
      "|----------------------------------------------------------------------------------------|\n",
      "Model Parameters: 92231\n"
     ]
    },
    {
     "name": "stderr",
     "output_type": "stream",
     "text": [
      "Epoch: 186, train_loss:  0.0275, val_acc:  0.6605:  37%|███▋      | 186/500 [00:00<00:01, 306.48it/s]\n"
     ]
    },
    {
     "name": "stdout",
     "output_type": "stream",
     "text": [
      "Saving 87-th model to ./checkpoints/model.pt ...\n",
      "Loading model from ./checkpoints/model.pt ...\n",
      "{'test_acc': 0.6744615384615384, 'val_acc': 0.6752767527675276}\n",
      " \n",
      "|----------------------------------------------------------------------------------------|\n",
      "    *** Running (`Cora`, `MLP`, `node_classification_dw`, `node_classification_mw`)\n",
      "|----------------------------------------------------------------------------------------|\n",
      "Model Parameters: 92231\n"
     ]
    },
    {
     "name": "stderr",
     "output_type": "stream",
     "text": [
      "Epoch: 200, train_loss:  0.0272, val_acc:  0.6550:  40%|████      | 200/500 [00:00<00:00, 309.10it/s]\n"
     ]
    },
    {
     "name": "stdout",
     "output_type": "stream",
     "text": [
      "Saving 101-th model to ./checkpoints/model.pt ...\n",
      "Loading model from ./checkpoints/model.pt ...\n",
      "{'test_acc': 0.6713846153846154, 'val_acc': 0.6734317343173432}\n",
      " \n",
      "|----------------------------------------------------------------------------------------|\n",
      "    *** Running (`Cora`, `MLP`, `node_classification_dw`, `node_classification_mw`)\n",
      "|----------------------------------------------------------------------------------------|\n",
      "Model Parameters: 92231\n"
     ]
    },
    {
     "name": "stderr",
     "output_type": "stream",
     "text": [
      "Epoch: 189, train_loss:  0.0238, val_acc:  0.6550:  38%|███▊      | 189/500 [00:00<00:00, 316.15it/s]\n"
     ]
    },
    {
     "name": "stdout",
     "output_type": "stream",
     "text": [
      "Saving 90-th model to ./checkpoints/model.pt ...\n",
      "Loading model from ./checkpoints/model.pt ...\n",
      "{'test_acc': 0.6664615384615384, 'val_acc': 0.6734317343173432}\n",
      "| Variant       | test_acc      | val_acc       |\n",
      "|---------------|---------------|---------------|\n",
      "| (Cora, 'MLP') | 0.6695±0.0023 | 0.6738±0.0027 |\n",
      "Namespace(actnn=False, checkpoint_path='./checkpoints/model.pt', cpu=False, cpu_inference=False, dataset=['Cora'], devices=[0], distributed=False, dw='node_classification_dw', epoch=500, epochs=500, eval_step=1, fp16=False, load_emb_path=None, local_rank=0, log_path='.', logger=None, lr=0.01, master_addr='localhost', master_port=13425, max_epoch=None, model=['GCN'], mw='node_classification_mw', n_trials=3, n_warmup_steps=0, no_test=False, nstage=1, patience=100, progress_bar='epoch', project='cogdl-exp', resume_training=False, rp_ratio=1, save_emb_path=None, seed=[0, 1, 2, 3, 4, 5, 6, 7, 8, 9], split=[0], unsup=False, use_best_config=False, weight_decay=0)\n",
      " \n",
      "|----------------------------------------------------------------------------------------|\n",
      "    *** Running (`Cora`, `GCN`, `node_classification_dw`, `node_classification_mw`)\n",
      "|----------------------------------------------------------------------------------------|\n",
      "Model Parameters: 92231\n"
     ]
    },
    {
     "name": "stderr",
     "output_type": "stream",
     "text": [
      "Epoch: 181, train_loss:  0.0300, val_acc:  0.8672:  36%|███▌      | 181/500 [00:00<00:01, 276.11it/s]\n"
     ]
    },
    {
     "name": "stdout",
     "output_type": "stream",
     "text": [
      "Saving 82-th model to ./checkpoints/model.pt ...\n",
      "Loading model from ./checkpoints/model.pt ...\n",
      "{'test_acc': 0.8430769230769231, 'val_acc': 0.8819188191881919}\n",
      " \n",
      "|----------------------------------------------------------------------------------------|\n",
      "    *** Running (`Cora`, `GCN`, `node_classification_dw`, `node_classification_mw`)\n",
      "|----------------------------------------------------------------------------------------|\n",
      "Model Parameters: 92231\n"
     ]
    },
    {
     "name": "stderr",
     "output_type": "stream",
     "text": [
      "Epoch: 199, train_loss:  0.0244, val_acc:  0.8672:  40%|███▉      | 199/500 [00:00<00:01, 273.54it/s]\n"
     ]
    },
    {
     "name": "stdout",
     "output_type": "stream",
     "text": [
      "Saving 100-th model to ./checkpoints/model.pt ...\n",
      "Loading model from ./checkpoints/model.pt ...\n",
      "{'test_acc': 0.8430769230769231, 'val_acc': 0.8819188191881919}\n",
      " \n",
      "|----------------------------------------------------------------------------------------|\n",
      "    *** Running (`Cora`, `GCN`, `node_classification_dw`, `node_classification_mw`)\n",
      "|----------------------------------------------------------------------------------------|\n",
      "Model Parameters: 92231\n"
     ]
    },
    {
     "name": "stderr",
     "output_type": "stream",
     "text": [
      "Epoch: 175, train_loss:  0.0308, val_acc:  0.8690:  35%|███▌      | 175/500 [00:00<00:01, 297.78it/s]\n"
     ]
    },
    {
     "name": "stdout",
     "output_type": "stream",
     "text": [
      "Saving 76-th model to ./checkpoints/model.pt ...\n",
      "Loading model from ./checkpoints/model.pt ...\n",
      "{'test_acc': 0.8461538461538461, 'val_acc': 0.8819188191881919}\n",
      " \n",
      "|----------------------------------------------------------------------------------------|\n",
      "    *** Running (`Cora`, `GCN`, `node_classification_dw`, `node_classification_mw`)\n",
      "|----------------------------------------------------------------------------------------|\n",
      "Model Parameters: 92231\n"
     ]
    },
    {
     "name": "stderr",
     "output_type": "stream",
     "text": [
      "Epoch: 181, train_loss:  0.0314, val_acc:  0.8727:  36%|███▌      | 181/500 [00:00<00:01, 280.23it/s]\n"
     ]
    },
    {
     "name": "stdout",
     "output_type": "stream",
     "text": [
      "Saving 82-th model to ./checkpoints/model.pt ...\n",
      "Loading model from ./checkpoints/model.pt ...\n",
      "{'test_acc': 0.8412307692307692, 'val_acc': 0.8819188191881919}\n",
      " \n",
      "|----------------------------------------------------------------------------------------|\n",
      "    *** Running (`Cora`, `GCN`, `node_classification_dw`, `node_classification_mw`)\n",
      "|----------------------------------------------------------------------------------------|\n",
      "Model Parameters: 92231\n"
     ]
    },
    {
     "name": "stderr",
     "output_type": "stream",
     "text": [
      "Epoch: 178, train_loss:  0.0272, val_acc:  0.8727:  36%|███▌      | 178/500 [00:00<00:01, 276.07it/s]\n"
     ]
    },
    {
     "name": "stdout",
     "output_type": "stream",
     "text": [
      "Saving 79-th model to ./checkpoints/model.pt ...\n",
      "Loading model from ./checkpoints/model.pt ...\n",
      "{'test_acc': 0.8461538461538461, 'val_acc': 0.8837638376383764}\n",
      " \n",
      "|----------------------------------------------------------------------------------------|\n",
      "    *** Running (`Cora`, `GCN`, `node_classification_dw`, `node_classification_mw`)\n",
      "|----------------------------------------------------------------------------------------|\n",
      "Model Parameters: 92231\n"
     ]
    },
    {
     "name": "stderr",
     "output_type": "stream",
     "text": [
      "Epoch: 154, train_loss:  0.0319, val_acc:  0.8708:  31%|███       | 154/500 [00:00<00:01, 275.67it/s]\n"
     ]
    },
    {
     "name": "stdout",
     "output_type": "stream",
     "text": [
      "Saving 55-th model to ./checkpoints/model.pt ...\n",
      "Loading model from ./checkpoints/model.pt ...\n",
      "{'test_acc': 0.8498461538461538, 'val_acc': 0.8800738007380073}\n",
      " \n",
      "|----------------------------------------------------------------------------------------|\n",
      "    *** Running (`Cora`, `GCN`, `node_classification_dw`, `node_classification_mw`)\n",
      "|----------------------------------------------------------------------------------------|\n",
      "Model Parameters: 92231\n"
     ]
    },
    {
     "name": "stderr",
     "output_type": "stream",
     "text": [
      "Epoch: 176, train_loss:  0.0324, val_acc:  0.8708:  35%|███▌      | 176/500 [00:00<00:01, 299.77it/s]\n"
     ]
    },
    {
     "name": "stdout",
     "output_type": "stream",
     "text": [
      "Saving 77-th model to ./checkpoints/model.pt ...\n",
      "Loading model from ./checkpoints/model.pt ...\n",
      "{'test_acc': 0.8467692307692307, 'val_acc': 0.8837638376383764}\n",
      " \n",
      "|----------------------------------------------------------------------------------------|\n",
      "    *** Running (`Cora`, `GCN`, `node_classification_dw`, `node_classification_mw`)\n",
      "|----------------------------------------------------------------------------------------|\n",
      "Model Parameters: 92231\n"
     ]
    },
    {
     "name": "stderr",
     "output_type": "stream",
     "text": [
      "Epoch: 167, train_loss:  0.0322, val_acc:  0.8653:  33%|███▎      | 167/500 [00:00<00:01, 329.58it/s]\n"
     ]
    },
    {
     "name": "stdout",
     "output_type": "stream",
     "text": [
      "Saving 68-th model to ./checkpoints/model.pt ...\n",
      "Loading model from ./checkpoints/model.pt ...\n",
      "{'test_acc': 0.8486153846153847, 'val_acc': 0.8819188191881919}\n",
      " \n",
      "|----------------------------------------------------------------------------------------|\n",
      "    *** Running (`Cora`, `GCN`, `node_classification_dw`, `node_classification_mw`)\n",
      "|----------------------------------------------------------------------------------------|\n",
      "Model Parameters: 92231\n"
     ]
    },
    {
     "name": "stderr",
     "output_type": "stream",
     "text": [
      "Epoch: 177, train_loss:  0.0292, val_acc:  0.8708:  35%|███▌      | 177/500 [00:00<00:00, 336.23it/s]\n"
     ]
    },
    {
     "name": "stdout",
     "output_type": "stream",
     "text": [
      "Saving 78-th model to ./checkpoints/model.pt ...\n",
      "Loading model from ./checkpoints/model.pt ...\n",
      "{'test_acc': 0.8412307692307692, 'val_acc': 0.8800738007380073}\n",
      " \n",
      "|----------------------------------------------------------------------------------------|\n",
      "    *** Running (`Cora`, `GCN`, `node_classification_dw`, `node_classification_mw`)\n",
      "|----------------------------------------------------------------------------------------|\n",
      "Model Parameters: 92231\n"
     ]
    },
    {
     "name": "stderr",
     "output_type": "stream",
     "text": [
      "Epoch: 165, train_loss:  0.0318, val_acc:  0.8690:  33%|███▎      | 165/500 [00:00<00:01, 328.12it/s]\n"
     ]
    },
    {
     "name": "stdout",
     "output_type": "stream",
     "text": [
      "Saving 66-th model to ./checkpoints/model.pt ...\n",
      "Loading model from ./checkpoints/model.pt ...\n",
      "{'test_acc': 0.848, 'val_acc': 0.8837638376383764}\n",
      "| Variant       | test_acc      | val_acc       |\n",
      "|---------------|---------------|---------------|\n",
      "| (Cora, 'GCN') | 0.8454±0.0029 | 0.8821±0.0013 |\n",
      "Namespace(actnn=False, checkpoint_path='./checkpoints/model.pt', cpu=False, cpu_inference=False, dataset=['Cora'], devices=[0], distributed=False, dw='node_classification_dw', epoch=500, epochs=500, eval_step=1, fp16=False, load_emb_path=None, local_rank=0, log_path='.', logger=None, lr=0.01, master_addr='localhost', master_port=13425, max_epoch=None, model=['SGC'], mw='node_classification_mw', n_trials=3, n_warmup_steps=0, no_test=False, nstage=1, patience=100, progress_bar='epoch', project='cogdl-exp', resume_training=False, rp_ratio=1, save_emb_path=None, seed=[0, 1, 2, 3, 4, 5, 6, 7, 8, 9], split=[0], unsup=False, use_best_config=False, weight_decay=0)\n",
      " \n",
      "|----------------------------------------------------------------------------------------|\n",
      "    *** Running (`Cora`, `SGC`, `node_classification_dw`, `node_classification_mw`)\n",
      "|----------------------------------------------------------------------------------------|\n",
      "Model Parameters: 92231\n"
     ]
    },
    {
     "name": "stderr",
     "output_type": "stream",
     "text": [
      "Epoch: 232, train_loss:  0.0738, val_acc:  0.8690:  46%|████▋     | 232/500 [00:00<00:00, 298.08it/s]\n"
     ]
    },
    {
     "name": "stdout",
     "output_type": "stream",
     "text": [
      "Saving 133-th model to ./checkpoints/model.pt ...\n",
      "Loading model from ./checkpoints/model.pt ...\n",
      "{'test_acc': 0.8504615384615385, 'val_acc': 0.8782287822878229}\n",
      " \n",
      "|----------------------------------------------------------------------------------------|\n",
      "    *** Running (`Cora`, `SGC`, `node_classification_dw`, `node_classification_mw`)\n",
      "|----------------------------------------------------------------------------------------|\n",
      "Model Parameters: 92231\n"
     ]
    },
    {
     "name": "stderr",
     "output_type": "stream",
     "text": [
      "Epoch: 204, train_loss:  0.0737, val_acc:  0.8653:  41%|████      | 204/500 [00:00<00:00, 303.20it/s]\n"
     ]
    },
    {
     "name": "stdout",
     "output_type": "stream",
     "text": [
      "Saving 105-th model to ./checkpoints/model.pt ...\n",
      "Loading model from ./checkpoints/model.pt ...\n",
      "{'test_acc': 0.8473846153846154, 'val_acc': 0.8782287822878229}\n",
      " \n",
      "|----------------------------------------------------------------------------------------|\n",
      "    *** Running (`Cora`, `SGC`, `node_classification_dw`, `node_classification_mw`)\n",
      "|----------------------------------------------------------------------------------------|\n",
      "Model Parameters: 92231\n"
     ]
    },
    {
     "name": "stderr",
     "output_type": "stream",
     "text": [
      "Epoch: 213, train_loss:  0.0795, val_acc:  0.8635:  43%|████▎     | 213/500 [00:00<00:01, 285.48it/s]\n"
     ]
    },
    {
     "name": "stdout",
     "output_type": "stream",
     "text": [
      "Saving 114-th model to ./checkpoints/model.pt ...\n",
      "Loading model from ./checkpoints/model.pt ...\n",
      "{'test_acc': 0.848, 'val_acc': 0.8763837638376384}\n",
      " \n",
      "|----------------------------------------------------------------------------------------|\n",
      "    *** Running (`Cora`, `SGC`, `node_classification_dw`, `node_classification_mw`)\n",
      "|----------------------------------------------------------------------------------------|\n",
      "Model Parameters: 92231\n"
     ]
    },
    {
     "name": "stderr",
     "output_type": "stream",
     "text": [
      "Epoch: 295, train_loss:  0.0509, val_acc:  0.8672:  59%|█████▉    | 295/500 [00:01<00:00, 288.93it/s]\n"
     ]
    },
    {
     "name": "stdout",
     "output_type": "stream",
     "text": [
      "Saving 196-th model to ./checkpoints/model.pt ...\n",
      "Loading model from ./checkpoints/model.pt ...\n",
      "{'test_acc': 0.8443076923076923, 'val_acc': 0.8745387453874539}\n",
      " \n",
      "|----------------------------------------------------------------------------------------|\n",
      "    *** Running (`Cora`, `SGC`, `node_classification_dw`, `node_classification_mw`)\n",
      "|----------------------------------------------------------------------------------------|\n",
      "Model Parameters: 92231\n"
     ]
    },
    {
     "name": "stderr",
     "output_type": "stream",
     "text": [
      "Epoch: 220, train_loss:  0.0661, val_acc:  0.8764:  44%|████▍     | 220/500 [00:00<00:00, 285.10it/s]\n"
     ]
    },
    {
     "name": "stdout",
     "output_type": "stream",
     "text": [
      "Saving 121-th model to ./checkpoints/model.pt ...\n",
      "Loading model from ./checkpoints/model.pt ...\n",
      "{'test_acc': 0.8498461538461538, 'val_acc': 0.8819188191881919}\n",
      " \n",
      "|----------------------------------------------------------------------------------------|\n",
      "    *** Running (`Cora`, `SGC`, `node_classification_dw`, `node_classification_mw`)\n",
      "|----------------------------------------------------------------------------------------|\n",
      "Model Parameters: 92231\n"
     ]
    },
    {
     "name": "stderr",
     "output_type": "stream",
     "text": [
      "Epoch: 332, train_loss:  0.0357, val_acc:  0.8690:  66%|██████▋   | 332/500 [00:01<00:00, 289.24it/s]\n"
     ]
    },
    {
     "name": "stdout",
     "output_type": "stream",
     "text": [
      "Saving 233-th model to ./checkpoints/model.pt ...\n",
      "Loading model from ./checkpoints/model.pt ...\n",
      "{'test_acc': 0.8473846153846154, 'val_acc': 0.8782287822878229}\n",
      " \n",
      "|----------------------------------------------------------------------------------------|\n",
      "    *** Running (`Cora`, `SGC`, `node_classification_dw`, `node_classification_mw`)\n",
      "|----------------------------------------------------------------------------------------|\n",
      "Model Parameters: 92231\n"
     ]
    },
    {
     "name": "stderr",
     "output_type": "stream",
     "text": [
      "Epoch: 287, train_loss:  0.0378, val_acc:  0.8690:  57%|█████▋    | 287/500 [00:00<00:00, 291.98it/s]\n"
     ]
    },
    {
     "name": "stdout",
     "output_type": "stream",
     "text": [
      "Saving 188-th model to ./checkpoints/model.pt ...\n",
      "Loading model from ./checkpoints/model.pt ...\n",
      "{'test_acc': 0.8498461538461538, 'val_acc': 0.8782287822878229}\n",
      " \n",
      "|----------------------------------------------------------------------------------------|\n",
      "    *** Running (`Cora`, `SGC`, `node_classification_dw`, `node_classification_mw`)\n",
      "|----------------------------------------------------------------------------------------|\n",
      "Model Parameters: 92231\n"
     ]
    },
    {
     "name": "stderr",
     "output_type": "stream",
     "text": [
      "Epoch: 369, train_loss:  0.0276, val_acc:  0.8690:  74%|███████▍  | 369/500 [00:01<00:00, 291.04it/s]\n"
     ]
    },
    {
     "name": "stdout",
     "output_type": "stream",
     "text": [
      "Saving 270-th model to ./checkpoints/model.pt ...\n",
      "Loading model from ./checkpoints/model.pt ...\n",
      "{'test_acc': 0.8436923076923077, 'val_acc': 0.8726937269372693}\n",
      " \n",
      "|----------------------------------------------------------------------------------------|\n",
      "    *** Running (`Cora`, `SGC`, `node_classification_dw`, `node_classification_mw`)\n",
      "|----------------------------------------------------------------------------------------|\n",
      "Model Parameters: 92231\n"
     ]
    },
    {
     "name": "stderr",
     "output_type": "stream",
     "text": [
      "Epoch: 215, train_loss:  0.0797, val_acc:  0.8708:  43%|████▎     | 215/500 [00:00<00:01, 282.14it/s]\n"
     ]
    },
    {
     "name": "stdout",
     "output_type": "stream",
     "text": [
      "Saving 116-th model to ./checkpoints/model.pt ...\n",
      "Loading model from ./checkpoints/model.pt ...\n",
      "{'test_acc': 0.8504615384615385, 'val_acc': 0.8800738007380073}\n",
      " \n",
      "|----------------------------------------------------------------------------------------|\n",
      "    *** Running (`Cora`, `SGC`, `node_classification_dw`, `node_classification_mw`)\n",
      "|----------------------------------------------------------------------------------------|\n",
      "Model Parameters: 92231\n"
     ]
    },
    {
     "name": "stderr",
     "output_type": "stream",
     "text": [
      "Epoch: 346, train_loss:  0.0396, val_acc:  0.8727:  69%|██████▉   | 346/500 [00:01<00:00, 293.51it/s]\n"
     ]
    },
    {
     "name": "stdout",
     "output_type": "stream",
     "text": [
      "Saving 247-th model to ./checkpoints/model.pt ...\n",
      "Loading model from ./checkpoints/model.pt ...\n",
      "{'test_acc': 0.8486153846153847, 'val_acc': 0.8763837638376384}\n",
      "| Variant       | test_acc      | val_acc       |\n",
      "|---------------|---------------|---------------|\n",
      "| (Cora, 'SGC') | 0.8480±0.0023 | 0.8775±0.0025 |\n",
      "Namespace(actnn=False, checkpoint_path='./checkpoints/model.pt', cpu=False, cpu_inference=False, dataset=['Cora'], devices=[0], distributed=False, dw='node_classification_dw', epoch=500, epochs=500, eval_step=1, fp16=False, load_emb_path=None, local_rank=0, log_path='.', logger=None, lr=0.01, master_addr='localhost', master_port=13425, max_epoch=None, model=['APPNP'], mw='node_classification_mw', n_trials=3, n_warmup_steps=0, no_test=False, nstage=1, patience=100, progress_bar='epoch', project='cogdl-exp', resume_training=False, rp_ratio=1, save_emb_path=None, seed=[0, 1, 2, 3, 4, 5, 6, 7, 8, 9], split=[0], unsup=False, use_best_config=False, weight_decay=0)\n",
      " \n",
      "|------------------------------------------------------------------------------------------|\n",
      "    *** Running (`Cora`, `APPNP`, `node_classification_dw`, `node_classification_mw`)\n",
      "|------------------------------------------------------------------------------------------|\n",
      "Model Parameters: 92231\n"
     ]
    },
    {
     "name": "stderr",
     "output_type": "stream",
     "text": [
      "Epoch: 238, train_loss:  0.3835, val_acc:  0.8764:  48%|████▊     | 238/500 [00:00<00:01, 259.51it/s]\n"
     ]
    },
    {
     "name": "stdout",
     "output_type": "stream",
     "text": [
      "Saving 139-th model to ./checkpoints/model.pt ...\n",
      "Loading model from ./checkpoints/model.pt ...\n",
      "{'test_acc': 0.8541538461538462, 'val_acc': 0.8837638376383764}\n",
      " \n",
      "|------------------------------------------------------------------------------------------|\n",
      "    *** Running (`Cora`, `APPNP`, `node_classification_dw`, `node_classification_mw`)\n",
      "|------------------------------------------------------------------------------------------|\n",
      "Model Parameters: 92231\n"
     ]
    },
    {
     "name": "stderr",
     "output_type": "stream",
     "text": [
      "Epoch: 245, train_loss:  0.3108, val_acc:  0.8672:  49%|████▉     | 245/500 [00:00<00:00, 263.92it/s]\n"
     ]
    },
    {
     "name": "stdout",
     "output_type": "stream",
     "text": [
      "Saving 146-th model to ./checkpoints/model.pt ...\n",
      "Loading model from ./checkpoints/model.pt ...\n",
      "{'test_acc': 0.8603076923076923, 'val_acc': 0.8837638376383764}\n",
      " \n",
      "|------------------------------------------------------------------------------------------|\n",
      "    *** Running (`Cora`, `APPNP`, `node_classification_dw`, `node_classification_mw`)\n",
      "|------------------------------------------------------------------------------------------|\n",
      "Model Parameters: 92231\n"
     ]
    },
    {
     "name": "stderr",
     "output_type": "stream",
     "text": [
      "Epoch: 252, train_loss:  0.3730, val_acc:  0.8782:  50%|█████     | 252/500 [00:01<00:00, 248.24it/s]\n"
     ]
    },
    {
     "name": "stdout",
     "output_type": "stream",
     "text": [
      "Saving 153-th model to ./checkpoints/model.pt ...\n",
      "Loading model from ./checkpoints/model.pt ...\n",
      "{'test_acc': 0.8646153846153846, 'val_acc': 0.8837638376383764}\n",
      " \n",
      "|------------------------------------------------------------------------------------------|\n",
      "    *** Running (`Cora`, `APPNP`, `node_classification_dw`, `node_classification_mw`)\n",
      "|------------------------------------------------------------------------------------------|\n",
      "Model Parameters: 92231\n"
     ]
    },
    {
     "name": "stderr",
     "output_type": "stream",
     "text": [
      "Epoch: 196, train_loss:  0.2614, val_acc:  0.8708:  39%|███▉      | 196/500 [00:00<00:01, 241.17it/s]\n"
     ]
    },
    {
     "name": "stdout",
     "output_type": "stream",
     "text": [
      "Saving 97-th model to ./checkpoints/model.pt ...\n",
      "Loading model from ./checkpoints/model.pt ...\n",
      "{'test_acc': 0.8541538461538462, 'val_acc': 0.8856088560885609}\n",
      " \n",
      "|------------------------------------------------------------------------------------------|\n",
      "    *** Running (`Cora`, `APPNP`, `node_classification_dw`, `node_classification_mw`)\n",
      "|------------------------------------------------------------------------------------------|\n",
      "Model Parameters: 92231\n"
     ]
    },
    {
     "name": "stderr",
     "output_type": "stream",
     "text": [
      "Epoch: 279, train_loss:  0.2822, val_acc:  0.8745:  56%|█████▌    | 279/500 [00:01<00:00, 250.90it/s]\n"
     ]
    },
    {
     "name": "stdout",
     "output_type": "stream",
     "text": [
      "Saving 180-th model to ./checkpoints/model.pt ...\n",
      "Loading model from ./checkpoints/model.pt ...\n",
      "{'test_acc': 0.8486153846153847, 'val_acc': 0.8819188191881919}\n",
      " \n",
      "|------------------------------------------------------------------------------------------|\n",
      "    *** Running (`Cora`, `APPNP`, `node_classification_dw`, `node_classification_mw`)\n",
      "|------------------------------------------------------------------------------------------|\n",
      "Model Parameters: 92231\n"
     ]
    },
    {
     "name": "stderr",
     "output_type": "stream",
     "text": [
      "Epoch: 238, train_loss:  0.3482, val_acc:  0.8856:  48%|████▊     | 238/500 [00:00<00:01, 245.95it/s]\n"
     ]
    },
    {
     "name": "stdout",
     "output_type": "stream",
     "text": [
      "Saving 139-th model to ./checkpoints/model.pt ...\n",
      "Loading model from ./checkpoints/model.pt ...\n",
      "{'test_acc': 0.8553846153846154, 'val_acc': 0.8874538745387454}\n",
      " \n",
      "|------------------------------------------------------------------------------------------|\n",
      "    *** Running (`Cora`, `APPNP`, `node_classification_dw`, `node_classification_mw`)\n",
      "|------------------------------------------------------------------------------------------|\n",
      "Model Parameters: 92231\n"
     ]
    },
    {
     "name": "stderr",
     "output_type": "stream",
     "text": [
      "Epoch: 364, train_loss:  0.3274, val_acc:  0.8782:  73%|███████▎  | 364/500 [00:01<00:00, 249.81it/s]\n"
     ]
    },
    {
     "name": "stdout",
     "output_type": "stream",
     "text": [
      "Saving 265-th model to ./checkpoints/model.pt ...\n",
      "Loading model from ./checkpoints/model.pt ...\n",
      "{'test_acc': 0.8547692307692307, 'val_acc': 0.8874538745387454}\n",
      " \n",
      "|------------------------------------------------------------------------------------------|\n",
      "    *** Running (`Cora`, `APPNP`, `node_classification_dw`, `node_classification_mw`)\n",
      "|------------------------------------------------------------------------------------------|\n",
      "Model Parameters: 92231\n"
     ]
    },
    {
     "name": "stderr",
     "output_type": "stream",
     "text": [
      "Epoch: 299, train_loss:  0.3532, val_acc:  0.8745:  60%|█████▉    | 299/500 [00:01<00:00, 269.08it/s]\n"
     ]
    },
    {
     "name": "stdout",
     "output_type": "stream",
     "text": [
      "Saving 200-th model to ./checkpoints/model.pt ...\n",
      "Loading model from ./checkpoints/model.pt ...\n",
      "{'test_acc': 0.8510769230769231, 'val_acc': 0.8800738007380073}\n",
      " \n",
      "|------------------------------------------------------------------------------------------|\n",
      "    *** Running (`Cora`, `APPNP`, `node_classification_dw`, `node_classification_mw`)\n",
      "|------------------------------------------------------------------------------------------|\n",
      "Model Parameters: 92231\n"
     ]
    },
    {
     "name": "stderr",
     "output_type": "stream",
     "text": [
      "Epoch: 357, train_loss:  0.3558, val_acc:  0.8727:  71%|███████▏  | 357/500 [00:01<00:00, 251.58it/s]\n"
     ]
    },
    {
     "name": "stdout",
     "output_type": "stream",
     "text": [
      "Saving 258-th model to ./checkpoints/model.pt ...\n",
      "Loading model from ./checkpoints/model.pt ...\n",
      "{'test_acc': 0.8498461538461538, 'val_acc': 0.8911439114391144}\n",
      " \n",
      "|------------------------------------------------------------------------------------------|\n",
      "    *** Running (`Cora`, `APPNP`, `node_classification_dw`, `node_classification_mw`)\n",
      "|------------------------------------------------------------------------------------------|\n",
      "Model Parameters: 92231\n"
     ]
    },
    {
     "name": "stderr",
     "output_type": "stream",
     "text": [
      "Epoch: 406, train_loss:  0.3775, val_acc:  0.8727:  81%|████████  | 406/500 [00:01<00:00, 250.13it/s]\n"
     ]
    },
    {
     "name": "stdout",
     "output_type": "stream",
     "text": [
      "Saving 307-th model to ./checkpoints/model.pt ...\n",
      "Loading model from ./checkpoints/model.pt ...\n",
      "{'test_acc': 0.8510769230769231, 'val_acc': 0.8874538745387454}\n",
      "| Variant         | test_acc      | val_acc       |\n",
      "|-----------------|---------------|---------------|\n",
      "| (Cora, 'APPNP') | 0.8544±0.0047 | 0.8852±0.0031 |\n",
      "Namespace(actnn=False, checkpoint_path='./checkpoints/model.pt', cpu=False, cpu_inference=False, dataset=['Cora'], devices=[0], distributed=False, dw='node_classification_dw', epoch=500, epochs=500, eval_step=1, fp16=False, load_emb_path=None, local_rank=0, log_path='.', logger=None, lr=0.01, master_addr='localhost', master_port=13425, max_epoch=None, model=['MLP'], mw='node_classification_mw', n_trials=3, n_warmup_steps=0, no_test=False, nstage=1, patience=100, progress_bar='epoch', project='cogdl-exp', resume_training=False, rp_ratio=1, save_emb_path=None, seed=[0, 1, 2, 3, 4, 5, 6, 7, 8, 9], split=[0], unsup=False, use_best_config=False, weight_decay=0)\n",
      " \n",
      "|----------------------------------------------------------------------------------------|\n",
      "    *** Running (`Cora`, `MLP`, `node_classification_dw`, `node_classification_mw`)\n",
      "|----------------------------------------------------------------------------------------|\n",
      "Model Parameters: 92231\n"
     ]
    },
    {
     "name": "stderr",
     "output_type": "stream",
     "text": [
      "Epoch: 334, train_loss:  0.0124, val_acc:  0.6624:  67%|██████▋   | 334/500 [00:01<00:00, 322.61it/s]\n"
     ]
    },
    {
     "name": "stdout",
     "output_type": "stream",
     "text": [
      "Saving 235-th model to ./checkpoints/model.pt ...\n",
      "Loading model from ./checkpoints/model.pt ...\n",
      "{'test_acc': 0.7016248153618907, 'val_acc': 0.6715867158671587}\n",
      " \n",
      "|----------------------------------------------------------------------------------------|\n",
      "    *** Running (`Cora`, `MLP`, `node_classification_dw`, `node_classification_mw`)\n",
      "|----------------------------------------------------------------------------------------|\n",
      "Model Parameters: 92231\n"
     ]
    },
    {
     "name": "stderr",
     "output_type": "stream",
     "text": [
      "Epoch: 357, train_loss:  0.0129, val_acc:  0.6679:  71%|███████▏  | 357/500 [00:01<00:00, 323.35it/s]\n"
     ]
    },
    {
     "name": "stdout",
     "output_type": "stream",
     "text": [
      "Saving 258-th model to ./checkpoints/model.pt ...\n",
      "Loading model from ./checkpoints/model.pt ...\n",
      "{'test_acc': 0.7060561299852289, 'val_acc': 0.6771217712177122}\n",
      " \n",
      "|----------------------------------------------------------------------------------------|\n",
      "    *** Running (`Cora`, `MLP`, `node_classification_dw`, `node_classification_mw`)\n",
      "|----------------------------------------------------------------------------------------|\n",
      "Model Parameters: 92231\n"
     ]
    },
    {
     "name": "stderr",
     "output_type": "stream",
     "text": [
      "Epoch: 255, train_loss:  0.0162, val_acc:  0.6697:  51%|█████     | 255/500 [00:00<00:00, 326.36it/s]\n"
     ]
    },
    {
     "name": "stdout",
     "output_type": "stream",
     "text": [
      "Saving 156-th model to ./checkpoints/model.pt ...\n",
      "Loading model from ./checkpoints/model.pt ...\n",
      "{'test_acc': 0.7016248153618907, 'val_acc': 0.6734317343173432}\n",
      " \n",
      "|----------------------------------------------------------------------------------------|\n",
      "    *** Running (`Cora`, `MLP`, `node_classification_dw`, `node_classification_mw`)\n",
      "|----------------------------------------------------------------------------------------|\n",
      "Model Parameters: 92231\n"
     ]
    },
    {
     "name": "stderr",
     "output_type": "stream",
     "text": [
      "Epoch: 167, train_loss:  0.0346, val_acc:  0.6679:  33%|███▎      | 167/500 [00:00<00:01, 315.62it/s]\n"
     ]
    },
    {
     "name": "stdout",
     "output_type": "stream",
     "text": [
      "Saving 68-th model to ./checkpoints/model.pt ...\n",
      "Loading model from ./checkpoints/model.pt ...\n",
      "{'test_acc': 0.6957163958641064, 'val_acc': 0.6734317343173432}\n",
      " \n",
      "|----------------------------------------------------------------------------------------|\n",
      "    *** Running (`Cora`, `MLP`, `node_classification_dw`, `node_classification_mw`)\n",
      "|----------------------------------------------------------------------------------------|\n",
      "Model Parameters: 92231\n"
     ]
    },
    {
     "name": "stderr",
     "output_type": "stream",
     "text": [
      "Epoch: 348, train_loss:  0.0101, val_acc:  0.6734:  70%|██████▉   | 348/500 [00:01<00:00, 322.92it/s]\n"
     ]
    },
    {
     "name": "stdout",
     "output_type": "stream",
     "text": [
      "Saving 249-th model to ./checkpoints/model.pt ...\n",
      "Loading model from ./checkpoints/model.pt ...\n",
      "{'test_acc': 0.6979320531757754, 'val_acc': 0.6826568265682657}\n",
      " \n",
      "|----------------------------------------------------------------------------------------|\n",
      "    *** Running (`Cora`, `MLP`, `node_classification_dw`, `node_classification_mw`)\n",
      "|----------------------------------------------------------------------------------------|\n",
      "Model Parameters: 92231\n"
     ]
    },
    {
     "name": "stderr",
     "output_type": "stream",
     "text": [
      "Epoch: 500, train_loss:  0.0066, val_acc:  0.6679: 100%|██████████| 500/500 [00:01<00:00, 319.42it/s]\n"
     ]
    },
    {
     "name": "stdout",
     "output_type": "stream",
     "text": [
      "Saving 477-th model to ./checkpoints/model.pt ...\n",
      "Loading model from ./checkpoints/model.pt ...\n",
      "{'test_acc': 0.6979320531757754, 'val_acc': 0.6789667896678967}\n",
      " \n",
      "|----------------------------------------------------------------------------------------|\n",
      "    *** Running (`Cora`, `MLP`, `node_classification_dw`, `node_classification_mw`)\n",
      "|----------------------------------------------------------------------------------------|\n",
      "Model Parameters: 92231\n"
     ]
    },
    {
     "name": "stderr",
     "output_type": "stream",
     "text": [
      "Epoch: 190, train_loss:  0.0302, val_acc:  0.6679:  38%|███▊      | 190/500 [00:00<00:00, 324.37it/s]\n"
     ]
    },
    {
     "name": "stdout",
     "output_type": "stream",
     "text": [
      "Saving 91-th model to ./checkpoints/model.pt ...\n",
      "Loading model from ./checkpoints/model.pt ...\n",
      "{'test_acc': 0.7031019202363368, 'val_acc': 0.6715867158671587}\n",
      " \n",
      "|----------------------------------------------------------------------------------------|\n",
      "    *** Running (`Cora`, `MLP`, `node_classification_dw`, `node_classification_mw`)\n",
      "|----------------------------------------------------------------------------------------|\n",
      "Model Parameters: 92231\n"
     ]
    },
    {
     "name": "stderr",
     "output_type": "stream",
     "text": [
      "Epoch: 363, train_loss:  0.0099, val_acc:  0.6624:  73%|███████▎  | 363/500 [00:01<00:00, 318.42it/s]\n"
     ]
    },
    {
     "name": "stdout",
     "output_type": "stream",
     "text": [
      "Saving 264-th model to ./checkpoints/model.pt ...\n",
      "Loading model from ./checkpoints/model.pt ...\n",
      "{'test_acc': 0.6986706056129985, 'val_acc': 0.6715867158671587}\n",
      " \n",
      "|----------------------------------------------------------------------------------------|\n",
      "    *** Running (`Cora`, `MLP`, `node_classification_dw`, `node_classification_mw`)\n",
      "|----------------------------------------------------------------------------------------|\n",
      "Model Parameters: 92231\n"
     ]
    },
    {
     "name": "stderr",
     "output_type": "stream",
     "text": [
      "Epoch: 341, train_loss:  0.0119, val_acc:  0.6697:  68%|██████▊   | 341/500 [00:00<00:00, 351.19it/s]\n"
     ]
    },
    {
     "name": "stdout",
     "output_type": "stream",
     "text": [
      "Saving 242-th model to ./checkpoints/model.pt ...\n",
      "Loading model from ./checkpoints/model.pt ...\n",
      "{'test_acc': 0.7001477104874446, 'val_acc': 0.6752767527675276}\n",
      " \n",
      "|----------------------------------------------------------------------------------------|\n",
      "    *** Running (`Cora`, `MLP`, `node_classification_dw`, `node_classification_mw`)\n",
      "|----------------------------------------------------------------------------------------|\n",
      "Model Parameters: 92231\n"
     ]
    },
    {
     "name": "stderr",
     "output_type": "stream",
     "text": [
      "Epoch: 241, train_loss:  0.0204, val_acc:  0.6624:  48%|████▊     | 241/500 [00:00<00:00, 334.78it/s]\n"
     ]
    },
    {
     "name": "stdout",
     "output_type": "stream",
     "text": [
      "Saving 142-th model to ./checkpoints/model.pt ...\n",
      "Loading model from ./checkpoints/model.pt ...\n",
      "{'test_acc': 0.7023633677991138, 'val_acc': 0.6752767527675276}\n",
      "| Variant       | test_acc      | val_acc       |\n",
      "|---------------|---------------|---------------|\n",
      "| (Cora, 'MLP') | 0.7005±0.0029 | 0.6751±0.0034 |\n",
      "Namespace(actnn=False, checkpoint_path='./checkpoints/model.pt', cpu=False, cpu_inference=False, dataset=['Cora'], devices=[0], distributed=False, dw='node_classification_dw', epoch=500, epochs=500, eval_step=1, fp16=False, load_emb_path=None, local_rank=0, log_path='.', logger=None, lr=0.01, master_addr='localhost', master_port=13425, max_epoch=None, model=['GCN'], mw='node_classification_mw', n_trials=3, n_warmup_steps=0, no_test=False, nstage=1, patience=100, progress_bar='epoch', project='cogdl-exp', resume_training=False, rp_ratio=1, save_emb_path=None, seed=[0, 1, 2, 3, 4, 5, 6, 7, 8, 9], split=[0], unsup=False, use_best_config=False, weight_decay=0)\n",
      " \n",
      "|----------------------------------------------------------------------------------------|\n",
      "    *** Running (`Cora`, `GCN`, `node_classification_dw`, `node_classification_mw`)\n",
      "|----------------------------------------------------------------------------------------|\n",
      "Model Parameters: 92231\n"
     ]
    },
    {
     "name": "stderr",
     "output_type": "stream",
     "text": [
      "Epoch: 181, train_loss:  0.0408, val_acc:  0.8487:  36%|███▌      | 181/500 [00:00<00:01, 283.06it/s]\n"
     ]
    },
    {
     "name": "stdout",
     "output_type": "stream",
     "text": [
      "Saving 82-th model to ./checkpoints/model.pt ...\n",
      "Loading model from ./checkpoints/model.pt ...\n",
      "{'test_acc': 0.8552437223042836, 'val_acc': 0.8653136531365314}\n",
      " \n",
      "|----------------------------------------------------------------------------------------|\n",
      "    *** Running (`Cora`, `GCN`, `node_classification_dw`, `node_classification_mw`)\n",
      "|----------------------------------------------------------------------------------------|\n",
      "Model Parameters: 92231\n"
     ]
    },
    {
     "name": "stderr",
     "output_type": "stream",
     "text": [
      "Epoch: 183, train_loss:  0.0401, val_acc:  0.8487:  37%|███▋      | 183/500 [00:00<00:01, 313.59it/s]\n"
     ]
    },
    {
     "name": "stdout",
     "output_type": "stream",
     "text": [
      "Saving 84-th model to ./checkpoints/model.pt ...\n",
      "Loading model from ./checkpoints/model.pt ...\n",
      "{'test_acc': 0.8530280649926145, 'val_acc': 0.8616236162361623}\n",
      " \n",
      "|----------------------------------------------------------------------------------------|\n",
      "    *** Running (`Cora`, `GCN`, `node_classification_dw`, `node_classification_mw`)\n",
      "|----------------------------------------------------------------------------------------|\n",
      "Model Parameters: 92231\n"
     ]
    },
    {
     "name": "stderr",
     "output_type": "stream",
     "text": [
      "Epoch: 183, train_loss:  0.0376, val_acc:  0.8487:  37%|███▋      | 183/500 [00:00<00:00, 326.33it/s]\n"
     ]
    },
    {
     "name": "stdout",
     "output_type": "stream",
     "text": [
      "Saving 84-th model to ./checkpoints/model.pt ...\n",
      "Loading model from ./checkpoints/model.pt ...\n",
      "{'test_acc': 0.8537666174298375, 'val_acc': 0.8616236162361623}\n",
      " \n",
      "|----------------------------------------------------------------------------------------|\n",
      "    *** Running (`Cora`, `GCN`, `node_classification_dw`, `node_classification_mw`)\n",
      "|----------------------------------------------------------------------------------------|\n",
      "Model Parameters: 92231\n"
     ]
    },
    {
     "name": "stderr",
     "output_type": "stream",
     "text": [
      "Epoch: 181, train_loss:  0.0435, val_acc:  0.8487:  36%|███▌      | 181/500 [00:00<00:01, 298.30it/s]\n"
     ]
    },
    {
     "name": "stdout",
     "output_type": "stream",
     "text": [
      "Saving 82-th model to ./checkpoints/model.pt ...\n",
      "Loading model from ./checkpoints/model.pt ...\n",
      "{'test_acc': 0.8530280649926145, 'val_acc': 0.8634686346863468}\n",
      " \n",
      "|----------------------------------------------------------------------------------------|\n",
      "    *** Running (`Cora`, `GCN`, `node_classification_dw`, `node_classification_mw`)\n",
      "|----------------------------------------------------------------------------------------|\n",
      "Model Parameters: 92231\n"
     ]
    },
    {
     "name": "stderr",
     "output_type": "stream",
     "text": [
      "Epoch: 184, train_loss:  0.0374, val_acc:  0.8506:  37%|███▋      | 184/500 [00:00<00:01, 310.40it/s]\n"
     ]
    },
    {
     "name": "stdout",
     "output_type": "stream",
     "text": [
      "Saving 85-th model to ./checkpoints/model.pt ...\n",
      "Loading model from ./checkpoints/model.pt ...\n",
      "{'test_acc': 0.8581979320531757, 'val_acc': 0.8616236162361623}\n",
      " \n",
      "|----------------------------------------------------------------------------------------|\n",
      "    *** Running (`Cora`, `GCN`, `node_classification_dw`, `node_classification_mw`)\n",
      "|----------------------------------------------------------------------------------------|\n",
      "Model Parameters: 92231\n"
     ]
    },
    {
     "name": "stderr",
     "output_type": "stream",
     "text": [
      "Epoch: 183, train_loss:  0.0450, val_acc:  0.8469:  37%|███▋      | 183/500 [00:00<00:01, 303.24it/s]\n"
     ]
    },
    {
     "name": "stdout",
     "output_type": "stream",
     "text": [
      "Saving 84-th model to ./checkpoints/model.pt ...\n",
      "Loading model from ./checkpoints/model.pt ...\n",
      "{'test_acc': 0.8567208271787297, 'val_acc': 0.8634686346863468}\n",
      " \n",
      "|----------------------------------------------------------------------------------------|\n",
      "    *** Running (`Cora`, `GCN`, `node_classification_dw`, `node_classification_mw`)\n",
      "|----------------------------------------------------------------------------------------|\n",
      "Model Parameters: 92231\n"
     ]
    },
    {
     "name": "stderr",
     "output_type": "stream",
     "text": [
      "Epoch: 179, train_loss:  0.0409, val_acc:  0.8487:  36%|███▌      | 179/500 [00:00<00:01, 290.92it/s]\n"
     ]
    },
    {
     "name": "stdout",
     "output_type": "stream",
     "text": [
      "Saving 80-th model to ./checkpoints/model.pt ...\n",
      "Loading model from ./checkpoints/model.pt ...\n",
      "{'test_acc': 0.8567208271787297, 'val_acc': 0.8634686346863468}\n",
      " \n",
      "|----------------------------------------------------------------------------------------|\n",
      "    *** Running (`Cora`, `GCN`, `node_classification_dw`, `node_classification_mw`)\n",
      "|----------------------------------------------------------------------------------------|\n",
      "Model Parameters: 92231\n"
     ]
    },
    {
     "name": "stderr",
     "output_type": "stream",
     "text": [
      "Epoch: 185, train_loss:  0.0387, val_acc:  0.8487:  37%|███▋      | 185/500 [00:00<00:01, 300.64it/s]\n"
     ]
    },
    {
     "name": "stdout",
     "output_type": "stream",
     "text": [
      "Saving 86-th model to ./checkpoints/model.pt ...\n",
      "Loading model from ./checkpoints/model.pt ...\n",
      "{'test_acc': 0.8567208271787297, 'val_acc': 0.8634686346863468}\n",
      " \n",
      "|----------------------------------------------------------------------------------------|\n",
      "    *** Running (`Cora`, `GCN`, `node_classification_dw`, `node_classification_mw`)\n",
      "|----------------------------------------------------------------------------------------|\n",
      "Model Parameters: 92231\n"
     ]
    },
    {
     "name": "stderr",
     "output_type": "stream",
     "text": [
      "Epoch: 181, train_loss:  0.0386, val_acc:  0.8413:  36%|███▌      | 181/500 [00:00<00:01, 286.88it/s]\n"
     ]
    },
    {
     "name": "stdout",
     "output_type": "stream",
     "text": [
      "Saving 82-th model to ./checkpoints/model.pt ...\n",
      "Loading model from ./checkpoints/model.pt ...\n",
      "{'test_acc': 0.8559822747415067, 'val_acc': 0.8616236162361623}\n",
      " \n",
      "|----------------------------------------------------------------------------------------|\n",
      "    *** Running (`Cora`, `GCN`, `node_classification_dw`, `node_classification_mw`)\n",
      "|----------------------------------------------------------------------------------------|\n",
      "Model Parameters: 92231\n"
     ]
    },
    {
     "name": "stderr",
     "output_type": "stream",
     "text": [
      "Epoch: 181, train_loss:  0.0395, val_acc:  0.8487:  36%|███▌      | 181/500 [00:00<00:01, 309.15it/s]\n"
     ]
    },
    {
     "name": "stdout",
     "output_type": "stream",
     "text": [
      "Saving 82-th model to ./checkpoints/model.pt ...\n",
      "Loading model from ./checkpoints/model.pt ...\n",
      "{'test_acc': 0.8559822747415067, 'val_acc': 0.8653136531365314}\n",
      "| Variant       | test_acc      | val_acc       |\n",
      "|---------------|---------------|---------------|\n",
      "| (Cora, 'GCN') | 0.8555±0.0017 | 0.8631±0.0014 |\n",
      "Namespace(actnn=False, checkpoint_path='./checkpoints/model.pt', cpu=False, cpu_inference=False, dataset=['Cora'], devices=[0], distributed=False, dw='node_classification_dw', epoch=500, epochs=500, eval_step=1, fp16=False, load_emb_path=None, local_rank=0, log_path='.', logger=None, lr=0.01, master_addr='localhost', master_port=13425, max_epoch=None, model=['SGC'], mw='node_classification_mw', n_trials=3, n_warmup_steps=0, no_test=False, nstage=1, patience=100, progress_bar='epoch', project='cogdl-exp', resume_training=False, rp_ratio=1, save_emb_path=None, seed=[0, 1, 2, 3, 4, 5, 6, 7, 8, 9], split=[0], unsup=False, use_best_config=False, weight_decay=0)\n",
      " \n",
      "|----------------------------------------------------------------------------------------|\n",
      "    *** Running (`Cora`, `SGC`, `node_classification_dw`, `node_classification_mw`)\n",
      "|----------------------------------------------------------------------------------------|\n",
      "Model Parameters: 92231\n"
     ]
    },
    {
     "name": "stderr",
     "output_type": "stream",
     "text": [
      "Epoch: 229, train_loss:  0.0815, val_acc:  0.8487:  46%|████▌     | 229/500 [00:00<00:00, 310.46it/s]\n"
     ]
    },
    {
     "name": "stdout",
     "output_type": "stream",
     "text": [
      "Saving 130-th model to ./checkpoints/model.pt ...\n",
      "Loading model from ./checkpoints/model.pt ...\n",
      "{'test_acc': 0.8574593796159528, 'val_acc': 0.8579335793357934}\n",
      " \n",
      "|----------------------------------------------------------------------------------------|\n",
      "    *** Running (`Cora`, `SGC`, `node_classification_dw`, `node_classification_mw`)\n",
      "|----------------------------------------------------------------------------------------|\n",
      "Model Parameters: 92231\n"
     ]
    },
    {
     "name": "stderr",
     "output_type": "stream",
     "text": [
      "Epoch: 218, train_loss:  0.0769, val_acc:  0.8487:  44%|████▎     | 218/500 [00:00<00:00, 313.02it/s]\n"
     ]
    },
    {
     "name": "stdout",
     "output_type": "stream",
     "text": [
      "Saving 119-th model to ./checkpoints/model.pt ...\n",
      "Loading model from ./checkpoints/model.pt ...\n",
      "{'test_acc': 0.8581979320531757, 'val_acc': 0.8616236162361623}\n",
      " \n",
      "|----------------------------------------------------------------------------------------|\n",
      "    *** Running (`Cora`, `SGC`, `node_classification_dw`, `node_classification_mw`)\n",
      "|----------------------------------------------------------------------------------------|\n",
      "Model Parameters: 92231\n"
     ]
    },
    {
     "name": "stderr",
     "output_type": "stream",
     "text": [
      "Epoch: 207, train_loss:  0.0961, val_acc:  0.8561:  41%|████▏     | 207/500 [00:00<00:00, 305.00it/s]\n"
     ]
    },
    {
     "name": "stdout",
     "output_type": "stream",
     "text": [
      "Saving 108-th model to ./checkpoints/model.pt ...\n",
      "Loading model from ./checkpoints/model.pt ...\n",
      "{'test_acc': 0.861890694239291, 'val_acc': 0.8597785977859779}\n",
      " \n",
      "|----------------------------------------------------------------------------------------|\n",
      "    *** Running (`Cora`, `SGC`, `node_classification_dw`, `node_classification_mw`)\n",
      "|----------------------------------------------------------------------------------------|\n",
      "Model Parameters: 92231\n"
     ]
    },
    {
     "name": "stderr",
     "output_type": "stream",
     "text": [
      "Epoch: 193, train_loss:  0.0985, val_acc:  0.8524:  39%|███▊      | 193/500 [00:00<00:01, 303.99it/s]\n"
     ]
    },
    {
     "name": "stdout",
     "output_type": "stream",
     "text": [
      "Saving 94-th model to ./checkpoints/model.pt ...\n",
      "Loading model from ./checkpoints/model.pt ...\n",
      "{'test_acc': 0.8589364844903988, 'val_acc': 0.8597785977859779}\n",
      " \n",
      "|----------------------------------------------------------------------------------------|\n",
      "    *** Running (`Cora`, `SGC`, `node_classification_dw`, `node_classification_mw`)\n",
      "|----------------------------------------------------------------------------------------|\n",
      "Model Parameters: 92231\n"
     ]
    },
    {
     "name": "stderr",
     "output_type": "stream",
     "text": [
      "Epoch: 220, train_loss:  0.0871, val_acc:  0.8524:  44%|████▍     | 220/500 [00:00<00:00, 313.85it/s]\n"
     ]
    },
    {
     "name": "stdout",
     "output_type": "stream",
     "text": [
      "Saving 121-th model to ./checkpoints/model.pt ...\n",
      "Loading model from ./checkpoints/model.pt ...\n",
      "{'test_acc': 0.8596750369276218, 'val_acc': 0.8634686346863468}\n",
      " \n",
      "|----------------------------------------------------------------------------------------|\n",
      "    *** Running (`Cora`, `SGC`, `node_classification_dw`, `node_classification_mw`)\n",
      "|----------------------------------------------------------------------------------------|\n",
      "Model Parameters: 92231\n"
     ]
    },
    {
     "name": "stderr",
     "output_type": "stream",
     "text": [
      "Epoch: 228, train_loss:  0.0857, val_acc:  0.8542:  46%|████▌     | 228/500 [00:00<00:00, 298.23it/s]\n"
     ]
    },
    {
     "name": "stdout",
     "output_type": "stream",
     "text": [
      "Saving 129-th model to ./checkpoints/model.pt ...\n",
      "Loading model from ./checkpoints/model.pt ...\n",
      "{'test_acc': 0.8559822747415067, 'val_acc': 0.8616236162361623}\n",
      " \n",
      "|----------------------------------------------------------------------------------------|\n",
      "    *** Running (`Cora`, `SGC`, `node_classification_dw`, `node_classification_mw`)\n",
      "|----------------------------------------------------------------------------------------|\n",
      "Model Parameters: 92231\n"
     ]
    },
    {
     "name": "stderr",
     "output_type": "stream",
     "text": [
      "Epoch: 209, train_loss:  0.0824, val_acc:  0.8487:  42%|████▏     | 209/500 [00:00<00:00, 302.58it/s]\n"
     ]
    },
    {
     "name": "stdout",
     "output_type": "stream",
     "text": [
      "Saving 110-th model to ./checkpoints/model.pt ...\n",
      "Loading model from ./checkpoints/model.pt ...\n",
      "{'test_acc': 0.8589364844903988, 'val_acc': 0.8579335793357934}\n",
      " \n",
      "|----------------------------------------------------------------------------------------|\n",
      "    *** Running (`Cora`, `SGC`, `node_classification_dw`, `node_classification_mw`)\n",
      "|----------------------------------------------------------------------------------------|\n",
      "Model Parameters: 92231\n"
     ]
    },
    {
     "name": "stderr",
     "output_type": "stream",
     "text": [
      "Epoch: 219, train_loss:  0.0776, val_acc:  0.8561:  44%|████▍     | 219/500 [00:00<00:00, 310.31it/s]\n"
     ]
    },
    {
     "name": "stdout",
     "output_type": "stream",
     "text": [
      "Saving 120-th model to ./checkpoints/model.pt ...\n",
      "Loading model from ./checkpoints/model.pt ...\n",
      "{'test_acc': 0.8545051698670606, 'val_acc': 0.8616236162361623}\n",
      " \n",
      "|----------------------------------------------------------------------------------------|\n",
      "    *** Running (`Cora`, `SGC`, `node_classification_dw`, `node_classification_mw`)\n",
      "|----------------------------------------------------------------------------------------|\n",
      "Model Parameters: 92231\n"
     ]
    },
    {
     "name": "stderr",
     "output_type": "stream",
     "text": [
      "Epoch: 214, train_loss:  0.0788, val_acc:  0.8524:  43%|████▎     | 214/500 [00:00<00:00, 306.94it/s]\n"
     ]
    },
    {
     "name": "stdout",
     "output_type": "stream",
     "text": [
      "Saving 115-th model to ./checkpoints/model.pt ...\n",
      "Loading model from ./checkpoints/model.pt ...\n",
      "{'test_acc': 0.8589364844903988, 'val_acc': 0.8616236162361623}\n",
      " \n",
      "|----------------------------------------------------------------------------------------|\n",
      "    *** Running (`Cora`, `SGC`, `node_classification_dw`, `node_classification_mw`)\n",
      "|----------------------------------------------------------------------------------------|\n",
      "Model Parameters: 92231\n"
     ]
    },
    {
     "name": "stderr",
     "output_type": "stream",
     "text": [
      "Epoch: 216, train_loss:  0.0938, val_acc:  0.8561:  43%|████▎     | 216/500 [00:00<00:00, 302.52it/s]\n"
     ]
    },
    {
     "name": "stdout",
     "output_type": "stream",
     "text": [
      "Saving 117-th model to ./checkpoints/model.pt ...\n",
      "Loading model from ./checkpoints/model.pt ...\n",
      "{'test_acc': 0.8581979320531757, 'val_acc': 0.8597785977859779}\n",
      "| Variant       | test_acc      | val_acc       |\n",
      "|---------------|---------------|---------------|\n",
      "| (Cora, 'SGC') | 0.8583±0.0019 | 0.8605±0.0017 |\n",
      "Namespace(actnn=False, checkpoint_path='./checkpoints/model.pt', cpu=False, cpu_inference=False, dataset=['Cora'], devices=[0], distributed=False, dw='node_classification_dw', epoch=500, epochs=500, eval_step=1, fp16=False, load_emb_path=None, local_rank=0, log_path='.', logger=None, lr=0.01, master_addr='localhost', master_port=13425, max_epoch=None, model=['APPNP'], mw='node_classification_mw', n_trials=3, n_warmup_steps=0, no_test=False, nstage=1, patience=100, progress_bar='epoch', project='cogdl-exp', resume_training=False, rp_ratio=1, save_emb_path=None, seed=[0, 1, 2, 3, 4, 5, 6, 7, 8, 9], split=[0], unsup=False, use_best_config=False, weight_decay=0)\n",
      " \n",
      "|------------------------------------------------------------------------------------------|\n",
      "    *** Running (`Cora`, `APPNP`, `node_classification_dw`, `node_classification_mw`)\n",
      "|------------------------------------------------------------------------------------------|\n",
      "Model Parameters: 92231\n"
     ]
    },
    {
     "name": "stderr",
     "output_type": "stream",
     "text": [
      "Epoch: 321, train_loss:  0.4481, val_acc:  0.8561:  64%|██████▍   | 321/500 [00:01<00:00, 271.38it/s]\n"
     ]
    },
    {
     "name": "stdout",
     "output_type": "stream",
     "text": [
      "Saving 222-th model to ./checkpoints/model.pt ...\n",
      "Loading model from ./checkpoints/model.pt ...\n",
      "{'test_acc': 0.8648449039881831, 'val_acc': 0.8708487084870848}\n",
      " \n",
      "|------------------------------------------------------------------------------------------|\n",
      "    *** Running (`Cora`, `APPNP`, `node_classification_dw`, `node_classification_mw`)\n",
      "|------------------------------------------------------------------------------------------|\n",
      "Model Parameters: 92231\n"
     ]
    },
    {
     "name": "stderr",
     "output_type": "stream",
     "text": [
      "Epoch: 243, train_loss:  0.5335, val_acc:  0.8542:  49%|████▊     | 243/500 [00:00<00:00, 292.36it/s]\n"
     ]
    },
    {
     "name": "stdout",
     "output_type": "stream",
     "text": [
      "Saving 144-th model to ./checkpoints/model.pt ...\n",
      "Loading model from ./checkpoints/model.pt ...\n",
      "{'test_acc': 0.8692762186115214, 'val_acc': 0.8690036900369004}\n",
      " \n",
      "|------------------------------------------------------------------------------------------|\n",
      "    *** Running (`Cora`, `APPNP`, `node_classification_dw`, `node_classification_mw`)\n",
      "|------------------------------------------------------------------------------------------|\n",
      "Model Parameters: 92231\n"
     ]
    },
    {
     "name": "stderr",
     "output_type": "stream",
     "text": [
      "Epoch: 356, train_loss:  0.5261, val_acc:  0.8579:  71%|███████   | 356/500 [00:01<00:00, 297.16it/s]\n"
     ]
    },
    {
     "name": "stdout",
     "output_type": "stream",
     "text": [
      "Saving 257-th model to ./checkpoints/model.pt ...\n",
      "Loading model from ./checkpoints/model.pt ...\n",
      "{'test_acc': 0.8655834564254062, 'val_acc': 0.8726937269372693}\n",
      " \n",
      "|------------------------------------------------------------------------------------------|\n",
      "    *** Running (`Cora`, `APPNP`, `node_classification_dw`, `node_classification_mw`)\n",
      "|------------------------------------------------------------------------------------------|\n",
      "Model Parameters: 92231\n"
     ]
    },
    {
     "name": "stderr",
     "output_type": "stream",
     "text": [
      "Epoch: 500, train_loss:  0.5938, val_acc:  0.8598: 100%|██████████| 500/500 [00:01<00:00, 298.74it/s]\n"
     ]
    },
    {
     "name": "stdout",
     "output_type": "stream",
     "text": [
      "Saving 416-th model to ./checkpoints/model.pt ...\n",
      "Loading model from ./checkpoints/model.pt ...\n",
      "{'test_acc': 0.8611521418020679, 'val_acc': 0.8708487084870848}\n",
      " \n",
      "|------------------------------------------------------------------------------------------|\n",
      "    *** Running (`Cora`, `APPNP`, `node_classification_dw`, `node_classification_mw`)\n",
      "|------------------------------------------------------------------------------------------|\n",
      "Model Parameters: 92231\n"
     ]
    },
    {
     "name": "stderr",
     "output_type": "stream",
     "text": [
      "Epoch: 315, train_loss:  0.4431, val_acc:  0.8542:  63%|██████▎   | 315/500 [00:01<00:00, 293.19it/s]\n"
     ]
    },
    {
     "name": "stdout",
     "output_type": "stream",
     "text": [
      "Saving 216-th model to ./checkpoints/model.pt ...\n",
      "Loading model from ./checkpoints/model.pt ...\n",
      "{'test_acc': 0.8707533234859675, 'val_acc': 0.8745387453874539}\n",
      " \n",
      "|------------------------------------------------------------------------------------------|\n",
      "    *** Running (`Cora`, `APPNP`, `node_classification_dw`, `node_classification_mw`)\n",
      "|------------------------------------------------------------------------------------------|\n",
      "Model Parameters: 92231\n"
     ]
    },
    {
     "name": "stderr",
     "output_type": "stream",
     "text": [
      "Epoch: 359, train_loss:  0.5199, val_acc:  0.8616:  72%|███████▏  | 359/500 [00:01<00:00, 283.01it/s]\n"
     ]
    },
    {
     "name": "stdout",
     "output_type": "stream",
     "text": [
      "Saving 260-th model to ./checkpoints/model.pt ...\n",
      "Loading model from ./checkpoints/model.pt ...\n",
      "{'test_acc': 0.8641063515509602, 'val_acc': 0.8671586715867159}\n",
      " \n",
      "|------------------------------------------------------------------------------------------|\n",
      "    *** Running (`Cora`, `APPNP`, `node_classification_dw`, `node_classification_mw`)\n",
      "|------------------------------------------------------------------------------------------|\n",
      "Model Parameters: 92231\n"
     ]
    },
    {
     "name": "stderr",
     "output_type": "stream",
     "text": [
      "Epoch: 252, train_loss:  0.4470, val_acc:  0.8579:  50%|█████     | 252/500 [00:00<00:00, 284.92it/s]\n"
     ]
    },
    {
     "name": "stdout",
     "output_type": "stream",
     "text": [
      "Saving 153-th model to ./checkpoints/model.pt ...\n",
      "Loading model from ./checkpoints/model.pt ...\n",
      "{'test_acc': 0.8648449039881831, 'val_acc': 0.8671586715867159}\n",
      " \n",
      "|------------------------------------------------------------------------------------------|\n",
      "    *** Running (`Cora`, `APPNP`, `node_classification_dw`, `node_classification_mw`)\n",
      "|------------------------------------------------------------------------------------------|\n",
      "Model Parameters: 92231\n"
     ]
    },
    {
     "name": "stderr",
     "output_type": "stream",
     "text": [
      "Epoch: 226, train_loss:  0.5247, val_acc:  0.8506:  45%|████▌     | 226/500 [00:00<00:00, 301.69it/s]\n"
     ]
    },
    {
     "name": "stdout",
     "output_type": "stream",
     "text": [
      "Saving 127-th model to ./checkpoints/model.pt ...\n",
      "Loading model from ./checkpoints/model.pt ...\n",
      "{'test_acc': 0.8641063515509602, 'val_acc': 0.8653136531365314}\n",
      " \n",
      "|------------------------------------------------------------------------------------------|\n",
      "    *** Running (`Cora`, `APPNP`, `node_classification_dw`, `node_classification_mw`)\n",
      "|------------------------------------------------------------------------------------------|\n",
      "Model Parameters: 92231\n"
     ]
    },
    {
     "name": "stderr",
     "output_type": "stream",
     "text": [
      "Epoch: 341, train_loss:  0.4761, val_acc:  0.8579:  68%|██████▊   | 341/500 [00:01<00:00, 311.13it/s]\n"
     ]
    },
    {
     "name": "stdout",
     "output_type": "stream",
     "text": [
      "Saving 242-th model to ./checkpoints/model.pt ...\n",
      "Loading model from ./checkpoints/model.pt ...\n",
      "{'test_acc': 0.8641063515509602, 'val_acc': 0.8653136531365314}\n",
      " \n",
      "|------------------------------------------------------------------------------------------|\n",
      "    *** Running (`Cora`, `APPNP`, `node_classification_dw`, `node_classification_mw`)\n",
      "|------------------------------------------------------------------------------------------|\n",
      "Model Parameters: 92231\n"
     ]
    },
    {
     "name": "stderr",
     "output_type": "stream",
     "text": [
      "Epoch: 500, train_loss:  0.6002, val_acc:  0.8635: 100%|██████████| 500/500 [00:01<00:00, 296.79it/s]\n"
     ]
    },
    {
     "name": "stdout",
     "output_type": "stream",
     "text": [
      "Saving 475-th model to ./checkpoints/model.pt ...\n",
      "Loading model from ./checkpoints/model.pt ...\n",
      "{'test_acc': 0.861890694239291, 'val_acc': 0.8671586715867159}\n",
      "| Variant         | test_acc      | val_acc       |\n",
      "|-----------------|---------------|---------------|\n",
      "| (Cora, 'APPNP') | 0.8651±0.0028 | 0.8690±0.0030 |\n",
      "Namespace(actnn=False, checkpoint_path='./checkpoints/model.pt', cpu=False, cpu_inference=False, dataset=['Cora'], devices=[0], distributed=False, dw='node_classification_dw', epoch=500, epochs=500, eval_step=1, fp16=False, load_emb_path=None, local_rank=0, log_path='.', logger=None, lr=0.01, master_addr='localhost', master_port=13425, max_epoch=None, model=['MLP'], mw='node_classification_mw', n_trials=3, n_warmup_steps=0, no_test=False, nstage=1, patience=100, progress_bar='epoch', project='cogdl-exp', resume_training=False, rp_ratio=1, save_emb_path=None, seed=[0, 1, 2, 3, 4, 5, 6, 7, 8, 9], split=[0], unsup=False, use_best_config=False, weight_decay=0)\n",
      " \n",
      "|----------------------------------------------------------------------------------------|\n",
      "    *** Running (`Cora`, `MLP`, `node_classification_dw`, `node_classification_mw`)\n",
      "|----------------------------------------------------------------------------------------|\n",
      "Model Parameters: 92231\n"
     ]
    },
    {
     "name": "stderr",
     "output_type": "stream",
     "text": [
      "Epoch: 259, train_loss:  0.0165, val_acc:  0.6987:  52%|█████▏    | 259/500 [00:00<00:00, 336.26it/s]\n"
     ]
    },
    {
     "name": "stdout",
     "output_type": "stream",
     "text": [
      "Saving 160-th model to ./checkpoints/model.pt ...\n",
      "Loading model from ./checkpoints/model.pt ...\n",
      "{'test_acc': 0.7260147601476015, 'val_acc': 0.7060998151571165}\n",
      " \n",
      "|----------------------------------------------------------------------------------------|\n",
      "    *** Running (`Cora`, `MLP`, `node_classification_dw`, `node_classification_mw`)\n",
      "|----------------------------------------------------------------------------------------|\n",
      "Model Parameters: 92231\n"
     ]
    },
    {
     "name": "stderr",
     "output_type": "stream",
     "text": [
      "Epoch: 171, train_loss:  0.0357, val_acc:  0.6913:  34%|███▍      | 171/500 [00:00<00:00, 334.12it/s]\n"
     ]
    },
    {
     "name": "stdout",
     "output_type": "stream",
     "text": [
      "Saving 72-th model to ./checkpoints/model.pt ...\n",
      "Loading model from ./checkpoints/model.pt ...\n",
      "{'test_acc': 0.735239852398524, 'val_acc': 0.711645101663586}\n",
      " \n",
      "|----------------------------------------------------------------------------------------|\n",
      "    *** Running (`Cora`, `MLP`, `node_classification_dw`, `node_classification_mw`)\n",
      "|----------------------------------------------------------------------------------------|\n",
      "Model Parameters: 92231\n"
     ]
    },
    {
     "name": "stderr",
     "output_type": "stream",
     "text": [
      "Epoch: 187, train_loss:  0.0370, val_acc:  0.7043:  37%|███▋      | 187/500 [00:00<00:00, 357.58it/s]\n"
     ]
    },
    {
     "name": "stdout",
     "output_type": "stream",
     "text": [
      "Saving 88-th model to ./checkpoints/model.pt ...\n",
      "Loading model from ./checkpoints/model.pt ...\n",
      "{'test_acc': 0.731549815498155, 'val_acc': 0.711645101663586}\n",
      " \n",
      "|----------------------------------------------------------------------------------------|\n",
      "    *** Running (`Cora`, `MLP`, `node_classification_dw`, `node_classification_mw`)\n",
      "|----------------------------------------------------------------------------------------|\n",
      "Model Parameters: 92231\n"
     ]
    },
    {
     "name": "stderr",
     "output_type": "stream",
     "text": [
      "Epoch: 172, train_loss:  0.0374, val_acc:  0.6950:  34%|███▍      | 172/500 [00:00<00:00, 340.15it/s]\n"
     ]
    },
    {
     "name": "stdout",
     "output_type": "stream",
     "text": [
      "Saving 73-th model to ./checkpoints/model.pt ...\n",
      "Loading model from ./checkpoints/model.pt ...\n",
      "{'test_acc': 0.735239852398524, 'val_acc': 0.7079482439926063}\n",
      " \n",
      "|----------------------------------------------------------------------------------------|\n",
      "    *** Running (`Cora`, `MLP`, `node_classification_dw`, `node_classification_mw`)\n",
      "|----------------------------------------------------------------------------------------|\n",
      "Model Parameters: 92231\n"
     ]
    },
    {
     "name": "stderr",
     "output_type": "stream",
     "text": [
      "Epoch: 196, train_loss:  0.0304, val_acc:  0.6932:  39%|███▉      | 196/500 [00:00<00:00, 357.61it/s]\n"
     ]
    },
    {
     "name": "stdout",
     "output_type": "stream",
     "text": [
      "Saving 97-th model to ./checkpoints/model.pt ...\n",
      "Loading model from ./checkpoints/model.pt ...\n",
      "{'test_acc': 0.731549815498155, 'val_acc': 0.7042513863216266}\n",
      " \n",
      "|----------------------------------------------------------------------------------------|\n",
      "    *** Running (`Cora`, `MLP`, `node_classification_dw`, `node_classification_mw`)\n",
      "|----------------------------------------------------------------------------------------|\n",
      "Model Parameters: 92231\n"
     ]
    },
    {
     "name": "stderr",
     "output_type": "stream",
     "text": [
      "Epoch: 213, train_loss:  0.0272, val_acc:  0.6969:  43%|████▎     | 213/500 [00:00<00:00, 365.76it/s]\n"
     ]
    },
    {
     "name": "stdout",
     "output_type": "stream",
     "text": [
      "Saving 114-th model to ./checkpoints/model.pt ...\n",
      "Loading model from ./checkpoints/model.pt ...\n",
      "{'test_acc': 0.7287822878228782, 'val_acc': 0.711645101663586}\n",
      " \n",
      "|----------------------------------------------------------------------------------------|\n",
      "    *** Running (`Cora`, `MLP`, `node_classification_dw`, `node_classification_mw`)\n",
      "|----------------------------------------------------------------------------------------|\n",
      "Model Parameters: 92231\n"
     ]
    },
    {
     "name": "stderr",
     "output_type": "stream",
     "text": [
      "Epoch: 272, train_loss:  0.0155, val_acc:  0.7098:  54%|█████▍    | 272/500 [00:00<00:00, 351.89it/s]\n"
     ]
    },
    {
     "name": "stdout",
     "output_type": "stream",
     "text": [
      "Saving 173-th model to ./checkpoints/model.pt ...\n",
      "Loading model from ./checkpoints/model.pt ...\n",
      "{'test_acc': 0.727859778597786, 'val_acc': 0.7134935304990758}\n",
      " \n",
      "|----------------------------------------------------------------------------------------|\n",
      "    *** Running (`Cora`, `MLP`, `node_classification_dw`, `node_classification_mw`)\n",
      "|----------------------------------------------------------------------------------------|\n",
      "Model Parameters: 92231\n"
     ]
    },
    {
     "name": "stderr",
     "output_type": "stream",
     "text": [
      "Epoch: 207, train_loss:  0.0274, val_acc:  0.7006:  41%|████▏     | 207/500 [00:00<00:00, 367.02it/s]\n"
     ]
    },
    {
     "name": "stdout",
     "output_type": "stream",
     "text": [
      "Saving 108-th model to ./checkpoints/model.pt ...\n",
      "Loading model from ./checkpoints/model.pt ...\n",
      "{'test_acc': 0.7260147601476015, 'val_acc': 0.7060998151571165}\n",
      " \n",
      "|----------------------------------------------------------------------------------------|\n",
      "    *** Running (`Cora`, `MLP`, `node_classification_dw`, `node_classification_mw`)\n",
      "|----------------------------------------------------------------------------------------|\n",
      "Model Parameters: 92231\n"
     ]
    },
    {
     "name": "stderr",
     "output_type": "stream",
     "text": [
      "Epoch: 333, train_loss:  0.0130, val_acc:  0.6932:  67%|██████▋   | 333/500 [00:00<00:00, 354.14it/s]\n"
     ]
    },
    {
     "name": "stdout",
     "output_type": "stream",
     "text": [
      "Saving 234-th model to ./checkpoints/model.pt ...\n",
      "Loading model from ./checkpoints/model.pt ...\n",
      "{'test_acc': 0.724169741697417, 'val_acc': 0.7079482439926063}\n",
      " \n",
      "|----------------------------------------------------------------------------------------|\n",
      "    *** Running (`Cora`, `MLP`, `node_classification_dw`, `node_classification_mw`)\n",
      "|----------------------------------------------------------------------------------------|\n",
      "Model Parameters: 92231\n"
     ]
    },
    {
     "name": "stderr",
     "output_type": "stream",
     "text": [
      "Epoch: 258, train_loss:  0.0176, val_acc:  0.7043:  52%|█████▏    | 258/500 [00:00<00:00, 369.41it/s]\n"
     ]
    },
    {
     "name": "stdout",
     "output_type": "stream",
     "text": [
      "Saving 159-th model to ./checkpoints/model.pt ...\n",
      "Loading model from ./checkpoints/model.pt ...\n",
      "{'test_acc': 0.7260147601476015, 'val_acc': 0.7134935304990758}\n",
      "| Variant       | test_acc      | val_acc       |\n",
      "|---------------|---------------|---------------|\n",
      "| (Cora, 'MLP') | 0.7292±0.0038 | 0.7094±0.0032 |\n",
      "Namespace(actnn=False, checkpoint_path='./checkpoints/model.pt', cpu=False, cpu_inference=False, dataset=['Cora'], devices=[0], distributed=False, dw='node_classification_dw', epoch=500, epochs=500, eval_step=1, fp16=False, load_emb_path=None, local_rank=0, log_path='.', logger=None, lr=0.01, master_addr='localhost', master_port=13425, max_epoch=None, model=['GCN'], mw='node_classification_mw', n_trials=3, n_warmup_steps=0, no_test=False, nstage=1, patience=100, progress_bar='epoch', project='cogdl-exp', resume_training=False, rp_ratio=1, save_emb_path=None, seed=[0, 1, 2, 3, 4, 5, 6, 7, 8, 9], split=[0], unsup=False, use_best_config=False, weight_decay=0)\n",
      " \n",
      "|----------------------------------------------------------------------------------------|\n",
      "    *** Running (`Cora`, `GCN`, `node_classification_dw`, `node_classification_mw`)\n",
      "|----------------------------------------------------------------------------------------|\n",
      "Model Parameters: 92231\n"
     ]
    },
    {
     "name": "stderr",
     "output_type": "stream",
     "text": [
      "Epoch: 171, train_loss:  0.0637, val_acc:  0.8410:  34%|███▍      | 171/500 [00:00<00:01, 299.55it/s]\n"
     ]
    },
    {
     "name": "stdout",
     "output_type": "stream",
     "text": [
      "Saving 72-th model to ./checkpoints/model.pt ...\n",
      "Loading model from ./checkpoints/model.pt ...\n",
      "{'test_acc': 0.8745387453874539, 'val_acc': 0.8539741219963032}\n",
      " \n",
      "|----------------------------------------------------------------------------------------|\n",
      "    *** Running (`Cora`, `GCN`, `node_classification_dw`, `node_classification_mw`)\n",
      "|----------------------------------------------------------------------------------------|\n",
      "Model Parameters: 92231\n"
     ]
    },
    {
     "name": "stderr",
     "output_type": "stream",
     "text": [
      "Epoch: 174, train_loss:  0.0608, val_acc:  0.8429:  35%|███▍      | 174/500 [00:00<00:01, 292.70it/s]\n"
     ]
    },
    {
     "name": "stdout",
     "output_type": "stream",
     "text": [
      "Saving 75-th model to ./checkpoints/model.pt ...\n",
      "Loading model from ./checkpoints/model.pt ...\n",
      "{'test_acc': 0.8745387453874539, 'val_acc': 0.8521256931608133}\n",
      " \n",
      "|----------------------------------------------------------------------------------------|\n",
      "    *** Running (`Cora`, `GCN`, `node_classification_dw`, `node_classification_mw`)\n",
      "|----------------------------------------------------------------------------------------|\n",
      "Model Parameters: 92231\n"
     ]
    },
    {
     "name": "stderr",
     "output_type": "stream",
     "text": [
      "Epoch: 163, train_loss:  0.0708, val_acc:  0.8429:  33%|███▎      | 163/500 [00:00<00:01, 298.95it/s]\n"
     ]
    },
    {
     "name": "stdout",
     "output_type": "stream",
     "text": [
      "Saving 64-th model to ./checkpoints/model.pt ...\n",
      "Loading model from ./checkpoints/model.pt ...\n",
      "{'test_acc': 0.8726937269372693, 'val_acc': 0.8521256931608133}\n",
      " \n",
      "|----------------------------------------------------------------------------------------|\n",
      "    *** Running (`Cora`, `GCN`, `node_classification_dw`, `node_classification_mw`)\n",
      "|----------------------------------------------------------------------------------------|\n",
      "Model Parameters: 92231\n"
     ]
    },
    {
     "name": "stderr",
     "output_type": "stream",
     "text": [
      "Epoch: 164, train_loss:  0.0679, val_acc:  0.8410:  33%|███▎      | 164/500 [00:00<00:01, 299.49it/s]\n"
     ]
    },
    {
     "name": "stdout",
     "output_type": "stream",
     "text": [
      "Saving 65-th model to ./checkpoints/model.pt ...\n",
      "Loading model from ./checkpoints/model.pt ...\n",
      "{'test_acc': 0.8736162361623616, 'val_acc': 0.8539741219963032}\n",
      " \n",
      "|----------------------------------------------------------------------------------------|\n",
      "    *** Running (`Cora`, `GCN`, `node_classification_dw`, `node_classification_mw`)\n",
      "|----------------------------------------------------------------------------------------|\n",
      "Model Parameters: 92231\n"
     ]
    },
    {
     "name": "stderr",
     "output_type": "stream",
     "text": [
      "Epoch: 165, train_loss:  0.0665, val_acc:  0.8429:  33%|███▎      | 165/500 [00:00<00:01, 296.67it/s]\n"
     ]
    },
    {
     "name": "stdout",
     "output_type": "stream",
     "text": [
      "Saving 66-th model to ./checkpoints/model.pt ...\n",
      "Loading model from ./checkpoints/model.pt ...\n",
      "{'test_acc': 0.8726937269372693, 'val_acc': 0.8539741219963032}\n",
      " \n",
      "|----------------------------------------------------------------------------------------|\n",
      "    *** Running (`Cora`, `GCN`, `node_classification_dw`, `node_classification_mw`)\n",
      "|----------------------------------------------------------------------------------------|\n",
      "Model Parameters: 92231\n"
     ]
    },
    {
     "name": "stderr",
     "output_type": "stream",
     "text": [
      "Epoch: 167, train_loss:  0.0610, val_acc:  0.8392:  33%|███▎      | 167/500 [00:00<00:01, 289.12it/s]\n"
     ]
    },
    {
     "name": "stdout",
     "output_type": "stream",
     "text": [
      "Saving 68-th model to ./checkpoints/model.pt ...\n",
      "Loading model from ./checkpoints/model.pt ...\n",
      "{'test_acc': 0.8736162361623616, 'val_acc': 0.8539741219963032}\n",
      " \n",
      "|----------------------------------------------------------------------------------------|\n",
      "    *** Running (`Cora`, `GCN`, `node_classification_dw`, `node_classification_mw`)\n",
      "|----------------------------------------------------------------------------------------|\n",
      "Model Parameters: 92231\n"
     ]
    },
    {
     "name": "stderr",
     "output_type": "stream",
     "text": [
      "Epoch: 172, train_loss:  0.0639, val_acc:  0.8429:  34%|███▍      | 172/500 [00:00<00:01, 303.68it/s]\n"
     ]
    },
    {
     "name": "stdout",
     "output_type": "stream",
     "text": [
      "Saving 73-th model to ./checkpoints/model.pt ...\n",
      "Loading model from ./checkpoints/model.pt ...\n",
      "{'test_acc': 0.8717712177121771, 'val_acc': 0.8539741219963032}\n",
      " \n",
      "|----------------------------------------------------------------------------------------|\n",
      "    *** Running (`Cora`, `GCN`, `node_classification_dw`, `node_classification_mw`)\n",
      "|----------------------------------------------------------------------------------------|\n",
      "Model Parameters: 92231\n"
     ]
    },
    {
     "name": "stderr",
     "output_type": "stream",
     "text": [
      "Epoch: 172, train_loss:  0.0680, val_acc:  0.8429:  34%|███▍      | 172/500 [00:00<00:01, 324.49it/s]\n"
     ]
    },
    {
     "name": "stdout",
     "output_type": "stream",
     "text": [
      "Saving 73-th model to ./checkpoints/model.pt ...\n",
      "Loading model from ./checkpoints/model.pt ...\n",
      "{'test_acc': 0.8726937269372693, 'val_acc': 0.8521256931608133}\n",
      " \n",
      "|----------------------------------------------------------------------------------------|\n",
      "    *** Running (`Cora`, `GCN`, `node_classification_dw`, `node_classification_mw`)\n",
      "|----------------------------------------------------------------------------------------|\n",
      "Model Parameters: 92231\n"
     ]
    },
    {
     "name": "stderr",
     "output_type": "stream",
     "text": [
      "Epoch: 176, train_loss:  0.0556, val_acc:  0.8429:  35%|███▌      | 176/500 [00:00<00:01, 303.35it/s]\n"
     ]
    },
    {
     "name": "stdout",
     "output_type": "stream",
     "text": [
      "Saving 77-th model to ./checkpoints/model.pt ...\n",
      "Loading model from ./checkpoints/model.pt ...\n",
      "{'test_acc': 0.8754612546125461, 'val_acc': 0.8521256931608133}\n",
      " \n",
      "|----------------------------------------------------------------------------------------|\n",
      "    *** Running (`Cora`, `GCN`, `node_classification_dw`, `node_classification_mw`)\n",
      "|----------------------------------------------------------------------------------------|\n",
      "Model Parameters: 92231\n"
     ]
    },
    {
     "name": "stderr",
     "output_type": "stream",
     "text": [
      "Epoch: 170, train_loss:  0.0653, val_acc:  0.8447:  34%|███▍      | 170/500 [00:00<00:01, 296.69it/s]\n"
     ]
    },
    {
     "name": "stdout",
     "output_type": "stream",
     "text": [
      "Saving 71-th model to ./checkpoints/model.pt ...\n",
      "Loading model from ./checkpoints/model.pt ...\n",
      "{'test_acc': 0.8717712177121771, 'val_acc': 0.8539741219963032}\n",
      "| Variant       | test_acc      | val_acc       |\n",
      "|---------------|---------------|---------------|\n",
      "| (Cora, 'GCN') | 0.8733±0.0012 | 0.8532±0.0009 |\n",
      "Namespace(actnn=False, checkpoint_path='./checkpoints/model.pt', cpu=False, cpu_inference=False, dataset=['Cora'], devices=[0], distributed=False, dw='node_classification_dw', epoch=500, epochs=500, eval_step=1, fp16=False, load_emb_path=None, local_rank=0, log_path='.', logger=None, lr=0.01, master_addr='localhost', master_port=13425, max_epoch=None, model=['SGC'], mw='node_classification_mw', n_trials=3, n_warmup_steps=0, no_test=False, nstage=1, patience=100, progress_bar='epoch', project='cogdl-exp', resume_training=False, rp_ratio=1, save_emb_path=None, seed=[0, 1, 2, 3, 4, 5, 6, 7, 8, 9], split=[0], unsup=False, use_best_config=False, weight_decay=0)\n",
      " \n",
      "|----------------------------------------------------------------------------------------|\n",
      "    *** Running (`Cora`, `SGC`, `node_classification_dw`, `node_classification_mw`)\n",
      "|----------------------------------------------------------------------------------------|\n",
      "Model Parameters: 92231\n"
     ]
    },
    {
     "name": "stderr",
     "output_type": "stream",
     "text": [
      "Epoch: 386, train_loss:  0.0441, val_acc:  0.8447:  77%|███████▋  | 386/500 [00:01<00:00, 311.01it/s]\n"
     ]
    },
    {
     "name": "stdout",
     "output_type": "stream",
     "text": [
      "Saving 287-th model to ./checkpoints/model.pt ...\n",
      "Loading model from ./checkpoints/model.pt ...\n",
      "{'test_acc': 0.8680811808118081, 'val_acc': 0.8539741219963032}\n",
      " \n",
      "|----------------------------------------------------------------------------------------|\n",
      "    *** Running (`Cora`, `SGC`, `node_classification_dw`, `node_classification_mw`)\n",
      "|----------------------------------------------------------------------------------------|\n",
      "Model Parameters: 92231\n"
     ]
    },
    {
     "name": "stderr",
     "output_type": "stream",
     "text": [
      "Epoch: 213, train_loss:  0.0920, val_acc:  0.8503:  43%|████▎     | 213/500 [00:00<00:00, 294.73it/s]\n"
     ]
    },
    {
     "name": "stdout",
     "output_type": "stream",
     "text": [
      "Saving 114-th model to ./checkpoints/model.pt ...\n",
      "Loading model from ./checkpoints/model.pt ...\n",
      "{'test_acc': 0.8708487084870848, 'val_acc': 0.8539741219963032}\n",
      " \n",
      "|----------------------------------------------------------------------------------------|\n",
      "    *** Running (`Cora`, `SGC`, `node_classification_dw`, `node_classification_mw`)\n",
      "|----------------------------------------------------------------------------------------|\n",
      "Model Parameters: 92231\n"
     ]
    },
    {
     "name": "stderr",
     "output_type": "stream",
     "text": [
      "Epoch: 214, train_loss:  0.1200, val_acc:  0.8503:  43%|████▎     | 214/500 [00:00<00:00, 294.15it/s]\n"
     ]
    },
    {
     "name": "stdout",
     "output_type": "stream",
     "text": [
      "Saving 115-th model to ./checkpoints/model.pt ...\n",
      "Loading model from ./checkpoints/model.pt ...\n",
      "{'test_acc': 0.8754612546125461, 'val_acc': 0.8558225508317929}\n",
      " \n",
      "|----------------------------------------------------------------------------------------|\n",
      "    *** Running (`Cora`, `SGC`, `node_classification_dw`, `node_classification_mw`)\n",
      "|----------------------------------------------------------------------------------------|\n",
      "Model Parameters: 92231\n"
     ]
    },
    {
     "name": "stderr",
     "output_type": "stream",
     "text": [
      "Epoch: 202, train_loss:  0.1123, val_acc:  0.8466:  40%|████      | 202/500 [00:00<00:00, 313.18it/s]\n"
     ]
    },
    {
     "name": "stdout",
     "output_type": "stream",
     "text": [
      "Saving 103-th model to ./checkpoints/model.pt ...\n",
      "Loading model from ./checkpoints/model.pt ...\n",
      "{'test_acc': 0.8754612546125461, 'val_acc': 0.8558225508317929}\n",
      " \n",
      "|----------------------------------------------------------------------------------------|\n",
      "    *** Running (`Cora`, `SGC`, `node_classification_dw`, `node_classification_mw`)\n",
      "|----------------------------------------------------------------------------------------|\n",
      "Model Parameters: 92231\n"
     ]
    },
    {
     "name": "stderr",
     "output_type": "stream",
     "text": [
      "Epoch: 380, train_loss:  0.0437, val_acc:  0.8484:  76%|███████▌  | 380/500 [00:01<00:00, 320.47it/s]\n"
     ]
    },
    {
     "name": "stdout",
     "output_type": "stream",
     "text": [
      "Saving 281-th model to ./checkpoints/model.pt ...\n",
      "Loading model from ./checkpoints/model.pt ...\n",
      "{'test_acc': 0.8662361623616236, 'val_acc': 0.8521256931608133}\n",
      " \n",
      "|----------------------------------------------------------------------------------------|\n",
      "    *** Running (`Cora`, `SGC`, `node_classification_dw`, `node_classification_mw`)\n",
      "|----------------------------------------------------------------------------------------|\n",
      "Model Parameters: 92231\n"
     ]
    },
    {
     "name": "stderr",
     "output_type": "stream",
     "text": [
      "Epoch: 282, train_loss:  0.0804, val_acc:  0.8503:  56%|█████▋    | 282/500 [00:00<00:00, 315.29it/s]\n"
     ]
    },
    {
     "name": "stdout",
     "output_type": "stream",
     "text": [
      "Saving 183-th model to ./checkpoints/model.pt ...\n",
      "Loading model from ./checkpoints/model.pt ...\n",
      "{'test_acc': 0.8680811808118081, 'val_acc': 0.8521256931608133}\n",
      " \n",
      "|----------------------------------------------------------------------------------------|\n",
      "    *** Running (`Cora`, `SGC`, `node_classification_dw`, `node_classification_mw`)\n",
      "|----------------------------------------------------------------------------------------|\n",
      "Model Parameters: 92231\n"
     ]
    },
    {
     "name": "stderr",
     "output_type": "stream",
     "text": [
      "Epoch: 212, train_loss:  0.1032, val_acc:  0.8484:  42%|████▏     | 212/500 [00:00<00:00, 311.37it/s]\n"
     ]
    },
    {
     "name": "stdout",
     "output_type": "stream",
     "text": [
      "Saving 113-th model to ./checkpoints/model.pt ...\n",
      "Loading model from ./checkpoints/model.pt ...\n",
      "{'test_acc': 0.8736162361623616, 'val_acc': 0.8539741219963032}\n",
      " \n",
      "|----------------------------------------------------------------------------------------|\n",
      "    *** Running (`Cora`, `SGC`, `node_classification_dw`, `node_classification_mw`)\n",
      "|----------------------------------------------------------------------------------------|\n",
      "Model Parameters: 92231\n"
     ]
    },
    {
     "name": "stderr",
     "output_type": "stream",
     "text": [
      "Epoch: 288, train_loss:  0.0582, val_acc:  0.8484:  58%|█████▊    | 288/500 [00:00<00:00, 310.47it/s]\n"
     ]
    },
    {
     "name": "stdout",
     "output_type": "stream",
     "text": [
      "Saving 189-th model to ./checkpoints/model.pt ...\n",
      "Loading model from ./checkpoints/model.pt ...\n",
      "{'test_acc': 0.8634686346863468, 'val_acc': 0.8539741219963032}\n",
      " \n",
      "|----------------------------------------------------------------------------------------|\n",
      "    *** Running (`Cora`, `SGC`, `node_classification_dw`, `node_classification_mw`)\n",
      "|----------------------------------------------------------------------------------------|\n",
      "Model Parameters: 92231\n"
     ]
    },
    {
     "name": "stderr",
     "output_type": "stream",
     "text": [
      "Epoch: 336, train_loss:  0.0629, val_acc:  0.8447:  67%|██████▋   | 336/500 [00:01<00:00, 299.98it/s]\n"
     ]
    },
    {
     "name": "stdout",
     "output_type": "stream",
     "text": [
      "Saving 237-th model to ./checkpoints/model.pt ...\n",
      "Loading model from ./checkpoints/model.pt ...\n",
      "{'test_acc': 0.8616236162361623, 'val_acc': 0.8521256931608133}\n",
      " \n",
      "|----------------------------------------------------------------------------------------|\n",
      "    *** Running (`Cora`, `SGC`, `node_classification_dw`, `node_classification_mw`)\n",
      "|----------------------------------------------------------------------------------------|\n",
      "Model Parameters: 92231\n"
     ]
    },
    {
     "name": "stderr",
     "output_type": "stream",
     "text": [
      "Epoch: 332, train_loss:  0.0596, val_acc:  0.8484:  66%|██████▋   | 332/500 [00:01<00:00, 302.31it/s]\n"
     ]
    },
    {
     "name": "stdout",
     "output_type": "stream",
     "text": [
      "Saving 233-th model to ./checkpoints/model.pt ...\n",
      "Loading model from ./checkpoints/model.pt ...\n",
      "{'test_acc': 0.8634686346863468, 'val_acc': 0.8558225508317929}\n",
      "| Variant       | test_acc      | val_acc       |\n",
      "|---------------|---------------|---------------|\n",
      "| (Cora, 'SGC') | 0.8686±0.0048 | 0.8540±0.0014 |\n",
      "Namespace(actnn=False, checkpoint_path='./checkpoints/model.pt', cpu=False, cpu_inference=False, dataset=['Cora'], devices=[0], distributed=False, dw='node_classification_dw', epoch=500, epochs=500, eval_step=1, fp16=False, load_emb_path=None, local_rank=0, log_path='.', logger=None, lr=0.01, master_addr='localhost', master_port=13425, max_epoch=None, model=['APPNP'], mw='node_classification_mw', n_trials=3, n_warmup_steps=0, no_test=False, nstage=1, patience=100, progress_bar='epoch', project='cogdl-exp', resume_training=False, rp_ratio=1, save_emb_path=None, seed=[0, 1, 2, 3, 4, 5, 6, 7, 8, 9], split=[0], unsup=False, use_best_config=False, weight_decay=0)\n",
      " \n",
      "|------------------------------------------------------------------------------------------|\n",
      "    *** Running (`Cora`, `APPNP`, `node_classification_dw`, `node_classification_mw`)\n",
      "|------------------------------------------------------------------------------------------|\n",
      "Model Parameters: 92231\n"
     ]
    },
    {
     "name": "stderr",
     "output_type": "stream",
     "text": [
      "Epoch: 267, train_loss:  0.5942, val_acc:  0.8595:  53%|█████▎    | 267/500 [00:01<00:00, 252.71it/s]\n"
     ]
    },
    {
     "name": "stdout",
     "output_type": "stream",
     "text": [
      "Saving 168-th model to ./checkpoints/model.pt ...\n",
      "Loading model from ./checkpoints/model.pt ...\n",
      "{'test_acc': 0.8726937269372693, 'val_acc': 0.866913123844732}\n",
      " \n",
      "|------------------------------------------------------------------------------------------|\n",
      "    *** Running (`Cora`, `APPNP`, `node_classification_dw`, `node_classification_mw`)\n",
      "|------------------------------------------------------------------------------------------|\n",
      "Model Parameters: 92231\n"
     ]
    },
    {
     "name": "stderr",
     "output_type": "stream",
     "text": [
      "Epoch: 334, train_loss:  0.6017, val_acc:  0.8595:  67%|██████▋   | 334/500 [00:01<00:00, 260.74it/s]\n"
     ]
    },
    {
     "name": "stdout",
     "output_type": "stream",
     "text": [
      "Saving 235-th model to ./checkpoints/model.pt ...\n",
      "Loading model from ./checkpoints/model.pt ...\n",
      "{'test_acc': 0.8699261992619927, 'val_acc': 0.8724584103512015}\n",
      " \n",
      "|------------------------------------------------------------------------------------------|\n",
      "    *** Running (`Cora`, `APPNP`, `node_classification_dw`, `node_classification_mw`)\n",
      "|------------------------------------------------------------------------------------------|\n",
      "Model Parameters: 92231\n"
     ]
    },
    {
     "name": "stderr",
     "output_type": "stream",
     "text": [
      "Epoch: 354, train_loss:  0.6455, val_acc:  0.8669:  71%|███████   | 354/500 [00:01<00:00, 261.27it/s]\n"
     ]
    },
    {
     "name": "stdout",
     "output_type": "stream",
     "text": [
      "Saving 255-th model to ./checkpoints/model.pt ...\n",
      "Loading model from ./checkpoints/model.pt ...\n",
      "{'test_acc': 0.8782287822878229, 'val_acc': 0.8724584103512015}\n",
      " \n",
      "|------------------------------------------------------------------------------------------|\n",
      "    *** Running (`Cora`, `APPNP`, `node_classification_dw`, `node_classification_mw`)\n",
      "|------------------------------------------------------------------------------------------|\n",
      "Model Parameters: 92231\n"
     ]
    },
    {
     "name": "stderr",
     "output_type": "stream",
     "text": [
      "Epoch: 285, train_loss:  0.4187, val_acc:  0.8521:  57%|█████▋    | 285/500 [00:01<00:00, 248.72it/s]\n"
     ]
    },
    {
     "name": "stdout",
     "output_type": "stream",
     "text": [
      "Saving 186-th model to ./checkpoints/model.pt ...\n",
      "Loading model from ./checkpoints/model.pt ...\n",
      "{'test_acc': 0.8745387453874539, 'val_acc': 0.8743068391866913}\n",
      " \n",
      "|------------------------------------------------------------------------------------------|\n",
      "    *** Running (`Cora`, `APPNP`, `node_classification_dw`, `node_classification_mw`)\n",
      "|------------------------------------------------------------------------------------------|\n",
      "Model Parameters: 92231\n"
     ]
    },
    {
     "name": "stderr",
     "output_type": "stream",
     "text": [
      "Epoch: 375, train_loss:  0.5866, val_acc:  0.8632:  75%|███████▌  | 375/500 [00:01<00:00, 243.74it/s]\n"
     ]
    },
    {
     "name": "stdout",
     "output_type": "stream",
     "text": [
      "Saving 276-th model to ./checkpoints/model.pt ...\n",
      "Loading model from ./checkpoints/model.pt ...\n",
      "{'test_acc': 0.8726937269372693, 'val_acc': 0.8687615526802218}\n",
      " \n",
      "|------------------------------------------------------------------------------------------|\n",
      "    *** Running (`Cora`, `APPNP`, `node_classification_dw`, `node_classification_mw`)\n",
      "|------------------------------------------------------------------------------------------|\n",
      "Model Parameters: 92231\n"
     ]
    },
    {
     "name": "stderr",
     "output_type": "stream",
     "text": [
      "Epoch: 410, train_loss:  0.5130, val_acc:  0.8614:  82%|████████▏ | 410/500 [00:01<00:00, 267.86it/s]\n"
     ]
    },
    {
     "name": "stdout",
     "output_type": "stream",
     "text": [
      "Saving 311-th model to ./checkpoints/model.pt ...\n",
      "Loading model from ./checkpoints/model.pt ...\n",
      "{'test_acc': 0.8662361623616236, 'val_acc': 0.8687615526802218}\n",
      " \n",
      "|------------------------------------------------------------------------------------------|\n",
      "    *** Running (`Cora`, `APPNP`, `node_classification_dw`, `node_classification_mw`)\n",
      "|------------------------------------------------------------------------------------------|\n",
      "Model Parameters: 92231\n"
     ]
    },
    {
     "name": "stderr",
     "output_type": "stream",
     "text": [
      "Epoch: 361, train_loss:  0.5783, val_acc:  0.8540:  72%|███████▏  | 361/500 [00:01<00:00, 290.73it/s]\n"
     ]
    },
    {
     "name": "stdout",
     "output_type": "stream",
     "text": [
      "Saving 262-th model to ./checkpoints/model.pt ...\n",
      "Loading model from ./checkpoints/model.pt ...\n",
      "{'test_acc': 0.8717712177121771, 'val_acc': 0.8687615526802218}\n",
      " \n",
      "|------------------------------------------------------------------------------------------|\n",
      "    *** Running (`Cora`, `APPNP`, `node_classification_dw`, `node_classification_mw`)\n",
      "|------------------------------------------------------------------------------------------|\n",
      "Model Parameters: 92231\n"
     ]
    },
    {
     "name": "stderr",
     "output_type": "stream",
     "text": [
      "Epoch: 370, train_loss:  0.5251, val_acc:  0.8577:  74%|███████▍  | 370/500 [00:01<00:00, 294.13it/s]\n"
     ]
    },
    {
     "name": "stdout",
     "output_type": "stream",
     "text": [
      "Saving 271-th model to ./checkpoints/model.pt ...\n",
      "Loading model from ./checkpoints/model.pt ...\n",
      "{'test_acc': 0.8708487084870848, 'val_acc': 0.8706099815157117}\n",
      " \n",
      "|------------------------------------------------------------------------------------------|\n",
      "    *** Running (`Cora`, `APPNP`, `node_classification_dw`, `node_classification_mw`)\n",
      "|------------------------------------------------------------------------------------------|\n",
      "Model Parameters: 92231\n"
     ]
    },
    {
     "name": "stderr",
     "output_type": "stream",
     "text": [
      "Epoch: 368, train_loss:  0.6221, val_acc:  0.8540:  74%|███████▎  | 368/500 [00:01<00:00, 294.99it/s]\n"
     ]
    },
    {
     "name": "stdout",
     "output_type": "stream",
     "text": [
      "Saving 269-th model to ./checkpoints/model.pt ...\n",
      "Loading model from ./checkpoints/model.pt ...\n",
      "{'test_acc': 0.8717712177121771, 'val_acc': 0.8724584103512015}\n",
      " \n",
      "|------------------------------------------------------------------------------------------|\n",
      "    *** Running (`Cora`, `APPNP`, `node_classification_dw`, `node_classification_mw`)\n",
      "|------------------------------------------------------------------------------------------|\n",
      "Model Parameters: 92231\n"
     ]
    },
    {
     "name": "stderr",
     "output_type": "stream",
     "text": [
      "Epoch: 306, train_loss:  0.5097, val_acc:  0.8595:  61%|██████    | 306/500 [00:01<00:00, 264.58it/s]\n"
     ]
    },
    {
     "name": "stdout",
     "output_type": "stream",
     "text": [
      "Saving 207-th model to ./checkpoints/model.pt ...\n",
      "Loading model from ./checkpoints/model.pt ...\n",
      "{'test_acc': 0.8773062730627307, 'val_acc': 0.8706099815157117}\n",
      "| Variant         | test_acc      | val_acc       |\n",
      "|-----------------|---------------|---------------|\n",
      "| (Cora, 'APPNP') | 0.8726±0.0033 | 0.8706±0.0022 |\n",
      "Namespace(actnn=False, checkpoint_path='./checkpoints/model.pt', cpu=False, cpu_inference=False, dataset=['Cora'], devices=[0], distributed=False, dw='node_classification_dw', epoch=500, epochs=500, eval_step=1, fp16=False, load_emb_path=None, local_rank=0, log_path='.', logger=None, lr=0.01, master_addr='localhost', master_port=13425, max_epoch=None, model=['MLP'], mw='node_classification_mw', n_trials=3, n_warmup_steps=0, no_test=False, nstage=1, patience=100, progress_bar='epoch', project='cogdl-exp', resume_training=False, rp_ratio=1, save_emb_path=None, seed=[0, 1, 2, 3, 4, 5, 6, 7, 8, 9], split=[0], unsup=False, use_best_config=False, weight_decay=0)\n",
      " \n",
      "|----------------------------------------------------------------------------------------|\n",
      "    *** Running (`Cora`, `MLP`, `node_classification_dw`, `node_classification_mw`)\n",
      "|----------------------------------------------------------------------------------------|\n",
      "Model Parameters: 92231\n"
     ]
    },
    {
     "name": "stderr",
     "output_type": "stream",
     "text": [
      "Epoch: 164, train_loss:  0.0448, val_acc:  0.7153:  33%|███▎      | 164/500 [00:00<00:01, 318.33it/s]\n"
     ]
    },
    {
     "name": "stdout",
     "output_type": "stream",
     "text": [
      "Saving 65-th model to ./checkpoints/model.pt ...\n",
      "Loading model from ./checkpoints/model.pt ...\n",
      "{'test_acc': 0.7564575645756457, 'val_acc': 0.7430683918669131}\n",
      " \n",
      "|----------------------------------------------------------------------------------------|\n",
      "    *** Running (`Cora`, `MLP`, `node_classification_dw`, `node_classification_mw`)\n",
      "|----------------------------------------------------------------------------------------|\n",
      "Model Parameters: 92231\n"
     ]
    },
    {
     "name": "stderr",
     "output_type": "stream",
     "text": [
      "Epoch: 180, train_loss:  0.0385, val_acc:  0.7209:  36%|███▌      | 180/500 [00:00<00:00, 334.98it/s]\n"
     ]
    },
    {
     "name": "stdout",
     "output_type": "stream",
     "text": [
      "Saving 81-th model to ./checkpoints/model.pt ...\n",
      "Loading model from ./checkpoints/model.pt ...\n",
      "{'test_acc': 0.7650676506765067, 'val_acc': 0.7319778188539742}\n",
      " \n",
      "|----------------------------------------------------------------------------------------|\n",
      "    *** Running (`Cora`, `MLP`, `node_classification_dw`, `node_classification_mw`)\n",
      "|----------------------------------------------------------------------------------------|\n",
      "Model Parameters: 92231\n"
     ]
    },
    {
     "name": "stderr",
     "output_type": "stream",
     "text": [
      "Epoch: 193, train_loss:  0.0311, val_acc:  0.7209:  39%|███▊      | 193/500 [00:00<00:00, 326.12it/s]\n"
     ]
    },
    {
     "name": "stdout",
     "output_type": "stream",
     "text": [
      "Saving 94-th model to ./checkpoints/model.pt ...\n",
      "Loading model from ./checkpoints/model.pt ...\n",
      "{'test_acc': 0.7724477244772447, 'val_acc': 0.7375231053604436}\n",
      " \n",
      "|----------------------------------------------------------------------------------------|\n",
      "    *** Running (`Cora`, `MLP`, `node_classification_dw`, `node_classification_mw`)\n",
      "|----------------------------------------------------------------------------------------|\n",
      "Model Parameters: 92231\n"
     ]
    },
    {
     "name": "stderr",
     "output_type": "stream",
     "text": [
      "Epoch: 181, train_loss:  0.0421, val_acc:  0.7246:  36%|███▌      | 181/500 [00:00<00:00, 319.85it/s]\n"
     ]
    },
    {
     "name": "stdout",
     "output_type": "stream",
     "text": [
      "Saving 82-th model to ./checkpoints/model.pt ...\n",
      "Loading model from ./checkpoints/model.pt ...\n",
      "{'test_acc': 0.7638376383763837, 'val_acc': 0.7356746765249538}\n",
      " \n",
      "|----------------------------------------------------------------------------------------|\n",
      "    *** Running (`Cora`, `MLP`, `node_classification_dw`, `node_classification_mw`)\n",
      "|----------------------------------------------------------------------------------------|\n",
      "Model Parameters: 92231\n"
     ]
    },
    {
     "name": "stderr",
     "output_type": "stream",
     "text": [
      "Epoch: 199, train_loss:  0.0349, val_acc:  0.7209:  40%|███▉      | 199/500 [00:00<00:00, 357.26it/s]\n"
     ]
    },
    {
     "name": "stdout",
     "output_type": "stream",
     "text": [
      "Saving 100-th model to ./checkpoints/model.pt ...\n",
      "Loading model from ./checkpoints/model.pt ...\n",
      "{'test_acc': 0.7626076260762608, 'val_acc': 0.7338262476894639}\n",
      " \n",
      "|----------------------------------------------------------------------------------------|\n",
      "    *** Running (`Cora`, `MLP`, `node_classification_dw`, `node_classification_mw`)\n",
      "|----------------------------------------------------------------------------------------|\n",
      "Model Parameters: 92231\n"
     ]
    },
    {
     "name": "stderr",
     "output_type": "stream",
     "text": [
      "Epoch: 183, train_loss:  0.0413, val_acc:  0.7209:  37%|███▋      | 183/500 [00:00<00:00, 348.65it/s]\n"
     ]
    },
    {
     "name": "stdout",
     "output_type": "stream",
     "text": [
      "Saving 84-th model to ./checkpoints/model.pt ...\n",
      "Loading model from ./checkpoints/model.pt ...\n",
      "{'test_acc': 0.7638376383763837, 'val_acc': 0.7356746765249538}\n",
      " \n",
      "|----------------------------------------------------------------------------------------|\n",
      "    *** Running (`Cora`, `MLP`, `node_classification_dw`, `node_classification_mw`)\n",
      "|----------------------------------------------------------------------------------------|\n",
      "Model Parameters: 92231\n"
     ]
    },
    {
     "name": "stderr",
     "output_type": "stream",
     "text": [
      "Epoch: 183, train_loss:  0.0416, val_acc:  0.7172:  37%|███▋      | 183/500 [00:00<00:00, 364.17it/s]\n"
     ]
    },
    {
     "name": "stdout",
     "output_type": "stream",
     "text": [
      "Saving 84-th model to ./checkpoints/model.pt ...\n",
      "Loading model from ./checkpoints/model.pt ...\n",
      "{'test_acc': 0.7675276752767528, 'val_acc': 0.7393715341959335}\n",
      " \n",
      "|----------------------------------------------------------------------------------------|\n",
      "    *** Running (`Cora`, `MLP`, `node_classification_dw`, `node_classification_mw`)\n",
      "|----------------------------------------------------------------------------------------|\n",
      "Model Parameters: 92231\n"
     ]
    },
    {
     "name": "stderr",
     "output_type": "stream",
     "text": [
      "Epoch: 174, train_loss:  0.0367, val_acc:  0.7153:  35%|███▍      | 174/500 [00:00<00:00, 354.26it/s]\n"
     ]
    },
    {
     "name": "stdout",
     "output_type": "stream",
     "text": [
      "Saving 75-th model to ./checkpoints/model.pt ...\n",
      "Loading model from ./checkpoints/model.pt ...\n",
      "{'test_acc': 0.7687576875768758, 'val_acc': 0.7319778188539742}\n",
      " \n",
      "|----------------------------------------------------------------------------------------|\n",
      "    *** Running (`Cora`, `MLP`, `node_classification_dw`, `node_classification_mw`)\n",
      "|----------------------------------------------------------------------------------------|\n",
      "Model Parameters: 92231\n"
     ]
    },
    {
     "name": "stderr",
     "output_type": "stream",
     "text": [
      "Epoch: 172, train_loss:  0.0371, val_acc:  0.7227:  34%|███▍      | 172/500 [00:00<00:00, 332.60it/s]\n"
     ]
    },
    {
     "name": "stdout",
     "output_type": "stream",
     "text": [
      "Saving 73-th model to ./checkpoints/model.pt ...\n",
      "Loading model from ./checkpoints/model.pt ...\n",
      "{'test_acc': 0.7699876998769988, 'val_acc': 0.744916820702403}\n",
      " \n",
      "|----------------------------------------------------------------------------------------|\n",
      "    *** Running (`Cora`, `MLP`, `node_classification_dw`, `node_classification_mw`)\n",
      "|----------------------------------------------------------------------------------------|\n",
      "Model Parameters: 92231\n"
     ]
    },
    {
     "name": "stderr",
     "output_type": "stream",
     "text": [
      "Epoch: 174, train_loss:  0.0347, val_acc:  0.7227:  35%|███▍      | 174/500 [00:00<00:00, 354.45it/s]\n"
     ]
    },
    {
     "name": "stdout",
     "output_type": "stream",
     "text": [
      "Saving 75-th model to ./checkpoints/model.pt ...\n",
      "Loading model from ./checkpoints/model.pt ...\n",
      "{'test_acc': 0.7662976629766297, 'val_acc': 0.7319778188539742}\n",
      "| Variant       | test_acc      | val_acc       |\n",
      "|---------------|---------------|---------------|\n",
      "| (Cora, 'MLP') | 0.7657±0.0042 | 0.7366±0.0044 |\n",
      "Namespace(actnn=False, checkpoint_path='./checkpoints/model.pt', cpu=False, cpu_inference=False, dataset=['Cora'], devices=[0], distributed=False, dw='node_classification_dw', epoch=500, epochs=500, eval_step=1, fp16=False, load_emb_path=None, local_rank=0, log_path='.', logger=None, lr=0.01, master_addr='localhost', master_port=13425, max_epoch=None, model=['GCN'], mw='node_classification_mw', n_trials=3, n_warmup_steps=0, no_test=False, nstage=1, patience=100, progress_bar='epoch', project='cogdl-exp', resume_training=False, rp_ratio=1, save_emb_path=None, seed=[0, 1, 2, 3, 4, 5, 6, 7, 8, 9], split=[0], unsup=False, use_best_config=False, weight_decay=0)\n",
      " \n",
      "|----------------------------------------------------------------------------------------|\n",
      "    *** Running (`Cora`, `GCN`, `node_classification_dw`, `node_classification_mw`)\n",
      "|----------------------------------------------------------------------------------------|\n",
      "Model Parameters: 92231\n"
     ]
    },
    {
     "name": "stderr",
     "output_type": "stream",
     "text": [
      "Epoch: 185, train_loss:  0.0744, val_acc:  0.8706:  37%|███▋      | 185/500 [00:00<00:00, 332.79it/s]\n"
     ]
    },
    {
     "name": "stdout",
     "output_type": "stream",
     "text": [
      "Saving 86-th model to ./checkpoints/model.pt ...\n",
      "Loading model from ./checkpoints/model.pt ...\n",
      "{'test_acc': 0.8720787207872078, 'val_acc': 0.878003696857671}\n",
      " \n",
      "|----------------------------------------------------------------------------------------|\n",
      "    *** Running (`Cora`, `GCN`, `node_classification_dw`, `node_classification_mw`)\n",
      "|----------------------------------------------------------------------------------------|\n",
      "Model Parameters: 92231\n"
     ]
    },
    {
     "name": "stderr",
     "output_type": "stream",
     "text": [
      "Epoch: 188, train_loss:  0.0754, val_acc:  0.8688:  38%|███▊      | 188/500 [00:00<00:00, 330.72it/s]\n"
     ]
    },
    {
     "name": "stdout",
     "output_type": "stream",
     "text": [
      "Saving 89-th model to ./checkpoints/model.pt ...\n",
      "Loading model from ./checkpoints/model.pt ...\n",
      "{'test_acc': 0.8683886838868389, 'val_acc': 0.878003696857671}\n",
      " \n",
      "|----------------------------------------------------------------------------------------|\n",
      "    *** Running (`Cora`, `GCN`, `node_classification_dw`, `node_classification_mw`)\n",
      "|----------------------------------------------------------------------------------------|\n",
      "Model Parameters: 92231\n"
     ]
    },
    {
     "name": "stderr",
     "output_type": "stream",
     "text": [
      "Epoch: 195, train_loss:  0.0692, val_acc:  0.8651:  39%|███▉      | 195/500 [00:00<00:00, 309.08it/s]\n"
     ]
    },
    {
     "name": "stdout",
     "output_type": "stream",
     "text": [
      "Saving 96-th model to ./checkpoints/model.pt ...\n",
      "Loading model from ./checkpoints/model.pt ...\n",
      "{'test_acc': 0.8708487084870848, 'val_acc': 0.8761552680221811}\n",
      " \n",
      "|----------------------------------------------------------------------------------------|\n",
      "    *** Running (`Cora`, `GCN`, `node_classification_dw`, `node_classification_mw`)\n",
      "|----------------------------------------------------------------------------------------|\n",
      "Model Parameters: 92231\n"
     ]
    },
    {
     "name": "stderr",
     "output_type": "stream",
     "text": [
      "Epoch: 179, train_loss:  0.0870, val_acc:  0.8669:  36%|███▌      | 179/500 [00:00<00:00, 331.39it/s]\n"
     ]
    },
    {
     "name": "stdout",
     "output_type": "stream",
     "text": [
      "Saving 80-th model to ./checkpoints/model.pt ...\n",
      "Loading model from ./checkpoints/model.pt ...\n",
      "{'test_acc': 0.8708487084870848, 'val_acc': 0.878003696857671}\n",
      " \n",
      "|----------------------------------------------------------------------------------------|\n",
      "    *** Running (`Cora`, `GCN`, `node_classification_dw`, `node_classification_mw`)\n",
      "|----------------------------------------------------------------------------------------|\n",
      "Model Parameters: 92231\n"
     ]
    },
    {
     "name": "stderr",
     "output_type": "stream",
     "text": [
      "Epoch: 186, train_loss:  0.0733, val_acc:  0.8632:  37%|███▋      | 186/500 [00:00<00:01, 309.78it/s]\n"
     ]
    },
    {
     "name": "stdout",
     "output_type": "stream",
     "text": [
      "Saving 87-th model to ./checkpoints/model.pt ...\n",
      "Loading model from ./checkpoints/model.pt ...\n",
      "{'test_acc': 0.8733087330873309, 'val_acc': 0.8798521256931608}\n",
      " \n",
      "|----------------------------------------------------------------------------------------|\n",
      "    *** Running (`Cora`, `GCN`, `node_classification_dw`, `node_classification_mw`)\n",
      "|----------------------------------------------------------------------------------------|\n",
      "Model Parameters: 92231\n"
     ]
    },
    {
     "name": "stderr",
     "output_type": "stream",
     "text": [
      "Epoch: 184, train_loss:  0.0736, val_acc:  0.8651:  37%|███▋      | 184/500 [00:00<00:00, 316.47it/s]\n"
     ]
    },
    {
     "name": "stdout",
     "output_type": "stream",
     "text": [
      "Saving 85-th model to ./checkpoints/model.pt ...\n",
      "Loading model from ./checkpoints/model.pt ...\n",
      "{'test_acc': 0.8696186961869619, 'val_acc': 0.8761552680221811}\n",
      " \n",
      "|----------------------------------------------------------------------------------------|\n",
      "    *** Running (`Cora`, `GCN`, `node_classification_dw`, `node_classification_mw`)\n",
      "|----------------------------------------------------------------------------------------|\n",
      "Model Parameters: 92231\n"
     ]
    },
    {
     "name": "stderr",
     "output_type": "stream",
     "text": [
      "Epoch: 194, train_loss:  0.0775, val_acc:  0.8595:  39%|███▉      | 194/500 [00:00<00:00, 314.57it/s]\n"
     ]
    },
    {
     "name": "stdout",
     "output_type": "stream",
     "text": [
      "Saving 95-th model to ./checkpoints/model.pt ...\n",
      "Loading model from ./checkpoints/model.pt ...\n",
      "{'test_acc': 0.8696186961869619, 'val_acc': 0.878003696857671}\n",
      " \n",
      "|----------------------------------------------------------------------------------------|\n",
      "    *** Running (`Cora`, `GCN`, `node_classification_dw`, `node_classification_mw`)\n",
      "|----------------------------------------------------------------------------------------|\n",
      "Model Parameters: 92231\n"
     ]
    },
    {
     "name": "stderr",
     "output_type": "stream",
     "text": [
      "Epoch: 192, train_loss:  0.0691, val_acc:  0.8632:  38%|███▊      | 192/500 [00:00<00:01, 304.45it/s]\n"
     ]
    },
    {
     "name": "stdout",
     "output_type": "stream",
     "text": [
      "Saving 93-th model to ./checkpoints/model.pt ...\n",
      "Loading model from ./checkpoints/model.pt ...\n",
      "{'test_acc': 0.8671586715867159, 'val_acc': 0.878003696857671}\n",
      " \n",
      "|----------------------------------------------------------------------------------------|\n",
      "    *** Running (`Cora`, `GCN`, `node_classification_dw`, `node_classification_mw`)\n",
      "|----------------------------------------------------------------------------------------|\n",
      "Model Parameters: 92231\n"
     ]
    },
    {
     "name": "stderr",
     "output_type": "stream",
     "text": [
      "Epoch: 186, train_loss:  0.0738, val_acc:  0.8614:  37%|███▋      | 186/500 [00:00<00:00, 322.33it/s]\n"
     ]
    },
    {
     "name": "stdout",
     "output_type": "stream",
     "text": [
      "Saving 87-th model to ./checkpoints/model.pt ...\n",
      "Loading model from ./checkpoints/model.pt ...\n",
      "{'test_acc': 0.8733087330873309, 'val_acc': 0.8817005545286506}\n",
      " \n",
      "|----------------------------------------------------------------------------------------|\n",
      "    *** Running (`Cora`, `GCN`, `node_classification_dw`, `node_classification_mw`)\n",
      "|----------------------------------------------------------------------------------------|\n",
      "Model Parameters: 92231\n"
     ]
    },
    {
     "name": "stderr",
     "output_type": "stream",
     "text": [
      "Epoch: 185, train_loss:  0.0790, val_acc:  0.8632:  37%|███▋      | 185/500 [00:00<00:01, 306.02it/s]\n"
     ]
    },
    {
     "name": "stdout",
     "output_type": "stream",
     "text": [
      "Saving 86-th model to ./checkpoints/model.pt ...\n",
      "Loading model from ./checkpoints/model.pt ...\n",
      "{'test_acc': 0.8708487084870848, 'val_acc': 0.8798521256931608}\n",
      "| Variant       | test_acc      | val_acc       |\n",
      "|---------------|---------------|---------------|\n",
      "| (Cora, 'GCN') | 0.8706±0.0019 | 0.8784±0.0016 |\n",
      "Namespace(actnn=False, checkpoint_path='./checkpoints/model.pt', cpu=False, cpu_inference=False, dataset=['Cora'], devices=[0], distributed=False, dw='node_classification_dw', epoch=500, epochs=500, eval_step=1, fp16=False, load_emb_path=None, local_rank=0, log_path='.', logger=None, lr=0.01, master_addr='localhost', master_port=13425, max_epoch=None, model=['SGC'], mw='node_classification_mw', n_trials=3, n_warmup_steps=0, no_test=False, nstage=1, patience=100, progress_bar='epoch', project='cogdl-exp', resume_training=False, rp_ratio=1, save_emb_path=None, seed=[0, 1, 2, 3, 4, 5, 6, 7, 8, 9], split=[0], unsup=False, use_best_config=False, weight_decay=0)\n",
      " \n",
      "|----------------------------------------------------------------------------------------|\n",
      "    *** Running (`Cora`, `SGC`, `node_classification_dw`, `node_classification_mw`)\n",
      "|----------------------------------------------------------------------------------------|\n",
      "Model Parameters: 92231\n"
     ]
    },
    {
     "name": "stderr",
     "output_type": "stream",
     "text": [
      "Epoch: 243, train_loss:  0.1032, val_acc:  0.8614:  49%|████▊     | 243/500 [00:00<00:00, 303.92it/s]\n"
     ]
    },
    {
     "name": "stdout",
     "output_type": "stream",
     "text": [
      "Saving 144-th model to ./checkpoints/model.pt ...\n",
      "Loading model from ./checkpoints/model.pt ...\n",
      "{'test_acc': 0.8708487084870848, 'val_acc': 0.8761552680221811}\n",
      " \n",
      "|----------------------------------------------------------------------------------------|\n",
      "    *** Running (`Cora`, `SGC`, `node_classification_dw`, `node_classification_mw`)\n",
      "|----------------------------------------------------------------------------------------|\n",
      "Model Parameters: 92231\n"
     ]
    },
    {
     "name": "stderr",
     "output_type": "stream",
     "text": [
      "Epoch: 266, train_loss:  0.0898, val_acc:  0.8669:  53%|█████▎    | 266/500 [00:00<00:00, 301.66it/s]\n"
     ]
    },
    {
     "name": "stdout",
     "output_type": "stream",
     "text": [
      "Saving 167-th model to ./checkpoints/model.pt ...\n",
      "Loading model from ./checkpoints/model.pt ...\n",
      "{'test_acc': 0.8708487084870848, 'val_acc': 0.878003696857671}\n",
      " \n",
      "|----------------------------------------------------------------------------------------|\n",
      "    *** Running (`Cora`, `SGC`, `node_classification_dw`, `node_classification_mw`)\n",
      "|----------------------------------------------------------------------------------------|\n",
      "Model Parameters: 92231\n"
     ]
    },
    {
     "name": "stderr",
     "output_type": "stream",
     "text": [
      "Epoch: 273, train_loss:  0.1144, val_acc:  0.8669:  55%|█████▍    | 273/500 [00:00<00:00, 302.87it/s]\n"
     ]
    },
    {
     "name": "stdout",
     "output_type": "stream",
     "text": [
      "Saving 174-th model to ./checkpoints/model.pt ...\n",
      "Loading model from ./checkpoints/model.pt ...\n",
      "{'test_acc': 0.8696186961869619, 'val_acc': 0.8761552680221811}\n",
      " \n",
      "|----------------------------------------------------------------------------------------|\n",
      "    *** Running (`Cora`, `SGC`, `node_classification_dw`, `node_classification_mw`)\n",
      "|----------------------------------------------------------------------------------------|\n",
      "Model Parameters: 92231\n"
     ]
    },
    {
     "name": "stderr",
     "output_type": "stream",
     "text": [
      "Epoch: 237, train_loss:  0.1060, val_acc:  0.8651:  47%|████▋     | 237/500 [00:00<00:00, 300.50it/s]\n"
     ]
    },
    {
     "name": "stdout",
     "output_type": "stream",
     "text": [
      "Saving 138-th model to ./checkpoints/model.pt ...\n",
      "Loading model from ./checkpoints/model.pt ...\n",
      "{'test_acc': 0.8733087330873309, 'val_acc': 0.878003696857671}\n",
      " \n",
      "|----------------------------------------------------------------------------------------|\n",
      "    *** Running (`Cora`, `SGC`, `node_classification_dw`, `node_classification_mw`)\n",
      "|----------------------------------------------------------------------------------------|\n",
      "Model Parameters: 92231\n"
     ]
    },
    {
     "name": "stderr",
     "output_type": "stream",
     "text": [
      "Epoch: 252, train_loss:  0.0966, val_acc:  0.8614:  50%|█████     | 252/500 [00:00<00:00, 304.62it/s]\n"
     ]
    },
    {
     "name": "stdout",
     "output_type": "stream",
     "text": [
      "Saving 153-th model to ./checkpoints/model.pt ...\n",
      "Loading model from ./checkpoints/model.pt ...\n",
      "{'test_acc': 0.8733087330873309, 'val_acc': 0.878003696857671}\n",
      " \n",
      "|----------------------------------------------------------------------------------------|\n",
      "    *** Running (`Cora`, `SGC`, `node_classification_dw`, `node_classification_mw`)\n",
      "|----------------------------------------------------------------------------------------|\n",
      "Model Parameters: 92231\n"
     ]
    },
    {
     "name": "stderr",
     "output_type": "stream",
     "text": [
      "Epoch: 253, train_loss:  0.1144, val_acc:  0.8632:  51%|█████     | 253/500 [00:00<00:00, 309.74it/s]\n"
     ]
    },
    {
     "name": "stdout",
     "output_type": "stream",
     "text": [
      "Saving 154-th model to ./checkpoints/model.pt ...\n",
      "Loading model from ./checkpoints/model.pt ...\n",
      "{'test_acc': 0.8745387453874539, 'val_acc': 0.8761552680221811}\n",
      " \n",
      "|----------------------------------------------------------------------------------------|\n",
      "    *** Running (`Cora`, `SGC`, `node_classification_dw`, `node_classification_mw`)\n",
      "|----------------------------------------------------------------------------------------|\n",
      "Model Parameters: 92231\n"
     ]
    },
    {
     "name": "stderr",
     "output_type": "stream",
     "text": [
      "Epoch: 245, train_loss:  0.1008, val_acc:  0.8632:  49%|████▉     | 245/500 [00:00<00:00, 302.59it/s]\n"
     ]
    },
    {
     "name": "stdout",
     "output_type": "stream",
     "text": [
      "Saving 146-th model to ./checkpoints/model.pt ...\n",
      "Loading model from ./checkpoints/model.pt ...\n",
      "{'test_acc': 0.8733087330873309, 'val_acc': 0.8743068391866913}\n",
      " \n",
      "|----------------------------------------------------------------------------------------|\n",
      "    *** Running (`Cora`, `SGC`, `node_classification_dw`, `node_classification_mw`)\n",
      "|----------------------------------------------------------------------------------------|\n",
      "Model Parameters: 92231\n"
     ]
    },
    {
     "name": "stderr",
     "output_type": "stream",
     "text": [
      "Epoch: 249, train_loss:  0.1003, val_acc:  0.8651:  50%|████▉     | 249/500 [00:00<00:00, 302.21it/s]\n"
     ]
    },
    {
     "name": "stdout",
     "output_type": "stream",
     "text": [
      "Saving 150-th model to ./checkpoints/model.pt ...\n",
      "Loading model from ./checkpoints/model.pt ...\n",
      "{'test_acc': 0.8683886838868389, 'val_acc': 0.8761552680221811}\n",
      " \n",
      "|----------------------------------------------------------------------------------------|\n",
      "    *** Running (`Cora`, `SGC`, `node_classification_dw`, `node_classification_mw`)\n",
      "|----------------------------------------------------------------------------------------|\n",
      "Model Parameters: 92231\n"
     ]
    },
    {
     "name": "stderr",
     "output_type": "stream",
     "text": [
      "Epoch: 230, train_loss:  0.1350, val_acc:  0.8614:  46%|████▌     | 230/500 [00:00<00:00, 303.95it/s]\n"
     ]
    },
    {
     "name": "stdout",
     "output_type": "stream",
     "text": [
      "Saving 131-th model to ./checkpoints/model.pt ...\n",
      "Loading model from ./checkpoints/model.pt ...\n",
      "{'test_acc': 0.8671586715867159, 'val_acc': 0.8761552680221811}\n",
      " \n",
      "|----------------------------------------------------------------------------------------|\n",
      "    *** Running (`Cora`, `SGC`, `node_classification_dw`, `node_classification_mw`)\n",
      "|----------------------------------------------------------------------------------------|\n",
      "Model Parameters: 92231\n"
     ]
    },
    {
     "name": "stderr",
     "output_type": "stream",
     "text": [
      "Epoch: 251, train_loss:  0.1185, val_acc:  0.8669:  50%|█████     | 251/500 [00:00<00:00, 304.36it/s]\n"
     ]
    },
    {
     "name": "stdout",
     "output_type": "stream",
     "text": [
      "Saving 152-th model to ./checkpoints/model.pt ...\n",
      "Loading model from ./checkpoints/model.pt ...\n",
      "{'test_acc': 0.8696186961869619, 'val_acc': 0.8761552680221811}\n",
      "| Variant       | test_acc      | val_acc       |\n",
      "|---------------|---------------|---------------|\n",
      "| (Cora, 'SGC') | 0.8711±0.0023 | 0.8765±0.0011 |\n",
      "Namespace(actnn=False, checkpoint_path='./checkpoints/model.pt', cpu=False, cpu_inference=False, dataset=['Cora'], devices=[0], distributed=False, dw='node_classification_dw', epoch=500, epochs=500, eval_step=1, fp16=False, load_emb_path=None, local_rank=0, log_path='.', logger=None, lr=0.01, master_addr='localhost', master_port=13425, max_epoch=None, model=['APPNP'], mw='node_classification_mw', n_trials=3, n_warmup_steps=0, no_test=False, nstage=1, patience=100, progress_bar='epoch', project='cogdl-exp', resume_training=False, rp_ratio=1, save_emb_path=None, seed=[0, 1, 2, 3, 4, 5, 6, 7, 8, 9], split=[0], unsup=False, use_best_config=False, weight_decay=0)\n",
      " \n",
      "|------------------------------------------------------------------------------------------|\n",
      "    *** Running (`Cora`, `APPNP`, `node_classification_dw`, `node_classification_mw`)\n",
      "|------------------------------------------------------------------------------------------|\n",
      "Model Parameters: 92231\n"
     ]
    },
    {
     "name": "stderr",
     "output_type": "stream",
     "text": [
      "Epoch: 437, train_loss:  0.7766, val_acc:  0.8780:  87%|████████▋ | 437/500 [00:01<00:00, 277.23it/s]\n"
     ]
    },
    {
     "name": "stdout",
     "output_type": "stream",
     "text": [
      "Saving 338-th model to ./checkpoints/model.pt ...\n",
      "Loading model from ./checkpoints/model.pt ...\n",
      "{'test_acc': 0.8757687576875769, 'val_acc': 0.8872458410351202}\n",
      " \n",
      "|------------------------------------------------------------------------------------------|\n",
      "    *** Running (`Cora`, `APPNP`, `node_classification_dw`, `node_classification_mw`)\n",
      "|------------------------------------------------------------------------------------------|\n",
      "Model Parameters: 92231\n"
     ]
    },
    {
     "name": "stderr",
     "output_type": "stream",
     "text": [
      "Epoch: 353, train_loss:  0.5780, val_acc:  0.8762:  71%|███████   | 353/500 [00:01<00:00, 275.75it/s]\n"
     ]
    },
    {
     "name": "stdout",
     "output_type": "stream",
     "text": [
      "Saving 254-th model to ./checkpoints/model.pt ...\n",
      "Loading model from ./checkpoints/model.pt ...\n",
      "{'test_acc': 0.8720787207872078, 'val_acc': 0.8909426987060998}\n",
      " \n",
      "|------------------------------------------------------------------------------------------|\n",
      "    *** Running (`Cora`, `APPNP`, `node_classification_dw`, `node_classification_mw`)\n",
      "|------------------------------------------------------------------------------------------|\n",
      "Model Parameters: 92231\n"
     ]
    },
    {
     "name": "stderr",
     "output_type": "stream",
     "text": [
      "Epoch: 434, train_loss:  0.7118, val_acc:  0.8799:  87%|████████▋ | 434/500 [00:01<00:00, 274.76it/s]\n"
     ]
    },
    {
     "name": "stdout",
     "output_type": "stream",
     "text": [
      "Saving 335-th model to ./checkpoints/model.pt ...\n",
      "Loading model from ./checkpoints/model.pt ...\n",
      "{'test_acc': 0.8745387453874539, 'val_acc': 0.8853974121996303}\n",
      " \n",
      "|------------------------------------------------------------------------------------------|\n",
      "    *** Running (`Cora`, `APPNP`, `node_classification_dw`, `node_classification_mw`)\n",
      "|------------------------------------------------------------------------------------------|\n",
      "Model Parameters: 92231\n"
     ]
    },
    {
     "name": "stderr",
     "output_type": "stream",
     "text": [
      "Epoch: 398, train_loss:  0.7516, val_acc:  0.8725:  80%|███████▉  | 398/500 [00:01<00:00, 272.74it/s]\n"
     ]
    },
    {
     "name": "stdout",
     "output_type": "stream",
     "text": [
      "Saving 299-th model to ./checkpoints/model.pt ...\n",
      "Loading model from ./checkpoints/model.pt ...\n",
      "{'test_acc': 0.8806888068880688, 'val_acc': 0.88909426987061}\n",
      " \n",
      "|------------------------------------------------------------------------------------------|\n",
      "    *** Running (`Cora`, `APPNP`, `node_classification_dw`, `node_classification_mw`)\n",
      "|------------------------------------------------------------------------------------------|\n",
      "Model Parameters: 92231\n"
     ]
    },
    {
     "name": "stderr",
     "output_type": "stream",
     "text": [
      "Epoch: 223, train_loss:  0.5420, val_acc:  0.8817:  45%|████▍     | 223/500 [00:00<00:00, 284.19it/s]\n"
     ]
    },
    {
     "name": "stdout",
     "output_type": "stream",
     "text": [
      "Saving 124-th model to ./checkpoints/model.pt ...\n",
      "Loading model from ./checkpoints/model.pt ...\n",
      "{'test_acc': 0.8831488314883149, 'val_acc': 0.8946395563770795}\n",
      " \n",
      "|------------------------------------------------------------------------------------------|\n",
      "    *** Running (`Cora`, `APPNP`, `node_classification_dw`, `node_classification_mw`)\n",
      "|------------------------------------------------------------------------------------------|\n",
      "Model Parameters: 92231\n"
     ]
    },
    {
     "name": "stderr",
     "output_type": "stream",
     "text": [
      "Epoch: 335, train_loss:  0.5856, val_acc:  0.8817:  67%|██████▋   | 335/500 [00:01<00:00, 277.23it/s]\n"
     ]
    },
    {
     "name": "stdout",
     "output_type": "stream",
     "text": [
      "Saving 236-th model to ./checkpoints/model.pt ...\n",
      "Loading model from ./checkpoints/model.pt ...\n",
      "{'test_acc': 0.8733087330873309, 'val_acc': 0.8909426987060998}\n",
      " \n",
      "|------------------------------------------------------------------------------------------|\n",
      "    *** Running (`Cora`, `APPNP`, `node_classification_dw`, `node_classification_mw`)\n",
      "|------------------------------------------------------------------------------------------|\n",
      "Model Parameters: 92231\n"
     ]
    },
    {
     "name": "stderr",
     "output_type": "stream",
     "text": [
      "Epoch: 254, train_loss:  0.4478, val_acc:  0.8725:  51%|█████     | 254/500 [00:00<00:00, 287.91it/s]\n"
     ]
    },
    {
     "name": "stdout",
     "output_type": "stream",
     "text": [
      "Saving 155-th model to ./checkpoints/model.pt ...\n",
      "Loading model from ./checkpoints/model.pt ...\n",
      "{'test_acc': 0.8757687576875769, 'val_acc': 0.8946395563770795}\n",
      " \n",
      "|------------------------------------------------------------------------------------------|\n",
      "    *** Running (`Cora`, `APPNP`, `node_classification_dw`, `node_classification_mw`)\n",
      "|------------------------------------------------------------------------------------------|\n",
      "Model Parameters: 92231\n"
     ]
    },
    {
     "name": "stderr",
     "output_type": "stream",
     "text": [
      "Epoch: 252, train_loss:  0.5352, val_acc:  0.8780:  50%|█████     | 252/500 [00:00<00:00, 290.15it/s]\n"
     ]
    },
    {
     "name": "stdout",
     "output_type": "stream",
     "text": [
      "Saving 153-th model to ./checkpoints/model.pt ...\n",
      "Loading model from ./checkpoints/model.pt ...\n",
      "{'test_acc': 0.8757687576875769, 'val_acc': 0.8927911275415896}\n",
      " \n",
      "|------------------------------------------------------------------------------------------|\n",
      "    *** Running (`Cora`, `APPNP`, `node_classification_dw`, `node_classification_mw`)\n",
      "|------------------------------------------------------------------------------------------|\n",
      "Model Parameters: 92231\n"
     ]
    },
    {
     "name": "stderr",
     "output_type": "stream",
     "text": [
      "Epoch: 254, train_loss:  0.6419, val_acc:  0.8799:  51%|█████     | 254/500 [00:00<00:00, 266.47it/s]\n"
     ]
    },
    {
     "name": "stdout",
     "output_type": "stream",
     "text": [
      "Saving 155-th model to ./checkpoints/model.pt ...\n",
      "Loading model from ./checkpoints/model.pt ...\n",
      "{'test_acc': 0.8720787207872078, 'val_acc': 0.8909426987060998}\n",
      " \n",
      "|------------------------------------------------------------------------------------------|\n",
      "    *** Running (`Cora`, `APPNP`, `node_classification_dw`, `node_classification_mw`)\n",
      "|------------------------------------------------------------------------------------------|\n",
      "Model Parameters: 92231\n"
     ]
    },
    {
     "name": "stderr",
     "output_type": "stream",
     "text": [
      "Epoch: 336, train_loss:  0.5624, val_acc:  0.8799:  67%|██████▋   | 336/500 [00:01<00:00, 270.15it/s]\n"
     ]
    },
    {
     "name": "stdout",
     "output_type": "stream",
     "text": [
      "Saving 237-th model to ./checkpoints/model.pt ...\n",
      "Loading model from ./checkpoints/model.pt ...\n",
      "{'test_acc': 0.8733087330873309, 'val_acc': 0.8909426987060998}\n",
      "| Variant         | test_acc      | val_acc       |\n",
      "|-----------------|---------------|---------------|\n",
      "| (Cora, 'APPNP') | 0.8756±0.0035 | 0.8908±0.0028 |\n",
      "Namespace(actnn=False, checkpoint_path='./checkpoints/model.pt', cpu=False, cpu_inference=False, dataset=['Cora'], devices=[0], distributed=False, dw='node_classification_dw', epoch=500, epochs=500, eval_step=1, fp16=False, load_emb_path=None, local_rank=0, log_path='.', logger=None, lr=0.01, master_addr='localhost', master_port=13425, max_epoch=None, model=['MLP'], mw='node_classification_mw', n_trials=3, n_warmup_steps=0, no_test=False, nstage=1, patience=100, progress_bar='epoch', project='cogdl-exp', resume_training=False, rp_ratio=1, save_emb_path=None, seed=[0, 1, 2, 3, 4, 5, 6, 7, 8, 9], split=[0], unsup=False, use_best_config=False, weight_decay=0)\n",
      " \n",
      "|----------------------------------------------------------------------------------------|\n",
      "    *** Running (`Cora`, `MLP`, `node_classification_dw`, `node_classification_mw`)\n",
      "|----------------------------------------------------------------------------------------|\n",
      "Model Parameters: 92231\n"
     ]
    },
    {
     "name": "stderr",
     "output_type": "stream",
     "text": [
      "Epoch: 162, train_loss:  0.0574, val_acc:  0.7196:  32%|███▏      | 162/500 [00:00<00:00, 346.28it/s]\n"
     ]
    },
    {
     "name": "stdout",
     "output_type": "stream",
     "text": [
      "Saving 63-th model to ./checkpoints/model.pt ...\n",
      "Loading model from ./checkpoints/model.pt ...\n",
      "{'test_acc': 0.7675276752767528, 'val_acc': 0.7564575645756457}\n",
      " \n",
      "|----------------------------------------------------------------------------------------|\n",
      "    *** Running (`Cora`, `MLP`, `node_classification_dw`, `node_classification_mw`)\n",
      "|----------------------------------------------------------------------------------------|\n",
      "Model Parameters: 92231\n"
     ]
    },
    {
     "name": "stderr",
     "output_type": "stream",
     "text": [
      "Epoch: 160, train_loss:  0.0548, val_acc:  0.7214:  32%|███▏      | 160/500 [00:00<00:01, 331.73it/s]\n"
     ]
    },
    {
     "name": "stdout",
     "output_type": "stream",
     "text": [
      "Saving 61-th model to ./checkpoints/model.pt ...\n",
      "Loading model from ./checkpoints/model.pt ...\n",
      "{'test_acc': 0.7601476014760148, 'val_acc': 0.7509225092250923}\n",
      " \n",
      "|----------------------------------------------------------------------------------------|\n",
      "    *** Running (`Cora`, `MLP`, `node_classification_dw`, `node_classification_mw`)\n",
      "|----------------------------------------------------------------------------------------|\n",
      "Model Parameters: 92231\n"
     ]
    },
    {
     "name": "stderr",
     "output_type": "stream",
     "text": [
      "Epoch: 178, train_loss:  0.0476, val_acc:  0.7269:  36%|███▌      | 178/500 [00:00<00:00, 346.30it/s]\n"
     ]
    },
    {
     "name": "stdout",
     "output_type": "stream",
     "text": [
      "Saving 79-th model to ./checkpoints/model.pt ...\n",
      "Loading model from ./checkpoints/model.pt ...\n",
      "{'test_acc': 0.7693726937269373, 'val_acc': 0.7546125461254612}\n",
      " \n",
      "|----------------------------------------------------------------------------------------|\n",
      "    *** Running (`Cora`, `MLP`, `node_classification_dw`, `node_classification_mw`)\n",
      "|----------------------------------------------------------------------------------------|\n",
      "Model Parameters: 92231\n"
     ]
    },
    {
     "name": "stderr",
     "output_type": "stream",
     "text": [
      "Epoch: 167, train_loss:  0.0535, val_acc:  0.7251:  33%|███▎      | 167/500 [00:00<00:00, 356.19it/s]\n"
     ]
    },
    {
     "name": "stdout",
     "output_type": "stream",
     "text": [
      "Saving 68-th model to ./checkpoints/model.pt ...\n",
      "Loading model from ./checkpoints/model.pt ...\n",
      "{'test_acc': 0.7693726937269373, 'val_acc': 0.7472324723247232}\n",
      " \n",
      "|----------------------------------------------------------------------------------------|\n",
      "    *** Running (`Cora`, `MLP`, `node_classification_dw`, `node_classification_mw`)\n",
      "|----------------------------------------------------------------------------------------|\n",
      "Model Parameters: 92231\n"
     ]
    },
    {
     "name": "stderr",
     "output_type": "stream",
     "text": [
      "Epoch: 179, train_loss:  0.0438, val_acc:  0.7251:  36%|███▌      | 179/500 [00:00<00:00, 344.48it/s]\n"
     ]
    },
    {
     "name": "stdout",
     "output_type": "stream",
     "text": [
      "Saving 80-th model to ./checkpoints/model.pt ...\n",
      "Loading model from ./checkpoints/model.pt ...\n",
      "{'test_acc': 0.7785977859778598, 'val_acc': 0.7509225092250923}\n",
      " \n",
      "|----------------------------------------------------------------------------------------|\n",
      "    *** Running (`Cora`, `MLP`, `node_classification_dw`, `node_classification_mw`)\n",
      "|----------------------------------------------------------------------------------------|\n",
      "Model Parameters: 92231\n"
     ]
    },
    {
     "name": "stderr",
     "output_type": "stream",
     "text": [
      "Epoch: 177, train_loss:  0.0492, val_acc:  0.7232:  35%|███▌      | 177/500 [00:00<00:00, 370.20it/s]\n"
     ]
    },
    {
     "name": "stdout",
     "output_type": "stream",
     "text": [
      "Saving 78-th model to ./checkpoints/model.pt ...\n",
      "Loading model from ./checkpoints/model.pt ...\n",
      "{'test_acc': 0.7712177121771218, 'val_acc': 0.7527675276752768}\n",
      " \n",
      "|----------------------------------------------------------------------------------------|\n",
      "    *** Running (`Cora`, `MLP`, `node_classification_dw`, `node_classification_mw`)\n",
      "|----------------------------------------------------------------------------------------|\n",
      "Model Parameters: 92231\n"
     ]
    },
    {
     "name": "stderr",
     "output_type": "stream",
     "text": [
      "Epoch: 174, train_loss:  0.0444, val_acc:  0.7232:  35%|███▍      | 174/500 [00:00<00:00, 361.72it/s]\n"
     ]
    },
    {
     "name": "stdout",
     "output_type": "stream",
     "text": [
      "Saving 75-th model to ./checkpoints/model.pt ...\n",
      "Loading model from ./checkpoints/model.pt ...\n",
      "{'test_acc': 0.7749077490774908, 'val_acc': 0.7546125461254612}\n",
      " \n",
      "|----------------------------------------------------------------------------------------|\n",
      "    *** Running (`Cora`, `MLP`, `node_classification_dw`, `node_classification_mw`)\n",
      "|----------------------------------------------------------------------------------------|\n",
      "Model Parameters: 92231\n"
     ]
    },
    {
     "name": "stderr",
     "output_type": "stream",
     "text": [
      "Epoch: 165, train_loss:  0.0552, val_acc:  0.7196:  33%|███▎      | 165/500 [00:00<00:00, 354.81it/s]\n"
     ]
    },
    {
     "name": "stdout",
     "output_type": "stream",
     "text": [
      "Saving 66-th model to ./checkpoints/model.pt ...\n",
      "Loading model from ./checkpoints/model.pt ...\n",
      "{'test_acc': 0.7693726937269373, 'val_acc': 0.7527675276752768}\n",
      " \n",
      "|----------------------------------------------------------------------------------------|\n",
      "    *** Running (`Cora`, `MLP`, `node_classification_dw`, `node_classification_mw`)\n",
      "|----------------------------------------------------------------------------------------|\n",
      "Model Parameters: 92231\n"
     ]
    },
    {
     "name": "stderr",
     "output_type": "stream",
     "text": [
      "Epoch: 165, train_loss:  0.0557, val_acc:  0.7251:  33%|███▎      | 165/500 [00:00<00:00, 352.77it/s]\n"
     ]
    },
    {
     "name": "stdout",
     "output_type": "stream",
     "text": [
      "Saving 66-th model to ./checkpoints/model.pt ...\n",
      "Loading model from ./checkpoints/model.pt ...\n",
      "{'test_acc': 0.7619926199261993, 'val_acc': 0.7490774907749077}\n",
      " \n",
      "|----------------------------------------------------------------------------------------|\n",
      "    *** Running (`Cora`, `MLP`, `node_classification_dw`, `node_classification_mw`)\n",
      "|----------------------------------------------------------------------------------------|\n",
      "Model Parameters: 92231\n"
     ]
    },
    {
     "name": "stderr",
     "output_type": "stream",
     "text": [
      "Epoch: 173, train_loss:  0.0425, val_acc:  0.7251:  35%|███▍      | 173/500 [00:00<00:00, 340.97it/s]\n"
     ]
    },
    {
     "name": "stdout",
     "output_type": "stream",
     "text": [
      "Saving 74-th model to ./checkpoints/model.pt ...\n",
      "Loading model from ./checkpoints/model.pt ...\n",
      "{'test_acc': 0.7767527675276753, 'val_acc': 0.7527675276752768}\n",
      "| Variant       | test_acc      | val_acc       |\n",
      "|---------------|---------------|---------------|\n",
      "| (Cora, 'MLP') | 0.7699±0.0056 | 0.7522±0.0026 |\n",
      "Namespace(actnn=False, checkpoint_path='./checkpoints/model.pt', cpu=False, cpu_inference=False, dataset=['Cora'], devices=[0], distributed=False, dw='node_classification_dw', epoch=500, epochs=500, eval_step=1, fp16=False, load_emb_path=None, local_rank=0, log_path='.', logger=None, lr=0.01, master_addr='localhost', master_port=13425, max_epoch=None, model=['GCN'], mw='node_classification_mw', n_trials=3, n_warmup_steps=0, no_test=False, nstage=1, patience=100, progress_bar='epoch', project='cogdl-exp', resume_training=False, rp_ratio=1, save_emb_path=None, seed=[0, 1, 2, 3, 4, 5, 6, 7, 8, 9], split=[0], unsup=False, use_best_config=False, weight_decay=0)\n",
      " \n",
      "|----------------------------------------------------------------------------------------|\n",
      "    *** Running (`Cora`, `GCN`, `node_classification_dw`, `node_classification_mw`)\n",
      "|----------------------------------------------------------------------------------------|\n",
      "Model Parameters: 92231\n"
     ]
    },
    {
     "name": "stderr",
     "output_type": "stream",
     "text": [
      "Epoch: 201, train_loss:  0.0850, val_acc:  0.8893:  40%|████      | 201/500 [00:00<00:00, 318.63it/s]\n"
     ]
    },
    {
     "name": "stdout",
     "output_type": "stream",
     "text": [
      "Saving 102-th model to ./checkpoints/model.pt ...\n",
      "Loading model from ./checkpoints/model.pt ...\n",
      "{'test_acc': 0.8726937269372693, 'val_acc': 0.8948339483394834}\n",
      " \n",
      "|----------------------------------------------------------------------------------------|\n",
      "    *** Running (`Cora`, `GCN`, `node_classification_dw`, `node_classification_mw`)\n",
      "|----------------------------------------------------------------------------------------|\n",
      "Model Parameters: 92231\n"
     ]
    },
    {
     "name": "stderr",
     "output_type": "stream",
     "text": [
      "Epoch: 206, train_loss:  0.0864, val_acc:  0.8875:  41%|████      | 206/500 [00:00<00:00, 323.07it/s]\n"
     ]
    },
    {
     "name": "stdout",
     "output_type": "stream",
     "text": [
      "Saving 107-th model to ./checkpoints/model.pt ...\n",
      "Loading model from ./checkpoints/model.pt ...\n",
      "{'test_acc': 0.8763837638376384, 'val_acc': 0.8966789667896679}\n",
      " \n",
      "|----------------------------------------------------------------------------------------|\n",
      "    *** Running (`Cora`, `GCN`, `node_classification_dw`, `node_classification_mw`)\n",
      "|----------------------------------------------------------------------------------------|\n",
      "Model Parameters: 92231\n"
     ]
    },
    {
     "name": "stderr",
     "output_type": "stream",
     "text": [
      "Epoch: 195, train_loss:  0.0888, val_acc:  0.8856:  39%|███▉      | 195/500 [00:00<00:00, 322.83it/s]\n"
     ]
    },
    {
     "name": "stdout",
     "output_type": "stream",
     "text": [
      "Saving 96-th model to ./checkpoints/model.pt ...\n",
      "Loading model from ./checkpoints/model.pt ...\n",
      "{'test_acc': 0.8726937269372693, 'val_acc': 0.8985239852398524}\n",
      " \n",
      "|----------------------------------------------------------------------------------------|\n",
      "    *** Running (`Cora`, `GCN`, `node_classification_dw`, `node_classification_mw`)\n",
      "|----------------------------------------------------------------------------------------|\n",
      "Model Parameters: 92231\n"
     ]
    },
    {
     "name": "stderr",
     "output_type": "stream",
     "text": [
      "Epoch: 191, train_loss:  0.0874, val_acc:  0.8893:  38%|███▊      | 191/500 [00:00<00:00, 337.34it/s]\n"
     ]
    },
    {
     "name": "stdout",
     "output_type": "stream",
     "text": [
      "Saving 92-th model to ./checkpoints/model.pt ...\n",
      "Loading model from ./checkpoints/model.pt ...\n",
      "{'test_acc': 0.8690036900369004, 'val_acc': 0.8985239852398524}\n",
      " \n",
      "|----------------------------------------------------------------------------------------|\n",
      "    *** Running (`Cora`, `GCN`, `node_classification_dw`, `node_classification_mw`)\n",
      "|----------------------------------------------------------------------------------------|\n",
      "Model Parameters: 92231\n"
     ]
    },
    {
     "name": "stderr",
     "output_type": "stream",
     "text": [
      "Epoch: 200, train_loss:  0.0905, val_acc:  0.8875:  40%|████      | 200/500 [00:00<00:00, 333.28it/s]\n"
     ]
    },
    {
     "name": "stdout",
     "output_type": "stream",
     "text": [
      "Saving 101-th model to ./checkpoints/model.pt ...\n",
      "Loading model from ./checkpoints/model.pt ...\n",
      "{'test_acc': 0.8726937269372693, 'val_acc': 0.8985239852398524}\n",
      " \n",
      "|----------------------------------------------------------------------------------------|\n",
      "    *** Running (`Cora`, `GCN`, `node_classification_dw`, `node_classification_mw`)\n",
      "|----------------------------------------------------------------------------------------|\n",
      "Model Parameters: 92231\n"
     ]
    },
    {
     "name": "stderr",
     "output_type": "stream",
     "text": [
      "Epoch: 202, train_loss:  0.0899, val_acc:  0.8856:  40%|████      | 202/500 [00:00<00:00, 298.64it/s]\n"
     ]
    },
    {
     "name": "stdout",
     "output_type": "stream",
     "text": [
      "Saving 103-th model to ./checkpoints/model.pt ...\n",
      "Loading model from ./checkpoints/model.pt ...\n",
      "{'test_acc': 0.8745387453874539, 'val_acc': 0.8966789667896679}\n",
      " \n",
      "|----------------------------------------------------------------------------------------|\n",
      "    *** Running (`Cora`, `GCN`, `node_classification_dw`, `node_classification_mw`)\n",
      "|----------------------------------------------------------------------------------------|\n",
      "Model Parameters: 92231\n"
     ]
    },
    {
     "name": "stderr",
     "output_type": "stream",
     "text": [
      "Epoch: 208, train_loss:  0.0825, val_acc:  0.8838:  42%|████▏     | 208/500 [00:00<00:00, 320.54it/s]\n"
     ]
    },
    {
     "name": "stdout",
     "output_type": "stream",
     "text": [
      "Saving 109-th model to ./checkpoints/model.pt ...\n",
      "Loading model from ./checkpoints/model.pt ...\n",
      "{'test_acc': 0.8726937269372693, 'val_acc': 0.8966789667896679}\n",
      " \n",
      "|----------------------------------------------------------------------------------------|\n",
      "    *** Running (`Cora`, `GCN`, `node_classification_dw`, `node_classification_mw`)\n",
      "|----------------------------------------------------------------------------------------|\n",
      "Model Parameters: 92231\n"
     ]
    },
    {
     "name": "stderr",
     "output_type": "stream",
     "text": [
      "Epoch: 199, train_loss:  0.0861, val_acc:  0.8893:  40%|███▉      | 199/500 [00:00<00:00, 335.87it/s]\n"
     ]
    },
    {
     "name": "stdout",
     "output_type": "stream",
     "text": [
      "Saving 100-th model to ./checkpoints/model.pt ...\n",
      "Loading model from ./checkpoints/model.pt ...\n",
      "{'test_acc': 0.8745387453874539, 'val_acc': 0.8985239852398524}\n",
      " \n",
      "|----------------------------------------------------------------------------------------|\n",
      "    *** Running (`Cora`, `GCN`, `node_classification_dw`, `node_classification_mw`)\n",
      "|----------------------------------------------------------------------------------------|\n",
      "Model Parameters: 92231\n"
     ]
    },
    {
     "name": "stderr",
     "output_type": "stream",
     "text": [
      "Epoch: 190, train_loss:  0.0945, val_acc:  0.8856:  38%|███▊      | 190/500 [00:00<00:01, 302.89it/s]\n"
     ]
    },
    {
     "name": "stdout",
     "output_type": "stream",
     "text": [
      "Saving 91-th model to ./checkpoints/model.pt ...\n",
      "Loading model from ./checkpoints/model.pt ...\n",
      "{'test_acc': 0.8708487084870848, 'val_acc': 0.8948339483394834}\n",
      " \n",
      "|----------------------------------------------------------------------------------------|\n",
      "    *** Running (`Cora`, `GCN`, `node_classification_dw`, `node_classification_mw`)\n",
      "|----------------------------------------------------------------------------------------|\n",
      "Model Parameters: 92231\n"
     ]
    },
    {
     "name": "stderr",
     "output_type": "stream",
     "text": [
      "Epoch: 200, train_loss:  0.0870, val_acc:  0.8875:  40%|████      | 200/500 [00:00<00:00, 326.71it/s]\n"
     ]
    },
    {
     "name": "stdout",
     "output_type": "stream",
     "text": [
      "Saving 101-th model to ./checkpoints/model.pt ...\n",
      "Loading model from ./checkpoints/model.pt ...\n",
      "{'test_acc': 0.8745387453874539, 'val_acc': 0.8948339483394834}\n",
      "| Variant       | test_acc      | val_acc       |\n",
      "|---------------|---------------|---------------|\n",
      "| (Cora, 'GCN') | 0.8731±0.0020 | 0.8969±0.0015 |\n",
      "Namespace(actnn=False, checkpoint_path='./checkpoints/model.pt', cpu=False, cpu_inference=False, dataset=['Cora'], devices=[0], distributed=False, dw='node_classification_dw', epoch=500, epochs=500, eval_step=1, fp16=False, load_emb_path=None, local_rank=0, log_path='.', logger=None, lr=0.01, master_addr='localhost', master_port=13425, max_epoch=None, model=['SGC'], mw='node_classification_mw', n_trials=3, n_warmup_steps=0, no_test=False, nstage=1, patience=100, progress_bar='epoch', project='cogdl-exp', resume_training=False, rp_ratio=1, save_emb_path=None, seed=[0, 1, 2, 3, 4, 5, 6, 7, 8, 9], split=[0], unsup=False, use_best_config=False, weight_decay=0)\n",
      " \n",
      "|----------------------------------------------------------------------------------------|\n",
      "    *** Running (`Cora`, `SGC`, `node_classification_dw`, `node_classification_mw`)\n",
      "|----------------------------------------------------------------------------------------|\n",
      "Model Parameters: 92231\n"
     ]
    },
    {
     "name": "stderr",
     "output_type": "stream",
     "text": [
      "Epoch: 231, train_loss:  0.1400, val_acc:  0.8875:  46%|████▌     | 231/500 [00:00<00:00, 312.28it/s]\n"
     ]
    },
    {
     "name": "stdout",
     "output_type": "stream",
     "text": [
      "Saving 132-th model to ./checkpoints/model.pt ...\n",
      "Loading model from ./checkpoints/model.pt ...\n",
      "{'test_acc': 0.8745387453874539, 'val_acc': 0.8948339483394834}\n",
      " \n",
      "|----------------------------------------------------------------------------------------|\n",
      "    *** Running (`Cora`, `SGC`, `node_classification_dw`, `node_classification_mw`)\n",
      "|----------------------------------------------------------------------------------------|\n",
      "Model Parameters: 92231\n"
     ]
    },
    {
     "name": "stderr",
     "output_type": "stream",
     "text": [
      "Epoch: 247, train_loss:  0.1251, val_acc:  0.8893:  49%|████▉     | 247/500 [00:00<00:00, 317.00it/s]\n"
     ]
    },
    {
     "name": "stdout",
     "output_type": "stream",
     "text": [
      "Saving 148-th model to ./checkpoints/model.pt ...\n",
      "Loading model from ./checkpoints/model.pt ...\n",
      "{'test_acc': 0.8726937269372693, 'val_acc': 0.8966789667896679}\n",
      " \n",
      "|----------------------------------------------------------------------------------------|\n",
      "    *** Running (`Cora`, `SGC`, `node_classification_dw`, `node_classification_mw`)\n",
      "|----------------------------------------------------------------------------------------|\n",
      "Model Parameters: 92231\n"
     ]
    },
    {
     "name": "stderr",
     "output_type": "stream",
     "text": [
      "Epoch: 237, train_loss:  0.1466, val_acc:  0.8875:  47%|████▋     | 237/500 [00:00<00:00, 321.76it/s]\n"
     ]
    },
    {
     "name": "stdout",
     "output_type": "stream",
     "text": [
      "Saving 138-th model to ./checkpoints/model.pt ...\n",
      "Loading model from ./checkpoints/model.pt ...\n",
      "{'test_acc': 0.8763837638376384, 'val_acc': 0.8966789667896679}\n",
      " \n",
      "|----------------------------------------------------------------------------------------|\n",
      "    *** Running (`Cora`, `SGC`, `node_classification_dw`, `node_classification_mw`)\n",
      "|----------------------------------------------------------------------------------------|\n",
      "Model Parameters: 92231\n"
     ]
    },
    {
     "name": "stderr",
     "output_type": "stream",
     "text": [
      "Epoch: 238, train_loss:  0.1343, val_acc:  0.8875:  48%|████▊     | 238/500 [00:00<00:00, 303.81it/s]\n"
     ]
    },
    {
     "name": "stdout",
     "output_type": "stream",
     "text": [
      "Saving 139-th model to ./checkpoints/model.pt ...\n",
      "Loading model from ./checkpoints/model.pt ...\n",
      "{'test_acc': 0.8763837638376384, 'val_acc': 0.8966789667896679}\n",
      " \n",
      "|----------------------------------------------------------------------------------------|\n",
      "    *** Running (`Cora`, `SGC`, `node_classification_dw`, `node_classification_mw`)\n",
      "|----------------------------------------------------------------------------------------|\n",
      "Model Parameters: 92231\n"
     ]
    },
    {
     "name": "stderr",
     "output_type": "stream",
     "text": [
      "Epoch: 239, train_loss:  0.1308, val_acc:  0.8875:  48%|████▊     | 239/500 [00:00<00:00, 299.90it/s]\n"
     ]
    },
    {
     "name": "stdout",
     "output_type": "stream",
     "text": [
      "Saving 140-th model to ./checkpoints/model.pt ...\n",
      "Loading model from ./checkpoints/model.pt ...\n",
      "{'test_acc': 0.8690036900369004, 'val_acc': 0.8948339483394834}\n",
      " \n",
      "|----------------------------------------------------------------------------------------|\n",
      "    *** Running (`Cora`, `SGC`, `node_classification_dw`, `node_classification_mw`)\n",
      "|----------------------------------------------------------------------------------------|\n",
      "Model Parameters: 92231\n"
     ]
    },
    {
     "name": "stderr",
     "output_type": "stream",
     "text": [
      "Epoch: 261, train_loss:  0.1191, val_acc:  0.8893:  52%|█████▏    | 261/500 [00:00<00:00, 303.87it/s]\n"
     ]
    },
    {
     "name": "stdout",
     "output_type": "stream",
     "text": [
      "Saving 162-th model to ./checkpoints/model.pt ...\n",
      "Loading model from ./checkpoints/model.pt ...\n",
      "{'test_acc': 0.8690036900369004, 'val_acc': 0.8911439114391144}\n",
      " \n",
      "|----------------------------------------------------------------------------------------|\n",
      "    *** Running (`Cora`, `SGC`, `node_classification_dw`, `node_classification_mw`)\n",
      "|----------------------------------------------------------------------------------------|\n",
      "Model Parameters: 92231\n"
     ]
    },
    {
     "name": "stderr",
     "output_type": "stream",
     "text": [
      "Epoch: 242, train_loss:  0.1300, val_acc:  0.8856:  48%|████▊     | 242/500 [00:00<00:00, 304.32it/s]\n"
     ]
    },
    {
     "name": "stdout",
     "output_type": "stream",
     "text": [
      "Saving 143-th model to ./checkpoints/model.pt ...\n",
      "Loading model from ./checkpoints/model.pt ...\n",
      "{'test_acc': 0.8745387453874539, 'val_acc': 0.8948339483394834}\n",
      " \n",
      "|----------------------------------------------------------------------------------------|\n",
      "    *** Running (`Cora`, `SGC`, `node_classification_dw`, `node_classification_mw`)\n",
      "|----------------------------------------------------------------------------------------|\n",
      "Model Parameters: 92231\n"
     ]
    },
    {
     "name": "stderr",
     "output_type": "stream",
     "text": [
      "Epoch: 244, train_loss:  0.1314, val_acc:  0.8856:  49%|████▉     | 244/500 [00:00<00:00, 299.20it/s]\n"
     ]
    },
    {
     "name": "stdout",
     "output_type": "stream",
     "text": [
      "Saving 145-th model to ./checkpoints/model.pt ...\n",
      "Loading model from ./checkpoints/model.pt ...\n",
      "{'test_acc': 0.8708487084870848, 'val_acc': 0.8948339483394834}\n",
      " \n",
      "|----------------------------------------------------------------------------------------|\n",
      "    *** Running (`Cora`, `SGC`, `node_classification_dw`, `node_classification_mw`)\n",
      "|----------------------------------------------------------------------------------------|\n",
      "Model Parameters: 92231\n"
     ]
    },
    {
     "name": "stderr",
     "output_type": "stream",
     "text": [
      "Epoch: 252, train_loss:  0.1342, val_acc:  0.8856:  50%|█████     | 252/500 [00:00<00:00, 301.64it/s]\n"
     ]
    },
    {
     "name": "stdout",
     "output_type": "stream",
     "text": [
      "Saving 153-th model to ./checkpoints/model.pt ...\n",
      "Loading model from ./checkpoints/model.pt ...\n",
      "{'test_acc': 0.8708487084870848, 'val_acc': 0.8948339483394834}\n",
      " \n",
      "|----------------------------------------------------------------------------------------|\n",
      "    *** Running (`Cora`, `SGC`, `node_classification_dw`, `node_classification_mw`)\n",
      "|----------------------------------------------------------------------------------------|\n",
      "Model Parameters: 92231\n"
     ]
    },
    {
     "name": "stderr",
     "output_type": "stream",
     "text": [
      "Epoch: 244, train_loss:  0.1434, val_acc:  0.8893:  49%|████▉     | 244/500 [00:00<00:00, 323.02it/s]\n"
     ]
    },
    {
     "name": "stdout",
     "output_type": "stream",
     "text": [
      "Saving 145-th model to ./checkpoints/model.pt ...\n",
      "Loading model from ./checkpoints/model.pt ...\n",
      "{'test_acc': 0.8708487084870848, 'val_acc': 0.8985239852398524}\n",
      "| Variant       | test_acc      | val_acc       |\n",
      "|---------------|---------------|---------------|\n",
      "| (Cora, 'SGC') | 0.8725±0.0027 | 0.8954±0.0019 |\n",
      "Namespace(actnn=False, checkpoint_path='./checkpoints/model.pt', cpu=False, cpu_inference=False, dataset=['Cora'], devices=[0], distributed=False, dw='node_classification_dw', epoch=500, epochs=500, eval_step=1, fp16=False, load_emb_path=None, local_rank=0, log_path='.', logger=None, lr=0.01, master_addr='localhost', master_port=13425, max_epoch=None, model=['APPNP'], mw='node_classification_mw', n_trials=3, n_warmup_steps=0, no_test=False, nstage=1, patience=100, progress_bar='epoch', project='cogdl-exp', resume_training=False, rp_ratio=1, save_emb_path=None, seed=[0, 1, 2, 3, 4, 5, 6, 7, 8, 9], split=[0], unsup=False, use_best_config=False, weight_decay=0)\n",
      " \n",
      "|------------------------------------------------------------------------------------------|\n",
      "    *** Running (`Cora`, `APPNP`, `node_classification_dw`, `node_classification_mw`)\n",
      "|------------------------------------------------------------------------------------------|\n",
      "Model Parameters: 92231\n"
     ]
    },
    {
     "name": "stderr",
     "output_type": "stream",
     "text": [
      "Epoch: 319, train_loss:  0.6939, val_acc:  0.8967:  64%|██████▍   | 319/500 [00:01<00:00, 286.82it/s]\n"
     ]
    },
    {
     "name": "stdout",
     "output_type": "stream",
     "text": [
      "Saving 220-th model to ./checkpoints/model.pt ...\n",
      "Loading model from ./checkpoints/model.pt ...\n",
      "{'test_acc': 0.8856088560885609, 'val_acc': 0.9040590405904059}\n",
      " \n",
      "|------------------------------------------------------------------------------------------|\n",
      "    *** Running (`Cora`, `APPNP`, `node_classification_dw`, `node_classification_mw`)\n",
      "|------------------------------------------------------------------------------------------|\n",
      "Model Parameters: 92231\n"
     ]
    },
    {
     "name": "stderr",
     "output_type": "stream",
     "text": [
      "Epoch: 500, train_loss:  0.9035, val_acc:  0.8967: 100%|██████████| 500/500 [00:01<00:00, 295.79it/s]\n"
     ]
    },
    {
     "name": "stdout",
     "output_type": "stream",
     "text": [
      "Saving 431-th model to ./checkpoints/model.pt ...\n",
      "Loading model from ./checkpoints/model.pt ...\n",
      "{'test_acc': 0.8763837638376384, 'val_acc': 0.9022140221402214}\n",
      " \n",
      "|------------------------------------------------------------------------------------------|\n",
      "    *** Running (`Cora`, `APPNP`, `node_classification_dw`, `node_classification_mw`)\n",
      "|------------------------------------------------------------------------------------------|\n",
      "Model Parameters: 92231\n"
     ]
    },
    {
     "name": "stderr",
     "output_type": "stream",
     "text": [
      "Epoch: 292, train_loss:  0.5744, val_acc:  0.8948:  58%|█████▊    | 292/500 [00:01<00:00, 274.46it/s]\n"
     ]
    },
    {
     "name": "stdout",
     "output_type": "stream",
     "text": [
      "Saving 193-th model to ./checkpoints/model.pt ...\n",
      "Loading model from ./checkpoints/model.pt ...\n",
      "{'test_acc': 0.8856088560885609, 'val_acc': 0.9022140221402214}\n",
      " \n",
      "|------------------------------------------------------------------------------------------|\n",
      "    *** Running (`Cora`, `APPNP`, `node_classification_dw`, `node_classification_mw`)\n",
      "|------------------------------------------------------------------------------------------|\n",
      "Model Parameters: 92231\n"
     ]
    },
    {
     "name": "stderr",
     "output_type": "stream",
     "text": [
      "Epoch: 191, train_loss:  0.6037, val_acc:  0.8875:  38%|███▊      | 191/500 [00:00<00:01, 277.31it/s]\n"
     ]
    },
    {
     "name": "stdout",
     "output_type": "stream",
     "text": [
      "Saving 92-th model to ./checkpoints/model.pt ...\n",
      "Loading model from ./checkpoints/model.pt ...\n",
      "{'test_acc': 0.8800738007380073, 'val_acc': 0.8966789667896679}\n",
      " \n",
      "|------------------------------------------------------------------------------------------|\n",
      "    *** Running (`Cora`, `APPNP`, `node_classification_dw`, `node_classification_mw`)\n",
      "|------------------------------------------------------------------------------------------|\n",
      "Model Parameters: 92231\n"
     ]
    },
    {
     "name": "stderr",
     "output_type": "stream",
     "text": [
      "Epoch: 414, train_loss:  0.8492, val_acc:  0.8967:  83%|████████▎ | 414/500 [00:01<00:00, 299.88it/s]\n"
     ]
    },
    {
     "name": "stdout",
     "output_type": "stream",
     "text": [
      "Saving 315-th model to ./checkpoints/model.pt ...\n",
      "Loading model from ./checkpoints/model.pt ...\n",
      "{'test_acc': 0.8782287822878229, 'val_acc': 0.8985239852398524}\n",
      " \n",
      "|------------------------------------------------------------------------------------------|\n",
      "    *** Running (`Cora`, `APPNP`, `node_classification_dw`, `node_classification_mw`)\n",
      "|------------------------------------------------------------------------------------------|\n",
      "Model Parameters: 92231\n"
     ]
    },
    {
     "name": "stderr",
     "output_type": "stream",
     "text": [
      "Epoch: 315, train_loss:  0.6136, val_acc:  0.8911:  63%|██████▎   | 315/500 [00:01<00:00, 278.71it/s]\n"
     ]
    },
    {
     "name": "stdout",
     "output_type": "stream",
     "text": [
      "Saving 216-th model to ./checkpoints/model.pt ...\n",
      "Loading model from ./checkpoints/model.pt ...\n",
      "{'test_acc': 0.8837638376383764, 'val_acc': 0.9003690036900369}\n",
      " \n",
      "|------------------------------------------------------------------------------------------|\n",
      "    *** Running (`Cora`, `APPNP`, `node_classification_dw`, `node_classification_mw`)\n",
      "|------------------------------------------------------------------------------------------|\n",
      "Model Parameters: 92231\n"
     ]
    },
    {
     "name": "stderr",
     "output_type": "stream",
     "text": [
      "Epoch: 343, train_loss:  0.6385, val_acc:  0.8967:  69%|██████▊   | 343/500 [00:01<00:00, 297.63it/s]\n"
     ]
    },
    {
     "name": "stdout",
     "output_type": "stream",
     "text": [
      "Saving 244-th model to ./checkpoints/model.pt ...\n",
      "Loading model from ./checkpoints/model.pt ...\n",
      "{'test_acc': 0.8837638376383764, 'val_acc': 0.9003690036900369}\n",
      " \n",
      "|------------------------------------------------------------------------------------------|\n",
      "    *** Running (`Cora`, `APPNP`, `node_classification_dw`, `node_classification_mw`)\n",
      "|------------------------------------------------------------------------------------------|\n",
      "Model Parameters: 92231\n"
     ]
    },
    {
     "name": "stderr",
     "output_type": "stream",
     "text": [
      "Epoch: 386, train_loss:  0.6373, val_acc:  0.8967:  77%|███████▋  | 386/500 [00:01<00:00, 283.24it/s]\n"
     ]
    },
    {
     "name": "stdout",
     "output_type": "stream",
     "text": [
      "Saving 287-th model to ./checkpoints/model.pt ...\n",
      "Loading model from ./checkpoints/model.pt ...\n",
      "{'test_acc': 0.8800738007380073, 'val_acc': 0.9022140221402214}\n",
      " \n",
      "|------------------------------------------------------------------------------------------|\n",
      "    *** Running (`Cora`, `APPNP`, `node_classification_dw`, `node_classification_mw`)\n",
      "|------------------------------------------------------------------------------------------|\n",
      "Model Parameters: 92231\n"
     ]
    },
    {
     "name": "stderr",
     "output_type": "stream",
     "text": [
      "Epoch: 339, train_loss:  0.7003, val_acc:  0.8930:  68%|██████▊   | 339/500 [00:01<00:00, 282.46it/s]\n"
     ]
    },
    {
     "name": "stdout",
     "output_type": "stream",
     "text": [
      "Saving 240-th model to ./checkpoints/model.pt ...\n",
      "Loading model from ./checkpoints/model.pt ...\n",
      "{'test_acc': 0.8800738007380073, 'val_acc': 0.9040590405904059}\n",
      " \n",
      "|------------------------------------------------------------------------------------------|\n",
      "    *** Running (`Cora`, `APPNP`, `node_classification_dw`, `node_classification_mw`)\n",
      "|------------------------------------------------------------------------------------------|\n",
      "Model Parameters: 92231\n"
     ]
    },
    {
     "name": "stderr",
     "output_type": "stream",
     "text": [
      "Epoch: 259, train_loss:  0.5829, val_acc:  0.8985:  52%|█████▏    | 259/500 [00:00<00:00, 276.39it/s]\n"
     ]
    },
    {
     "name": "stdout",
     "output_type": "stream",
     "text": [
      "Saving 160-th model to ./checkpoints/model.pt ...\n",
      "Loading model from ./checkpoints/model.pt ...\n",
      "{'test_acc': 0.8819188191881919, 'val_acc': 0.9022140221402214}\n",
      "| Variant         | test_acc      | val_acc       |\n",
      "|-----------------|---------------|---------------|\n",
      "| (Cora, 'APPNP') | 0.8815±0.0030 | 0.9013±0.0022 |\n",
      "Namespace(actnn=False, checkpoint_path='./checkpoints/model.pt', cpu=False, cpu_inference=False, dataset=['Cora'], devices=[0], distributed=False, dw='node_classification_dw', epoch=500, epochs=500, eval_step=1, fp16=False, load_emb_path=None, local_rank=0, log_path='.', logger=None, lr=0.01, master_addr='localhost', master_port=13425, max_epoch=None, model=['MLP'], mw='node_classification_mw', n_trials=3, n_warmup_steps=0, no_test=False, nstage=1, patience=100, progress_bar='epoch', project='cogdl-exp', resume_training=False, rp_ratio=1, save_emb_path=None, seed=[0, 1, 2, 3, 4, 5, 6, 7, 8, 9], split=[0], unsup=False, use_best_config=False, weight_decay=0)\n",
      " \n",
      "|----------------------------------------------------------------------------------------|\n",
      "    *** Running (`Cora`, `MLP`, `node_classification_dw`, `node_classification_mw`)\n",
      "|----------------------------------------------------------------------------------------|\n",
      "Model Parameters: 92231\n"
     ]
    },
    {
     "name": "stderr",
     "output_type": "stream",
     "text": [
      "Epoch: 194, train_loss:  0.0409, val_acc:  0.7583:  39%|███▉      | 194/500 [00:00<00:00, 335.47it/s]\n"
     ]
    },
    {
     "name": "stdout",
     "output_type": "stream",
     "text": [
      "Saving 95-th model to ./checkpoints/model.pt ...\n",
      "Loading model from ./checkpoints/model.pt ...\n",
      "{'test_acc': 0.7896678966789668, 'val_acc': 0.7785977859778598}\n",
      " \n",
      "|----------------------------------------------------------------------------------------|\n",
      "    *** Running (`Cora`, `MLP`, `node_classification_dw`, `node_classification_mw`)\n",
      "|----------------------------------------------------------------------------------------|\n",
      "Model Parameters: 92231\n"
     ]
    },
    {
     "name": "stderr",
     "output_type": "stream",
     "text": [
      "Epoch: 155, train_loss:  0.0711, val_acc:  0.7712:  31%|███       | 155/500 [00:00<00:00, 363.05it/s]\n"
     ]
    },
    {
     "name": "stdout",
     "output_type": "stream",
     "text": [
      "Saving 56-th model to ./checkpoints/model.pt ...\n",
      "Loading model from ./checkpoints/model.pt ...\n",
      "{'test_acc': 0.7749077490774908, 'val_acc': 0.7785977859778598}\n",
      " \n",
      "|----------------------------------------------------------------------------------------|\n",
      "    *** Running (`Cora`, `MLP`, `node_classification_dw`, `node_classification_mw`)\n",
      "|----------------------------------------------------------------------------------------|\n",
      "Model Parameters: 92231\n"
     ]
    },
    {
     "name": "stderr",
     "output_type": "stream",
     "text": [
      "Epoch: 163, train_loss:  0.0613, val_acc:  0.7638:  33%|███▎      | 163/500 [00:00<00:00, 356.47it/s]\n"
     ]
    },
    {
     "name": "stdout",
     "output_type": "stream",
     "text": [
      "Saving 64-th model to ./checkpoints/model.pt ...\n",
      "Loading model from ./checkpoints/model.pt ...\n",
      "{'test_acc': 0.7785977859778598, 'val_acc': 0.7749077490774908}\n",
      " \n",
      "|----------------------------------------------------------------------------------------|\n",
      "    *** Running (`Cora`, `MLP`, `node_classification_dw`, `node_classification_mw`)\n",
      "|----------------------------------------------------------------------------------------|\n",
      "Model Parameters: 92231\n"
     ]
    },
    {
     "name": "stderr",
     "output_type": "stream",
     "text": [
      "Epoch: 162, train_loss:  0.0604, val_acc:  0.7694:  32%|███▏      | 162/500 [00:00<00:00, 367.38it/s]\n"
     ]
    },
    {
     "name": "stdout",
     "output_type": "stream",
     "text": [
      "Saving 63-th model to ./checkpoints/model.pt ...\n",
      "Loading model from ./checkpoints/model.pt ...\n",
      "{'test_acc': 0.7785977859778598, 'val_acc': 0.7822878228782287}\n",
      " \n",
      "|----------------------------------------------------------------------------------------|\n",
      "    *** Running (`Cora`, `MLP`, `node_classification_dw`, `node_classification_mw`)\n",
      "|----------------------------------------------------------------------------------------|\n",
      "Model Parameters: 92231\n"
     ]
    },
    {
     "name": "stderr",
     "output_type": "stream",
     "text": [
      "Epoch: 161, train_loss:  0.0639, val_acc:  0.7601:  32%|███▏      | 161/500 [00:00<00:00, 368.99it/s]\n"
     ]
    },
    {
     "name": "stdout",
     "output_type": "stream",
     "text": [
      "Saving 62-th model to ./checkpoints/model.pt ...\n",
      "Loading model from ./checkpoints/model.pt ...\n",
      "{'test_acc': 0.7749077490774908, 'val_acc': 0.7785977859778598}\n",
      " \n",
      "|----------------------------------------------------------------------------------------|\n",
      "    *** Running (`Cora`, `MLP`, `node_classification_dw`, `node_classification_mw`)\n",
      "|----------------------------------------------------------------------------------------|\n",
      "Model Parameters: 92231\n"
     ]
    },
    {
     "name": "stderr",
     "output_type": "stream",
     "text": [
      "Epoch: 184, train_loss:  0.0476, val_acc:  0.7565:  37%|███▋      | 184/500 [00:00<00:00, 345.81it/s]\n"
     ]
    },
    {
     "name": "stdout",
     "output_type": "stream",
     "text": [
      "Saving 85-th model to ./checkpoints/model.pt ...\n",
      "Loading model from ./checkpoints/model.pt ...\n",
      "{'test_acc': 0.7859778597785978, 'val_acc': 0.7804428044280443}\n",
      " \n",
      "|----------------------------------------------------------------------------------------|\n",
      "    *** Running (`Cora`, `MLP`, `node_classification_dw`, `node_classification_mw`)\n",
      "|----------------------------------------------------------------------------------------|\n",
      "Model Parameters: 92231\n"
     ]
    },
    {
     "name": "stderr",
     "output_type": "stream",
     "text": [
      "Epoch: 173, train_loss:  0.0587, val_acc:  0.7712:  35%|███▍      | 173/500 [00:00<00:00, 339.47it/s]\n"
     ]
    },
    {
     "name": "stdout",
     "output_type": "stream",
     "text": [
      "Saving 74-th model to ./checkpoints/model.pt ...\n",
      "Loading model from ./checkpoints/model.pt ...\n",
      "{'test_acc': 0.7859778597785978, 'val_acc': 0.7785977859778598}\n",
      " \n",
      "|----------------------------------------------------------------------------------------|\n",
      "    *** Running (`Cora`, `MLP`, `node_classification_dw`, `node_classification_mw`)\n",
      "|----------------------------------------------------------------------------------------|\n",
      "Model Parameters: 92231\n"
     ]
    },
    {
     "name": "stderr",
     "output_type": "stream",
     "text": [
      "Epoch: 165, train_loss:  0.0629, val_acc:  0.7620:  33%|███▎      | 165/500 [00:00<00:00, 356.47it/s]\n"
     ]
    },
    {
     "name": "stdout",
     "output_type": "stream",
     "text": [
      "Saving 66-th model to ./checkpoints/model.pt ...\n",
      "Loading model from ./checkpoints/model.pt ...\n",
      "{'test_acc': 0.7785977859778598, 'val_acc': 0.7804428044280443}\n",
      " \n",
      "|----------------------------------------------------------------------------------------|\n",
      "    *** Running (`Cora`, `MLP`, `node_classification_dw`, `node_classification_mw`)\n",
      "|----------------------------------------------------------------------------------------|\n",
      "Model Parameters: 92231\n"
     ]
    },
    {
     "name": "stderr",
     "output_type": "stream",
     "text": [
      "Epoch: 171, train_loss:  0.0523, val_acc:  0.7601:  34%|███▍      | 171/500 [00:00<00:00, 340.48it/s]\n"
     ]
    },
    {
     "name": "stdout",
     "output_type": "stream",
     "text": [
      "Saving 72-th model to ./checkpoints/model.pt ...\n",
      "Loading model from ./checkpoints/model.pt ...\n",
      "{'test_acc': 0.7822878228782287, 'val_acc': 0.7785977859778598}\n",
      " \n",
      "|----------------------------------------------------------------------------------------|\n",
      "    *** Running (`Cora`, `MLP`, `node_classification_dw`, `node_classification_mw`)\n",
      "|----------------------------------------------------------------------------------------|\n",
      "Model Parameters: 92231\n"
     ]
    },
    {
     "name": "stderr",
     "output_type": "stream",
     "text": [
      "Epoch: 166, train_loss:  0.0575, val_acc:  0.7601:  33%|███▎      | 166/500 [00:00<00:00, 345.88it/s]\n"
     ]
    },
    {
     "name": "stdout",
     "output_type": "stream",
     "text": [
      "Saving 67-th model to ./checkpoints/model.pt ...\n",
      "Loading model from ./checkpoints/model.pt ...\n",
      "{'test_acc': 0.7785977859778598, 'val_acc': 0.7822878228782287}\n",
      "| Variant       | test_acc      | val_acc       |\n",
      "|---------------|---------------|---------------|\n",
      "| (Cora, 'MLP') | 0.7808±0.0047 | 0.7793±0.0021 |\n",
      "Namespace(actnn=False, checkpoint_path='./checkpoints/model.pt', cpu=False, cpu_inference=False, dataset=['Cora'], devices=[0], distributed=False, dw='node_classification_dw', epoch=500, epochs=500, eval_step=1, fp16=False, load_emb_path=None, local_rank=0, log_path='.', logger=None, lr=0.01, master_addr='localhost', master_port=13425, max_epoch=None, model=['GCN'], mw='node_classification_mw', n_trials=3, n_warmup_steps=0, no_test=False, nstage=1, patience=100, progress_bar='epoch', project='cogdl-exp', resume_training=False, rp_ratio=1, save_emb_path=None, seed=[0, 1, 2, 3, 4, 5, 6, 7, 8, 9], split=[0], unsup=False, use_best_config=False, weight_decay=0)\n",
      " \n",
      "|----------------------------------------------------------------------------------------|\n",
      "    *** Running (`Cora`, `GCN`, `node_classification_dw`, `node_classification_mw`)\n",
      "|----------------------------------------------------------------------------------------|\n",
      "Model Parameters: 92231\n"
     ]
    },
    {
     "name": "stderr",
     "output_type": "stream",
     "text": [
      "Epoch: 189, train_loss:  0.0997, val_acc:  0.8838:  38%|███▊      | 189/500 [00:00<00:00, 330.66it/s]\n"
     ]
    },
    {
     "name": "stdout",
     "output_type": "stream",
     "text": [
      "Saving 90-th model to ./checkpoints/model.pt ...\n",
      "Loading model from ./checkpoints/model.pt ...\n",
      "{'test_acc': 0.8708487084870848, 'val_acc': 0.8985239852398524}\n",
      " \n",
      "|----------------------------------------------------------------------------------------|\n",
      "    *** Running (`Cora`, `GCN`, `node_classification_dw`, `node_classification_mw`)\n",
      "|----------------------------------------------------------------------------------------|\n",
      "Model Parameters: 92231\n"
     ]
    },
    {
     "name": "stderr",
     "output_type": "stream",
     "text": [
      "Epoch: 193, train_loss:  0.1002, val_acc:  0.8801:  39%|███▊      | 193/500 [00:00<00:00, 309.19it/s]\n"
     ]
    },
    {
     "name": "stdout",
     "output_type": "stream",
     "text": [
      "Saving 94-th model to ./checkpoints/model.pt ...\n",
      "Loading model from ./checkpoints/model.pt ...\n",
      "{'test_acc': 0.8819188191881919, 'val_acc': 0.8966789667896679}\n",
      " \n",
      "|----------------------------------------------------------------------------------------|\n",
      "    *** Running (`Cora`, `GCN`, `node_classification_dw`, `node_classification_mw`)\n",
      "|----------------------------------------------------------------------------------------|\n",
      "Model Parameters: 92231\n"
     ]
    },
    {
     "name": "stderr",
     "output_type": "stream",
     "text": [
      "Epoch: 176, train_loss:  0.1088, val_acc:  0.8893:  35%|███▌      | 176/500 [00:00<00:01, 320.44it/s]\n"
     ]
    },
    {
     "name": "stdout",
     "output_type": "stream",
     "text": [
      "Saving 77-th model to ./checkpoints/model.pt ...\n",
      "Loading model from ./checkpoints/model.pt ...\n",
      "{'test_acc': 0.8671586715867159, 'val_acc': 0.8966789667896679}\n",
      " \n",
      "|----------------------------------------------------------------------------------------|\n",
      "    *** Running (`Cora`, `GCN`, `node_classification_dw`, `node_classification_mw`)\n",
      "|----------------------------------------------------------------------------------------|\n",
      "Model Parameters: 92231\n"
     ]
    },
    {
     "name": "stderr",
     "output_type": "stream",
     "text": [
      "Epoch: 181, train_loss:  0.1075, val_acc:  0.8838:  36%|███▌      | 181/500 [00:00<00:00, 327.09it/s]\n"
     ]
    },
    {
     "name": "stdout",
     "output_type": "stream",
     "text": [
      "Saving 82-th model to ./checkpoints/model.pt ...\n",
      "Loading model from ./checkpoints/model.pt ...\n",
      "{'test_acc': 0.8782287822878229, 'val_acc': 0.8966789667896679}\n",
      " \n",
      "|----------------------------------------------------------------------------------------|\n",
      "    *** Running (`Cora`, `GCN`, `node_classification_dw`, `node_classification_mw`)\n",
      "|----------------------------------------------------------------------------------------|\n",
      "Model Parameters: 92231\n"
     ]
    },
    {
     "name": "stderr",
     "output_type": "stream",
     "text": [
      "Epoch: 178, train_loss:  0.1030, val_acc:  0.8801:  36%|███▌      | 178/500 [00:00<00:00, 335.60it/s]\n"
     ]
    },
    {
     "name": "stdout",
     "output_type": "stream",
     "text": [
      "Saving 79-th model to ./checkpoints/model.pt ...\n",
      "Loading model from ./checkpoints/model.pt ...\n",
      "{'test_acc': 0.8782287822878229, 'val_acc': 0.8966789667896679}\n",
      " \n",
      "|----------------------------------------------------------------------------------------|\n",
      "    *** Running (`Cora`, `GCN`, `node_classification_dw`, `node_classification_mw`)\n",
      "|----------------------------------------------------------------------------------------|\n",
      "Model Parameters: 92231\n"
     ]
    },
    {
     "name": "stderr",
     "output_type": "stream",
     "text": [
      "Epoch: 192, train_loss:  0.1029, val_acc:  0.8801:  38%|███▊      | 192/500 [00:00<00:01, 307.66it/s]\n"
     ]
    },
    {
     "name": "stdout",
     "output_type": "stream",
     "text": [
      "Saving 93-th model to ./checkpoints/model.pt ...\n",
      "Loading model from ./checkpoints/model.pt ...\n",
      "{'test_acc': 0.8782287822878229, 'val_acc': 0.8966789667896679}\n",
      " \n",
      "|----------------------------------------------------------------------------------------|\n",
      "    *** Running (`Cora`, `GCN`, `node_classification_dw`, `node_classification_mw`)\n",
      "|----------------------------------------------------------------------------------------|\n",
      "Model Parameters: 92231\n"
     ]
    },
    {
     "name": "stderr",
     "output_type": "stream",
     "text": [
      "Epoch: 174, train_loss:  0.1053, val_acc:  0.8819:  35%|███▍      | 174/500 [00:00<00:01, 305.72it/s]\n"
     ]
    },
    {
     "name": "stdout",
     "output_type": "stream",
     "text": [
      "Saving 75-th model to ./checkpoints/model.pt ...\n",
      "Loading model from ./checkpoints/model.pt ...\n",
      "{'test_acc': 0.8745387453874539, 'val_acc': 0.8966789667896679}\n",
      " \n",
      "|----------------------------------------------------------------------------------------|\n",
      "    *** Running (`Cora`, `GCN`, `node_classification_dw`, `node_classification_mw`)\n",
      "|----------------------------------------------------------------------------------------|\n",
      "Model Parameters: 92231\n"
     ]
    },
    {
     "name": "stderr",
     "output_type": "stream",
     "text": [
      "Epoch: 168, train_loss:  0.1149, val_acc:  0.8856:  34%|███▎      | 168/500 [00:00<00:01, 313.87it/s]\n"
     ]
    },
    {
     "name": "stdout",
     "output_type": "stream",
     "text": [
      "Saving 69-th model to ./checkpoints/model.pt ...\n",
      "Loading model from ./checkpoints/model.pt ...\n",
      "{'test_acc': 0.8671586715867159, 'val_acc': 0.8985239852398524}\n",
      " \n",
      "|----------------------------------------------------------------------------------------|\n",
      "    *** Running (`Cora`, `GCN`, `node_classification_dw`, `node_classification_mw`)\n",
      "|----------------------------------------------------------------------------------------|\n",
      "Model Parameters: 92231\n"
     ]
    },
    {
     "name": "stderr",
     "output_type": "stream",
     "text": [
      "Epoch: 177, train_loss:  0.1124, val_acc:  0.8801:  35%|███▌      | 177/500 [00:00<00:01, 310.57it/s]\n"
     ]
    },
    {
     "name": "stdout",
     "output_type": "stream",
     "text": [
      "Saving 78-th model to ./checkpoints/model.pt ...\n",
      "Loading model from ./checkpoints/model.pt ...\n",
      "{'test_acc': 0.8671586715867159, 'val_acc': 0.8985239852398524}\n",
      " \n",
      "|----------------------------------------------------------------------------------------|\n",
      "    *** Running (`Cora`, `GCN`, `node_classification_dw`, `node_classification_mw`)\n",
      "|----------------------------------------------------------------------------------------|\n",
      "Model Parameters: 92231\n"
     ]
    },
    {
     "name": "stderr",
     "output_type": "stream",
     "text": [
      "Epoch: 173, train_loss:  0.1102, val_acc:  0.8838:  35%|███▍      | 173/500 [00:00<00:00, 333.62it/s]\n"
     ]
    },
    {
     "name": "stdout",
     "output_type": "stream",
     "text": [
      "Saving 74-th model to ./checkpoints/model.pt ...\n",
      "Loading model from ./checkpoints/model.pt ...\n",
      "{'test_acc': 0.8708487084870848, 'val_acc': 0.8966789667896679}\n",
      "| Variant       | test_acc      | val_acc       |\n",
      "|---------------|---------------|---------------|\n",
      "| (Cora, 'GCN') | 0.8734±0.0052 | 0.8972±0.0008 |\n",
      "Namespace(actnn=False, checkpoint_path='./checkpoints/model.pt', cpu=False, cpu_inference=False, dataset=['Cora'], devices=[0], distributed=False, dw='node_classification_dw', epoch=500, epochs=500, eval_step=1, fp16=False, load_emb_path=None, local_rank=0, log_path='.', logger=None, lr=0.01, master_addr='localhost', master_port=13425, max_epoch=None, model=['SGC'], mw='node_classification_mw', n_trials=3, n_warmup_steps=0, no_test=False, nstage=1, patience=100, progress_bar='epoch', project='cogdl-exp', resume_training=False, rp_ratio=1, save_emb_path=None, seed=[0, 1, 2, 3, 4, 5, 6, 7, 8, 9], split=[0], unsup=False, use_best_config=False, weight_decay=0)\n",
      " \n",
      "|----------------------------------------------------------------------------------------|\n",
      "    *** Running (`Cora`, `SGC`, `node_classification_dw`, `node_classification_mw`)\n",
      "|----------------------------------------------------------------------------------------|\n",
      "Model Parameters: 92231\n"
     ]
    },
    {
     "name": "stderr",
     "output_type": "stream",
     "text": [
      "Epoch: 251, train_loss:  0.1394, val_acc:  0.8893:  50%|█████     | 251/500 [00:00<00:00, 313.09it/s]\n"
     ]
    },
    {
     "name": "stdout",
     "output_type": "stream",
     "text": [
      "Saving 152-th model to ./checkpoints/model.pt ...\n",
      "Loading model from ./checkpoints/model.pt ...\n",
      "{'test_acc': 0.8745387453874539, 'val_acc': 0.9003690036900369}\n",
      " \n",
      "|----------------------------------------------------------------------------------------|\n",
      "    *** Running (`Cora`, `SGC`, `node_classification_dw`, `node_classification_mw`)\n",
      "|----------------------------------------------------------------------------------------|\n",
      "Model Parameters: 92231\n"
     ]
    },
    {
     "name": "stderr",
     "output_type": "stream",
     "text": [
      "Epoch: 200, train_loss:  0.1602, val_acc:  0.8911:  40%|████      | 200/500 [00:00<00:00, 315.89it/s]\n"
     ]
    },
    {
     "name": "stdout",
     "output_type": "stream",
     "text": [
      "Saving 101-th model to ./checkpoints/model.pt ...\n",
      "Loading model from ./checkpoints/model.pt ...\n",
      "{'test_acc': 0.8819188191881919, 'val_acc': 0.9003690036900369}\n",
      " \n",
      "|----------------------------------------------------------------------------------------|\n",
      "    *** Running (`Cora`, `SGC`, `node_classification_dw`, `node_classification_mw`)\n",
      "|----------------------------------------------------------------------------------------|\n",
      "Model Parameters: 92231\n"
     ]
    },
    {
     "name": "stderr",
     "output_type": "stream",
     "text": [
      "Epoch: 209, train_loss:  0.1767, val_acc:  0.8893:  42%|████▏     | 209/500 [00:00<00:00, 324.36it/s]\n"
     ]
    },
    {
     "name": "stdout",
     "output_type": "stream",
     "text": [
      "Saving 110-th model to ./checkpoints/model.pt ...\n",
      "Loading model from ./checkpoints/model.pt ...\n",
      "{'test_acc': 0.8856088560885609, 'val_acc': 0.8985239852398524}\n",
      " \n",
      "|----------------------------------------------------------------------------------------|\n",
      "    *** Running (`Cora`, `SGC`, `node_classification_dw`, `node_classification_mw`)\n",
      "|----------------------------------------------------------------------------------------|\n",
      "Model Parameters: 92231\n"
     ]
    },
    {
     "name": "stderr",
     "output_type": "stream",
     "text": [
      "Epoch: 203, train_loss:  0.1510, val_acc:  0.8875:  41%|████      | 203/500 [00:00<00:00, 333.57it/s]\n"
     ]
    },
    {
     "name": "stdout",
     "output_type": "stream",
     "text": [
      "Saving 104-th model to ./checkpoints/model.pt ...\n",
      "Loading model from ./checkpoints/model.pt ...\n",
      "{'test_acc': 0.8819188191881919, 'val_acc': 0.8985239852398524}\n",
      " \n",
      "|----------------------------------------------------------------------------------------|\n",
      "    *** Running (`Cora`, `SGC`, `node_classification_dw`, `node_classification_mw`)\n",
      "|----------------------------------------------------------------------------------------|\n",
      "Model Parameters: 92231\n"
     ]
    },
    {
     "name": "stderr",
     "output_type": "stream",
     "text": [
      "Epoch: 263, train_loss:  0.1304, val_acc:  0.8838:  53%|█████▎    | 263/500 [00:00<00:00, 340.22it/s]\n"
     ]
    },
    {
     "name": "stdout",
     "output_type": "stream",
     "text": [
      "Saving 164-th model to ./checkpoints/model.pt ...\n",
      "Loading model from ./checkpoints/model.pt ...\n",
      "{'test_acc': 0.8819188191881919, 'val_acc': 0.9003690036900369}\n",
      " \n",
      "|----------------------------------------------------------------------------------------|\n",
      "    *** Running (`Cora`, `SGC`, `node_classification_dw`, `node_classification_mw`)\n",
      "|----------------------------------------------------------------------------------------|\n",
      "Model Parameters: 92231\n"
     ]
    },
    {
     "name": "stderr",
     "output_type": "stream",
     "text": [
      "Epoch: 190, train_loss:  0.1833, val_acc:  0.8875:  38%|███▊      | 190/500 [00:00<00:00, 337.54it/s]\n"
     ]
    },
    {
     "name": "stdout",
     "output_type": "stream",
     "text": [
      "Saving 91-th model to ./checkpoints/model.pt ...\n",
      "Loading model from ./checkpoints/model.pt ...\n",
      "{'test_acc': 0.8745387453874539, 'val_acc': 0.8985239852398524}\n",
      " \n",
      "|----------------------------------------------------------------------------------------|\n",
      "    *** Running (`Cora`, `SGC`, `node_classification_dw`, `node_classification_mw`)\n",
      "|----------------------------------------------------------------------------------------|\n",
      "Model Parameters: 92231\n"
     ]
    },
    {
     "name": "stderr",
     "output_type": "stream",
     "text": [
      "Epoch: 251, train_loss:  0.1275, val_acc:  0.8875:  50%|█████     | 251/500 [00:00<00:00, 333.21it/s]\n"
     ]
    },
    {
     "name": "stdout",
     "output_type": "stream",
     "text": [
      "Saving 152-th model to ./checkpoints/model.pt ...\n",
      "Loading model from ./checkpoints/model.pt ...\n",
      "{'test_acc': 0.8856088560885609, 'val_acc': 0.8985239852398524}\n",
      " \n",
      "|----------------------------------------------------------------------------------------|\n",
      "    *** Running (`Cora`, `SGC`, `node_classification_dw`, `node_classification_mw`)\n",
      "|----------------------------------------------------------------------------------------|\n",
      "Model Parameters: 92231\n"
     ]
    },
    {
     "name": "stderr",
     "output_type": "stream",
     "text": [
      "Epoch: 259, train_loss:  0.1339, val_acc:  0.8875:  52%|█████▏    | 259/500 [00:00<00:00, 329.64it/s]\n"
     ]
    },
    {
     "name": "stdout",
     "output_type": "stream",
     "text": [
      "Saving 160-th model to ./checkpoints/model.pt ...\n",
      "Loading model from ./checkpoints/model.pt ...\n",
      "{'test_acc': 0.8856088560885609, 'val_acc': 0.8966789667896679}\n",
      " \n",
      "|----------------------------------------------------------------------------------------|\n",
      "    *** Running (`Cora`, `SGC`, `node_classification_dw`, `node_classification_mw`)\n",
      "|----------------------------------------------------------------------------------------|\n",
      "Model Parameters: 92231\n"
     ]
    },
    {
     "name": "stderr",
     "output_type": "stream",
     "text": [
      "Epoch: 197, train_loss:  0.1774, val_acc:  0.8930:  39%|███▉      | 197/500 [00:00<00:00, 312.76it/s]\n"
     ]
    },
    {
     "name": "stdout",
     "output_type": "stream",
     "text": [
      "Saving 98-th model to ./checkpoints/model.pt ...\n",
      "Loading model from ./checkpoints/model.pt ...\n",
      "{'test_acc': 0.8856088560885609, 'val_acc': 0.9003690036900369}\n",
      " \n",
      "|----------------------------------------------------------------------------------------|\n",
      "    *** Running (`Cora`, `SGC`, `node_classification_dw`, `node_classification_mw`)\n",
      "|----------------------------------------------------------------------------------------|\n",
      "Model Parameters: 92231\n"
     ]
    },
    {
     "name": "stderr",
     "output_type": "stream",
     "text": [
      "Epoch: 269, train_loss:  0.1346, val_acc:  0.8838:  54%|█████▍    | 269/500 [00:00<00:00, 316.20it/s]\n"
     ]
    },
    {
     "name": "stdout",
     "output_type": "stream",
     "text": [
      "Saving 170-th model to ./checkpoints/model.pt ...\n",
      "Loading model from ./checkpoints/model.pt ...\n",
      "{'test_acc': 0.8819188191881919, 'val_acc': 0.8985239852398524}\n",
      "| Variant       | test_acc      | val_acc       |\n",
      "|---------------|---------------|---------------|\n",
      "| (Cora, 'SGC') | 0.8819±0.0040 | 0.8991±0.0012 |\n",
      "Namespace(actnn=False, checkpoint_path='./checkpoints/model.pt', cpu=False, cpu_inference=False, dataset=['Cora'], devices=[0], distributed=False, dw='node_classification_dw', epoch=500, epochs=500, eval_step=1, fp16=False, load_emb_path=None, local_rank=0, log_path='.', logger=None, lr=0.01, master_addr='localhost', master_port=13425, max_epoch=None, model=['APPNP'], mw='node_classification_mw', n_trials=3, n_warmup_steps=0, no_test=False, nstage=1, patience=100, progress_bar='epoch', project='cogdl-exp', resume_training=False, rp_ratio=1, save_emb_path=None, seed=[0, 1, 2, 3, 4, 5, 6, 7, 8, 9], split=[0], unsup=False, use_best_config=False, weight_decay=0)\n",
      " \n",
      "|------------------------------------------------------------------------------------------|\n",
      "    *** Running (`Cora`, `APPNP`, `node_classification_dw`, `node_classification_mw`)\n",
      "|------------------------------------------------------------------------------------------|\n",
      "Model Parameters: 92231\n"
     ]
    },
    {
     "name": "stderr",
     "output_type": "stream",
     "text": [
      "Epoch: 316, train_loss:  0.8038, val_acc:  0.9004:  63%|██████▎   | 316/500 [00:01<00:00, 278.35it/s]\n"
     ]
    },
    {
     "name": "stdout",
     "output_type": "stream",
     "text": [
      "Saving 217-th model to ./checkpoints/model.pt ...\n",
      "Loading model from ./checkpoints/model.pt ...\n",
      "{'test_acc': 0.8892988929889298, 'val_acc': 0.9077490774907749}\n",
      " \n",
      "|------------------------------------------------------------------------------------------|\n",
      "    *** Running (`Cora`, `APPNP`, `node_classification_dw`, `node_classification_mw`)\n",
      "|------------------------------------------------------------------------------------------|\n",
      "Model Parameters: 92231\n"
     ]
    },
    {
     "name": "stderr",
     "output_type": "stream",
     "text": [
      "Epoch: 222, train_loss:  0.6042, val_acc:  0.8893:  44%|████▍     | 222/500 [00:00<00:00, 287.52it/s]\n"
     ]
    },
    {
     "name": "stdout",
     "output_type": "stream",
     "text": [
      "Saving 123-th model to ./checkpoints/model.pt ...\n",
      "Loading model from ./checkpoints/model.pt ...\n",
      "{'test_acc': 0.8892988929889298, 'val_acc': 0.9022140221402214}\n",
      " \n",
      "|------------------------------------------------------------------------------------------|\n",
      "    *** Running (`Cora`, `APPNP`, `node_classification_dw`, `node_classification_mw`)\n",
      "|------------------------------------------------------------------------------------------|\n",
      "Model Parameters: 92231\n"
     ]
    },
    {
     "name": "stderr",
     "output_type": "stream",
     "text": [
      "Epoch: 353, train_loss:  0.6680, val_acc:  0.8967:  71%|███████   | 353/500 [00:01<00:00, 275.41it/s]\n"
     ]
    },
    {
     "name": "stdout",
     "output_type": "stream",
     "text": [
      "Saving 254-th model to ./checkpoints/model.pt ...\n",
      "Loading model from ./checkpoints/model.pt ...\n",
      "{'test_acc': 0.8856088560885609, 'val_acc': 0.9040590405904059}\n",
      " \n",
      "|------------------------------------------------------------------------------------------|\n",
      "    *** Running (`Cora`, `APPNP`, `node_classification_dw`, `node_classification_mw`)\n",
      "|------------------------------------------------------------------------------------------|\n",
      "Model Parameters: 92231\n"
     ]
    },
    {
     "name": "stderr",
     "output_type": "stream",
     "text": [
      "Epoch: 333, train_loss:  0.6883, val_acc:  0.9004:  67%|██████▋   | 333/500 [00:01<00:00, 277.23it/s]\n"
     ]
    },
    {
     "name": "stdout",
     "output_type": "stream",
     "text": [
      "Saving 234-th model to ./checkpoints/model.pt ...\n",
      "Loading model from ./checkpoints/model.pt ...\n",
      "{'test_acc': 0.8929889298892989, 'val_acc': 0.9059040590405905}\n",
      " \n",
      "|------------------------------------------------------------------------------------------|\n",
      "    *** Running (`Cora`, `APPNP`, `node_classification_dw`, `node_classification_mw`)\n",
      "|------------------------------------------------------------------------------------------|\n",
      "Model Parameters: 92231\n"
     ]
    },
    {
     "name": "stderr",
     "output_type": "stream",
     "text": [
      "Epoch: 369, train_loss:  0.7362, val_acc:  0.8948:  74%|███████▍  | 369/500 [00:01<00:00, 261.55it/s]\n"
     ]
    },
    {
     "name": "stdout",
     "output_type": "stream",
     "text": [
      "Saving 270-th model to ./checkpoints/model.pt ...\n",
      "Loading model from ./checkpoints/model.pt ...\n",
      "{'test_acc': 0.8892988929889298, 'val_acc': 0.9059040590405905}\n",
      " \n",
      "|------------------------------------------------------------------------------------------|\n",
      "    *** Running (`Cora`, `APPNP`, `node_classification_dw`, `node_classification_mw`)\n",
      "|------------------------------------------------------------------------------------------|\n",
      "Model Parameters: 92231\n"
     ]
    },
    {
     "name": "stderr",
     "output_type": "stream",
     "text": [
      "Epoch: 392, train_loss:  0.7421, val_acc:  0.8967:  78%|███████▊  | 392/500 [00:01<00:00, 260.19it/s]\n"
     ]
    },
    {
     "name": "stdout",
     "output_type": "stream",
     "text": [
      "Saving 293-th model to ./checkpoints/model.pt ...\n",
      "Loading model from ./checkpoints/model.pt ...\n",
      "{'test_acc': 0.8782287822878229, 'val_acc': 0.9059040590405905}\n",
      " \n",
      "|------------------------------------------------------------------------------------------|\n",
      "    *** Running (`Cora`, `APPNP`, `node_classification_dw`, `node_classification_mw`)\n",
      "|------------------------------------------------------------------------------------------|\n",
      "Model Parameters: 92231\n"
     ]
    },
    {
     "name": "stderr",
     "output_type": "stream",
     "text": [
      "Epoch: 500, train_loss:  0.9096, val_acc:  0.9004: 100%|██████████| 500/500 [00:01<00:00, 254.60it/s]\n"
     ]
    },
    {
     "name": "stdout",
     "output_type": "stream",
     "text": [
      "Saving 409-th model to ./checkpoints/model.pt ...\n",
      "Loading model from ./checkpoints/model.pt ...\n",
      "{'test_acc': 0.8745387453874539, 'val_acc': 0.9040590405904059}\n",
      " \n",
      "|------------------------------------------------------------------------------------------|\n",
      "    *** Running (`Cora`, `APPNP`, `node_classification_dw`, `node_classification_mw`)\n",
      "|------------------------------------------------------------------------------------------|\n",
      "Model Parameters: 92231\n"
     ]
    },
    {
     "name": "stderr",
     "output_type": "stream",
     "text": [
      "Epoch: 440, train_loss:  0.8747, val_acc:  0.8948:  88%|████████▊ | 440/500 [00:01<00:00, 250.04it/s]\n"
     ]
    },
    {
     "name": "stdout",
     "output_type": "stream",
     "text": [
      "Saving 341-th model to ./checkpoints/model.pt ...\n",
      "Loading model from ./checkpoints/model.pt ...\n",
      "{'test_acc': 0.8892988929889298, 'val_acc': 0.9059040590405905}\n",
      " \n",
      "|------------------------------------------------------------------------------------------|\n",
      "    *** Running (`Cora`, `APPNP`, `node_classification_dw`, `node_classification_mw`)\n",
      "|------------------------------------------------------------------------------------------|\n",
      "Model Parameters: 92231\n"
     ]
    },
    {
     "name": "stderr",
     "output_type": "stream",
     "text": [
      "Epoch: 354, train_loss:  0.7529, val_acc:  0.8948:  71%|███████   | 354/500 [00:01<00:00, 250.95it/s]\n"
     ]
    },
    {
     "name": "stdout",
     "output_type": "stream",
     "text": [
      "Saving 255-th model to ./checkpoints/model.pt ...\n",
      "Loading model from ./checkpoints/model.pt ...\n",
      "{'test_acc': 0.8856088560885609, 'val_acc': 0.9040590405904059}\n",
      " \n",
      "|------------------------------------------------------------------------------------------|\n",
      "    *** Running (`Cora`, `APPNP`, `node_classification_dw`, `node_classification_mw`)\n",
      "|------------------------------------------------------------------------------------------|\n",
      "Model Parameters: 92231\n"
     ]
    },
    {
     "name": "stderr",
     "output_type": "stream",
     "text": [
      "Epoch: 391, train_loss:  0.7631, val_acc:  0.8930:  78%|███████▊  | 391/500 [00:01<00:00, 259.16it/s]\n"
     ]
    },
    {
     "name": "stdout",
     "output_type": "stream",
     "text": [
      "Saving 292-th model to ./checkpoints/model.pt ...\n",
      "Loading model from ./checkpoints/model.pt ...\n",
      "{'test_acc': 0.8819188191881919, 'val_acc': 0.9059040590405905}\n",
      "| Variant         | test_acc      | val_acc       |\n",
      "|-----------------|---------------|---------------|\n",
      "| (Cora, 'APPNP') | 0.8856±0.0055 | 0.9052±0.0015 |\n",
      "{'train_percent': 1, 'model_name': 'mlp', 'test_acc': 56.97}\n",
      "{'train_percent': 1, 'model_name': 'gcn', 'test_acc': 82.47}\n",
      "{'train_percent': 1, 'model_name': 'sgc', 'test_acc': 80.64}\n",
      "{'train_percent': 1, 'model_name': 'appnp', 'test_acc': 82.9}\n",
      "{'train_percent': 2, 'model_name': 'mlp', 'test_acc': 66.95}\n",
      "{'train_percent': 2, 'model_name': 'gcn', 'test_acc': 84.54}\n",
      "{'train_percent': 2, 'model_name': 'sgc', 'test_acc': 84.8}\n",
      "{'train_percent': 2, 'model_name': 'appnp', 'test_acc': 85.44}\n",
      "{'train_percent': 3, 'model_name': 'mlp', 'test_acc': 70.05}\n",
      "{'train_percent': 3, 'model_name': 'gcn', 'test_acc': 85.55}\n",
      "{'train_percent': 3, 'model_name': 'sgc', 'test_acc': 85.83}\n",
      "{'train_percent': 3, 'model_name': 'appnp', 'test_acc': 86.51}\n",
      "{'train_percent': 4, 'model_name': 'mlp', 'test_acc': 72.92}\n",
      "{'train_percent': 4, 'model_name': 'gcn', 'test_acc': 87.33}\n",
      "{'train_percent': 4, 'model_name': 'sgc', 'test_acc': 86.86}\n",
      "{'train_percent': 4, 'model_name': 'appnp', 'test_acc': 87.26}\n",
      "{'train_percent': 5, 'model_name': 'mlp', 'test_acc': 76.57}\n",
      "{'train_percent': 5, 'model_name': 'gcn', 'test_acc': 87.06}\n",
      "{'train_percent': 5, 'model_name': 'sgc', 'test_acc': 87.11}\n",
      "{'train_percent': 5, 'model_name': 'appnp', 'test_acc': 87.56}\n",
      "{'train_percent': 6, 'model_name': 'mlp', 'test_acc': 76.99}\n",
      "{'train_percent': 6, 'model_name': 'gcn', 'test_acc': 87.31}\n",
      "{'train_percent': 6, 'model_name': 'sgc', 'test_acc': 87.25}\n",
      "{'train_percent': 6, 'model_name': 'appnp', 'test_acc': 88.15}\n",
      "{'train_percent': 7, 'model_name': 'mlp', 'test_acc': 78.08}\n",
      "{'train_percent': 7, 'model_name': 'gcn', 'test_acc': 87.34}\n",
      "{'train_percent': 7, 'model_name': 'sgc', 'test_acc': 88.19}\n",
      "{'train_percent': 7, 'model_name': 'appnp', 'test_acc': 88.56}\n"
     ]
    }
   ],
   "source": [
    "import numpy as np\n",
    "import os\n",
    "import random\n",
    "import torch\n",
    "os.environ[\"CUDA_VISIBLE_DEVICES\"] = \"1\"\n",
    "\n",
    "from cogdl import experiment\n",
    "from cogdl.datasets.planetoid_data import CoraDataset\n",
    "from custom_models.mlp import MLP\n",
    "from custom_models.gcn import GCN\n",
    "from custom_models.sgc import SGC\n",
    "from custom_models.appnp import APPNP\n",
    "\n",
    "dataset = CoraDataset()\n",
    "graph = dataset.data\n",
    "\n",
    "mlp = MLP(\n",
    "    in_feats = dataset.num_features,\n",
    "    out_feats = dataset.num_classes,\n",
    "    hidden_size = 64,\n",
    "    num_layers = 2,\n",
    "    dropout = 0.5,\n",
    "    activation = \"relu\",\n",
    ")\n",
    "\n",
    "gcn = GCN(\n",
    "    in_feats = dataset.num_features,\n",
    "    out_feats = dataset.num_classes,\n",
    "    hidden_size = 64,\n",
    "    num_layers = 2,\n",
    "    dropout = 0.5,\n",
    "    activation = \"relu\",\n",
    "    residual = False,\n",
    "    remove_self_loop = False,\n",
    "    norm = None,\n",
    ")\n",
    "\n",
    "sgc = SGC(\n",
    "    in_feats = dataset.num_features,\n",
    "    out_feats = dataset.num_classes,\n",
    "    hidden_size = 64,\n",
    "    num_layers = 2,\n",
    "    dropout = 0.5,\n",
    "    activation = \"relu\",\n",
    "    norm = None,\n",
    "    order = 2,\n",
    "    remove_self_loop = False,\n",
    "    bias = True,\n",
    ")\n",
    "\n",
    "appnp = APPNP(nfeat=dataset.num_features, \n",
    "              nhid=64,\n",
    "              nclass=dataset.num_classes,\n",
    "              num_layers=2,\n",
    "              dropout=0.5,\n",
    "              alpha=0.1, \n",
    "              niter=2)\n",
    "\n",
    "#   Model Test\n",
    "#\n",
    "#   | Variant       | test_acc      | val_acc       |\n",
    "#   |---------------|---------------|---------------|\n",
    "#   | (Cora, 'MLP') | 0.5500±0.0092 | 0.5920±0.0116 |\n",
    "#   | (Cora, 'GCN') | 0.8086±0.0071 | 0.7932±0.0020 |\n",
    "#   | (Cora, 'SGC') | 0.8040±0.0066 | 0.7968±0.0026 |\n",
    "\n",
    "# experiment(model=[mlp, gcn, sgc], dataset=dataset, seed=list(range(10)), epoch=500, devices=[0])\n",
    "\n",
    "# Train: 0%, 10%, 20% -> 70%, Valid: 20%, Test: total - train -valid \n",
    "\n",
    "seed = 0\n",
    "\n",
    "random.seed(seed)\n",
    "np.random.seed(seed)\n",
    "torch.manual_seed(seed)\n",
    "torch.cuda.manual_seed(seed)\n",
    "\n",
    "model_class = {\n",
    "    'mlp': mlp,\n",
    "#     'gcn': gcn,\n",
    "#     'sgc': sgc,\n",
    "#     'appnp': appnp,\n",
    "}\n",
    "\n",
    "results = []\n",
    "\n",
    "for i in range(1, 8):\n",
    "    train_start = int(dataset.num_nodes * 0 / 10.0)\n",
    "    train_end = int(dataset.num_nodes * i / 10.0)\n",
    "    \n",
    "    val_start = int(dataset.num_nodes * i / 10.0)\n",
    "    val_end = int(dataset.num_nodes * (i+2) / 10.0)\n",
    "    \n",
    "    test_start = int(dataset.num_nodes * (i+2) / 10.0)\n",
    "    test_end = int(dataset.num_nodes)\n",
    "    \n",
    "    perm = torch.randperm(dataset.num_nodes)\n",
    "\n",
    "    graph.train_mask[:] = False\n",
    "    graph.train_mask[perm[train_start:train_end]] = True\n",
    "\n",
    "    graph.val_mask[:] = False\n",
    "    graph.val_mask[perm[val_start:val_end]] = True\n",
    "\n",
    "    graph.test_mask[:] = False\n",
    "    graph.test_mask[perm[test_start:test_end]] = True\n",
    "\n",
    "    # print ((graph.train_mask | graph.val_mask | graph.test_mask).sum().item(), graph.train_mask.sum().item() + graph.val_mask.sum().item() + graph.test_mask.sum().item())\n",
    "    for model_name, model in model_class.items():\n",
    "        ret = experiment(model=model, dataset=dataset, seed=list(range(10)), epoch=500, devices=[0])\n",
    "        ret = list(ret.values())[0]\n",
    "        test_acc = [items['test_acc'] for items in ret]\n",
    "        test_acc = sum(test_acc) / len(test_acc)\n",
    "        \n",
    "        items = {\n",
    "            'train_percent': i,\n",
    "            'model_name': model_name,\n",
    "            'test_acc': round(test_acc * 100, 2)\n",
    "        }\n",
    "        results.append(items)\n",
    "\n",
    "for result in results:\n",
    "    print (result)\n"
   ]
  },
  {
   "cell_type": "code",
   "execution_count": 35,
   "id": "3eacdc8f-9ef4-4332-91e7-d2151dc7d8d2",
   "metadata": {
    "execution": {
     "iopub.execute_input": "2022-01-27T19:37:49.398428Z",
     "iopub.status.busy": "2022-01-27T19:37:49.398163Z",
     "iopub.status.idle": "2022-01-27T19:37:49.405204Z",
     "shell.execute_reply": "2022-01-27T19:37:49.404825Z",
     "shell.execute_reply.started": "2022-01-27T19:37:49.398402Z"
    }
   },
   "outputs": [
    {
     "data": {
      "text/plain": [
       "[{'train_percent': 1, 'model_name': 'mlp', 'test_acc': 56.97},\n",
       " {'train_percent': 1, 'model_name': 'gcn', 'test_acc': 82.47},\n",
       " {'train_percent': 1, 'model_name': 'sgc', 'test_acc': 80.64},\n",
       " {'train_percent': 1, 'model_name': 'appnp', 'test_acc': 82.9},\n",
       " {'train_percent': 2, 'model_name': 'mlp', 'test_acc': 66.95},\n",
       " {'train_percent': 2, 'model_name': 'gcn', 'test_acc': 84.54},\n",
       " {'train_percent': 2, 'model_name': 'sgc', 'test_acc': 84.8},\n",
       " {'train_percent': 2, 'model_name': 'appnp', 'test_acc': 85.44},\n",
       " {'train_percent': 3, 'model_name': 'mlp', 'test_acc': 70.05},\n",
       " {'train_percent': 3, 'model_name': 'gcn', 'test_acc': 85.55},\n",
       " {'train_percent': 3, 'model_name': 'sgc', 'test_acc': 85.83},\n",
       " {'train_percent': 3, 'model_name': 'appnp', 'test_acc': 86.51},\n",
       " {'train_percent': 4, 'model_name': 'mlp', 'test_acc': 72.92},\n",
       " {'train_percent': 4, 'model_name': 'gcn', 'test_acc': 87.33},\n",
       " {'train_percent': 4, 'model_name': 'sgc', 'test_acc': 86.86},\n",
       " {'train_percent': 4, 'model_name': 'appnp', 'test_acc': 87.26},\n",
       " {'train_percent': 5, 'model_name': 'mlp', 'test_acc': 76.57},\n",
       " {'train_percent': 5, 'model_name': 'gcn', 'test_acc': 87.06},\n",
       " {'train_percent': 5, 'model_name': 'sgc', 'test_acc': 87.11},\n",
       " {'train_percent': 5, 'model_name': 'appnp', 'test_acc': 87.56},\n",
       " {'train_percent': 6, 'model_name': 'mlp', 'test_acc': 76.99},\n",
       " {'train_percent': 6, 'model_name': 'gcn', 'test_acc': 87.31},\n",
       " {'train_percent': 6, 'model_name': 'sgc', 'test_acc': 87.25},\n",
       " {'train_percent': 6, 'model_name': 'appnp', 'test_acc': 88.15},\n",
       " {'train_percent': 7, 'model_name': 'mlp', 'test_acc': 78.08},\n",
       " {'train_percent': 7, 'model_name': 'gcn', 'test_acc': 87.34},\n",
       " {'train_percent': 7, 'model_name': 'sgc', 'test_acc': 88.19},\n",
       " {'train_percent': 7, 'model_name': 'appnp', 'test_acc': 88.56}]"
      ]
     },
     "execution_count": 35,
     "metadata": {},
     "output_type": "execute_result"
    }
   ],
   "source": [
    "results"
   ]
  },
  {
   "cell_type": "code",
   "execution_count": 36,
   "id": "1a6b9c94-f91d-4926-bf89-02ee4ecb7c89",
   "metadata": {
    "execution": {
     "iopub.execute_input": "2022-01-27T19:42:29.741973Z",
     "iopub.status.busy": "2022-01-27T19:42:29.741720Z",
     "iopub.status.idle": "2022-01-27T19:42:29.746132Z",
     "shell.execute_reply": "2022-01-27T19:42:29.745603Z",
     "shell.execute_reply.started": "2022-01-27T19:42:29.741948Z"
    }
   },
   "outputs": [],
   "source": [
    "xticks = np.arange(0.1, 0.8, 0.1)\n",
    "acc_dict = {}\n",
    "for r in results:\n",
    "    if r['model_name'] not in acc_dict.keys():\n",
    "        acc_dict[r['model_name']] = [r['test_acc']]\n",
    "    else:\n",
    "        acc_dict[r['model_name']].append(r['test_acc'])"
   ]
  },
  {
   "cell_type": "code",
   "execution_count": 66,
   "id": "867de6c5-dea0-450d-b9cc-c684fb25ad3c",
   "metadata": {
    "execution": {
     "iopub.execute_input": "2022-01-28T00:52:29.727503Z",
     "iopub.status.busy": "2022-01-28T00:52:29.727268Z",
     "iopub.status.idle": "2022-01-28T00:52:30.073620Z",
     "shell.execute_reply": "2022-01-28T00:52:30.073195Z",
     "shell.execute_reply.started": "2022-01-28T00:52:29.727477Z"
    },
    "tags": []
   },
   "outputs": [
    {
     "data": {
      "image/png": "[encoded data removed]",
      "text/plain": [
       "<Figure size 720x576 with 1 Axes>"
      ]
     },
     "metadata": {},
     "output_type": "display_data"
    }
   ],
   "source": [
    "plt.plot(xticks, acc_dict['mlp'], linewidth=5, marker='x', markersize=12, label=\"MLP\")\n",
    "plt.plot(xticks, acc_dict['sgc'], linewidth=5, marker='s', markersize=12, label=\"SGC\")\n",
    "plt.plot(xticks, acc_dict['gcn'], linewidth=5, marker='^', markersize=12, label=\"GCN\")\n",
    "plt.plot(xticks, acc_dict['appnp'], linewidth=5, marker='o', markersize=12, label=\"APPNP\")\n",
    "plt.ylabel(\"Accuracy\", fontsize=32, fontweight='bold')\n",
    "plt.xlabel(\"Ratio of Training Nodes\", fontsize=32, fontweight='bold')\n",
    "plt.ylim(50, 100)\n",
    "plt.yticks(fontsize=28, fontweight='bold')\n",
    "plt.xticks(fontsize=28, fontweight='bold')\n",
    "plt.title(\"cora\", fontsize=48, fontweight='bold')\n",
    "plt.legend(fontsize=28)\n",
    "plt.tight_layout()\n",
    "plt.show()"
   ]
  },
  {
   "cell_type": "code",
   "execution_count": 46,
   "id": "c9a51b1c-bb10-4c5d-8498-8b835ab80a6d",
   "metadata": {
    "execution": {
     "iopub.execute_input": "2022-01-27T19:59:14.515694Z",
     "iopub.status.busy": "2022-01-27T19:59:14.515442Z",
     "iopub.status.idle": "2022-01-27T20:00:04.804142Z",
     "shell.execute_reply": "2022-01-27T20:00:04.803670Z",
     "shell.execute_reply.started": "2022-01-27T19:59:14.515668Z"
    },
    "scrolled": true,
    "tags": []
   },
   "outputs": [
    {
     "name": "stdout",
     "output_type": "stream",
     "text": [
      "Namespace(actnn=False, checkpoint_path='./checkpoints/model.pt', cpu=False, cpu_inference=False, dataset=['Cora'], devices=[0], distributed=False, dw='node_classification_dw', epoch=500, epochs=500, eval_step=1, fp16=False, load_emb_path=None, local_rank=0, log_path='.', logger=None, lr=0.01, master_addr='localhost', master_port=13425, max_epoch=None, model=['MLP'], mw='node_classification_mw', n_trials=3, n_warmup_steps=0, no_test=False, nstage=1, patience=100, progress_bar='epoch', project='cogdl-exp', resume_training=False, rp_ratio=1, save_emb_path=None, seed=[0], split=[0], unsup=False, use_best_config=False, weight_decay=0)\n",
      " \n",
      "|----------------------------------------------------------------------------------------|\n",
      "    *** Running (`Cora`, `MLP`, `node_classification_dw`, `node_classification_mw`)\n",
      "|----------------------------------------------------------------------------------------|\n",
      "Model Parameters: 92231\n"
     ]
    },
    {
     "name": "stderr",
     "output_type": "stream",
     "text": [
      "Epoch: 158, train_loss:  0.0219, val_acc:  0.5701:  32%|███▏      | 158/500 [00:00<00:00, 342.41it/s]\n"
     ]
    },
    {
     "name": "stdout",
     "output_type": "stream",
     "text": [
      "Saving 59-th model to ./checkpoints/model.pt ...\n",
      "Loading model from ./checkpoints/model.pt ...\n",
      "{'test_acc': 0.540084388185654, 'val_acc': 0.577490774907749}\n",
      "| Variant       | test_acc      | val_acc       |\n",
      "|---------------|---------------|---------------|\n",
      "| (Cora, 'MLP') | 0.5401±0.0000 | 0.5775±0.0000 |\n",
      "Namespace(actnn=False, checkpoint_path='./checkpoints/model.pt', cpu=False, cpu_inference=False, dataset=['Cora'], devices=[0], distributed=False, dw='node_classification_dw', epoch=500, epochs=500, eval_step=1, fp16=False, load_emb_path=None, local_rank=0, log_path='.', logger=None, lr=0.01, master_addr='localhost', master_port=13425, max_epoch=None, model=['MLP'], mw='node_classification_mw', n_trials=3, n_warmup_steps=0, no_test=False, nstage=1, patience=100, progress_bar='epoch', project='cogdl-exp', resume_training=False, rp_ratio=1, save_emb_path=None, seed=[1], split=[0], unsup=False, use_best_config=False, weight_decay=0)\n",
      " \n",
      "|----------------------------------------------------------------------------------------|\n",
      "    *** Running (`Cora`, `MLP`, `node_classification_dw`, `node_classification_mw`)\n",
      "|----------------------------------------------------------------------------------------|\n",
      "Model Parameters: 92231\n"
     ]
    },
    {
     "name": "stderr",
     "output_type": "stream",
     "text": [
      "Epoch: 259, train_loss:  0.0043, val_acc:  0.5867:  52%|█████▏    | 259/500 [00:00<00:00, 343.19it/s]\n"
     ]
    },
    {
     "name": "stdout",
     "output_type": "stream",
     "text": [
      "Saving 160-th model to ./checkpoints/model.pt ...\n",
      "Loading model from ./checkpoints/model.pt ...\n",
      "{'test_acc': 0.560126582278481, 'val_acc': 0.5996309963099631}\n",
      "| Variant       | test_acc      | val_acc       |\n",
      "|---------------|---------------|---------------|\n",
      "| (Cora, 'MLP') | 0.5601±0.0000 | 0.5996±0.0000 |\n",
      "Namespace(actnn=False, checkpoint_path='./checkpoints/model.pt', cpu=False, cpu_inference=False, dataset=['Cora'], devices=[0], distributed=False, dw='node_classification_dw', epoch=500, epochs=500, eval_step=1, fp16=False, load_emb_path=None, local_rank=0, log_path='.', logger=None, lr=0.01, master_addr='localhost', master_port=13425, max_epoch=None, model=['MLP'], mw='node_classification_mw', n_trials=3, n_warmup_steps=0, no_test=False, nstage=1, patience=100, progress_bar='epoch', project='cogdl-exp', resume_training=False, rp_ratio=1, save_emb_path=None, seed=[2], split=[0], unsup=False, use_best_config=False, weight_decay=0)\n",
      " \n",
      "|----------------------------------------------------------------------------------------|\n",
      "    *** Running (`Cora`, `MLP`, `node_classification_dw`, `node_classification_mw`)\n",
      "|----------------------------------------------------------------------------------------|\n",
      "Model Parameters: 92231\n"
     ]
    },
    {
     "name": "stderr",
     "output_type": "stream",
     "text": [
      "Epoch: 221, train_loss:  0.0011, val_acc:  0.5996:  44%|████▍     | 221/500 [00:00<00:00, 358.94it/s]\n"
     ]
    },
    {
     "name": "stdout",
     "output_type": "stream",
     "text": [
      "Saving 122-th model to ./checkpoints/model.pt ...\n",
      "Loading model from ./checkpoints/model.pt ...\n",
      "{'test_acc': 0.5828059071729957, 'val_acc': 0.6107011070110702}\n",
      "| Variant       | test_acc      | val_acc       |\n",
      "|---------------|---------------|---------------|\n",
      "| (Cora, 'MLP') | 0.5828±0.0000 | 0.6107±0.0000 |\n",
      "Namespace(actnn=False, checkpoint_path='./checkpoints/model.pt', cpu=False, cpu_inference=False, dataset=['Cora'], devices=[0], distributed=False, dw='node_classification_dw', epoch=500, epochs=500, eval_step=1, fp16=False, load_emb_path=None, local_rank=0, log_path='.', logger=None, lr=0.01, master_addr='localhost', master_port=13425, max_epoch=None, model=['MLP'], mw='node_classification_mw', n_trials=3, n_warmup_steps=0, no_test=False, nstage=1, patience=100, progress_bar='epoch', project='cogdl-exp', resume_training=False, rp_ratio=1, save_emb_path=None, seed=[3], split=[0], unsup=False, use_best_config=False, weight_decay=0)\n",
      " \n",
      "|----------------------------------------------------------------------------------------|\n",
      "    *** Running (`Cora`, `MLP`, `node_classification_dw`, `node_classification_mw`)\n",
      "|----------------------------------------------------------------------------------------|\n",
      "Model Parameters: 92231\n"
     ]
    },
    {
     "name": "stderr",
     "output_type": "stream",
     "text": [
      "Epoch: 209, train_loss:  0.0029, val_acc:  0.5996:  42%|████▏     | 209/500 [00:00<00:00, 362.75it/s]\n"
     ]
    },
    {
     "name": "stdout",
     "output_type": "stream",
     "text": [
      "Saving 110-th model to ./checkpoints/model.pt ...\n",
      "Loading model from ./checkpoints/model.pt ...\n",
      "{'test_acc': 0.5828059071729957, 'val_acc': 0.6107011070110702}\n",
      "| Variant       | test_acc      | val_acc       |\n",
      "|---------------|---------------|---------------|\n",
      "| (Cora, 'MLP') | 0.5828±0.0000 | 0.6107±0.0000 |\n",
      "Namespace(actnn=False, checkpoint_path='./checkpoints/model.pt', cpu=False, cpu_inference=False, dataset=['Cora'], devices=[0], distributed=False, dw='node_classification_dw', epoch=500, epochs=500, eval_step=1, fp16=False, load_emb_path=None, local_rank=0, log_path='.', logger=None, lr=0.01, master_addr='localhost', master_port=13425, max_epoch=None, model=['MLP'], mw='node_classification_mw', n_trials=3, n_warmup_steps=0, no_test=False, nstage=1, patience=100, progress_bar='epoch', project='cogdl-exp', resume_training=False, rp_ratio=1, save_emb_path=None, seed=[4], split=[0], unsup=False, use_best_config=False, weight_decay=0)\n",
      " \n",
      "|----------------------------------------------------------------------------------------|\n",
      "    *** Running (`Cora`, `MLP`, `node_classification_dw`, `node_classification_mw`)\n",
      "|----------------------------------------------------------------------------------------|\n",
      "Model Parameters: 92231\n"
     ]
    },
    {
     "name": "stderr",
     "output_type": "stream",
     "text": [
      "Epoch: 189, train_loss:  0.0016, val_acc:  0.6125:  38%|███▊      | 189/500 [00:00<00:00, 367.85it/s]\n"
     ]
    },
    {
     "name": "stdout",
     "output_type": "stream",
     "text": [
      "Saving 90-th model to ./checkpoints/model.pt ...\n",
      "Loading model from ./checkpoints/model.pt ...\n",
      "{'test_acc': 0.5822784810126582, 'val_acc': 0.6143911439114391}\n",
      "| Variant       | test_acc      | val_acc       |\n",
      "|---------------|---------------|---------------|\n",
      "| (Cora, 'MLP') | 0.5823±0.0000 | 0.6144±0.0000 |\n",
      "Namespace(actnn=False, checkpoint_path='./checkpoints/model.pt', cpu=False, cpu_inference=False, dataset=['Cora'], devices=[0], distributed=False, dw='node_classification_dw', epoch=500, epochs=500, eval_step=1, fp16=False, load_emb_path=None, local_rank=0, log_path='.', logger=None, lr=0.01, master_addr='localhost', master_port=13425, max_epoch=None, model=['MLP'], mw='node_classification_mw', n_trials=3, n_warmup_steps=0, no_test=False, nstage=1, patience=100, progress_bar='epoch', project='cogdl-exp', resume_training=False, rp_ratio=1, save_emb_path=None, seed=[5], split=[0], unsup=False, use_best_config=False, weight_decay=0)\n",
      " \n",
      "|----------------------------------------------------------------------------------------|\n",
      "    *** Running (`Cora`, `MLP`, `node_classification_dw`, `node_classification_mw`)\n",
      "|----------------------------------------------------------------------------------------|\n",
      "Model Parameters: 92231\n"
     ]
    },
    {
     "name": "stderr",
     "output_type": "stream",
     "text": [
      "Epoch: 100, train_loss:  0.0001, val_acc:  0.6052:  20%|██        | 100/500 [00:00<00:01, 366.42it/s]\n"
     ]
    },
    {
     "name": "stdout",
     "output_type": "stream",
     "text": [
      "Saving 1-th model to ./checkpoints/model.pt ...\n",
      "Loading model from ./checkpoints/model.pt ...\n",
      "{'test_acc': 0.5854430379746836, 'val_acc': 0.6125461254612546}\n",
      "| Variant       | test_acc      | val_acc       |\n",
      "|---------------|---------------|---------------|\n",
      "| (Cora, 'MLP') | 0.5854±0.0000 | 0.6125±0.0000 |\n",
      "Namespace(actnn=False, checkpoint_path='./checkpoints/model.pt', cpu=False, cpu_inference=False, dataset=['Cora'], devices=[0], distributed=False, dw='node_classification_dw', epoch=500, epochs=500, eval_step=1, fp16=False, load_emb_path=None, local_rank=0, log_path='.', logger=None, lr=0.01, master_addr='localhost', master_port=13425, max_epoch=None, model=['MLP'], mw='node_classification_mw', n_trials=3, n_warmup_steps=0, no_test=False, nstage=1, patience=100, progress_bar='epoch', project='cogdl-exp', resume_training=False, rp_ratio=1, save_emb_path=None, seed=[6], split=[0], unsup=False, use_best_config=False, weight_decay=0)\n",
      " \n",
      "|----------------------------------------------------------------------------------------|\n",
      "    *** Running (`Cora`, `MLP`, `node_classification_dw`, `node_classification_mw`)\n",
      "|----------------------------------------------------------------------------------------|\n",
      "Model Parameters: 92231\n"
     ]
    },
    {
     "name": "stderr",
     "output_type": "stream",
     "text": [
      "Epoch: 185, train_loss:  0.0001, val_acc:  0.6089:  37%|███▋      | 185/500 [00:00<00:00, 339.33it/s]\n"
     ]
    },
    {
     "name": "stdout",
     "output_type": "stream",
     "text": [
      "Saving 86-th model to ./checkpoints/model.pt ...\n",
      "Loading model from ./checkpoints/model.pt ...\n",
      "{'test_acc': 0.5886075949367089, 'val_acc': 0.6107011070110702}\n",
      "| Variant       | test_acc      | val_acc       |\n",
      "|---------------|---------------|---------------|\n",
      "| (Cora, 'MLP') | 0.5886±0.0000 | 0.6107±0.0000 |\n",
      "Namespace(actnn=False, checkpoint_path='./checkpoints/model.pt', cpu=False, cpu_inference=False, dataset=['Cora'], devices=[0], distributed=False, dw='node_classification_dw', epoch=500, epochs=500, eval_step=1, fp16=False, load_emb_path=None, local_rank=0, log_path='.', logger=None, lr=0.01, master_addr='localhost', master_port=13425, max_epoch=None, model=['MLP'], mw='node_classification_mw', n_trials=3, n_warmup_steps=0, no_test=False, nstage=1, patience=100, progress_bar='epoch', project='cogdl-exp', resume_training=False, rp_ratio=1, save_emb_path=None, seed=[7], split=[0], unsup=False, use_best_config=False, weight_decay=0)\n",
      " \n",
      "|----------------------------------------------------------------------------------------|\n",
      "    *** Running (`Cora`, `MLP`, `node_classification_dw`, `node_classification_mw`)\n",
      "|----------------------------------------------------------------------------------------|\n",
      "Model Parameters: 92231\n"
     ]
    },
    {
     "name": "stderr",
     "output_type": "stream",
     "text": [
      "Epoch: 112, train_loss:  0.0009, val_acc:  0.5996:  22%|██▏       | 112/500 [00:00<00:01, 340.74it/s]\n"
     ]
    },
    {
     "name": "stdout",
     "output_type": "stream",
     "text": [
      "Saving 13-th model to ./checkpoints/model.pt ...\n",
      "Loading model from ./checkpoints/model.pt ...\n",
      "{'test_acc': 0.5970464135021097, 'val_acc': 0.6107011070110702}\n",
      "| Variant       | test_acc      | val_acc       |\n",
      "|---------------|---------------|---------------|\n",
      "| (Cora, 'MLP') | 0.5970±0.0000 | 0.6107±0.0000 |\n",
      "Namespace(actnn=False, checkpoint_path='./checkpoints/model.pt', cpu=False, cpu_inference=False, dataset=['Cora'], devices=[0], distributed=False, dw='node_classification_dw', epoch=500, epochs=500, eval_step=1, fp16=False, load_emb_path=None, local_rank=0, log_path='.', logger=None, lr=0.01, master_addr='localhost', master_port=13425, max_epoch=None, model=['MLP'], mw='node_classification_mw', n_trials=3, n_warmup_steps=0, no_test=False, nstage=1, patience=100, progress_bar='epoch', project='cogdl-exp', resume_training=False, rp_ratio=1, save_emb_path=None, seed=[8], split=[0], unsup=False, use_best_config=False, weight_decay=0)\n",
      " \n",
      "|----------------------------------------------------------------------------------------|\n",
      "    *** Running (`Cora`, `MLP`, `node_classification_dw`, `node_classification_mw`)\n",
      "|----------------------------------------------------------------------------------------|\n",
      "Model Parameters: 92231\n"
     ]
    },
    {
     "name": "stderr",
     "output_type": "stream",
     "text": [
      "Epoch: 135, train_loss:  0.0063, val_acc:  0.6070:  27%|██▋       | 135/500 [00:00<00:01, 361.08it/s]\n"
     ]
    },
    {
     "name": "stdout",
     "output_type": "stream",
     "text": [
      "Saving 36-th model to ./checkpoints/model.pt ...\n",
      "Loading model from ./checkpoints/model.pt ...\n",
      "{'test_acc': 0.5838607594936709, 'val_acc': 0.6088560885608856}\n",
      "| Variant       | test_acc      | val_acc       |\n",
      "|---------------|---------------|---------------|\n",
      "| (Cora, 'MLP') | 0.5839±0.0000 | 0.6089±0.0000 |\n",
      "Namespace(actnn=False, checkpoint_path='./checkpoints/model.pt', cpu=False, cpu_inference=False, dataset=['Cora'], devices=[0], distributed=False, dw='node_classification_dw', epoch=500, epochs=500, eval_step=1, fp16=False, load_emb_path=None, local_rank=0, log_path='.', logger=None, lr=0.01, master_addr='localhost', master_port=13425, max_epoch=None, model=['MLP'], mw='node_classification_mw', n_trials=3, n_warmup_steps=0, no_test=False, nstage=1, patience=100, progress_bar='epoch', project='cogdl-exp', resume_training=False, rp_ratio=1, save_emb_path=None, seed=[9], split=[0], unsup=False, use_best_config=False, weight_decay=0)\n",
      " \n",
      "|----------------------------------------------------------------------------------------|\n",
      "    *** Running (`Cora`, `MLP`, `node_classification_dw`, `node_classification_mw`)\n",
      "|----------------------------------------------------------------------------------------|\n",
      "Model Parameters: 92231\n"
     ]
    },
    {
     "name": "stderr",
     "output_type": "stream",
     "text": [
      "Epoch: 135, train_loss:  0.0001, val_acc:  0.6107:  27%|██▋       | 135/500 [00:00<00:01, 357.21it/s]\n"
     ]
    },
    {
     "name": "stdout",
     "output_type": "stream",
     "text": [
      "Saving 36-th model to ./checkpoints/model.pt ...\n",
      "Loading model from ./checkpoints/model.pt ...\n",
      "{'test_acc': 0.5991561181434599, 'val_acc': 0.6236162361623616}\n",
      "| Variant       | test_acc      | val_acc       |\n",
      "|---------------|---------------|---------------|\n",
      "| (Cora, 'MLP') | 0.5992±0.0000 | 0.6236±0.0000 |\n",
      "Namespace(actnn=False, checkpoint_path='./checkpoints/model.pt', cpu=False, cpu_inference=False, dataset=['Cora'], devices=[0], distributed=False, dw='node_classification_dw', epoch=500, epochs=500, eval_step=1, fp16=False, load_emb_path=None, local_rank=0, log_path='.', logger=None, lr=0.01, master_addr='localhost', master_port=13425, max_epoch=None, model=['MLP'], mw='node_classification_mw', n_trials=3, n_warmup_steps=0, no_test=False, nstage=1, patience=100, progress_bar='epoch', project='cogdl-exp', resume_training=False, rp_ratio=1, save_emb_path=None, seed=[0], split=[0], unsup=False, use_best_config=False, weight_decay=0)\n",
      " \n",
      "|----------------------------------------------------------------------------------------|\n",
      "    *** Running (`Cora`, `MLP`, `node_classification_dw`, `node_classification_mw`)\n",
      "|----------------------------------------------------------------------------------------|\n",
      "Model Parameters: 92231\n"
     ]
    },
    {
     "name": "stderr",
     "output_type": "stream",
     "text": [
      "Epoch: 235, train_loss:  0.0035, val_acc:  0.5996:  47%|████▋     | 235/500 [00:00<00:00, 340.34it/s]\n"
     ]
    },
    {
     "name": "stdout",
     "output_type": "stream",
     "text": [
      "Saving 136-th model to ./checkpoints/model.pt ...\n",
      "Loading model from ./checkpoints/model.pt ...\n",
      "{'test_acc': 0.6002109704641351, 'val_acc': 0.6180811808118081}\n",
      "| Variant       | test_acc      | val_acc       |\n",
      "|---------------|---------------|---------------|\n",
      "| (Cora, 'MLP') | 0.6002±0.0000 | 0.6181±0.0000 |\n",
      "Namespace(actnn=False, checkpoint_path='./checkpoints/model.pt', cpu=False, cpu_inference=False, dataset=['Cora'], devices=[0], distributed=False, dw='node_classification_dw', epoch=500, epochs=500, eval_step=1, fp16=False, load_emb_path=None, local_rank=0, log_path='.', logger=None, lr=0.01, master_addr='localhost', master_port=13425, max_epoch=None, model=['MLP'], mw='node_classification_mw', n_trials=3, n_warmup_steps=0, no_test=False, nstage=1, patience=100, progress_bar='epoch', project='cogdl-exp', resume_training=False, rp_ratio=1, save_emb_path=None, seed=[1], split=[0], unsup=False, use_best_config=False, weight_decay=0)\n",
      " \n",
      "|----------------------------------------------------------------------------------------|\n",
      "    *** Running (`Cora`, `MLP`, `node_classification_dw`, `node_classification_mw`)\n",
      "|----------------------------------------------------------------------------------------|\n",
      "Model Parameters: 92231\n"
     ]
    },
    {
     "name": "stderr",
     "output_type": "stream",
     "text": [
      "Epoch: 311, train_loss:  0.0003, val_acc:  0.6218:  62%|██████▏   | 311/500 [00:00<00:00, 370.12it/s]\n"
     ]
    },
    {
     "name": "stdout",
     "output_type": "stream",
     "text": [
      "Saving 212-th model to ./checkpoints/model.pt ...\n",
      "Loading model from ./checkpoints/model.pt ...\n",
      "{'test_acc': 0.6081223628691983, 'val_acc': 0.6236162361623616}\n",
      "| Variant       | test_acc      | val_acc       |\n",
      "|---------------|---------------|---------------|\n",
      "| (Cora, 'MLP') | 0.6081±0.0000 | 0.6236±0.0000 |\n",
      "Namespace(actnn=False, checkpoint_path='./checkpoints/model.pt', cpu=False, cpu_inference=False, dataset=['Cora'], devices=[0], distributed=False, dw='node_classification_dw', epoch=500, epochs=500, eval_step=1, fp16=False, load_emb_path=None, local_rank=0, log_path='.', logger=None, lr=0.01, master_addr='localhost', master_port=13425, max_epoch=None, model=['MLP'], mw='node_classification_mw', n_trials=3, n_warmup_steps=0, no_test=False, nstage=1, patience=100, progress_bar='epoch', project='cogdl-exp', resume_training=False, rp_ratio=1, save_emb_path=None, seed=[2], split=[0], unsup=False, use_best_config=False, weight_decay=0)\n",
      " \n",
      "|----------------------------------------------------------------------------------------|\n",
      "    *** Running (`Cora`, `MLP`, `node_classification_dw`, `node_classification_mw`)\n",
      "|----------------------------------------------------------------------------------------|\n",
      "Model Parameters: 92231\n"
     ]
    },
    {
     "name": "stderr",
     "output_type": "stream",
     "text": [
      "Epoch: 136, train_loss:  0.0000, val_acc:  0.6125:  27%|██▋       | 136/500 [00:00<00:00, 373.36it/s]\n"
     ]
    },
    {
     "name": "stdout",
     "output_type": "stream",
     "text": [
      "Saving 37-th model to ./checkpoints/model.pt ...\n",
      "Loading model from ./checkpoints/model.pt ...\n",
      "{'test_acc': 0.6007383966244726, 'val_acc': 0.6217712177121771}\n",
      "| Variant       | test_acc      | val_acc       |\n",
      "|---------------|---------------|---------------|\n",
      "| (Cora, 'MLP') | 0.6007±0.0000 | 0.6218±0.0000 |\n",
      "Namespace(actnn=False, checkpoint_path='./checkpoints/model.pt', cpu=False, cpu_inference=False, dataset=['Cora'], devices=[0], distributed=False, dw='node_classification_dw', epoch=500, epochs=500, eval_step=1, fp16=False, load_emb_path=None, local_rank=0, log_path='.', logger=None, lr=0.01, master_addr='localhost', master_port=13425, max_epoch=None, model=['MLP'], mw='node_classification_mw', n_trials=3, n_warmup_steps=0, no_test=False, nstage=1, patience=100, progress_bar='epoch', project='cogdl-exp', resume_training=False, rp_ratio=1, save_emb_path=None, seed=[3], split=[0], unsup=False, use_best_config=False, weight_decay=0)\n",
      " \n",
      "|----------------------------------------------------------------------------------------|\n",
      "    *** Running (`Cora`, `MLP`, `node_classification_dw`, `node_classification_mw`)\n",
      "|----------------------------------------------------------------------------------------|\n",
      "Model Parameters: 92231\n"
     ]
    },
    {
     "name": "stderr",
     "output_type": "stream",
     "text": [
      "Epoch: 127, train_loss:  0.0003, val_acc:  0.6107:  25%|██▌       | 127/500 [00:00<00:00, 390.27it/s]\n"
     ]
    },
    {
     "name": "stdout",
     "output_type": "stream",
     "text": [
      "Saving 28-th model to ./checkpoints/model.pt ...\n",
      "Loading model from ./checkpoints/model.pt ...\n",
      "{'test_acc': 0.6039029535864979, 'val_acc': 0.6236162361623616}\n",
      "| Variant       | test_acc      | val_acc       |\n",
      "|---------------|---------------|---------------|\n",
      "| (Cora, 'MLP') | 0.6039±0.0000 | 0.6236±0.0000 |\n",
      "Namespace(actnn=False, checkpoint_path='./checkpoints/model.pt', cpu=False, cpu_inference=False, dataset=['Cora'], devices=[0], distributed=False, dw='node_classification_dw', epoch=500, epochs=500, eval_step=1, fp16=False, load_emb_path=None, local_rank=0, log_path='.', logger=None, lr=0.01, master_addr='localhost', master_port=13425, max_epoch=None, model=['MLP'], mw='node_classification_mw', n_trials=3, n_warmup_steps=0, no_test=False, nstage=1, patience=100, progress_bar='epoch', project='cogdl-exp', resume_training=False, rp_ratio=1, save_emb_path=None, seed=[4], split=[0], unsup=False, use_best_config=False, weight_decay=0)\n",
      " \n",
      "|----------------------------------------------------------------------------------------|\n",
      "    *** Running (`Cora`, `MLP`, `node_classification_dw`, `node_classification_mw`)\n",
      "|----------------------------------------------------------------------------------------|\n",
      "Model Parameters: 92231\n"
     ]
    },
    {
     "name": "stderr",
     "output_type": "stream",
     "text": [
      "Epoch: 290, train_loss:  0.0093, val_acc:  0.6218:  58%|█████▊    | 290/500 [00:00<00:00, 385.55it/s]\n"
     ]
    },
    {
     "name": "stdout",
     "output_type": "stream",
     "text": [
      "Saving 191-th model to ./checkpoints/model.pt ...\n",
      "Loading model from ./checkpoints/model.pt ...\n",
      "{'test_acc': 0.5949367088607594, 'val_acc': 0.6273062730627307}\n",
      "| Variant       | test_acc      | val_acc       |\n",
      "|---------------|---------------|---------------|\n",
      "| (Cora, 'MLP') | 0.5949±0.0000 | 0.6273±0.0000 |\n",
      "Namespace(actnn=False, checkpoint_path='./checkpoints/model.pt', cpu=False, cpu_inference=False, dataset=['Cora'], devices=[0], distributed=False, dw='node_classification_dw', epoch=500, epochs=500, eval_step=1, fp16=False, load_emb_path=None, local_rank=0, log_path='.', logger=None, lr=0.01, master_addr='localhost', master_port=13425, max_epoch=None, model=['MLP'], mw='node_classification_mw', n_trials=3, n_warmup_steps=0, no_test=False, nstage=1, patience=100, progress_bar='epoch', project='cogdl-exp', resume_training=False, rp_ratio=1, save_emb_path=None, seed=[5], split=[0], unsup=False, use_best_config=False, weight_decay=0)\n",
      " \n",
      "|----------------------------------------------------------------------------------------|\n",
      "    *** Running (`Cora`, `MLP`, `node_classification_dw`, `node_classification_mw`)\n",
      "|----------------------------------------------------------------------------------------|\n",
      "Model Parameters: 92231\n"
     ]
    },
    {
     "name": "stderr",
     "output_type": "stream",
     "text": [
      "Epoch: 100, train_loss:  0.0000, val_acc:  0.6255:  20%|██        | 100/500 [00:00<00:01, 365.74it/s]\n"
     ]
    },
    {
     "name": "stdout",
     "output_type": "stream",
     "text": [
      "Saving 1-th model to ./checkpoints/model.pt ...\n",
      "Loading model from ./checkpoints/model.pt ...\n",
      "{'test_acc': 0.5965189873417721, 'val_acc': 0.6273062730627307}\n",
      "| Variant       | test_acc      | val_acc       |\n",
      "|---------------|---------------|---------------|\n",
      "| (Cora, 'MLP') | 0.5965±0.0000 | 0.6273±0.0000 |\n",
      "Namespace(actnn=False, checkpoint_path='./checkpoints/model.pt', cpu=False, cpu_inference=False, dataset=['Cora'], devices=[0], distributed=False, dw='node_classification_dw', epoch=500, epochs=500, eval_step=1, fp16=False, load_emb_path=None, local_rank=0, log_path='.', logger=None, lr=0.01, master_addr='localhost', master_port=13425, max_epoch=None, model=['MLP'], mw='node_classification_mw', n_trials=3, n_warmup_steps=0, no_test=False, nstage=1, patience=100, progress_bar='epoch', project='cogdl-exp', resume_training=False, rp_ratio=1, save_emb_path=None, seed=[6], split=[0], unsup=False, use_best_config=False, weight_decay=0)\n",
      " \n",
      "|----------------------------------------------------------------------------------------|\n",
      "    *** Running (`Cora`, `MLP`, `node_classification_dw`, `node_classification_mw`)\n",
      "|----------------------------------------------------------------------------------------|\n",
      "Model Parameters: 92231\n"
     ]
    },
    {
     "name": "stderr",
     "output_type": "stream",
     "text": [
      "Epoch: 103, train_loss:  0.0000, val_acc:  0.6199:  21%|██        | 103/500 [00:00<00:01, 360.03it/s]\n"
     ]
    },
    {
     "name": "stdout",
     "output_type": "stream",
     "text": [
      "Saving 4-th model to ./checkpoints/model.pt ...\n",
      "Loading model from ./checkpoints/model.pt ...\n",
      "{'test_acc': 0.5959915611814346, 'val_acc': 0.6291512915129152}\n",
      "| Variant       | test_acc      | val_acc       |\n",
      "|---------------|---------------|---------------|\n",
      "| (Cora, 'MLP') | 0.5960±0.0000 | 0.6292±0.0000 |\n",
      "Namespace(actnn=False, checkpoint_path='./checkpoints/model.pt', cpu=False, cpu_inference=False, dataset=['Cora'], devices=[0], distributed=False, dw='node_classification_dw', epoch=500, epochs=500, eval_step=1, fp16=False, load_emb_path=None, local_rank=0, log_path='.', logger=None, lr=0.01, master_addr='localhost', master_port=13425, max_epoch=None, model=['MLP'], mw='node_classification_mw', n_trials=3, n_warmup_steps=0, no_test=False, nstage=1, patience=100, progress_bar='epoch', project='cogdl-exp', resume_training=False, rp_ratio=1, save_emb_path=None, seed=[7], split=[0], unsup=False, use_best_config=False, weight_decay=0)\n",
      " \n",
      "|----------------------------------------------------------------------------------------|\n",
      "    *** Running (`Cora`, `MLP`, `node_classification_dw`, `node_classification_mw`)\n",
      "|----------------------------------------------------------------------------------------|\n",
      "Model Parameters: 92231\n"
     ]
    },
    {
     "name": "stderr",
     "output_type": "stream",
     "text": [
      "Epoch: 109, train_loss:  0.0008, val_acc:  0.6181:  22%|██▏       | 109/500 [00:00<00:01, 324.50it/s]\n"
     ]
    },
    {
     "name": "stdout",
     "output_type": "stream",
     "text": [
      "Saving 10-th model to ./checkpoints/model.pt ...\n",
      "Loading model from ./checkpoints/model.pt ...\n",
      "{'test_acc': 0.6017932489451476, 'val_acc': 0.6291512915129152}\n",
      "| Variant       | test_acc      | val_acc       |\n",
      "|---------------|---------------|---------------|\n",
      "| (Cora, 'MLP') | 0.6018±0.0000 | 0.6292±0.0000 |\n",
      "Namespace(actnn=False, checkpoint_path='./checkpoints/model.pt', cpu=False, cpu_inference=False, dataset=['Cora'], devices=[0], distributed=False, dw='node_classification_dw', epoch=500, epochs=500, eval_step=1, fp16=False, load_emb_path=None, local_rank=0, log_path='.', logger=None, lr=0.01, master_addr='localhost', master_port=13425, max_epoch=None, model=['MLP'], mw='node_classification_mw', n_trials=3, n_warmup_steps=0, no_test=False, nstage=1, patience=100, progress_bar='epoch', project='cogdl-exp', resume_training=False, rp_ratio=1, save_emb_path=None, seed=[8], split=[0], unsup=False, use_best_config=False, weight_decay=0)\n",
      " \n",
      "|----------------------------------------------------------------------------------------|\n",
      "    *** Running (`Cora`, `MLP`, `node_classification_dw`, `node_classification_mw`)\n",
      "|----------------------------------------------------------------------------------------|\n",
      "Model Parameters: 92231\n"
     ]
    },
    {
     "name": "stderr",
     "output_type": "stream",
     "text": [
      "Epoch: 104, train_loss:  0.0009, val_acc:  0.6199:  21%|██        | 104/500 [00:00<00:01, 332.06it/s]\n"
     ]
    },
    {
     "name": "stdout",
     "output_type": "stream",
     "text": [
      "Saving 5-th model to ./checkpoints/model.pt ...\n",
      "Loading model from ./checkpoints/model.pt ...\n",
      "{'test_acc': 0.6002109704641351, 'val_acc': 0.6309963099630996}\n",
      "| Variant       | test_acc      | val_acc       |\n",
      "|---------------|---------------|---------------|\n",
      "| (Cora, 'MLP') | 0.6002±0.0000 | 0.6310±0.0000 |\n",
      "Namespace(actnn=False, checkpoint_path='./checkpoints/model.pt', cpu=False, cpu_inference=False, dataset=['Cora'], devices=[0], distributed=False, dw='node_classification_dw', epoch=500, epochs=500, eval_step=1, fp16=False, load_emb_path=None, local_rank=0, log_path='.', logger=None, lr=0.01, master_addr='localhost', master_port=13425, max_epoch=None, model=['MLP'], mw='node_classification_mw', n_trials=3, n_warmup_steps=0, no_test=False, nstage=1, patience=100, progress_bar='epoch', project='cogdl-exp', resume_training=False, rp_ratio=1, save_emb_path=None, seed=[9], split=[0], unsup=False, use_best_config=False, weight_decay=0)\n",
      " \n",
      "|----------------------------------------------------------------------------------------|\n",
      "    *** Running (`Cora`, `MLP`, `node_classification_dw`, `node_classification_mw`)\n",
      "|----------------------------------------------------------------------------------------|\n",
      "Model Parameters: 92231\n"
     ]
    },
    {
     "name": "stderr",
     "output_type": "stream",
     "text": [
      "Epoch: 205, train_loss:  0.0002, val_acc:  0.6181:  41%|████      | 205/500 [00:00<00:00, 335.80it/s]\n"
     ]
    },
    {
     "name": "stdout",
     "output_type": "stream",
     "text": [
      "Saving 106-th model to ./checkpoints/model.pt ...\n",
      "Loading model from ./checkpoints/model.pt ...\n",
      "{'test_acc': 0.6065400843881856, 'val_acc': 0.6309963099630996}\n",
      "| Variant       | test_acc      | val_acc       |\n",
      "|---------------|---------------|---------------|\n",
      "| (Cora, 'MLP') | 0.6065±0.0000 | 0.6310±0.0000 |\n",
      "Namespace(actnn=False, checkpoint_path='./checkpoints/model.pt', cpu=False, cpu_inference=False, dataset=['Cora'], devices=[0], distributed=False, dw='node_classification_dw', epoch=500, epochs=500, eval_step=1, fp16=False, load_emb_path=None, local_rank=0, log_path='.', logger=None, lr=0.01, master_addr='localhost', master_port=13425, max_epoch=None, model=['MLP'], mw='node_classification_mw', n_trials=3, n_warmup_steps=0, no_test=False, nstage=1, patience=100, progress_bar='epoch', project='cogdl-exp', resume_training=False, rp_ratio=1, save_emb_path=None, seed=[0], split=[0], unsup=False, use_best_config=False, weight_decay=0)\n",
      " \n",
      "|----------------------------------------------------------------------------------------|\n",
      "    *** Running (`Cora`, `MLP`, `node_classification_dw`, `node_classification_mw`)\n",
      "|----------------------------------------------------------------------------------------|\n",
      "Model Parameters: 92231\n"
     ]
    },
    {
     "name": "stderr",
     "output_type": "stream",
     "text": [
      "Epoch: 182, train_loss:  0.0000, val_acc:  0.6144:  36%|███▋      | 182/500 [00:00<00:00, 345.86it/s]\n"
     ]
    },
    {
     "name": "stdout",
     "output_type": "stream",
     "text": [
      "Saving 83-th model to ./checkpoints/model.pt ...\n",
      "Loading model from ./checkpoints/model.pt ...\n",
      "{'test_acc': 0.6107594936708861, 'val_acc': 0.6273062730627307}\n",
      "| Variant       | test_acc      | val_acc       |\n",
      "|---------------|---------------|---------------|\n",
      "| (Cora, 'MLP') | 0.6108±0.0000 | 0.6273±0.0000 |\n",
      "Namespace(actnn=False, checkpoint_path='./checkpoints/model.pt', cpu=False, cpu_inference=False, dataset=['Cora'], devices=[0], distributed=False, dw='node_classification_dw', epoch=500, epochs=500, eval_step=1, fp16=False, load_emb_path=None, local_rank=0, log_path='.', logger=None, lr=0.01, master_addr='localhost', master_port=13425, max_epoch=None, model=['MLP'], mw='node_classification_mw', n_trials=3, n_warmup_steps=0, no_test=False, nstage=1, patience=100, progress_bar='epoch', project='cogdl-exp', resume_training=False, rp_ratio=1, save_emb_path=None, seed=[1], split=[0], unsup=False, use_best_config=False, weight_decay=0)\n",
      " \n",
      "|----------------------------------------------------------------------------------------|\n",
      "    *** Running (`Cora`, `MLP`, `node_classification_dw`, `node_classification_mw`)\n",
      "|----------------------------------------------------------------------------------------|\n",
      "Model Parameters: 92231\n"
     ]
    },
    {
     "name": "stderr",
     "output_type": "stream",
     "text": [
      "Epoch: 102, train_loss:  0.0003, val_acc:  0.6125:  20%|██        | 102/500 [00:00<00:01, 383.37it/s]\n"
     ]
    },
    {
     "name": "stdout",
     "output_type": "stream",
     "text": [
      "Saving 3-th model to ./checkpoints/model.pt ...\n",
      "Loading model from ./checkpoints/model.pt ...\n",
      "{'test_acc': 0.614451476793249, 'val_acc': 0.6291512915129152}\n",
      "| Variant       | test_acc      | val_acc       |\n",
      "|---------------|---------------|---------------|\n",
      "| (Cora, 'MLP') | 0.6145±0.0000 | 0.6292±0.0000 |\n",
      "Namespace(actnn=False, checkpoint_path='./checkpoints/model.pt', cpu=False, cpu_inference=False, dataset=['Cora'], devices=[0], distributed=False, dw='node_classification_dw', epoch=500, epochs=500, eval_step=1, fp16=False, load_emb_path=None, local_rank=0, log_path='.', logger=None, lr=0.01, master_addr='localhost', master_port=13425, max_epoch=None, model=['MLP'], mw='node_classification_mw', n_trials=3, n_warmup_steps=0, no_test=False, nstage=1, patience=100, progress_bar='epoch', project='cogdl-exp', resume_training=False, rp_ratio=1, save_emb_path=None, seed=[2], split=[0], unsup=False, use_best_config=False, weight_decay=0)\n",
      " \n",
      "|----------------------------------------------------------------------------------------|\n",
      "    *** Running (`Cora`, `MLP`, `node_classification_dw`, `node_classification_mw`)\n",
      "|----------------------------------------------------------------------------------------|\n",
      "Model Parameters: 92231\n"
     ]
    },
    {
     "name": "stderr",
     "output_type": "stream",
     "text": [
      "Epoch: 102, train_loss:  0.0001, val_acc:  0.6052:  20%|██        | 102/500 [00:00<00:01, 383.15it/s]\n"
     ]
    },
    {
     "name": "stdout",
     "output_type": "stream",
     "text": [
      "Saving 3-th model to ./checkpoints/model.pt ...\n",
      "Loading model from ./checkpoints/model.pt ...\n",
      "{'test_acc': 0.6102320675105485, 'val_acc': 0.6309963099630996}\n",
      "| Variant       | test_acc      | val_acc       |\n",
      "|---------------|---------------|---------------|\n",
      "| (Cora, 'MLP') | 0.6102±0.0000 | 0.6310±0.0000 |\n",
      "Namespace(actnn=False, checkpoint_path='./checkpoints/model.pt', cpu=False, cpu_inference=False, dataset=['Cora'], devices=[0], distributed=False, dw='node_classification_dw', epoch=500, epochs=500, eval_step=1, fp16=False, load_emb_path=None, local_rank=0, log_path='.', logger=None, lr=0.01, master_addr='localhost', master_port=13425, max_epoch=None, model=['MLP'], mw='node_classification_mw', n_trials=3, n_warmup_steps=0, no_test=False, nstage=1, patience=100, progress_bar='epoch', project='cogdl-exp', resume_training=False, rp_ratio=1, save_emb_path=None, seed=[3], split=[0], unsup=False, use_best_config=False, weight_decay=0)\n",
      " \n",
      "|----------------------------------------------------------------------------------------|\n",
      "    *** Running (`Cora`, `MLP`, `node_classification_dw`, `node_classification_mw`)\n",
      "|----------------------------------------------------------------------------------------|\n",
      "Model Parameters: 92231\n"
     ]
    },
    {
     "name": "stderr",
     "output_type": "stream",
     "text": [
      "Epoch: 104, train_loss:  0.0031, val_acc:  0.6107:  21%|██        | 104/500 [00:00<00:01, 375.40it/s]\n"
     ]
    },
    {
     "name": "stdout",
     "output_type": "stream",
     "text": [
      "Saving 5-th model to ./checkpoints/model.pt ...\n",
      "Loading model from ./checkpoints/model.pt ...\n",
      "{'test_acc': 0.609704641350211, 'val_acc': 0.6328413284132841}\n",
      "| Variant       | test_acc      | val_acc       |\n",
      "|---------------|---------------|---------------|\n",
      "| (Cora, 'MLP') | 0.6097±0.0000 | 0.6328±0.0000 |\n",
      "Namespace(actnn=False, checkpoint_path='./checkpoints/model.pt', cpu=False, cpu_inference=False, dataset=['Cora'], devices=[0], distributed=False, dw='node_classification_dw', epoch=500, epochs=500, eval_step=1, fp16=False, load_emb_path=None, local_rank=0, log_path='.', logger=None, lr=0.01, master_addr='localhost', master_port=13425, max_epoch=None, model=['MLP'], mw='node_classification_mw', n_trials=3, n_warmup_steps=0, no_test=False, nstage=1, patience=100, progress_bar='epoch', project='cogdl-exp', resume_training=False, rp_ratio=1, save_emb_path=None, seed=[4], split=[0], unsup=False, use_best_config=False, weight_decay=0)\n",
      " \n",
      "|----------------------------------------------------------------------------------------|\n",
      "    *** Running (`Cora`, `MLP`, `node_classification_dw`, `node_classification_mw`)\n",
      "|----------------------------------------------------------------------------------------|\n",
      "Model Parameters: 92231\n"
     ]
    },
    {
     "name": "stderr",
     "output_type": "stream",
     "text": [
      "Epoch: 100, train_loss:  0.0000, val_acc:  0.6273:  20%|██        | 100/500 [00:00<00:01, 360.95it/s]\n"
     ]
    },
    {
     "name": "stdout",
     "output_type": "stream",
     "text": [
      "Saving 1-th model to ./checkpoints/model.pt ...\n",
      "Loading model from ./checkpoints/model.pt ...\n",
      "{'test_acc': 0.6107594936708861, 'val_acc': 0.6309963099630996}\n",
      "| Variant       | test_acc      | val_acc       |\n",
      "|---------------|---------------|---------------|\n",
      "| (Cora, 'MLP') | 0.6108±0.0000 | 0.6310±0.0000 |\n",
      "Namespace(actnn=False, checkpoint_path='./checkpoints/model.pt', cpu=False, cpu_inference=False, dataset=['Cora'], devices=[0], distributed=False, dw='node_classification_dw', epoch=500, epochs=500, eval_step=1, fp16=False, load_emb_path=None, local_rank=0, log_path='.', logger=None, lr=0.01, master_addr='localhost', master_port=13425, max_epoch=None, model=['MLP'], mw='node_classification_mw', n_trials=3, n_warmup_steps=0, no_test=False, nstage=1, patience=100, progress_bar='epoch', project='cogdl-exp', resume_training=False, rp_ratio=1, save_emb_path=None, seed=[5], split=[0], unsup=False, use_best_config=False, weight_decay=0)\n",
      " \n",
      "|----------------------------------------------------------------------------------------|\n",
      "    *** Running (`Cora`, `MLP`, `node_classification_dw`, `node_classification_mw`)\n",
      "|----------------------------------------------------------------------------------------|\n",
      "Model Parameters: 92231\n"
     ]
    },
    {
     "name": "stderr",
     "output_type": "stream",
     "text": [
      "Epoch: 140, train_loss:  0.0050, val_acc:  0.6125:  28%|██▊       | 140/500 [00:00<00:01, 346.49it/s]\n"
     ]
    },
    {
     "name": "stdout",
     "output_type": "stream",
     "text": [
      "Saving 41-th model to ./checkpoints/model.pt ...\n",
      "Loading model from ./checkpoints/model.pt ...\n",
      "{'test_acc': 0.6091772151898734, 'val_acc': 0.6273062730627307}\n",
      "| Variant       | test_acc      | val_acc       |\n",
      "|---------------|---------------|---------------|\n",
      "| (Cora, 'MLP') | 0.6092±0.0000 | 0.6273±0.0000 |\n",
      "Namespace(actnn=False, checkpoint_path='./checkpoints/model.pt', cpu=False, cpu_inference=False, dataset=['Cora'], devices=[0], distributed=False, dw='node_classification_dw', epoch=500, epochs=500, eval_step=1, fp16=False, load_emb_path=None, local_rank=0, log_path='.', logger=None, lr=0.01, master_addr='localhost', master_port=13425, max_epoch=None, model=['MLP'], mw='node_classification_mw', n_trials=3, n_warmup_steps=0, no_test=False, nstage=1, patience=100, progress_bar='epoch', project='cogdl-exp', resume_training=False, rp_ratio=1, save_emb_path=None, seed=[6], split=[0], unsup=False, use_best_config=False, weight_decay=0)\n",
      " \n",
      "|----------------------------------------------------------------------------------------|\n",
      "    *** Running (`Cora`, `MLP`, `node_classification_dw`, `node_classification_mw`)\n",
      "|----------------------------------------------------------------------------------------|\n",
      "Model Parameters: 92231\n"
     ]
    },
    {
     "name": "stderr",
     "output_type": "stream",
     "text": [
      "Epoch: 108, train_loss:  0.0034, val_acc:  0.6236:  22%|██▏       | 108/500 [00:00<00:01, 365.04it/s]\n"
     ]
    },
    {
     "name": "stdout",
     "output_type": "stream",
     "text": [
      "Saving 9-th model to ./checkpoints/model.pt ...\n",
      "Loading model from ./checkpoints/model.pt ...\n",
      "{'test_acc': 0.6112869198312236, 'val_acc': 0.6291512915129152}\n",
      "| Variant       | test_acc      | val_acc       |\n",
      "|---------------|---------------|---------------|\n",
      "| (Cora, 'MLP') | 0.6113±0.0000 | 0.6292±0.0000 |\n",
      "Namespace(actnn=False, checkpoint_path='./checkpoints/model.pt', cpu=False, cpu_inference=False, dataset=['Cora'], devices=[0], distributed=False, dw='node_classification_dw', epoch=500, epochs=500, eval_step=1, fp16=False, load_emb_path=None, local_rank=0, log_path='.', logger=None, lr=0.01, master_addr='localhost', master_port=13425, max_epoch=None, model=['MLP'], mw='node_classification_mw', n_trials=3, n_warmup_steps=0, no_test=False, nstage=1, patience=100, progress_bar='epoch', project='cogdl-exp', resume_training=False, rp_ratio=1, save_emb_path=None, seed=[7], split=[0], unsup=False, use_best_config=False, weight_decay=0)\n",
      " \n",
      "|----------------------------------------------------------------------------------------|\n",
      "    *** Running (`Cora`, `MLP`, `node_classification_dw`, `node_classification_mw`)\n",
      "|----------------------------------------------------------------------------------------|\n",
      "Model Parameters: 92231\n"
     ]
    },
    {
     "name": "stderr",
     "output_type": "stream",
     "text": [
      "Epoch: 114, train_loss:  0.0001, val_acc:  0.6181:  23%|██▎       | 114/500 [00:00<00:01, 376.01it/s]\n"
     ]
    },
    {
     "name": "stdout",
     "output_type": "stream",
     "text": [
      "Saving 15-th model to ./checkpoints/model.pt ...\n",
      "Loading model from ./checkpoints/model.pt ...\n",
      "{'test_acc': 0.6170886075949367, 'val_acc': 0.6291512915129152}\n",
      "| Variant       | test_acc      | val_acc       |\n",
      "|---------------|---------------|---------------|\n",
      "| (Cora, 'MLP') | 0.6171±0.0000 | 0.6292±0.0000 |\n",
      "Namespace(actnn=False, checkpoint_path='./checkpoints/model.pt', cpu=False, cpu_inference=False, dataset=['Cora'], devices=[0], distributed=False, dw='node_classification_dw', epoch=500, epochs=500, eval_step=1, fp16=False, load_emb_path=None, local_rank=0, log_path='.', logger=None, lr=0.01, master_addr='localhost', master_port=13425, max_epoch=None, model=['MLP'], mw='node_classification_mw', n_trials=3, n_warmup_steps=0, no_test=False, nstage=1, patience=100, progress_bar='epoch', project='cogdl-exp', resume_training=False, rp_ratio=1, save_emb_path=None, seed=[8], split=[0], unsup=False, use_best_config=False, weight_decay=0)\n",
      " \n",
      "|----------------------------------------------------------------------------------------|\n",
      "    *** Running (`Cora`, `MLP`, `node_classification_dw`, `node_classification_mw`)\n",
      "|----------------------------------------------------------------------------------------|\n",
      "Model Parameters: 92231\n"
     ]
    },
    {
     "name": "stderr",
     "output_type": "stream",
     "text": [
      "Epoch: 153, train_loss:  0.0013, val_acc:  0.6218:  31%|███       | 153/500 [00:00<00:01, 332.16it/s]\n"
     ]
    },
    {
     "name": "stdout",
     "output_type": "stream",
     "text": [
      "Saving 54-th model to ./checkpoints/model.pt ...\n",
      "Loading model from ./checkpoints/model.pt ...\n",
      "{'test_acc': 0.6065400843881856, 'val_acc': 0.6291512915129152}\n",
      "| Variant       | test_acc      | val_acc       |\n",
      "|---------------|---------------|---------------|\n",
      "| (Cora, 'MLP') | 0.6065±0.0000 | 0.6292±0.0000 |\n",
      "Namespace(actnn=False, checkpoint_path='./checkpoints/model.pt', cpu=False, cpu_inference=False, dataset=['Cora'], devices=[0], distributed=False, dw='node_classification_dw', epoch=500, epochs=500, eval_step=1, fp16=False, load_emb_path=None, local_rank=0, log_path='.', logger=None, lr=0.01, master_addr='localhost', master_port=13425, max_epoch=None, model=['MLP'], mw='node_classification_mw', n_trials=3, n_warmup_steps=0, no_test=False, nstage=1, patience=100, progress_bar='epoch', project='cogdl-exp', resume_training=False, rp_ratio=1, save_emb_path=None, seed=[9], split=[0], unsup=False, use_best_config=False, weight_decay=0)\n",
      " \n",
      "|----------------------------------------------------------------------------------------|\n",
      "    *** Running (`Cora`, `MLP`, `node_classification_dw`, `node_classification_mw`)\n",
      "|----------------------------------------------------------------------------------------|\n",
      "Model Parameters: 92231\n"
     ]
    },
    {
     "name": "stderr",
     "output_type": "stream",
     "text": [
      "Epoch: 100, train_loss:  0.0001, val_acc:  0.6144:  20%|██        | 100/500 [00:00<00:01, 366.89it/s]\n"
     ]
    },
    {
     "name": "stdout",
     "output_type": "stream",
     "text": [
      "Saving 1-th model to ./checkpoints/model.pt ...\n",
      "Loading model from ./checkpoints/model.pt ...\n",
      "{'test_acc': 0.6070675105485233, 'val_acc': 0.6291512915129152}\n",
      "| Variant       | test_acc      | val_acc       |\n",
      "|---------------|---------------|---------------|\n",
      "| (Cora, 'MLP') | 0.6071±0.0000 | 0.6292±0.0000 |\n",
      "Namespace(actnn=False, checkpoint_path='./checkpoints/model.pt', cpu=False, cpu_inference=False, dataset=['Cora'], devices=[0], distributed=False, dw='node_classification_dw', epoch=500, epochs=500, eval_step=1, fp16=False, load_emb_path=None, local_rank=0, log_path='.', logger=None, lr=0.01, master_addr='localhost', master_port=13425, max_epoch=None, model=['MLP'], mw='node_classification_mw', n_trials=3, n_warmup_steps=0, no_test=False, nstage=1, patience=100, progress_bar='epoch', project='cogdl-exp', resume_training=False, rp_ratio=1, save_emb_path=None, seed=[0], split=[0], unsup=False, use_best_config=False, weight_decay=0)\n",
      " \n",
      "|----------------------------------------------------------------------------------------|\n",
      "    *** Running (`Cora`, `MLP`, `node_classification_dw`, `node_classification_mw`)\n",
      "|----------------------------------------------------------------------------------------|\n",
      "Model Parameters: 92231\n"
     ]
    },
    {
     "name": "stderr",
     "output_type": "stream",
     "text": [
      "Epoch: 175, train_loss:  0.0000, val_acc:  0.6236:  35%|███▌      | 175/500 [00:00<00:00, 332.36it/s]\n"
     ]
    },
    {
     "name": "stdout",
     "output_type": "stream",
     "text": [
      "Saving 76-th model to ./checkpoints/model.pt ...\n",
      "Loading model from ./checkpoints/model.pt ...\n",
      "{'test_acc': 0.6160337552742616, 'val_acc': 0.6328413284132841}\n",
      "| Variant       | test_acc      | val_acc       |\n",
      "|---------------|---------------|---------------|\n",
      "| (Cora, 'MLP') | 0.6160±0.0000 | 0.6328±0.0000 |\n",
      "Namespace(actnn=False, checkpoint_path='./checkpoints/model.pt', cpu=False, cpu_inference=False, dataset=['Cora'], devices=[0], distributed=False, dw='node_classification_dw', epoch=500, epochs=500, eval_step=1, fp16=False, load_emb_path=None, local_rank=0, log_path='.', logger=None, lr=0.01, master_addr='localhost', master_port=13425, max_epoch=None, model=['MLP'], mw='node_classification_mw', n_trials=3, n_warmup_steps=0, no_test=False, nstage=1, patience=100, progress_bar='epoch', project='cogdl-exp', resume_training=False, rp_ratio=1, save_emb_path=None, seed=[1], split=[0], unsup=False, use_best_config=False, weight_decay=0)\n",
      " \n",
      "|----------------------------------------------------------------------------------------|\n",
      "    *** Running (`Cora`, `MLP`, `node_classification_dw`, `node_classification_mw`)\n",
      "|----------------------------------------------------------------------------------------|\n",
      "Model Parameters: 92231\n"
     ]
    },
    {
     "name": "stderr",
     "output_type": "stream",
     "text": [
      "Epoch: 152, train_loss:  0.0001, val_acc:  0.6144:  30%|███       | 152/500 [00:00<00:00, 348.23it/s]\n"
     ]
    },
    {
     "name": "stdout",
     "output_type": "stream",
     "text": [
      "Saving 53-th model to ./checkpoints/model.pt ...\n",
      "Loading model from ./checkpoints/model.pt ...\n",
      "{'test_acc': 0.6118143459915611, 'val_acc': 0.6254612546125461}\n",
      "| Variant       | test_acc      | val_acc       |\n",
      "|---------------|---------------|---------------|\n",
      "| (Cora, 'MLP') | 0.6118±0.0000 | 0.6255±0.0000 |\n",
      "Namespace(actnn=False, checkpoint_path='./checkpoints/model.pt', cpu=False, cpu_inference=False, dataset=['Cora'], devices=[0], distributed=False, dw='node_classification_dw', epoch=500, epochs=500, eval_step=1, fp16=False, load_emb_path=None, local_rank=0, log_path='.', logger=None, lr=0.01, master_addr='localhost', master_port=13425, max_epoch=None, model=['MLP'], mw='node_classification_mw', n_trials=3, n_warmup_steps=0, no_test=False, nstage=1, patience=100, progress_bar='epoch', project='cogdl-exp', resume_training=False, rp_ratio=1, save_emb_path=None, seed=[2], split=[0], unsup=False, use_best_config=False, weight_decay=0)\n",
      " \n",
      "|----------------------------------------------------------------------------------------|\n",
      "    *** Running (`Cora`, `MLP`, `node_classification_dw`, `node_classification_mw`)\n",
      "|----------------------------------------------------------------------------------------|\n",
      "Model Parameters: 92231\n"
     ]
    },
    {
     "name": "stderr",
     "output_type": "stream",
     "text": [
      "Epoch: 141, train_loss:  0.0003, val_acc:  0.6144:  28%|██▊       | 141/500 [00:00<00:01, 358.91it/s]\n"
     ]
    },
    {
     "name": "stdout",
     "output_type": "stream",
     "text": [
      "Saving 42-th model to ./checkpoints/model.pt ...\n",
      "Loading model from ./checkpoints/model.pt ...\n",
      "{'test_acc': 0.6091772151898734, 'val_acc': 0.6309963099630996}\n",
      "| Variant       | test_acc      | val_acc       |\n",
      "|---------------|---------------|---------------|\n",
      "| (Cora, 'MLP') | 0.6092±0.0000 | 0.6310±0.0000 |\n",
      "Namespace(actnn=False, checkpoint_path='./checkpoints/model.pt', cpu=False, cpu_inference=False, dataset=['Cora'], devices=[0], distributed=False, dw='node_classification_dw', epoch=500, epochs=500, eval_step=1, fp16=False, load_emb_path=None, local_rank=0, log_path='.', logger=None, lr=0.01, master_addr='localhost', master_port=13425, max_epoch=None, model=['MLP'], mw='node_classification_mw', n_trials=3, n_warmup_steps=0, no_test=False, nstage=1, patience=100, progress_bar='epoch', project='cogdl-exp', resume_training=False, rp_ratio=1, save_emb_path=None, seed=[3], split=[0], unsup=False, use_best_config=False, weight_decay=0)\n",
      " \n",
      "|----------------------------------------------------------------------------------------|\n",
      "    *** Running (`Cora`, `MLP`, `node_classification_dw`, `node_classification_mw`)\n",
      "|----------------------------------------------------------------------------------------|\n",
      "Model Parameters: 92231\n"
     ]
    },
    {
     "name": "stderr",
     "output_type": "stream",
     "text": [
      "Epoch: 101, train_loss:  0.0000, val_acc:  0.6125:  20%|██        | 101/500 [00:00<00:01, 364.83it/s]\n"
     ]
    },
    {
     "name": "stdout",
     "output_type": "stream",
     "text": [
      "Saving 2-th model to ./checkpoints/model.pt ...\n",
      "Loading model from ./checkpoints/model.pt ...\n",
      "{'test_acc': 0.6075949367088608, 'val_acc': 0.6309963099630996}\n",
      "| Variant       | test_acc      | val_acc       |\n",
      "|---------------|---------------|---------------|\n",
      "| (Cora, 'MLP') | 0.6076±0.0000 | 0.6310±0.0000 |\n",
      "Namespace(actnn=False, checkpoint_path='./checkpoints/model.pt', cpu=False, cpu_inference=False, dataset=['Cora'], devices=[0], distributed=False, dw='node_classification_dw', epoch=500, epochs=500, eval_step=1, fp16=False, load_emb_path=None, local_rank=0, log_path='.', logger=None, lr=0.01, master_addr='localhost', master_port=13425, max_epoch=None, model=['MLP'], mw='node_classification_mw', n_trials=3, n_warmup_steps=0, no_test=False, nstage=1, patience=100, progress_bar='epoch', project='cogdl-exp', resume_training=False, rp_ratio=1, save_emb_path=None, seed=[4], split=[0], unsup=False, use_best_config=False, weight_decay=0)\n",
      " \n",
      "|----------------------------------------------------------------------------------------|\n",
      "    *** Running (`Cora`, `MLP`, `node_classification_dw`, `node_classification_mw`)\n",
      "|----------------------------------------------------------------------------------------|\n",
      "Model Parameters: 92231\n"
     ]
    },
    {
     "name": "stderr",
     "output_type": "stream",
     "text": [
      "Epoch: 176, train_loss:  0.0001, val_acc:  0.6199:  35%|███▌      | 176/500 [00:00<00:00, 360.81it/s]\n"
     ]
    },
    {
     "name": "stdout",
     "output_type": "stream",
     "text": [
      "Saving 77-th model to ./checkpoints/model.pt ...\n",
      "Loading model from ./checkpoints/model.pt ...\n",
      "{'test_acc': 0.6213080168776371, 'val_acc': 0.6309963099630996}\n",
      "| Variant       | test_acc      | val_acc       |\n",
      "|---------------|---------------|---------------|\n",
      "| (Cora, 'MLP') | 0.6213±0.0000 | 0.6310±0.0000 |\n",
      "Namespace(actnn=False, checkpoint_path='./checkpoints/model.pt', cpu=False, cpu_inference=False, dataset=['Cora'], devices=[0], distributed=False, dw='node_classification_dw', epoch=500, epochs=500, eval_step=1, fp16=False, load_emb_path=None, local_rank=0, log_path='.', logger=None, lr=0.01, master_addr='localhost', master_port=13425, max_epoch=None, model=['MLP'], mw='node_classification_mw', n_trials=3, n_warmup_steps=0, no_test=False, nstage=1, patience=100, progress_bar='epoch', project='cogdl-exp', resume_training=False, rp_ratio=1, save_emb_path=None, seed=[5], split=[0], unsup=False, use_best_config=False, weight_decay=0)\n",
      " \n",
      "|----------------------------------------------------------------------------------------|\n",
      "    *** Running (`Cora`, `MLP`, `node_classification_dw`, `node_classification_mw`)\n",
      "|----------------------------------------------------------------------------------------|\n",
      "Model Parameters: 92231\n"
     ]
    },
    {
     "name": "stderr",
     "output_type": "stream",
     "text": [
      "Epoch: 101, train_loss:  0.0001, val_acc:  0.6236:  20%|██        | 101/500 [00:00<00:01, 328.48it/s]\n"
     ]
    },
    {
     "name": "stdout",
     "output_type": "stream",
     "text": [
      "Saving 2-th model to ./checkpoints/model.pt ...\n",
      "Loading model from ./checkpoints/model.pt ...\n",
      "{'test_acc': 0.6181434599156118, 'val_acc': 0.6346863468634686}\n",
      "| Variant       | test_acc      | val_acc       |\n",
      "|---------------|---------------|---------------|\n",
      "| (Cora, 'MLP') | 0.6181±0.0000 | 0.6347±0.0000 |\n",
      "Namespace(actnn=False, checkpoint_path='./checkpoints/model.pt', cpu=False, cpu_inference=False, dataset=['Cora'], devices=[0], distributed=False, dw='node_classification_dw', epoch=500, epochs=500, eval_step=1, fp16=False, load_emb_path=None, local_rank=0, log_path='.', logger=None, lr=0.01, master_addr='localhost', master_port=13425, max_epoch=None, model=['MLP'], mw='node_classification_mw', n_trials=3, n_warmup_steps=0, no_test=False, nstage=1, patience=100, progress_bar='epoch', project='cogdl-exp', resume_training=False, rp_ratio=1, save_emb_path=None, seed=[6], split=[0], unsup=False, use_best_config=False, weight_decay=0)\n",
      " \n",
      "|----------------------------------------------------------------------------------------|\n",
      "    *** Running (`Cora`, `MLP`, `node_classification_dw`, `node_classification_mw`)\n",
      "|----------------------------------------------------------------------------------------|\n",
      "Model Parameters: 92231\n"
     ]
    },
    {
     "name": "stderr",
     "output_type": "stream",
     "text": [
      "Epoch: 100, train_loss:  0.0000, val_acc:  0.6052:  20%|██        | 100/500 [00:00<00:01, 347.39it/s]\n"
     ]
    },
    {
     "name": "stdout",
     "output_type": "stream",
     "text": [
      "Saving 1-th model to ./checkpoints/model.pt ...\n",
      "Loading model from ./checkpoints/model.pt ...\n",
      "{'test_acc': 0.6176160337552743, 'val_acc': 0.6291512915129152}\n",
      "| Variant       | test_acc      | val_acc       |\n",
      "|---------------|---------------|---------------|\n",
      "| (Cora, 'MLP') | 0.6176±0.0000 | 0.6292±0.0000 |\n",
      "Namespace(actnn=False, checkpoint_path='./checkpoints/model.pt', cpu=False, cpu_inference=False, dataset=['Cora'], devices=[0], distributed=False, dw='node_classification_dw', epoch=500, epochs=500, eval_step=1, fp16=False, load_emb_path=None, local_rank=0, log_path='.', logger=None, lr=0.01, master_addr='localhost', master_port=13425, max_epoch=None, model=['MLP'], mw='node_classification_mw', n_trials=3, n_warmup_steps=0, no_test=False, nstage=1, patience=100, progress_bar='epoch', project='cogdl-exp', resume_training=False, rp_ratio=1, save_emb_path=None, seed=[7], split=[0], unsup=False, use_best_config=False, weight_decay=0)\n",
      " \n",
      "|----------------------------------------------------------------------------------------|\n",
      "    *** Running (`Cora`, `MLP`, `node_classification_dw`, `node_classification_mw`)\n",
      "|----------------------------------------------------------------------------------------|\n",
      "Model Parameters: 92231\n"
     ]
    },
    {
     "name": "stderr",
     "output_type": "stream",
     "text": [
      "Epoch: 103, train_loss:  0.0000, val_acc:  0.6181:  21%|██        | 103/500 [00:00<00:01, 356.77it/s]\n"
     ]
    },
    {
     "name": "stdout",
     "output_type": "stream",
     "text": [
      "Saving 4-th model to ./checkpoints/model.pt ...\n",
      "Loading model from ./checkpoints/model.pt ...\n",
      "{'test_acc': 0.6213080168776371, 'val_acc': 0.6328413284132841}\n",
      "| Variant       | test_acc      | val_acc       |\n",
      "|---------------|---------------|---------------|\n",
      "| (Cora, 'MLP') | 0.6213±0.0000 | 0.6328±0.0000 |\n",
      "Namespace(actnn=False, checkpoint_path='./checkpoints/model.pt', cpu=False, cpu_inference=False, dataset=['Cora'], devices=[0], distributed=False, dw='node_classification_dw', epoch=500, epochs=500, eval_step=1, fp16=False, load_emb_path=None, local_rank=0, log_path='.', logger=None, lr=0.01, master_addr='localhost', master_port=13425, max_epoch=None, model=['MLP'], mw='node_classification_mw', n_trials=3, n_warmup_steps=0, no_test=False, nstage=1, patience=100, progress_bar='epoch', project='cogdl-exp', resume_training=False, rp_ratio=1, save_emb_path=None, seed=[8], split=[0], unsup=False, use_best_config=False, weight_decay=0)\n",
      " \n",
      "|----------------------------------------------------------------------------------------|\n",
      "    *** Running (`Cora`, `MLP`, `node_classification_dw`, `node_classification_mw`)\n",
      "|----------------------------------------------------------------------------------------|\n",
      "Model Parameters: 92231\n"
     ]
    },
    {
     "name": "stderr",
     "output_type": "stream",
     "text": [
      "Epoch: 100, train_loss:  0.0000, val_acc:  0.6218:  20%|██        | 100/500 [00:00<00:01, 370.02it/s]\n"
     ]
    },
    {
     "name": "stdout",
     "output_type": "stream",
     "text": [
      "Saving 1-th model to ./checkpoints/model.pt ...\n",
      "Loading model from ./checkpoints/model.pt ...\n",
      "{'test_acc': 0.619198312236287, 'val_acc': 0.6328413284132841}\n",
      "| Variant       | test_acc      | val_acc       |\n",
      "|---------------|---------------|---------------|\n",
      "| (Cora, 'MLP') | 0.6192±0.0000 | 0.6328±0.0000 |\n",
      "Namespace(actnn=False, checkpoint_path='./checkpoints/model.pt', cpu=False, cpu_inference=False, dataset=['Cora'], devices=[0], distributed=False, dw='node_classification_dw', epoch=500, epochs=500, eval_step=1, fp16=False, load_emb_path=None, local_rank=0, log_path='.', logger=None, lr=0.01, master_addr='localhost', master_port=13425, max_epoch=None, model=['MLP'], mw='node_classification_mw', n_trials=3, n_warmup_steps=0, no_test=False, nstage=1, patience=100, progress_bar='epoch', project='cogdl-exp', resume_training=False, rp_ratio=1, save_emb_path=None, seed=[9], split=[0], unsup=False, use_best_config=False, weight_decay=0)\n",
      " \n",
      "|----------------------------------------------------------------------------------------|\n",
      "    *** Running (`Cora`, `MLP`, `node_classification_dw`, `node_classification_mw`)\n",
      "|----------------------------------------------------------------------------------------|\n",
      "Model Parameters: 92231\n"
     ]
    },
    {
     "name": "stderr",
     "output_type": "stream",
     "text": [
      "Epoch: 177, train_loss:  0.0004, val_acc:  0.6236:  35%|███▌      | 177/500 [00:00<00:00, 356.83it/s]\n"
     ]
    },
    {
     "name": "stdout",
     "output_type": "stream",
     "text": [
      "Saving 78-th model to ./checkpoints/model.pt ...\n",
      "Loading model from ./checkpoints/model.pt ...\n",
      "{'test_acc': 0.6186708860759493, 'val_acc': 0.6346863468634686}\n",
      "| Variant       | test_acc      | val_acc       |\n",
      "|---------------|---------------|---------------|\n",
      "| (Cora, 'MLP') | 0.6187±0.0000 | 0.6347±0.0000 |\n",
      "Namespace(actnn=False, checkpoint_path='./checkpoints/model.pt', cpu=False, cpu_inference=False, dataset=['Cora'], devices=[0], distributed=False, dw='node_classification_dw', epoch=500, epochs=500, eval_step=1, fp16=False, load_emb_path=None, local_rank=0, log_path='.', logger=None, lr=0.01, master_addr='localhost', master_port=13425, max_epoch=None, model=['MLP'], mw='node_classification_mw', n_trials=3, n_warmup_steps=0, no_test=False, nstage=1, patience=100, progress_bar='epoch', project='cogdl-exp', resume_training=False, rp_ratio=1, save_emb_path=None, seed=[0], split=[0], unsup=False, use_best_config=False, weight_decay=0)\n",
      " \n",
      "|----------------------------------------------------------------------------------------|\n",
      "    *** Running (`Cora`, `MLP`, `node_classification_dw`, `node_classification_mw`)\n",
      "|----------------------------------------------------------------------------------------|\n",
      "Model Parameters: 92231\n"
     ]
    },
    {
     "name": "stderr",
     "output_type": "stream",
     "text": [
      "Epoch: 147, train_loss:  0.0034, val_acc:  0.6199:  29%|██▉       | 147/500 [00:00<00:00, 372.89it/s]\n"
     ]
    },
    {
     "name": "stdout",
     "output_type": "stream",
     "text": [
      "Saving 48-th model to ./checkpoints/model.pt ...\n",
      "Loading model from ./checkpoints/model.pt ...\n",
      "{'test_acc': 0.614451476793249, 'val_acc': 0.6309963099630996}\n",
      "| Variant       | test_acc      | val_acc       |\n",
      "|---------------|---------------|---------------|\n",
      "| (Cora, 'MLP') | 0.6145±0.0000 | 0.6310±0.0000 |\n",
      "Namespace(actnn=False, checkpoint_path='./checkpoints/model.pt', cpu=False, cpu_inference=False, dataset=['Cora'], devices=[0], distributed=False, dw='node_classification_dw', epoch=500, epochs=500, eval_step=1, fp16=False, load_emb_path=None, local_rank=0, log_path='.', logger=None, lr=0.01, master_addr='localhost', master_port=13425, max_epoch=None, model=['MLP'], mw='node_classification_mw', n_trials=3, n_warmup_steps=0, no_test=False, nstage=1, patience=100, progress_bar='epoch', project='cogdl-exp', resume_training=False, rp_ratio=1, save_emb_path=None, seed=[1], split=[0], unsup=False, use_best_config=False, weight_decay=0)\n",
      " \n",
      "|----------------------------------------------------------------------------------------|\n",
      "    *** Running (`Cora`, `MLP`, `node_classification_dw`, `node_classification_mw`)\n",
      "|----------------------------------------------------------------------------------------|\n",
      "Model Parameters: 92231\n"
     ]
    },
    {
     "name": "stderr",
     "output_type": "stream",
     "text": [
      "Epoch: 143, train_loss:  0.0000, val_acc:  0.6144:  29%|██▊       | 143/500 [00:00<00:01, 328.00it/s]\n"
     ]
    },
    {
     "name": "stdout",
     "output_type": "stream",
     "text": [
      "Saving 44-th model to ./checkpoints/model.pt ...\n",
      "Loading model from ./checkpoints/model.pt ...\n",
      "{'test_acc': 0.6133966244725738, 'val_acc': 0.6254612546125461}\n",
      "| Variant       | test_acc      | val_acc       |\n",
      "|---------------|---------------|---------------|\n",
      "| (Cora, 'MLP') | 0.6134±0.0000 | 0.6255±0.0000 |\n",
      "Namespace(actnn=False, checkpoint_path='./checkpoints/model.pt', cpu=False, cpu_inference=False, dataset=['Cora'], devices=[0], distributed=False, dw='node_classification_dw', epoch=500, epochs=500, eval_step=1, fp16=False, load_emb_path=None, local_rank=0, log_path='.', logger=None, lr=0.01, master_addr='localhost', master_port=13425, max_epoch=None, model=['MLP'], mw='node_classification_mw', n_trials=3, n_warmup_steps=0, no_test=False, nstage=1, patience=100, progress_bar='epoch', project='cogdl-exp', resume_training=False, rp_ratio=1, save_emb_path=None, seed=[2], split=[0], unsup=False, use_best_config=False, weight_decay=0)\n",
      " \n",
      "|----------------------------------------------------------------------------------------|\n",
      "    *** Running (`Cora`, `MLP`, `node_classification_dw`, `node_classification_mw`)\n",
      "|----------------------------------------------------------------------------------------|\n",
      "Model Parameters: 92231\n"
     ]
    },
    {
     "name": "stderr",
     "output_type": "stream",
     "text": [
      "Epoch: 459, train_loss:  0.0039, val_acc:  0.6236:  92%|█████████▏| 459/500 [00:01<00:00, 367.82it/s]\n"
     ]
    },
    {
     "name": "stdout",
     "output_type": "stream",
     "text": [
      "Saving 360-th model to ./checkpoints/model.pt ...\n",
      "Loading model from ./checkpoints/model.pt ...\n",
      "{'test_acc': 0.6133966244725738, 'val_acc': 0.6309963099630996}\n",
      "| Variant       | test_acc      | val_acc       |\n",
      "|---------------|---------------|---------------|\n",
      "| (Cora, 'MLP') | 0.6134±0.0000 | 0.6310±0.0000 |\n",
      "Namespace(actnn=False, checkpoint_path='./checkpoints/model.pt', cpu=False, cpu_inference=False, dataset=['Cora'], devices=[0], distributed=False, dw='node_classification_dw', epoch=500, epochs=500, eval_step=1, fp16=False, load_emb_path=None, local_rank=0, log_path='.', logger=None, lr=0.01, master_addr='localhost', master_port=13425, max_epoch=None, model=['MLP'], mw='node_classification_mw', n_trials=3, n_warmup_steps=0, no_test=False, nstage=1, patience=100, progress_bar='epoch', project='cogdl-exp', resume_training=False, rp_ratio=1, save_emb_path=None, seed=[3], split=[0], unsup=False, use_best_config=False, weight_decay=0)\n",
      " \n",
      "|----------------------------------------------------------------------------------------|\n",
      "    *** Running (`Cora`, `MLP`, `node_classification_dw`, `node_classification_mw`)\n",
      "|----------------------------------------------------------------------------------------|\n",
      "Model Parameters: 92231\n"
     ]
    },
    {
     "name": "stderr",
     "output_type": "stream",
     "text": [
      "Epoch: 162, train_loss:  0.0002, val_acc:  0.6255:  32%|███▏      | 162/500 [00:00<00:00, 366.40it/s]\n"
     ]
    },
    {
     "name": "stdout",
     "output_type": "stream",
     "text": [
      "Saving 63-th model to ./checkpoints/model.pt ...\n",
      "Loading model from ./checkpoints/model.pt ...\n",
      "{'test_acc': 0.615506329113924, 'val_acc': 0.6346863468634686}\n",
      "| Variant       | test_acc      | val_acc       |\n",
      "|---------------|---------------|---------------|\n",
      "| (Cora, 'MLP') | 0.6155±0.0000 | 0.6347±0.0000 |\n",
      "Namespace(actnn=False, checkpoint_path='./checkpoints/model.pt', cpu=False, cpu_inference=False, dataset=['Cora'], devices=[0], distributed=False, dw='node_classification_dw', epoch=500, epochs=500, eval_step=1, fp16=False, load_emb_path=None, local_rank=0, log_path='.', logger=None, lr=0.01, master_addr='localhost', master_port=13425, max_epoch=None, model=['MLP'], mw='node_classification_mw', n_trials=3, n_warmup_steps=0, no_test=False, nstage=1, patience=100, progress_bar='epoch', project='cogdl-exp', resume_training=False, rp_ratio=1, save_emb_path=None, seed=[4], split=[0], unsup=False, use_best_config=False, weight_decay=0)\n",
      " \n",
      "|----------------------------------------------------------------------------------------|\n",
      "    *** Running (`Cora`, `MLP`, `node_classification_dw`, `node_classification_mw`)\n",
      "|----------------------------------------------------------------------------------------|\n",
      "Model Parameters: 92231\n"
     ]
    },
    {
     "name": "stderr",
     "output_type": "stream",
     "text": [
      "Epoch: 100, train_loss:  0.0000, val_acc:  0.6199:  20%|██        | 100/500 [00:00<00:01, 381.71it/s]\n"
     ]
    },
    {
     "name": "stdout",
     "output_type": "stream",
     "text": [
      "Saving 1-th model to ./checkpoints/model.pt ...\n",
      "Loading model from ./checkpoints/model.pt ...\n",
      "{'test_acc': 0.6160337552742616, 'val_acc': 0.6309963099630996}\n",
      "| Variant       | test_acc      | val_acc       |\n",
      "|---------------|---------------|---------------|\n",
      "| (Cora, 'MLP') | 0.6160±0.0000 | 0.6310±0.0000 |\n",
      "Namespace(actnn=False, checkpoint_path='./checkpoints/model.pt', cpu=False, cpu_inference=False, dataset=['Cora'], devices=[0], distributed=False, dw='node_classification_dw', epoch=500, epochs=500, eval_step=1, fp16=False, load_emb_path=None, local_rank=0, log_path='.', logger=None, lr=0.01, master_addr='localhost', master_port=13425, max_epoch=None, model=['MLP'], mw='node_classification_mw', n_trials=3, n_warmup_steps=0, no_test=False, nstage=1, patience=100, progress_bar='epoch', project='cogdl-exp', resume_training=False, rp_ratio=1, save_emb_path=None, seed=[5], split=[0], unsup=False, use_best_config=False, weight_decay=0)\n",
      " \n",
      "|----------------------------------------------------------------------------------------|\n",
      "    *** Running (`Cora`, `MLP`, `node_classification_dw`, `node_classification_mw`)\n",
      "|----------------------------------------------------------------------------------------|\n",
      "Model Parameters: 92231\n"
     ]
    },
    {
     "name": "stderr",
     "output_type": "stream",
     "text": [
      "Epoch: 167, train_loss:  0.0001, val_acc:  0.6125:  33%|███▎      | 167/500 [00:00<00:00, 351.93it/s]\n"
     ]
    },
    {
     "name": "stdout",
     "output_type": "stream",
     "text": [
      "Saving 68-th model to ./checkpoints/model.pt ...\n",
      "Loading model from ./checkpoints/model.pt ...\n",
      "{'test_acc': 0.6133966244725738, 'val_acc': 0.6309963099630996}\n",
      "| Variant       | test_acc      | val_acc       |\n",
      "|---------------|---------------|---------------|\n",
      "| (Cora, 'MLP') | 0.6134±0.0000 | 0.6310±0.0000 |\n",
      "Namespace(actnn=False, checkpoint_path='./checkpoints/model.pt', cpu=False, cpu_inference=False, dataset=['Cora'], devices=[0], distributed=False, dw='node_classification_dw', epoch=500, epochs=500, eval_step=1, fp16=False, load_emb_path=None, local_rank=0, log_path='.', logger=None, lr=0.01, master_addr='localhost', master_port=13425, max_epoch=None, model=['MLP'], mw='node_classification_mw', n_trials=3, n_warmup_steps=0, no_test=False, nstage=1, patience=100, progress_bar='epoch', project='cogdl-exp', resume_training=False, rp_ratio=1, save_emb_path=None, seed=[6], split=[0], unsup=False, use_best_config=False, weight_decay=0)\n",
      " \n",
      "|----------------------------------------------------------------------------------------|\n",
      "    *** Running (`Cora`, `MLP`, `node_classification_dw`, `node_classification_mw`)\n",
      "|----------------------------------------------------------------------------------------|\n",
      "Model Parameters: 92231\n"
     ]
    },
    {
     "name": "stderr",
     "output_type": "stream",
     "text": [
      "Epoch: 254, train_loss:  0.0000, val_acc:  0.6236:  51%|█████     | 254/500 [00:00<00:00, 361.33it/s]\n"
     ]
    },
    {
     "name": "stdout",
     "output_type": "stream",
     "text": [
      "Saving 155-th model to ./checkpoints/model.pt ...\n",
      "Loading model from ./checkpoints/model.pt ...\n",
      "{'test_acc': 0.6213080168776371, 'val_acc': 0.6309963099630996}\n",
      "| Variant       | test_acc      | val_acc       |\n",
      "|---------------|---------------|---------------|\n",
      "| (Cora, 'MLP') | 0.6213±0.0000 | 0.6310±0.0000 |\n",
      "Namespace(actnn=False, checkpoint_path='./checkpoints/model.pt', cpu=False, cpu_inference=False, dataset=['Cora'], devices=[0], distributed=False, dw='node_classification_dw', epoch=500, epochs=500, eval_step=1, fp16=False, load_emb_path=None, local_rank=0, log_path='.', logger=None, lr=0.01, master_addr='localhost', master_port=13425, max_epoch=None, model=['MLP'], mw='node_classification_mw', n_trials=3, n_warmup_steps=0, no_test=False, nstage=1, patience=100, progress_bar='epoch', project='cogdl-exp', resume_training=False, rp_ratio=1, save_emb_path=None, seed=[7], split=[0], unsup=False, use_best_config=False, weight_decay=0)\n",
      " \n",
      "|----------------------------------------------------------------------------------------|\n",
      "    *** Running (`Cora`, `MLP`, `node_classification_dw`, `node_classification_mw`)\n",
      "|----------------------------------------------------------------------------------------|\n",
      "Model Parameters: 92231\n"
     ]
    },
    {
     "name": "stderr",
     "output_type": "stream",
     "text": [
      "Epoch: 122, train_loss:  0.0009, val_acc:  0.6199:  24%|██▍       | 122/500 [00:00<00:01, 338.48it/s]\n"
     ]
    },
    {
     "name": "stdout",
     "output_type": "stream",
     "text": [
      "Saving 23-th model to ./checkpoints/model.pt ...\n",
      "Loading model from ./checkpoints/model.pt ...\n",
      "{'test_acc': 0.6234177215189873, 'val_acc': 0.6328413284132841}\n",
      "| Variant       | test_acc      | val_acc       |\n",
      "|---------------|---------------|---------------|\n",
      "| (Cora, 'MLP') | 0.6234±0.0000 | 0.6328±0.0000 |\n",
      "Namespace(actnn=False, checkpoint_path='./checkpoints/model.pt', cpu=False, cpu_inference=False, dataset=['Cora'], devices=[0], distributed=False, dw='node_classification_dw', epoch=500, epochs=500, eval_step=1, fp16=False, load_emb_path=None, local_rank=0, log_path='.', logger=None, lr=0.01, master_addr='localhost', master_port=13425, max_epoch=None, model=['MLP'], mw='node_classification_mw', n_trials=3, n_warmup_steps=0, no_test=False, nstage=1, patience=100, progress_bar='epoch', project='cogdl-exp', resume_training=False, rp_ratio=1, save_emb_path=None, seed=[8], split=[0], unsup=False, use_best_config=False, weight_decay=0)\n",
      " \n",
      "|----------------------------------------------------------------------------------------|\n",
      "    *** Running (`Cora`, `MLP`, `node_classification_dw`, `node_classification_mw`)\n",
      "|----------------------------------------------------------------------------------------|\n",
      "Model Parameters: 92231\n"
     ]
    },
    {
     "name": "stderr",
     "output_type": "stream",
     "text": [
      "Epoch: 103, train_loss:  0.0000, val_acc:  0.6310:  21%|██        | 103/500 [00:00<00:01, 353.40it/s]\n"
     ]
    },
    {
     "name": "stdout",
     "output_type": "stream",
     "text": [
      "Saving 4-th model to ./checkpoints/model.pt ...\n",
      "Loading model from ./checkpoints/model.pt ...\n",
      "{'test_acc': 0.6218354430379747, 'val_acc': 0.6328413284132841}\n",
      "| Variant       | test_acc      | val_acc       |\n",
      "|---------------|---------------|---------------|\n",
      "| (Cora, 'MLP') | 0.6218±0.0000 | 0.6328±0.0000 |\n",
      "Namespace(actnn=False, checkpoint_path='./checkpoints/model.pt', cpu=False, cpu_inference=False, dataset=['Cora'], devices=[0], distributed=False, dw='node_classification_dw', epoch=500, epochs=500, eval_step=1, fp16=False, load_emb_path=None, local_rank=0, log_path='.', logger=None, lr=0.01, master_addr='localhost', master_port=13425, max_epoch=None, model=['MLP'], mw='node_classification_mw', n_trials=3, n_warmup_steps=0, no_test=False, nstage=1, patience=100, progress_bar='epoch', project='cogdl-exp', resume_training=False, rp_ratio=1, save_emb_path=None, seed=[9], split=[0], unsup=False, use_best_config=False, weight_decay=0)\n",
      " \n",
      "|----------------------------------------------------------------------------------------|\n",
      "    *** Running (`Cora`, `MLP`, `node_classification_dw`, `node_classification_mw`)\n",
      "|----------------------------------------------------------------------------------------|\n",
      "Model Parameters: 92231\n"
     ]
    },
    {
     "name": "stderr",
     "output_type": "stream",
     "text": [
      "Epoch: 162, train_loss:  0.0004, val_acc:  0.6255:  32%|███▏      | 162/500 [00:00<00:00, 355.23it/s]\n"
     ]
    },
    {
     "name": "stdout",
     "output_type": "stream",
     "text": [
      "Saving 63-th model to ./checkpoints/model.pt ...\n",
      "Loading model from ./checkpoints/model.pt ...\n",
      "{'test_acc': 0.6265822784810127, 'val_acc': 0.6365313653136532}\n",
      "| Variant       | test_acc      | val_acc       |\n",
      "|---------------|---------------|---------------|\n",
      "| (Cora, 'MLP') | 0.6266±0.0000 | 0.6365±0.0000 |\n",
      "Namespace(actnn=False, checkpoint_path='./checkpoints/model.pt', cpu=False, cpu_inference=False, dataset=['Cora'], devices=[0], distributed=False, dw='node_classification_dw', epoch=500, epochs=500, eval_step=1, fp16=False, load_emb_path=None, local_rank=0, log_path='.', logger=None, lr=0.01, master_addr='localhost', master_port=13425, max_epoch=None, model=['MLP'], mw='node_classification_mw', n_trials=3, n_warmup_steps=0, no_test=False, nstage=1, patience=100, progress_bar='epoch', project='cogdl-exp', resume_training=False, rp_ratio=1, save_emb_path=None, seed=[0], split=[0], unsup=False, use_best_config=False, weight_decay=0)\n",
      " \n",
      "|----------------------------------------------------------------------------------------|\n",
      "    *** Running (`Cora`, `MLP`, `node_classification_dw`, `node_classification_mw`)\n",
      "|----------------------------------------------------------------------------------------|\n",
      "Model Parameters: 92231\n"
     ]
    },
    {
     "name": "stderr",
     "output_type": "stream",
     "text": [
      "Epoch: 102, train_loss:  0.0000, val_acc:  0.6236:  20%|██        | 102/500 [00:00<00:01, 353.08it/s]\n"
     ]
    },
    {
     "name": "stdout",
     "output_type": "stream",
     "text": [
      "Saving 3-th model to ./checkpoints/model.pt ...\n",
      "Loading model from ./checkpoints/model.pt ...\n",
      "{'test_acc': 0.6234177215189873, 'val_acc': 0.6365313653136532}\n",
      "| Variant       | test_acc      | val_acc       |\n",
      "|---------------|---------------|---------------|\n",
      "| (Cora, 'MLP') | 0.6234±0.0000 | 0.6365±0.0000 |\n",
      "Namespace(actnn=False, checkpoint_path='./checkpoints/model.pt', cpu=False, cpu_inference=False, dataset=['Cora'], devices=[0], distributed=False, dw='node_classification_dw', epoch=500, epochs=500, eval_step=1, fp16=False, load_emb_path=None, local_rank=0, log_path='.', logger=None, lr=0.01, master_addr='localhost', master_port=13425, max_epoch=None, model=['MLP'], mw='node_classification_mw', n_trials=3, n_warmup_steps=0, no_test=False, nstage=1, patience=100, progress_bar='epoch', project='cogdl-exp', resume_training=False, rp_ratio=1, save_emb_path=None, seed=[1], split=[0], unsup=False, use_best_config=False, weight_decay=0)\n",
      " \n",
      "|----------------------------------------------------------------------------------------|\n",
      "    *** Running (`Cora`, `MLP`, `node_classification_dw`, `node_classification_mw`)\n",
      "|----------------------------------------------------------------------------------------|\n",
      "Model Parameters: 92231\n"
     ]
    },
    {
     "name": "stderr",
     "output_type": "stream",
     "text": [
      "Epoch: 119, train_loss:  0.0000, val_acc:  0.6236:  24%|██▍       | 119/500 [00:00<00:01, 355.50it/s]\n"
     ]
    },
    {
     "name": "stdout",
     "output_type": "stream",
     "text": [
      "Saving 20-th model to ./checkpoints/model.pt ...\n",
      "Loading model from ./checkpoints/model.pt ...\n",
      "{'test_acc': 0.625, 'val_acc': 0.6328413284132841}\n",
      "| Variant       | test_acc      | val_acc       |\n",
      "|---------------|---------------|---------------|\n",
      "| (Cora, 'MLP') | 0.6250±0.0000 | 0.6328±0.0000 |\n",
      "Namespace(actnn=False, checkpoint_path='./checkpoints/model.pt', cpu=False, cpu_inference=False, dataset=['Cora'], devices=[0], distributed=False, dw='node_classification_dw', epoch=500, epochs=500, eval_step=1, fp16=False, load_emb_path=None, local_rank=0, log_path='.', logger=None, lr=0.01, master_addr='localhost', master_port=13425, max_epoch=None, model=['MLP'], mw='node_classification_mw', n_trials=3, n_warmup_steps=0, no_test=False, nstage=1, patience=100, progress_bar='epoch', project='cogdl-exp', resume_training=False, rp_ratio=1, save_emb_path=None, seed=[2], split=[0], unsup=False, use_best_config=False, weight_decay=0)\n",
      " \n",
      "|----------------------------------------------------------------------------------------|\n",
      "    *** Running (`Cora`, `MLP`, `node_classification_dw`, `node_classification_mw`)\n",
      "|----------------------------------------------------------------------------------------|\n",
      "Model Parameters: 92231\n"
     ]
    },
    {
     "name": "stderr",
     "output_type": "stream",
     "text": [
      "Epoch: 193, train_loss:  0.0000, val_acc:  0.6292:  39%|███▊      | 193/500 [00:00<00:00, 336.93it/s]\n"
     ]
    },
    {
     "name": "stdout",
     "output_type": "stream",
     "text": [
      "Saving 94-th model to ./checkpoints/model.pt ...\n",
      "Loading model from ./checkpoints/model.pt ...\n",
      "{'test_acc': 0.6213080168776371, 'val_acc': 0.6346863468634686}\n",
      "| Variant       | test_acc      | val_acc       |\n",
      "|---------------|---------------|---------------|\n",
      "| (Cora, 'MLP') | 0.6213±0.0000 | 0.6347±0.0000 |\n",
      "Namespace(actnn=False, checkpoint_path='./checkpoints/model.pt', cpu=False, cpu_inference=False, dataset=['Cora'], devices=[0], distributed=False, dw='node_classification_dw', epoch=500, epochs=500, eval_step=1, fp16=False, load_emb_path=None, local_rank=0, log_path='.', logger=None, lr=0.01, master_addr='localhost', master_port=13425, max_epoch=None, model=['MLP'], mw='node_classification_mw', n_trials=3, n_warmup_steps=0, no_test=False, nstage=1, patience=100, progress_bar='epoch', project='cogdl-exp', resume_training=False, rp_ratio=1, save_emb_path=None, seed=[3], split=[0], unsup=False, use_best_config=False, weight_decay=0)\n",
      " \n",
      "|----------------------------------------------------------------------------------------|\n",
      "    *** Running (`Cora`, `MLP`, `node_classification_dw`, `node_classification_mw`)\n",
      "|----------------------------------------------------------------------------------------|\n",
      "Model Parameters: 92231\n"
     ]
    },
    {
     "name": "stderr",
     "output_type": "stream",
     "text": [
      "Epoch: 131, train_loss:  0.0000, val_acc:  0.6218:  26%|██▌       | 131/500 [00:00<00:01, 349.65it/s]\n"
     ]
    },
    {
     "name": "stdout",
     "output_type": "stream",
     "text": [
      "Saving 32-th model to ./checkpoints/model.pt ...\n",
      "Loading model from ./checkpoints/model.pt ...\n",
      "{'test_acc': 0.619198312236287, 'val_acc': 0.6365313653136532}\n",
      "| Variant       | test_acc      | val_acc       |\n",
      "|---------------|---------------|---------------|\n",
      "| (Cora, 'MLP') | 0.6192±0.0000 | 0.6365±0.0000 |\n",
      "Namespace(actnn=False, checkpoint_path='./checkpoints/model.pt', cpu=False, cpu_inference=False, dataset=['Cora'], devices=[0], distributed=False, dw='node_classification_dw', epoch=500, epochs=500, eval_step=1, fp16=False, load_emb_path=None, local_rank=0, log_path='.', logger=None, lr=0.01, master_addr='localhost', master_port=13425, max_epoch=None, model=['MLP'], mw='node_classification_mw', n_trials=3, n_warmup_steps=0, no_test=False, nstage=1, patience=100, progress_bar='epoch', project='cogdl-exp', resume_training=False, rp_ratio=1, save_emb_path=None, seed=[4], split=[0], unsup=False, use_best_config=False, weight_decay=0)\n",
      " \n",
      "|----------------------------------------------------------------------------------------|\n",
      "    *** Running (`Cora`, `MLP`, `node_classification_dw`, `node_classification_mw`)\n",
      "|----------------------------------------------------------------------------------------|\n",
      "Model Parameters: 92231\n"
     ]
    },
    {
     "name": "stderr",
     "output_type": "stream",
     "text": [
      "Epoch: 170, train_loss:  0.0001, val_acc:  0.6181:  34%|███▍      | 170/500 [00:00<00:00, 363.32it/s]\n"
     ]
    },
    {
     "name": "stdout",
     "output_type": "stream",
     "text": [
      "Saving 71-th model to ./checkpoints/model.pt ...\n",
      "Loading model from ./checkpoints/model.pt ...\n",
      "{'test_acc': 0.6223628691983122, 'val_acc': 0.6328413284132841}\n",
      "| Variant       | test_acc      | val_acc       |\n",
      "|---------------|---------------|---------------|\n",
      "| (Cora, 'MLP') | 0.6224±0.0000 | 0.6328±0.0000 |\n",
      "Namespace(actnn=False, checkpoint_path='./checkpoints/model.pt', cpu=False, cpu_inference=False, dataset=['Cora'], devices=[0], distributed=False, dw='node_classification_dw', epoch=500, epochs=500, eval_step=1, fp16=False, load_emb_path=None, local_rank=0, log_path='.', logger=None, lr=0.01, master_addr='localhost', master_port=13425, max_epoch=None, model=['MLP'], mw='node_classification_mw', n_trials=3, n_warmup_steps=0, no_test=False, nstage=1, patience=100, progress_bar='epoch', project='cogdl-exp', resume_training=False, rp_ratio=1, save_emb_path=None, seed=[5], split=[0], unsup=False, use_best_config=False, weight_decay=0)\n",
      " \n",
      "|----------------------------------------------------------------------------------------|\n",
      "    *** Running (`Cora`, `MLP`, `node_classification_dw`, `node_classification_mw`)\n",
      "|----------------------------------------------------------------------------------------|\n",
      "Model Parameters: 92231\n"
     ]
    },
    {
     "name": "stderr",
     "output_type": "stream",
     "text": [
      "Epoch: 193, train_loss:  0.0000, val_acc:  0.6162:  39%|███▊      | 193/500 [00:00<00:00, 370.70it/s]\n"
     ]
    },
    {
     "name": "stdout",
     "output_type": "stream",
     "text": [
      "Saving 94-th model to ./checkpoints/model.pt ...\n",
      "Loading model from ./checkpoints/model.pt ...\n",
      "{'test_acc': 0.6213080168776371, 'val_acc': 0.6346863468634686}\n",
      "| Variant       | test_acc      | val_acc       |\n",
      "|---------------|---------------|---------------|\n",
      "| (Cora, 'MLP') | 0.6213±0.0000 | 0.6347±0.0000 |\n",
      "Namespace(actnn=False, checkpoint_path='./checkpoints/model.pt', cpu=False, cpu_inference=False, dataset=['Cora'], devices=[0], distributed=False, dw='node_classification_dw', epoch=500, epochs=500, eval_step=1, fp16=False, load_emb_path=None, local_rank=0, log_path='.', logger=None, lr=0.01, master_addr='localhost', master_port=13425, max_epoch=None, model=['MLP'], mw='node_classification_mw', n_trials=3, n_warmup_steps=0, no_test=False, nstage=1, patience=100, progress_bar='epoch', project='cogdl-exp', resume_training=False, rp_ratio=1, save_emb_path=None, seed=[6], split=[0], unsup=False, use_best_config=False, weight_decay=0)\n",
      " \n",
      "|----------------------------------------------------------------------------------------|\n",
      "    *** Running (`Cora`, `MLP`, `node_classification_dw`, `node_classification_mw`)\n",
      "|----------------------------------------------------------------------------------------|\n",
      "Model Parameters: 92231\n"
     ]
    },
    {
     "name": "stderr",
     "output_type": "stream",
     "text": [
      "Epoch: 150, train_loss:  0.0000, val_acc:  0.6236:  30%|███       | 150/500 [00:00<00:00, 363.90it/s]\n"
     ]
    },
    {
     "name": "stdout",
     "output_type": "stream",
     "text": [
      "Saving 51-th model to ./checkpoints/model.pt ...\n",
      "Loading model from ./checkpoints/model.pt ...\n",
      "{'test_acc': 0.6271097046413502, 'val_acc': 0.6328413284132841}\n",
      "| Variant       | test_acc      | val_acc       |\n",
      "|---------------|---------------|---------------|\n",
      "| (Cora, 'MLP') | 0.6271±0.0000 | 0.6328±0.0000 |\n",
      "Namespace(actnn=False, checkpoint_path='./checkpoints/model.pt', cpu=False, cpu_inference=False, dataset=['Cora'], devices=[0], distributed=False, dw='node_classification_dw', epoch=500, epochs=500, eval_step=1, fp16=False, load_emb_path=None, local_rank=0, log_path='.', logger=None, lr=0.01, master_addr='localhost', master_port=13425, max_epoch=None, model=['MLP'], mw='node_classification_mw', n_trials=3, n_warmup_steps=0, no_test=False, nstage=1, patience=100, progress_bar='epoch', project='cogdl-exp', resume_training=False, rp_ratio=1, save_emb_path=None, seed=[7], split=[0], unsup=False, use_best_config=False, weight_decay=0)\n",
      " \n",
      "|----------------------------------------------------------------------------------------|\n",
      "    *** Running (`Cora`, `MLP`, `node_classification_dw`, `node_classification_mw`)\n",
      "|----------------------------------------------------------------------------------------|\n",
      "Model Parameters: 92231\n"
     ]
    },
    {
     "name": "stderr",
     "output_type": "stream",
     "text": [
      "Epoch: 108, train_loss:  0.0002, val_acc:  0.6255:  22%|██▏       | 108/500 [00:00<00:01, 367.26it/s]\n"
     ]
    },
    {
     "name": "stdout",
     "output_type": "stream",
     "text": [
      "Saving 9-th model to ./checkpoints/model.pt ...\n",
      "Loading model from ./checkpoints/model.pt ...\n",
      "{'test_acc': 0.6292194092827004, 'val_acc': 0.6346863468634686}\n",
      "| Variant       | test_acc      | val_acc       |\n",
      "|---------------|---------------|---------------|\n",
      "| (Cora, 'MLP') | 0.6292±0.0000 | 0.6347±0.0000 |\n",
      "Namespace(actnn=False, checkpoint_path='./checkpoints/model.pt', cpu=False, cpu_inference=False, dataset=['Cora'], devices=[0], distributed=False, dw='node_classification_dw', epoch=500, epochs=500, eval_step=1, fp16=False, load_emb_path=None, local_rank=0, log_path='.', logger=None, lr=0.01, master_addr='localhost', master_port=13425, max_epoch=None, model=['MLP'], mw='node_classification_mw', n_trials=3, n_warmup_steps=0, no_test=False, nstage=1, patience=100, progress_bar='epoch', project='cogdl-exp', resume_training=False, rp_ratio=1, save_emb_path=None, seed=[8], split=[0], unsup=False, use_best_config=False, weight_decay=0)\n",
      " \n",
      "|----------------------------------------------------------------------------------------|\n",
      "    *** Running (`Cora`, `MLP`, `node_classification_dw`, `node_classification_mw`)\n",
      "|----------------------------------------------------------------------------------------|\n",
      "Model Parameters: 92231\n"
     ]
    },
    {
     "name": "stderr",
     "output_type": "stream",
     "text": [
      "Epoch: 311, train_loss:  0.0000, val_acc:  0.6236:  62%|██████▏   | 311/500 [00:00<00:00, 364.99it/s]\n"
     ]
    },
    {
     "name": "stdout",
     "output_type": "stream",
     "text": [
      "Saving 212-th model to ./checkpoints/model.pt ...\n",
      "Loading model from ./checkpoints/model.pt ...\n",
      "{'test_acc': 0.6128691983122363, 'val_acc': 0.6365313653136532}\n",
      "| Variant       | test_acc      | val_acc       |\n",
      "|---------------|---------------|---------------|\n",
      "| (Cora, 'MLP') | 0.6129±0.0000 | 0.6365±0.0000 |\n",
      "Namespace(actnn=False, checkpoint_path='./checkpoints/model.pt', cpu=False, cpu_inference=False, dataset=['Cora'], devices=[0], distributed=False, dw='node_classification_dw', epoch=500, epochs=500, eval_step=1, fp16=False, load_emb_path=None, local_rank=0, log_path='.', logger=None, lr=0.01, master_addr='localhost', master_port=13425, max_epoch=None, model=['MLP'], mw='node_classification_mw', n_trials=3, n_warmup_steps=0, no_test=False, nstage=1, patience=100, progress_bar='epoch', project='cogdl-exp', resume_training=False, rp_ratio=1, save_emb_path=None, seed=[9], split=[0], unsup=False, use_best_config=False, weight_decay=0)\n",
      " \n",
      "|----------------------------------------------------------------------------------------|\n",
      "    *** Running (`Cora`, `MLP`, `node_classification_dw`, `node_classification_mw`)\n",
      "|----------------------------------------------------------------------------------------|\n",
      "Model Parameters: 92231\n"
     ]
    },
    {
     "name": "stderr",
     "output_type": "stream",
     "text": [
      "Epoch: 192, train_loss:  0.0000, val_acc:  0.6218:  38%|███▊      | 192/500 [00:00<00:00, 347.85it/s]\n"
     ]
    },
    {
     "name": "stdout",
     "output_type": "stream",
     "text": [
      "Saving 93-th model to ./checkpoints/model.pt ...\n",
      "Loading model from ./checkpoints/model.pt ...\n",
      "{'test_acc': 0.6265822784810127, 'val_acc': 0.6291512915129152}\n",
      "| Variant       | test_acc      | val_acc       |\n",
      "|---------------|---------------|---------------|\n",
      "| (Cora, 'MLP') | 0.6266±0.0000 | 0.6292±0.0000 |\n",
      "Namespace(actnn=False, checkpoint_path='./checkpoints/model.pt', cpu=False, cpu_inference=False, dataset=['Cora'], devices=[0], distributed=False, dw='node_classification_dw', epoch=500, epochs=500, eval_step=1, fp16=False, load_emb_path=None, local_rank=0, log_path='.', logger=None, lr=0.01, master_addr='localhost', master_port=13425, max_epoch=None, model=['MLP'], mw='node_classification_mw', n_trials=3, n_warmup_steps=0, no_test=False, nstage=1, patience=100, progress_bar='epoch', project='cogdl-exp', resume_training=False, rp_ratio=1, save_emb_path=None, seed=[0], split=[0], unsup=False, use_best_config=False, weight_decay=0)\n",
      " \n",
      "|----------------------------------------------------------------------------------------|\n",
      "    *** Running (`Cora`, `MLP`, `node_classification_dw`, `node_classification_mw`)\n",
      "|----------------------------------------------------------------------------------------|\n",
      "Model Parameters: 92231\n"
     ]
    },
    {
     "name": "stderr",
     "output_type": "stream",
     "text": [
      "Epoch: 112, train_loss:  0.0000, val_acc:  0.6255:  22%|██▏       | 112/500 [00:00<00:01, 351.03it/s]\n"
     ]
    },
    {
     "name": "stdout",
     "output_type": "stream",
     "text": [
      "Saving 13-th model to ./checkpoints/model.pt ...\n",
      "Loading model from ./checkpoints/model.pt ...\n",
      "{'test_acc': 0.6244725738396625, 'val_acc': 0.6273062730627307}\n",
      "| Variant       | test_acc      | val_acc       |\n",
      "|---------------|---------------|---------------|\n",
      "| (Cora, 'MLP') | 0.6245±0.0000 | 0.6273±0.0000 |\n",
      "Namespace(actnn=False, checkpoint_path='./checkpoints/model.pt', cpu=False, cpu_inference=False, dataset=['Cora'], devices=[0], distributed=False, dw='node_classification_dw', epoch=500, epochs=500, eval_step=1, fp16=False, load_emb_path=None, local_rank=0, log_path='.', logger=None, lr=0.01, master_addr='localhost', master_port=13425, max_epoch=None, model=['MLP'], mw='node_classification_mw', n_trials=3, n_warmup_steps=0, no_test=False, nstage=1, patience=100, progress_bar='epoch', project='cogdl-exp', resume_training=False, rp_ratio=1, save_emb_path=None, seed=[1], split=[0], unsup=False, use_best_config=False, weight_decay=0)\n",
      " \n",
      "|----------------------------------------------------------------------------------------|\n",
      "    *** Running (`Cora`, `MLP`, `node_classification_dw`, `node_classification_mw`)\n",
      "|----------------------------------------------------------------------------------------|\n",
      "Model Parameters: 92231\n"
     ]
    },
    {
     "name": "stderr",
     "output_type": "stream",
     "text": [
      "Epoch: 100, train_loss:  0.0000, val_acc:  0.6089:  20%|██        | 100/500 [00:00<00:01, 327.08it/s]\n"
     ]
    },
    {
     "name": "stdout",
     "output_type": "stream",
     "text": [
      "Saving 1-th model to ./checkpoints/model.pt ...\n",
      "Loading model from ./checkpoints/model.pt ...\n",
      "{'test_acc': 0.625, 'val_acc': 0.6291512915129152}\n",
      "| Variant       | test_acc      | val_acc       |\n",
      "|---------------|---------------|---------------|\n",
      "| (Cora, 'MLP') | 0.6250±0.0000 | 0.6292±0.0000 |\n",
      "Namespace(actnn=False, checkpoint_path='./checkpoints/model.pt', cpu=False, cpu_inference=False, dataset=['Cora'], devices=[0], distributed=False, dw='node_classification_dw', epoch=500, epochs=500, eval_step=1, fp16=False, load_emb_path=None, local_rank=0, log_path='.', logger=None, lr=0.01, master_addr='localhost', master_port=13425, max_epoch=None, model=['MLP'], mw='node_classification_mw', n_trials=3, n_warmup_steps=0, no_test=False, nstage=1, patience=100, progress_bar='epoch', project='cogdl-exp', resume_training=False, rp_ratio=1, save_emb_path=None, seed=[2], split=[0], unsup=False, use_best_config=False, weight_decay=0)\n",
      " \n",
      "|----------------------------------------------------------------------------------------|\n",
      "    *** Running (`Cora`, `MLP`, `node_classification_dw`, `node_classification_mw`)\n",
      "|----------------------------------------------------------------------------------------|\n",
      "Model Parameters: 92231\n"
     ]
    },
    {
     "name": "stderr",
     "output_type": "stream",
     "text": [
      "Epoch: 180, train_loss:  0.0000, val_acc:  0.6273:  36%|███▌      | 180/500 [00:00<00:00, 357.66it/s]\n"
     ]
    },
    {
     "name": "stdout",
     "output_type": "stream",
     "text": [
      "Saving 81-th model to ./checkpoints/model.pt ...\n",
      "Loading model from ./checkpoints/model.pt ...\n",
      "{'test_acc': 0.6207805907172996, 'val_acc': 0.6346863468634686}\n",
      "| Variant       | test_acc      | val_acc       |\n",
      "|---------------|---------------|---------------|\n",
      "| (Cora, 'MLP') | 0.6208±0.0000 | 0.6347±0.0000 |\n",
      "Namespace(actnn=False, checkpoint_path='./checkpoints/model.pt', cpu=False, cpu_inference=False, dataset=['Cora'], devices=[0], distributed=False, dw='node_classification_dw', epoch=500, epochs=500, eval_step=1, fp16=False, load_emb_path=None, local_rank=0, log_path='.', logger=None, lr=0.01, master_addr='localhost', master_port=13425, max_epoch=None, model=['MLP'], mw='node_classification_mw', n_trials=3, n_warmup_steps=0, no_test=False, nstage=1, patience=100, progress_bar='epoch', project='cogdl-exp', resume_training=False, rp_ratio=1, save_emb_path=None, seed=[3], split=[0], unsup=False, use_best_config=False, weight_decay=0)\n",
      " \n",
      "|----------------------------------------------------------------------------------------|\n",
      "    *** Running (`Cora`, `MLP`, `node_classification_dw`, `node_classification_mw`)\n",
      "|----------------------------------------------------------------------------------------|\n",
      "Model Parameters: 92231\n"
     ]
    },
    {
     "name": "stderr",
     "output_type": "stream",
     "text": [
      "Epoch: 130, train_loss:  0.0001, val_acc:  0.6162:  26%|██▌       | 130/500 [00:00<00:01, 358.00it/s]\n"
     ]
    },
    {
     "name": "stdout",
     "output_type": "stream",
     "text": [
      "Saving 31-th model to ./checkpoints/model.pt ...\n",
      "Loading model from ./checkpoints/model.pt ...\n",
      "{'test_acc': 0.6244725738396625, 'val_acc': 0.6346863468634686}\n",
      "| Variant       | test_acc      | val_acc       |\n",
      "|---------------|---------------|---------------|\n",
      "| (Cora, 'MLP') | 0.6245±0.0000 | 0.6347±0.0000 |\n",
      "Namespace(actnn=False, checkpoint_path='./checkpoints/model.pt', cpu=False, cpu_inference=False, dataset=['Cora'], devices=[0], distributed=False, dw='node_classification_dw', epoch=500, epochs=500, eval_step=1, fp16=False, load_emb_path=None, local_rank=0, log_path='.', logger=None, lr=0.01, master_addr='localhost', master_port=13425, max_epoch=None, model=['MLP'], mw='node_classification_mw', n_trials=3, n_warmup_steps=0, no_test=False, nstage=1, patience=100, progress_bar='epoch', project='cogdl-exp', resume_training=False, rp_ratio=1, save_emb_path=None, seed=[4], split=[0], unsup=False, use_best_config=False, weight_decay=0)\n",
      " \n",
      "|----------------------------------------------------------------------------------------|\n",
      "    *** Running (`Cora`, `MLP`, `node_classification_dw`, `node_classification_mw`)\n",
      "|----------------------------------------------------------------------------------------|\n",
      "Model Parameters: 92231\n"
     ]
    },
    {
     "name": "stderr",
     "output_type": "stream",
     "text": [
      "Epoch: 187, train_loss:  0.0000, val_acc:  0.6255:  37%|███▋      | 187/500 [00:00<00:00, 355.89it/s]\n"
     ]
    },
    {
     "name": "stdout",
     "output_type": "stream",
     "text": [
      "Saving 88-th model to ./checkpoints/model.pt ...\n",
      "Loading model from ./checkpoints/model.pt ...\n",
      "{'test_acc': 0.6276371308016878, 'val_acc': 0.6365313653136532}\n",
      "| Variant       | test_acc      | val_acc       |\n",
      "|---------------|---------------|---------------|\n",
      "| (Cora, 'MLP') | 0.6276±0.0000 | 0.6365±0.0000 |\n",
      "Namespace(actnn=False, checkpoint_path='./checkpoints/model.pt', cpu=False, cpu_inference=False, dataset=['Cora'], devices=[0], distributed=False, dw='node_classification_dw', epoch=500, epochs=500, eval_step=1, fp16=False, load_emb_path=None, local_rank=0, log_path='.', logger=None, lr=0.01, master_addr='localhost', master_port=13425, max_epoch=None, model=['MLP'], mw='node_classification_mw', n_trials=3, n_warmup_steps=0, no_test=False, nstage=1, patience=100, progress_bar='epoch', project='cogdl-exp', resume_training=False, rp_ratio=1, save_emb_path=None, seed=[5], split=[0], unsup=False, use_best_config=False, weight_decay=0)\n",
      " \n",
      "|----------------------------------------------------------------------------------------|\n",
      "    *** Running (`Cora`, `MLP`, `node_classification_dw`, `node_classification_mw`)\n",
      "|----------------------------------------------------------------------------------------|\n",
      "Model Parameters: 92231\n"
     ]
    },
    {
     "name": "stderr",
     "output_type": "stream",
     "text": [
      "Epoch: 101, train_loss:  0.0000, val_acc:  0.6292:  20%|██        | 101/500 [00:00<00:01, 363.05it/s]\n"
     ]
    },
    {
     "name": "stdout",
     "output_type": "stream",
     "text": [
      "Saving 2-th model to ./checkpoints/model.pt ...\n",
      "Loading model from ./checkpoints/model.pt ...\n",
      "{'test_acc': 0.6244725738396625, 'val_acc': 0.6328413284132841}\n",
      "| Variant       | test_acc      | val_acc       |\n",
      "|---------------|---------------|---------------|\n",
      "| (Cora, 'MLP') | 0.6245±0.0000 | 0.6328±0.0000 |\n",
      "Namespace(actnn=False, checkpoint_path='./checkpoints/model.pt', cpu=False, cpu_inference=False, dataset=['Cora'], devices=[0], distributed=False, dw='node_classification_dw', epoch=500, epochs=500, eval_step=1, fp16=False, load_emb_path=None, local_rank=0, log_path='.', logger=None, lr=0.01, master_addr='localhost', master_port=13425, max_epoch=None, model=['MLP'], mw='node_classification_mw', n_trials=3, n_warmup_steps=0, no_test=False, nstage=1, patience=100, progress_bar='epoch', project='cogdl-exp', resume_training=False, rp_ratio=1, save_emb_path=None, seed=[6], split=[0], unsup=False, use_best_config=False, weight_decay=0)\n",
      " \n",
      "|----------------------------------------------------------------------------------------|\n",
      "    *** Running (`Cora`, `MLP`, `node_classification_dw`, `node_classification_mw`)\n",
      "|----------------------------------------------------------------------------------------|\n",
      "Model Parameters: 92231\n"
     ]
    },
    {
     "name": "stderr",
     "output_type": "stream",
     "text": [
      "Epoch: 100, train_loss:  0.0000, val_acc:  0.6144:  20%|██        | 100/500 [00:00<00:01, 365.11it/s]\n"
     ]
    },
    {
     "name": "stdout",
     "output_type": "stream",
     "text": [
      "Saving 1-th model to ./checkpoints/model.pt ...\n",
      "Loading model from ./checkpoints/model.pt ...\n",
      "{'test_acc': 0.6234177215189873, 'val_acc': 0.6328413284132841}\n",
      "| Variant       | test_acc      | val_acc       |\n",
      "|---------------|---------------|---------------|\n",
      "| (Cora, 'MLP') | 0.6234±0.0000 | 0.6328±0.0000 |\n",
      "Namespace(actnn=False, checkpoint_path='./checkpoints/model.pt', cpu=False, cpu_inference=False, dataset=['Cora'], devices=[0], distributed=False, dw='node_classification_dw', epoch=500, epochs=500, eval_step=1, fp16=False, load_emb_path=None, local_rank=0, log_path='.', logger=None, lr=0.01, master_addr='localhost', master_port=13425, max_epoch=None, model=['MLP'], mw='node_classification_mw', n_trials=3, n_warmup_steps=0, no_test=False, nstage=1, patience=100, progress_bar='epoch', project='cogdl-exp', resume_training=False, rp_ratio=1, save_emb_path=None, seed=[7], split=[0], unsup=False, use_best_config=False, weight_decay=0)\n",
      " \n",
      "|----------------------------------------------------------------------------------------|\n",
      "    *** Running (`Cora`, `MLP`, `node_classification_dw`, `node_classification_mw`)\n",
      "|----------------------------------------------------------------------------------------|\n",
      "Model Parameters: 92231\n"
     ]
    },
    {
     "name": "stderr",
     "output_type": "stream",
     "text": [
      "Epoch: 166, train_loss:  0.0015, val_acc:  0.6218:  33%|███▎      | 166/500 [00:00<00:00, 367.79it/s]\n"
     ]
    },
    {
     "name": "stdout",
     "output_type": "stream",
     "text": [
      "Saving 67-th model to ./checkpoints/model.pt ...\n",
      "Loading model from ./checkpoints/model.pt ...\n",
      "{'test_acc': 0.6281645569620253, 'val_acc': 0.6346863468634686}\n",
      "| Variant       | test_acc      | val_acc       |\n",
      "|---------------|---------------|---------------|\n",
      "| (Cora, 'MLP') | 0.6282±0.0000 | 0.6347±0.0000 |\n",
      "Namespace(actnn=False, checkpoint_path='./checkpoints/model.pt', cpu=False, cpu_inference=False, dataset=['Cora'], devices=[0], distributed=False, dw='node_classification_dw', epoch=500, epochs=500, eval_step=1, fp16=False, load_emb_path=None, local_rank=0, log_path='.', logger=None, lr=0.01, master_addr='localhost', master_port=13425, max_epoch=None, model=['MLP'], mw='node_classification_mw', n_trials=3, n_warmup_steps=0, no_test=False, nstage=1, patience=100, progress_bar='epoch', project='cogdl-exp', resume_training=False, rp_ratio=1, save_emb_path=None, seed=[8], split=[0], unsup=False, use_best_config=False, weight_decay=0)\n",
      " \n",
      "|----------------------------------------------------------------------------------------|\n",
      "    *** Running (`Cora`, `MLP`, `node_classification_dw`, `node_classification_mw`)\n",
      "|----------------------------------------------------------------------------------------|\n",
      "Model Parameters: 92231\n"
     ]
    },
    {
     "name": "stderr",
     "output_type": "stream",
     "text": [
      "Epoch: 100, train_loss:  0.0000, val_acc:  0.6218:  20%|██        | 100/500 [00:00<00:01, 387.12it/s]\n"
     ]
    },
    {
     "name": "stdout",
     "output_type": "stream",
     "text": [
      "Saving 1-th model to ./checkpoints/model.pt ...\n",
      "Loading model from ./checkpoints/model.pt ...\n",
      "{'test_acc': 0.6281645569620253, 'val_acc': 0.6346863468634686}\n",
      "| Variant       | test_acc      | val_acc       |\n",
      "|---------------|---------------|---------------|\n",
      "| (Cora, 'MLP') | 0.6282±0.0000 | 0.6347±0.0000 |\n",
      "Namespace(actnn=False, checkpoint_path='./checkpoints/model.pt', cpu=False, cpu_inference=False, dataset=['Cora'], devices=[0], distributed=False, dw='node_classification_dw', epoch=500, epochs=500, eval_step=1, fp16=False, load_emb_path=None, local_rank=0, log_path='.', logger=None, lr=0.01, master_addr='localhost', master_port=13425, max_epoch=None, model=['MLP'], mw='node_classification_mw', n_trials=3, n_warmup_steps=0, no_test=False, nstage=1, patience=100, progress_bar='epoch', project='cogdl-exp', resume_training=False, rp_ratio=1, save_emb_path=None, seed=[9], split=[0], unsup=False, use_best_config=False, weight_decay=0)\n",
      " \n",
      "|----------------------------------------------------------------------------------------|\n",
      "    *** Running (`Cora`, `MLP`, `node_classification_dw`, `node_classification_mw`)\n",
      "|----------------------------------------------------------------------------------------|\n",
      "Model Parameters: 92231\n"
     ]
    },
    {
     "name": "stderr",
     "output_type": "stream",
     "text": [
      "Epoch: 101, train_loss:  0.0000, val_acc:  0.6199:  20%|██        | 101/500 [00:00<00:01, 384.06it/s]\n"
     ]
    },
    {
     "name": "stdout",
     "output_type": "stream",
     "text": [
      "Saving 2-th model to ./checkpoints/model.pt ...\n",
      "Loading model from ./checkpoints/model.pt ...\n",
      "{'test_acc': 0.6286919831223629, 'val_acc': 0.6346863468634686}\n",
      "| Variant       | test_acc      | val_acc       |\n",
      "|---------------|---------------|---------------|\n",
      "| (Cora, 'MLP') | 0.6287±0.0000 | 0.6347±0.0000 |\n",
      "{'train_percent': 9, 'model_name': 'mlp', 'test_acc': 65.43}\n",
      "{'train_percent': 9, 'model_name': 'mlp', 'test_acc': 68.9}\n",
      "{'train_percent': 9, 'model_name': 'mlp', 'test_acc': 70.28}\n",
      "{'train_percent': 9, 'model_name': 'mlp', 'test_acc': 71.51}\n",
      "{'train_percent': 9, 'model_name': 'mlp', 'test_acc': 72.36}\n",
      "{'train_percent': 9, 'model_name': 'mlp', 'test_acc': 73.12}\n",
      "{'train_percent': 9, 'model_name': 'mlp', 'test_acc': 72.78}\n"
     ]
    }
   ],
   "source": [
    "import numpy as np\n",
    "import os\n",
    "import random\n",
    "import torch\n",
    "os.environ[\"CUDA_VISIBLE_DEVICES\"] = \"1\"\n",
    "\n",
    "from cogdl import experiment\n",
    "from cogdl.datasets.planetoid_data import CoraDataset\n",
    "from custom_models.mlp import MLP\n",
    "from custom_models.gcn import GCN\n",
    "from custom_models.sgc import SGC\n",
    "from custom_models.appnp import APPNP\n",
    "\n",
    "dataset = CoraDataset()\n",
    "graph = dataset.data\n",
    "\n",
    "mlp = MLP(\n",
    "    in_feats = dataset.num_features,\n",
    "    out_feats = dataset.num_classes,\n",
    "    hidden_size = 64,\n",
    "    num_layers = 2,\n",
    "    dropout = 0.5,\n",
    "    activation = \"relu\",\n",
    ")\n",
    "\n",
    "gcn = GCN(\n",
    "    in_feats = dataset.num_features,\n",
    "    out_feats = dataset.num_classes,\n",
    "    hidden_size = 64,\n",
    "    num_layers = 2,\n",
    "    dropout = 0.5,\n",
    "    activation = \"relu\",\n",
    "    residual = False,\n",
    "    remove_self_loop = False,\n",
    "    norm = None,\n",
    ")\n",
    "\n",
    "sgc = SGC(\n",
    "    in_feats = dataset.num_features,\n",
    "    out_feats = dataset.num_classes,\n",
    "    hidden_size = 64,\n",
    "    num_layers = 2,\n",
    "    dropout = 0.5,\n",
    "    activation = \"relu\",\n",
    "    norm = None,\n",
    "    order = 2,\n",
    "    remove_self_loop = False,\n",
    "    bias = True,\n",
    ")\n",
    "\n",
    "appnp = APPNP(nfeat=dataset.num_features, \n",
    "              nhid=64,\n",
    "              nclass=dataset.num_classes,\n",
    "              num_layers=2,\n",
    "              dropout=0.5,\n",
    "              alpha=0.1, \n",
    "              niter=2)\n",
    "\n",
    "#   Model Test\n",
    "#\n",
    "#   | Variant       | test_acc      | val_acc       |\n",
    "#   |---------------|---------------|---------------|\n",
    "#   | (Cora, 'MLP') | 0.5500±0.0092 | 0.5920±0.0116 |\n",
    "#   | (Cora, 'GCN') | 0.8086±0.0071 | 0.7932±0.0020 |\n",
    "#   | (Cora, 'SGC') | 0.8040±0.0066 | 0.7968±0.0026 |\n",
    "\n",
    "# experiment(model=[mlp, gcn, sgc], dataset=dataset, seed=list(range(10)), epoch=500, devices=[0])\n",
    "\n",
    "# Train: 0%, 10%, 20% -> 70%, Valid: 20%, Test: total - train -valid \n",
    "\n",
    "seed = 0\n",
    "\n",
    "random.seed(seed)\n",
    "np.random.seed(seed)\n",
    "torch.manual_seed(seed)\n",
    "torch.cuda.manual_seed(seed)\n",
    "\n",
    "model_class = {\n",
    "    'mlp': mlp,\n",
    "#     'gcn': gcn,\n",
    "#     'sgc': sgc,\n",
    "#     'appnp': appnp,\n",
    "}\n",
    "\n",
    "results = []\n",
    "n_post = 10\n",
    "\n",
    "for i in range(1, 8):\n",
    "    train_start = int(dataset.num_nodes * 0 / 10.0)\n",
    "    train_end = int(dataset.num_nodes * i / 10.0)\n",
    "    \n",
    "    val_start = int(dataset.num_nodes * i / 10.0)\n",
    "    val_end = int(dataset.num_nodes * (i+2) / 10.0)\n",
    "    \n",
    "    test_start = int(dataset.num_nodes * (i+2) / 10.0)\n",
    "    test_end = int(dataset.num_nodes)\n",
    "    \n",
    "    perm = torch.randperm(dataset.num_nodes)\n",
    "\n",
    "    graph.train_mask[:] = False\n",
    "    graph.train_mask[perm[train_start:train_end]] = True\n",
    "\n",
    "    graph.val_mask[:] = False\n",
    "    graph.val_mask[perm[val_start:val_end]] = True\n",
    "\n",
    "    graph.test_mask[:] = False\n",
    "    graph.test_mask[perm[test_start:test_end]] = True\n",
    "    \n",
    "    # print ((graph.train_mask | graph.val_mask | graph.test_mask).sum().item(), graph.train_mask.sum().item() + graph.val_mask.sum().item() + graph.test_mask.sum().item())\n",
    "    for model_name, model in model_class.items():\n",
    "        acc = []\n",
    "        for i in range(10):\n",
    "            ret = experiment(model=model, dataset=dataset, seed=[i], epoch=500, devices=[0])\n",
    "\n",
    "            model_wrapper = NodeClfModelWrapper(model, None)\n",
    "            model_wrapper.load_state_dict(torch.load(\"./checkpoints/model.pt\"))\n",
    "            model = model_wrapper.model\n",
    "            model.eval()\n",
    "            x_post = copy.deepcopy(dataset.data.x)\n",
    "            graph = copy.deepcopy(dataset.data)\n",
    "            graph.add_remaining_self_loops()\n",
    "            graph.sym_norm()\n",
    "            val_accs, test_accs = [], []\n",
    "            for n_post_prop in post_props:\n",
    "                pred = model.forward(x_post)\n",
    "                train_acc, val_acc, test_acc = utils.eval_acc(pred, dataset, verbose=False)\n",
    "                val_accs.append(val_acc)\n",
    "                test_accs.append(test_acc)\n",
    "                x_post = spmm(graph, x_post)\n",
    "            test_acc = test_accs[np.argmax(np.array(val_accs))]\n",
    "            acc.append(test_acc)\n",
    "        test_acc = np.mean(acc)\n",
    "        items = {\n",
    "            'train_percent': i,\n",
    "            'model_name': model_name,\n",
    "            'test_acc': round(test_acc * 100, 2)\n",
    "        }\n",
    "        \n",
    "        results.append(items)\n",
    "\n",
    "for result in results:\n",
    "    print (result)\n"
   ]
  },
  {
   "cell_type": "code",
   "execution_count": 47,
   "id": "7be1a2d0-ca96-4b5b-a9bf-9442a21f43fd",
   "metadata": {
    "execution": {
     "iopub.execute_input": "2022-01-27T20:00:04.804936Z",
     "iopub.status.busy": "2022-01-27T20:00:04.804842Z",
     "iopub.status.idle": "2022-01-27T20:00:04.807886Z",
     "shell.execute_reply": "2022-01-27T20:00:04.807586Z",
     "shell.execute_reply.started": "2022-01-27T20:00:04.804923Z"
    },
    "tags": []
   },
   "outputs": [
    {
     "data": {
      "text/plain": [
       "[{'train_percent': 9, 'model_name': 'mlp', 'test_acc': 65.43},\n",
       " {'train_percent': 9, 'model_name': 'mlp', 'test_acc': 68.9},\n",
       " {'train_percent': 9, 'model_name': 'mlp', 'test_acc': 70.28},\n",
       " {'train_percent': 9, 'model_name': 'mlp', 'test_acc': 71.51},\n",
       " {'train_percent': 9, 'model_name': 'mlp', 'test_acc': 72.36},\n",
       " {'train_percent': 9, 'model_name': 'mlp', 'test_acc': 73.12},\n",
       " {'train_percent': 9, 'model_name': 'mlp', 'test_acc': 72.78}]"
      ]
     },
     "execution_count": 47,
     "metadata": {},
     "output_type": "execute_result"
    }
   ],
   "source": [
    "results"
   ]
  },
  {
   "cell_type": "code",
   "execution_count": null,
   "id": "87e561f2-b9c0-4824-a6a7-0825a7f756f6",
   "metadata": {},
   "outputs": [],
   "source": []
  }
 ],
 "metadata": {
  "kernelspec": {
   "display_name": "Python 3",
   "language": "python",
   "name": "python3"
  },
  "language_info": {
   "codemirror_mode": {
    "name": "ipython",
    "version": 3
   },
   "file_extension": ".py",
   "mimetype": "text/x-python",
   "name": "python",
   "nbconvert_exporter": "python",
   "pygments_lexer": "ipython3",
   "version": "3.8.11"
  }
 },
 "nbformat": 4,
 "nbformat_minor": 5
}
